{
  "nbformat": 4,
  "nbformat_minor": 0,
  "metadata": {
    "colab": {
      "name": "Covid_19.ipynb",
      "provenance": [],
      "include_colab_link": true
    },
    "kernelspec": {
      "name": "python3",
      "display_name": "Python 3"
    }
  },
  "cells": [
    {
      "cell_type": "markdown",
      "metadata": {
        "id": "view-in-github",
        "colab_type": "text"
      },
      "source": [
        "<a href=\"https://colab.research.google.com/github/Mirnada/Covid_19/blob/master/Covid_19.ipynb\" target=\"_parent\"><img src=\"https://colab.research.google.com/assets/colab-badge.svg\" alt=\"Open In Colab\"/></a>"
      ]
    },
    {
      "cell_type": "markdown",
      "metadata": {
        "id": "7cL7fmW2aCE_"
      },
      "source": [
        "# Análise dos dados do Covid_19\n"
      ]
    },
    {
      "cell_type": "markdown",
      "metadata": {
        "id": "Az3vruND0jVI"
      },
      "source": [
        "## Montando o Drive"
      ]
    },
    {
      "cell_type": "code",
      "metadata": {
        "id": "CtXBSRhf0mt-",
        "outputId": "bc26515d-7634-48ec-9428-5a95c02cf332",
        "colab": {
          "base_uri": "https://localhost:8080/",
          "height": 34
        }
      },
      "source": [
        "from google.colab import drive\n",
        "\n",
        "drive.mount('/content/drive')"
      ],
      "execution_count": 1,
      "outputs": [
        {
          "output_type": "stream",
          "text": [
            "Mounted at /content/drive\n"
          ],
          "name": "stdout"
        }
      ]
    },
    {
      "cell_type": "markdown",
      "metadata": {
        "id": "E4leXC2ps27j"
      },
      "source": [
        "## Importando bibliotecas"
      ]
    },
    {
      "cell_type": "code",
      "metadata": {
        "id": "mlTix7VotEkL"
      },
      "source": [
        "import pandas as pd\n",
        "from unicodedata import normalize\n",
        "import matplotlib.pyplot as plt\n",
        "%matplotlib inline\n",
        "\n",
        "df = pd.read_csv('/content/drive/My Drive/Datasets/dados-curso-completo.csv')"
      ],
      "execution_count": 67,
      "outputs": []
    },
    {
      "cell_type": "markdown",
      "metadata": {
        "id": "9KYsUh3YhIz3"
      },
      "source": [
        "## Dataset original - Estatísticas"
      ]
    },
    {
      "cell_type": "markdown",
      "metadata": {
        "id": "crTmK5fuN_Yz"
      },
      "source": [
        "### Informações gerias do dataset"
      ]
    },
    {
      "cell_type": "code",
      "metadata": {
        "id": "Ne1FJRpzOIXD",
        "outputId": "e72f470d-4c9c-49f5-efb6-049a962bb79d",
        "colab": {
          "base_uri": "https://localhost:8080/",
          "height": 529
        }
      },
      "source": [
        "df.head(10)"
      ],
      "execution_count": 11,
      "outputs": [
        {
          "output_type": "execute_result",
          "data": {
            "text/html": [
              "<div>\n",
              "<style scoped>\n",
              "    .dataframe tbody tr th:only-of-type {\n",
              "        vertical-align: middle;\n",
              "    }\n",
              "\n",
              "    .dataframe tbody tr th {\n",
              "        vertical-align: top;\n",
              "    }\n",
              "\n",
              "    .dataframe thead th {\n",
              "        text-align: right;\n",
              "    }\n",
              "</style>\n",
              "<table border=\"1\" class=\"dataframe\">\n",
              "  <thead>\n",
              "    <tr style=\"text-align: right;\">\n",
              "      <th></th>\n",
              "      <th>data</th>\n",
              "      <th>usuario</th>\n",
              "      <th>apelido</th>\n",
              "      <th>texto</th>\n",
              "      <th>retweet</th>\n",
              "      <th>seguidores</th>\n",
              "      <th>idioma</th>\n",
              "      <th>lugar</th>\n",
              "      <th>pais</th>\n",
              "      <th>sigla</th>\n",
              "      <th>latitude</th>\n",
              "      <th>longitude</th>\n",
              "      <th>hashtags</th>\n",
              "    </tr>\n",
              "  </thead>\n",
              "  <tbody>\n",
              "    <tr>\n",
              "      <th>0</th>\n",
              "      <td>2020-03-23 18:51:14</td>\n",
              "      <td>Gaboardi</td>\n",
              "      <td>fraslee</td>\n",
              "      <td>@BolsonaroSP Cade o fundão deputado??? Congres...</td>\n",
              "      <td>0</td>\n",
              "      <td>138</td>\n",
              "      <td>pt</td>\n",
              "      <td>NaN</td>\n",
              "      <td>NaN</td>\n",
              "      <td>NaN</td>\n",
              "      <td>NaN</td>\n",
              "      <td>NaN</td>\n",
              "      <td>[]</td>\n",
              "    </tr>\n",
              "    <tr>\n",
              "      <th>1</th>\n",
              "      <td>2020-03-18 03:18:14</td>\n",
              "      <td>Seu Zé da Farmácia</td>\n",
              "      <td>seuzedafarmacia</td>\n",
              "      <td>Em ação preventiva, o Governo do Estado suspen...</td>\n",
              "      <td>0</td>\n",
              "      <td>56</td>\n",
              "      <td>pt</td>\n",
              "      <td>NaN</td>\n",
              "      <td>NaN</td>\n",
              "      <td>NaN</td>\n",
              "      <td>NaN</td>\n",
              "      <td>NaN</td>\n",
              "      <td>[]</td>\n",
              "    </tr>\n",
              "    <tr>\n",
              "      <th>2</th>\n",
              "      <td>2020-03-29 12:09:27</td>\n",
              "      <td>Marília Oliveira 🇧🇷</td>\n",
              "      <td>Marioliveira_gb</td>\n",
              "      <td>Incrível como os defensores do fim do distanci...</td>\n",
              "      <td>0</td>\n",
              "      <td>5</td>\n",
              "      <td>pt</td>\n",
              "      <td>NaN</td>\n",
              "      <td>NaN</td>\n",
              "      <td>NaN</td>\n",
              "      <td>NaN</td>\n",
              "      <td>NaN</td>\n",
              "      <td>[]</td>\n",
              "    </tr>\n",
              "    <tr>\n",
              "      <th>3</th>\n",
              "      <td>2020-04-01 21:11:07</td>\n",
              "      <td>🚩</td>\n",
              "      <td>santosodeto</td>\n",
              "      <td>Fumaça de cigarro pode propagar coronavírus? h...</td>\n",
              "      <td>0</td>\n",
              "      <td>1885</td>\n",
              "      <td>pt</td>\n",
              "      <td>NaN</td>\n",
              "      <td>NaN</td>\n",
              "      <td>NaN</td>\n",
              "      <td>NaN</td>\n",
              "      <td>NaN</td>\n",
              "      <td>[]</td>\n",
              "    </tr>\n",
              "    <tr>\n",
              "      <th>4</th>\n",
              "      <td>2020-03-19 17:49:40</td>\n",
              "      <td>Nova Impressão</td>\n",
              "      <td>novaimpressao_</td>\n",
              "      <td>🚨Todos juntos contra COVID-19💪\\n\\nSolicite seu...</td>\n",
              "      <td>0</td>\n",
              "      <td>124</td>\n",
              "      <td>pt</td>\n",
              "      <td>Brasília</td>\n",
              "      <td>Brazil</td>\n",
              "      <td>BR</td>\n",
              "      <td>-47.8778</td>\n",
              "      <td>-15.77691</td>\n",
              "      <td>[]</td>\n",
              "    </tr>\n",
              "    <tr>\n",
              "      <th>5</th>\n",
              "      <td>2020-05-08 11:21:36</td>\n",
              "      <td>Marcel Silvano</td>\n",
              "      <td>marcelsilvano</td>\n",
              "      <td>Importantes avanços! A pesquisa brasileira, a ...</td>\n",
              "      <td>4</td>\n",
              "      <td>2769</td>\n",
              "      <td>pt</td>\n",
              "      <td>Macaé</td>\n",
              "      <td>Brazil</td>\n",
              "      <td>BR</td>\n",
              "      <td>NaN</td>\n",
              "      <td>NaN</td>\n",
              "      <td>[]</td>\n",
              "    </tr>\n",
              "    <tr>\n",
              "      <th>6</th>\n",
              "      <td>2020-03-10 21:27:40</td>\n",
              "      <td>Teixeira Correia</td>\n",
              "      <td>LidadorNoticias</td>\n",
              "      <td>(Última hora) Volta ao Alentejo: Anulada por c...</td>\n",
              "      <td>0</td>\n",
              "      <td>39</td>\n",
              "      <td>pt</td>\n",
              "      <td>NaN</td>\n",
              "      <td>NaN</td>\n",
              "      <td>NaN</td>\n",
              "      <td>NaN</td>\n",
              "      <td>NaN</td>\n",
              "      <td>[]</td>\n",
              "    </tr>\n",
              "    <tr>\n",
              "      <th>7</th>\n",
              "      <td>2020-06-04 13:22:21</td>\n",
              "      <td>Thiago Moraes</td>\n",
              "      <td>ThiagoMoraesPB</td>\n",
              "      <td>João Pessoa tem queda no isolamento social por...</td>\n",
              "      <td>1</td>\n",
              "      <td>3578</td>\n",
              "      <td>pt</td>\n",
              "      <td>NaN</td>\n",
              "      <td>NaN</td>\n",
              "      <td>NaN</td>\n",
              "      <td>NaN</td>\n",
              "      <td>NaN</td>\n",
              "      <td>[]</td>\n",
              "    </tr>\n",
              "    <tr>\n",
              "      <th>8</th>\n",
              "      <td>2020-05-07 21:32:12</td>\n",
              "      <td>PT Brasil</td>\n",
              "      <td>ptbrasil</td>\n",
              "      <td>A #tvPT de hoje vai falar sobre a pandemia na ...</td>\n",
              "      <td>10</td>\n",
              "      <td>942696</td>\n",
              "      <td>pt</td>\n",
              "      <td>NaN</td>\n",
              "      <td>NaN</td>\n",
              "      <td>NaN</td>\n",
              "      <td>NaN</td>\n",
              "      <td>NaN</td>\n",
              "      <td>['tvPT']</td>\n",
              "    </tr>\n",
              "    <tr>\n",
              "      <th>9</th>\n",
              "      <td>2020-03-11 20:27:49</td>\n",
              "      <td>Niquito ;)</td>\n",
              "      <td>NLazaroto</td>\n",
              "      <td>O Coronavirús causou uma pandemia e eu ainda n...</td>\n",
              "      <td>0</td>\n",
              "      <td>215</td>\n",
              "      <td>pt</td>\n",
              "      <td>NaN</td>\n",
              "      <td>NaN</td>\n",
              "      <td>NaN</td>\n",
              "      <td>NaN</td>\n",
              "      <td>NaN</td>\n",
              "      <td>[]</td>\n",
              "    </tr>\n",
              "  </tbody>\n",
              "</table>\n",
              "</div>"
            ],
            "text/plain": [
              "                  data              usuario  ... longitude  hashtags\n",
              "0  2020-03-23 18:51:14             Gaboardi  ...       NaN        []\n",
              "1  2020-03-18 03:18:14   Seu Zé da Farmácia  ...       NaN        []\n",
              "2  2020-03-29 12:09:27  Marília Oliveira 🇧🇷  ...       NaN        []\n",
              "3  2020-04-01 21:11:07                    🚩  ...       NaN        []\n",
              "4  2020-03-19 17:49:40       Nova Impressão  ... -15.77691        []\n",
              "5  2020-05-08 11:21:36       Marcel Silvano  ...       NaN        []\n",
              "6  2020-03-10 21:27:40     Teixeira Correia  ...       NaN        []\n",
              "7  2020-06-04 13:22:21        Thiago Moraes  ...       NaN        []\n",
              "8  2020-05-07 21:32:12            PT Brasil  ...       NaN  ['tvPT']\n",
              "9  2020-03-11 20:27:49           Niquito ;)  ...       NaN        []\n",
              "\n",
              "[10 rows x 13 columns]"
            ]
          },
          "metadata": {
            "tags": []
          },
          "execution_count": 11
        }
      ]
    },
    {
      "cell_type": "code",
      "metadata": {
        "id": "YjDiNz1GAxmY",
        "outputId": "a1ee1fcf-a97c-402e-fc78-539709d818cb",
        "colab": {
          "base_uri": "https://localhost:8080/",
          "height": 34
        }
      },
      "source": [
        "# tamanho do dataset\n",
        "# mais de 1,5 milhão de instancias e 13 atributos\n",
        "df.shape"
      ],
      "execution_count": 12,
      "outputs": [
        {
          "output_type": "execute_result",
          "data": {
            "text/plain": [
              "(1658825, 13)"
            ]
          },
          "metadata": {
            "tags": []
          },
          "execution_count": 12
        }
      ]
    },
    {
      "cell_type": "code",
      "metadata": {
        "id": "D8x3VqOICfIQ",
        "outputId": "29c46f02-9a71-4a9f-fa23-30050bc9b26b",
        "colab": {
          "base_uri": "https://localhost:8080/",
          "height": 255
        }
      },
      "source": [
        "# quantidade de valores nulos\n",
        "df.isnull().sum()"
      ],
      "execution_count": 13,
      "outputs": [
        {
          "output_type": "execute_result",
          "data": {
            "text/plain": [
              "data                0\n",
              "usuario            57\n",
              "apelido             0\n",
              "texto               0\n",
              "retweet             0\n",
              "seguidores          0\n",
              "idioma              0\n",
              "lugar         1584220\n",
              "pais          1584225\n",
              "sigla         1584230\n",
              "latitude      1650105\n",
              "longitude     1650105\n",
              "hashtags            0\n",
              "dtype: int64"
            ]
          },
          "metadata": {
            "tags": []
          },
          "execution_count": 13
        }
      ]
    },
    {
      "cell_type": "markdown",
      "metadata": {
        "id": "mb5zcaK2hWgt"
      },
      "source": [
        "### Descrição das colunas do Dataset"
      ]
    },
    {
      "cell_type": "code",
      "metadata": {
        "id": "TvWd8-h8hYpo",
        "outputId": "a2730b00-c66c-4468-d6be-25524fced7a0",
        "colab": {
          "base_uri": "https://localhost:8080/",
          "height": 85
        }
      },
      "source": [
        "# nomes das colunas\n",
        "df.columns"
      ],
      "execution_count": 14,
      "outputs": [
        {
          "output_type": "execute_result",
          "data": {
            "text/plain": [
              "Index(['data', 'usuario', 'apelido', 'texto', 'retweet', 'seguidores',\n",
              "       'idioma', 'lugar', 'pais', 'sigla', 'latitude', 'longitude',\n",
              "       'hashtags'],\n",
              "      dtype='object')"
            ]
          },
          "metadata": {
            "tags": []
          },
          "execution_count": 14
        }
      ]
    },
    {
      "cell_type": "markdown",
      "metadata": {
        "id": "Azjnzzfuhazr"
      },
      "source": [
        "* data: data do tweet do usuário\n",
        "* usuario: nome do usuario\n",
        "* apelido: apelido do usuário\n",
        "* texto: texto publicado pelo usuário\n",
        "* retweet: quantidade de vezes que o tweet foi replicado\n",
        "* seguidores: quantidade de seguidores do usuário\n",
        "* idioma: idioma do usuário\n",
        "* lugar: lugar do usuário na publicação\n",
        "* pais: país do usuário na publicação\n",
        "* sigla: sigla do Estado do usuário\n",
        "* latitude: posição geogŕafica do usuário \n",
        "* longitude: posição geográfica do usuário"
      ]
    },
    {
      "cell_type": "code",
      "metadata": {
        "id": "O2sD7nz1lKDY",
        "outputId": "7432477b-b2da-45a2-cd6e-9edfb8632595",
        "colab": {
          "base_uri": "https://localhost:8080/",
          "height": 255
        }
      },
      "source": [
        "# verificando os tipos de dados do Dataset\n",
        "df.dtypes"
      ],
      "execution_count": 15,
      "outputs": [
        {
          "output_type": "execute_result",
          "data": {
            "text/plain": [
              "data           object\n",
              "usuario        object\n",
              "apelido        object\n",
              "texto          object\n",
              "retweet         int64\n",
              "seguidores      int64\n",
              "idioma         object\n",
              "lugar          object\n",
              "pais           object\n",
              "sigla          object\n",
              "latitude      float64\n",
              "longitude     float64\n",
              "hashtags       object\n",
              "dtype: object"
            ]
          },
          "metadata": {
            "tags": []
          },
          "execution_count": 15
        }
      ]
    },
    {
      "cell_type": "markdown",
      "metadata": {
        "id": "0ZS8756gPPef"
      },
      "source": [
        "### Analisando os dados numericos"
      ]
    },
    {
      "cell_type": "code",
      "metadata": {
        "id": "ks5b5w8hPYL_",
        "outputId": "8d249ef2-3dc7-4c39-a2e1-7e466c00b72d",
        "colab": {
          "base_uri": "https://localhost:8080/",
          "height": 173
        }
      },
      "source": [
        "df.describe().transpose()"
      ],
      "execution_count": 16,
      "outputs": [
        {
          "output_type": "execute_result",
          "data": {
            "text/html": [
              "<div>\n",
              "<style scoped>\n",
              "    .dataframe tbody tr th:only-of-type {\n",
              "        vertical-align: middle;\n",
              "    }\n",
              "\n",
              "    .dataframe tbody tr th {\n",
              "        vertical-align: top;\n",
              "    }\n",
              "\n",
              "    .dataframe thead th {\n",
              "        text-align: right;\n",
              "    }\n",
              "</style>\n",
              "<table border=\"1\" class=\"dataframe\">\n",
              "  <thead>\n",
              "    <tr style=\"text-align: right;\">\n",
              "      <th></th>\n",
              "      <th>count</th>\n",
              "      <th>mean</th>\n",
              "      <th>std</th>\n",
              "      <th>min</th>\n",
              "      <th>25%</th>\n",
              "      <th>50%</th>\n",
              "      <th>75%</th>\n",
              "      <th>max</th>\n",
              "    </tr>\n",
              "  </thead>\n",
              "  <tbody>\n",
              "    <tr>\n",
              "      <th>retweet</th>\n",
              "      <td>1658825.0</td>\n",
              "      <td>197.853299</td>\n",
              "      <td>6337.641384</td>\n",
              "      <td>0.000000</td>\n",
              "      <td>0.000000</td>\n",
              "      <td>0.000000</td>\n",
              "      <td>0.000000</td>\n",
              "      <td>1.139763e+06</td>\n",
              "    </tr>\n",
              "    <tr>\n",
              "      <th>seguidores</th>\n",
              "      <td>1658825.0</td>\n",
              "      <td>32572.055193</td>\n",
              "      <td>368029.985029</td>\n",
              "      <td>0.000000</td>\n",
              "      <td>101.000000</td>\n",
              "      <td>380.000000</td>\n",
              "      <td>1470.000000</td>\n",
              "      <td>8.424125e+07</td>\n",
              "    </tr>\n",
              "    <tr>\n",
              "      <th>latitude</th>\n",
              "      <td>8720.0</td>\n",
              "      <td>-40.237583</td>\n",
              "      <td>20.808494</td>\n",
              "      <td>-123.120400</td>\n",
              "      <td>-47.864334</td>\n",
              "      <td>-43.955615</td>\n",
              "      <td>-38.453198</td>\n",
              "      <td>1.747893e+02</td>\n",
              "    </tr>\n",
              "    <tr>\n",
              "      <th>longitude</th>\n",
              "      <td>8720.0</td>\n",
              "      <td>-11.117100</td>\n",
              "      <td>19.169105</td>\n",
              "      <td>-37.818769</td>\n",
              "      <td>-23.305300</td>\n",
              "      <td>-19.624400</td>\n",
              "      <td>-7.120700</td>\n",
              "      <td>5.825778e+01</td>\n",
              "    </tr>\n",
              "  </tbody>\n",
              "</table>\n",
              "</div>"
            ],
            "text/plain": [
              "                count          mean  ...          75%           max\n",
              "retweet     1658825.0    197.853299  ...     0.000000  1.139763e+06\n",
              "seguidores  1658825.0  32572.055193  ...  1470.000000  8.424125e+07\n",
              "latitude       8720.0    -40.237583  ...   -38.453198  1.747893e+02\n",
              "longitude      8720.0    -11.117100  ...    -7.120700  5.825778e+01\n",
              "\n",
              "[4 rows x 8 columns]"
            ]
          },
          "metadata": {
            "tags": []
          },
          "execution_count": 16
        }
      ]
    },
    {
      "cell_type": "markdown",
      "metadata": {
        "id": "5S2c_rnwsVRS"
      },
      "source": [
        "Ao gerar alguns dados estatísticos, podemos notar:\n",
        "\n",
        "* a variável *retweet* tem como valor máximo 1139763, isso quer dizer que uma publicação específica foi replicada mais de 1 milhão de vezes, assim como a variável *seguidores* nos mostra que um determinado usuário possui aproximadamente 8,5 milhões de seguidores \n",
        "\n",
        "* as colunas *retweet* e *seguidores* possui uma grande discrepância em sua distribuição de frequencia. Em *retweet*, todos os valores estão acima do 3º quartil, indicando que 75% dos valores são iguais a zero.\n"
      ]
    },
    {
      "cell_type": "markdown",
      "metadata": {
        "id": "oWGrmMDTPZW3"
      },
      "source": [
        "### Analisando os dados categóricos"
      ]
    },
    {
      "cell_type": "code",
      "metadata": {
        "id": "FF5AYG0hPrNn",
        "outputId": "81d01786-2ea0-47d4-ccfb-9f22e158048e",
        "colab": {
          "base_uri": "https://localhost:8080/",
          "height": 221
        }
      },
      "source": [
        "df['sigla'].value_counts()"
      ],
      "execution_count": 17,
      "outputs": [
        {
          "output_type": "execute_result",
          "data": {
            "text/plain": [
              "BR    67247\n",
              "PT     2675\n",
              "US     1068\n",
              "IT      484\n",
              "ES      379\n",
              "      ...  \n",
              "KR        1\n",
              "AD        1\n",
              "MC        1\n",
              "SI        1\n",
              "GF        1\n",
              "Name: sigla, Length: 120, dtype: int64"
            ]
          },
          "metadata": {
            "tags": []
          },
          "execution_count": 17
        }
      ]
    },
    {
      "cell_type": "markdown",
      "metadata": {
        "id": "Ty1kolG68o2s"
      },
      "source": [
        "Aproximadamente 90% dos dados são do Brasil\n",
        "\n",
        "*Obs: apenas os dados que contem a sigla do país"
      ]
    },
    {
      "cell_type": "code",
      "metadata": {
        "id": "l1nTwaFr3EYv",
        "outputId": "9944921d-b221-483e-e22c-0a5795b33717",
        "colab": {
          "base_uri": "https://localhost:8080/",
          "height": 34
        }
      },
      "source": [
        "(df['sigla'].value_counts()['BR']/df['sigla'].value_counts().sum())*100"
      ],
      "execution_count": 18,
      "outputs": [
        {
          "output_type": "execute_result",
          "data": {
            "text/plain": [
              "90.14947382532341"
            ]
          },
          "metadata": {
            "tags": []
          },
          "execution_count": 18
        }
      ]
    },
    {
      "cell_type": "markdown",
      "metadata": {
        "id": "l74X1sd59Mjd"
      },
      "source": [
        "## Dataset DuvidasDB"
      ]
    },
    {
      "cell_type": "code",
      "metadata": {
        "id": "-xDmk9L79qBv",
        "outputId": "53411696-917b-4617-9b12-881875b8a50b",
        "colab": {
          "base_uri": "https://localhost:8080/",
          "height": 306
        }
      },
      "source": [
        "duvidasDB = df[df['texto'].str.contains('?', regex=False)].copy()\n",
        "duvidasDB.reset_index(drop=True, inplace=True)\n",
        "duvidasDB['texto'] = duvidasDB.texto.str.lower()\n",
        "duvidasDB['texto'] = duvidasDB.texto.apply(lambda txt: normalize('NFKD', txt).encode('ASCII','ignore').decode('ASCII'))\n",
        "\n",
        "duvidasDB.head()"
      ],
      "execution_count": 20,
      "outputs": [
        {
          "output_type": "execute_result",
          "data": {
            "text/html": [
              "<div>\n",
              "<style scoped>\n",
              "    .dataframe tbody tr th:only-of-type {\n",
              "        vertical-align: middle;\n",
              "    }\n",
              "\n",
              "    .dataframe tbody tr th {\n",
              "        vertical-align: top;\n",
              "    }\n",
              "\n",
              "    .dataframe thead th {\n",
              "        text-align: right;\n",
              "    }\n",
              "</style>\n",
              "<table border=\"1\" class=\"dataframe\">\n",
              "  <thead>\n",
              "    <tr style=\"text-align: right;\">\n",
              "      <th></th>\n",
              "      <th>data</th>\n",
              "      <th>usuario</th>\n",
              "      <th>apelido</th>\n",
              "      <th>texto</th>\n",
              "      <th>retweet</th>\n",
              "      <th>seguidores</th>\n",
              "      <th>idioma</th>\n",
              "      <th>lugar</th>\n",
              "      <th>pais</th>\n",
              "      <th>sigla</th>\n",
              "      <th>latitude</th>\n",
              "      <th>longitude</th>\n",
              "      <th>hashtags</th>\n",
              "    </tr>\n",
              "  </thead>\n",
              "  <tbody>\n",
              "    <tr>\n",
              "      <th>0</th>\n",
              "      <td>2020-03-23 18:51:14</td>\n",
              "      <td>Gaboardi</td>\n",
              "      <td>fraslee</td>\n",
              "      <td>@bolsonarosp cade o fundao deputado??? congres...</td>\n",
              "      <td>0</td>\n",
              "      <td>138</td>\n",
              "      <td>pt</td>\n",
              "      <td>NaN</td>\n",
              "      <td>NaN</td>\n",
              "      <td>NaN</td>\n",
              "      <td>NaN</td>\n",
              "      <td>NaN</td>\n",
              "      <td>[]</td>\n",
              "    </tr>\n",
              "    <tr>\n",
              "      <th>1</th>\n",
              "      <td>2020-04-01 21:11:07</td>\n",
              "      <td>🚩</td>\n",
              "      <td>santosodeto</td>\n",
              "      <td>fumaca de cigarro pode propagar coronavirus? h...</td>\n",
              "      <td>0</td>\n",
              "      <td>1885</td>\n",
              "      <td>pt</td>\n",
              "      <td>NaN</td>\n",
              "      <td>NaN</td>\n",
              "      <td>NaN</td>\n",
              "      <td>NaN</td>\n",
              "      <td>NaN</td>\n",
              "      <td>[]</td>\n",
              "    </tr>\n",
              "    <tr>\n",
              "      <th>2</th>\n",
              "      <td>2020-06-25 11:09:19</td>\n",
              "      <td>Andreia Peraro</td>\n",
              "      <td>AndreiaPeraro</td>\n",
              "      <td>@ipratesmd @dr_pampers sera que corremos o ris...</td>\n",
              "      <td>0</td>\n",
              "      <td>86</td>\n",
              "      <td>pt</td>\n",
              "      <td>NaN</td>\n",
              "      <td>NaN</td>\n",
              "      <td>NaN</td>\n",
              "      <td>NaN</td>\n",
              "      <td>NaN</td>\n",
              "      <td>[]</td>\n",
              "    </tr>\n",
              "    <tr>\n",
              "      <th>3</th>\n",
              "      <td>2020-04-06 15:44:36</td>\n",
              "      <td>Diorgenes Pandini</td>\n",
              "      <td>diorpandini</td>\n",
              "      <td>prioridade ?!\\n\\n #covid19 #floripa #isolament...</td>\n",
              "      <td>0</td>\n",
              "      <td>219</td>\n",
              "      <td>pt</td>\n",
              "      <td>NaN</td>\n",
              "      <td>NaN</td>\n",
              "      <td>NaN</td>\n",
              "      <td>NaN</td>\n",
              "      <td>NaN</td>\n",
              "      <td>['COVID19', 'floripa', 'isolamento']</td>\n",
              "    </tr>\n",
              "    <tr>\n",
              "      <th>4</th>\n",
              "      <td>2020-03-30 00:43:36</td>\n",
              "      <td>Valnei do Val</td>\n",
              "      <td>vdoval</td>\n",
              "      <td>que tal uma noticia boa, indo na contramao do ...</td>\n",
              "      <td>0</td>\n",
              "      <td>201</td>\n",
              "      <td>pt</td>\n",
              "      <td>NaN</td>\n",
              "      <td>NaN</td>\n",
              "      <td>NaN</td>\n",
              "      <td>NaN</td>\n",
              "      <td>NaN</td>\n",
              "      <td>[]</td>\n",
              "    </tr>\n",
              "  </tbody>\n",
              "</table>\n",
              "</div>"
            ],
            "text/plain": [
              "                  data  ...                              hashtags\n",
              "0  2020-03-23 18:51:14  ...                                    []\n",
              "1  2020-04-01 21:11:07  ...                                    []\n",
              "2  2020-06-25 11:09:19  ...                                    []\n",
              "3  2020-04-06 15:44:36  ...  ['COVID19', 'floripa', 'isolamento']\n",
              "4  2020-03-30 00:43:36  ...                                    []\n",
              "\n",
              "[5 rows x 13 columns]"
            ]
          },
          "metadata": {
            "tags": []
          },
          "execution_count": 20
        }
      ]
    },
    {
      "cell_type": "markdown",
      "metadata": {
        "id": "6wPqUBJS6JEJ"
      },
      "source": [
        "###Visão Geral dos Dados \"duvidasDB\""
      ]
    },
    {
      "cell_type": "code",
      "metadata": {
        "id": "DP0FRlioy7dg",
        "outputId": "4f702c0e-6a7a-414d-daae-4fc28dda55f7",
        "colab": {
          "base_uri": "https://localhost:8080/",
          "height": 173
        }
      },
      "source": [
        "dfn = duvidasDB\n",
        "dfn.describe().transpose()"
      ],
      "execution_count": 35,
      "outputs": [
        {
          "output_type": "execute_result",
          "data": {
            "text/html": [
              "<div>\n",
              "<style scoped>\n",
              "    .dataframe tbody tr th:only-of-type {\n",
              "        vertical-align: middle;\n",
              "    }\n",
              "\n",
              "    .dataframe tbody tr th {\n",
              "        vertical-align: top;\n",
              "    }\n",
              "\n",
              "    .dataframe thead th {\n",
              "        text-align: right;\n",
              "    }\n",
              "</style>\n",
              "<table border=\"1\" class=\"dataframe\">\n",
              "  <thead>\n",
              "    <tr style=\"text-align: right;\">\n",
              "      <th></th>\n",
              "      <th>count</th>\n",
              "      <th>mean</th>\n",
              "      <th>std</th>\n",
              "      <th>min</th>\n",
              "      <th>25%</th>\n",
              "      <th>50%</th>\n",
              "      <th>75%</th>\n",
              "      <th>max</th>\n",
              "    </tr>\n",
              "  </thead>\n",
              "  <tbody>\n",
              "    <tr>\n",
              "      <th>retweet</th>\n",
              "      <td>172501.0</td>\n",
              "      <td>123.877137</td>\n",
              "      <td>4714.103506</td>\n",
              "      <td>0.000000</td>\n",
              "      <td>0.000000</td>\n",
              "      <td>0.000000</td>\n",
              "      <td>0.000000</td>\n",
              "      <td>6.165690e+05</td>\n",
              "    </tr>\n",
              "    <tr>\n",
              "      <th>seguidores</th>\n",
              "      <td>172501.0</td>\n",
              "      <td>12244.941235</td>\n",
              "      <td>227150.310261</td>\n",
              "      <td>0.000000</td>\n",
              "      <td>78.000000</td>\n",
              "      <td>296.000000</td>\n",
              "      <td>1020.000000</td>\n",
              "      <td>1.310412e+07</td>\n",
              "    </tr>\n",
              "    <tr>\n",
              "      <th>latitude</th>\n",
              "      <td>594.0</td>\n",
              "      <td>-42.739200</td>\n",
              "      <td>16.340911</td>\n",
              "      <td>-118.291855</td>\n",
              "      <td>-48.190162</td>\n",
              "      <td>-45.280150</td>\n",
              "      <td>-38.634174</td>\n",
              "      <td>1.516286e+02</td>\n",
              "    </tr>\n",
              "    <tr>\n",
              "      <th>longitude</th>\n",
              "      <td>594.0</td>\n",
              "      <td>-14.001684</td>\n",
              "      <td>16.266415</td>\n",
              "      <td>-34.823600</td>\n",
              "      <td>-23.498240</td>\n",
              "      <td>-20.451828</td>\n",
              "      <td>-8.060902</td>\n",
              "      <td>5.288644e+01</td>\n",
              "    </tr>\n",
              "  </tbody>\n",
              "</table>\n",
              "</div>"
            ],
            "text/plain": [
              "               count          mean  ...          75%           max\n",
              "retweet     172501.0    123.877137  ...     0.000000  6.165690e+05\n",
              "seguidores  172501.0  12244.941235  ...  1020.000000  1.310412e+07\n",
              "latitude       594.0    -42.739200  ...   -38.634174  1.516286e+02\n",
              "longitude      594.0    -14.001684  ...    -8.060902  5.288644e+01\n",
              "\n",
              "[4 rows x 8 columns]"
            ]
          },
          "metadata": {
            "tags": []
          },
          "execution_count": 35
        }
      ]
    },
    {
      "cell_type": "code",
      "metadata": {
        "id": "kUdohheP71pU",
        "outputId": "6dbf7efe-852b-4059-a93c-11c058344511",
        "colab": {
          "base_uri": "https://localhost:8080/",
          "height": 255
        }
      },
      "source": [
        "#Contagem de dados ausentes\n",
        "dfn.isnull().sum()"
      ],
      "execution_count": 36,
      "outputs": [
        {
          "output_type": "execute_result",
          "data": {
            "text/plain": [
              "data               0\n",
              "usuario            6\n",
              "apelido            0\n",
              "texto              0\n",
              "retweet            0\n",
              "seguidores         0\n",
              "idioma             0\n",
              "lugar         164672\n",
              "pais          164672\n",
              "sigla         164672\n",
              "latitude      171907\n",
              "longitude     171907\n",
              "hashtags           0\n",
              "dtype: int64"
            ]
          },
          "metadata": {
            "tags": []
          },
          "execution_count": 36
        }
      ]
    },
    {
      "cell_type": "code",
      "metadata": {
        "id": "LA8ygUnyF073",
        "outputId": "2b87bb7d-821a-4780-afeb-dcbf8007c968",
        "colab": {
          "base_uri": "https://localhost:8080/",
          "height": 34
        }
      },
      "source": [
        "# Número de linhas e colunas.\n",
        "dfn.shape"
      ],
      "execution_count": 60,
      "outputs": [
        {
          "output_type": "execute_result",
          "data": {
            "text/plain": [
              "(172501, 13)"
            ]
          },
          "metadata": {
            "tags": []
          },
          "execution_count": 60
        }
      ]
    },
    {
      "cell_type": "code",
      "metadata": {
        "id": "mLfXDkcX3S-o",
        "outputId": "705263ea-4f77-472e-ad9e-e992b33bf1cb",
        "colab": {
          "base_uri": "https://localhost:8080/",
          "height": 1000
        }
      },
      "source": [
        "# Total por pais\n",
        "dfn.pais.value_counts()"
      ],
      "execution_count": 51,
      "outputs": [
        {
          "output_type": "execute_result",
          "data": {
            "text/plain": [
              "Brazil                        7148\n",
              "Portugal                       243\n",
              "United States                  101\n",
              "Italy                           45\n",
              "United Kingdom                  42\n",
              "Spain                           34\n",
              "France                          23\n",
              "Canada                          22\n",
              "Republic of Mozambique          21\n",
              "Argentina                       17\n",
              "Ireland                         12\n",
              "Angola                           8\n",
              "Japan                            8\n",
              "Chile                            6\n",
              "Colombia                         6\n",
              "Switzerland                      5\n",
              "Belgium                          5\n",
              "Germany                          5\n",
              "India                            4\n",
              "Peru                             4\n",
              "Australia                        4\n",
              "New Zealand                      4\n",
              "Bahrain                          4\n",
              "Nigeria                          4\n",
              "Uruguay                          3\n",
              "The Netherlands                  3\n",
              "Austria                          3\n",
              "People's Republic of China       3\n",
              "South Africa                     3\n",
              "Romania                          2\n",
              "Turkey                           2\n",
              "Sweden                           2\n",
              "Kingdom of Saudi Arabia          2\n",
              "Cape Verde                       2\n",
              "Paraguay                         2\n",
              "Venezuela                        2\n",
              "Mexico                           2\n",
              "Egypt                            2\n",
              "Israel                           1\n",
              "Ghana                            1\n",
              "Dominican Republic               1\n",
              "Indonesia                        1\n",
              "Malaysia                         1\n",
              "Pakistan                         1\n",
              "Bolivia                          1\n",
              "Armenia                          1\n",
              "Taiwan                           1\n",
              "United Arab Emirates             1\n",
              "Guadeloupe                       1\n",
              "Morocco                          1\n",
              "Monaco                           1\n",
              "Denmark                          1\n",
              "Luxembourg                       1\n",
              "Trinidad and Tobago              1\n",
              "Sri Lanka                        1\n",
              "Norway                           1\n",
              "Cuba                             1\n",
              "Poland                           1\n",
              "Kazakhstan                       1\n",
              "Name: pais, dtype: int64"
            ]
          },
          "metadata": {
            "tags": []
          },
          "execution_count": 51
        }
      ]
    },
    {
      "cell_type": "markdown",
      "metadata": {
        "id": "KKTVlsz5AD_x"
      },
      "source": [
        "### Informações gerais do novo dataset"
      ]
    },
    {
      "cell_type": "code",
      "metadata": {
        "id": "Ok0Es8oVAd3t",
        "outputId": "153117e0-a25b-4399-bd4e-4a7ccf481b14",
        "colab": {
          "base_uri": "https://localhost:8080/",
          "height": 357
        }
      },
      "source": [
        "#Informações da Base\n",
        "duvidasDB.info()"
      ],
      "execution_count": 21,
      "outputs": [
        {
          "output_type": "stream",
          "text": [
            "<class 'pandas.core.frame.DataFrame'>\n",
            "RangeIndex: 172501 entries, 0 to 172500\n",
            "Data columns (total 13 columns):\n",
            " #   Column      Non-Null Count   Dtype  \n",
            "---  ------      --------------   -----  \n",
            " 0   data        172501 non-null  object \n",
            " 1   usuario     172495 non-null  object \n",
            " 2   apelido     172501 non-null  object \n",
            " 3   texto       172501 non-null  object \n",
            " 4   retweet     172501 non-null  int64  \n",
            " 5   seguidores  172501 non-null  int64  \n",
            " 6   idioma      172501 non-null  object \n",
            " 7   lugar       7829 non-null    object \n",
            " 8   pais        7829 non-null    object \n",
            " 9   sigla       7829 non-null    object \n",
            " 10  latitude    594 non-null     float64\n",
            " 11  longitude   594 non-null     float64\n",
            " 12  hashtags    172501 non-null  object \n",
            "dtypes: float64(2), int64(2), object(9)\n",
            "memory usage: 17.1+ MB\n"
          ],
          "name": "stdout"
        }
      ]
    },
    {
      "cell_type": "markdown",
      "metadata": {
        "id": "0BE0c4TRibx4"
      },
      "source": [
        "##Convertendo o tipo do campo data de \"object\" em \"datetime\""
      ]
    },
    {
      "cell_type": "code",
      "metadata": {
        "id": "fQ6iIZsrh9SL",
        "outputId": "98fa912e-0f37-43a6-9bf9-29e7a4ef5f5d",
        "colab": {
          "base_uri": "https://localhost:8080/",
          "height": 357
        }
      },
      "source": [
        "dfn['data'] = pd.to_datetime(dfn['data'])\n",
        "dfn.info()"
      ],
      "execution_count": 63,
      "outputs": [
        {
          "output_type": "stream",
          "text": [
            "<class 'pandas.core.frame.DataFrame'>\n",
            "RangeIndex: 172501 entries, 0 to 172500\n",
            "Data columns (total 13 columns):\n",
            " #   Column      Non-Null Count   Dtype         \n",
            "---  ------      --------------   -----         \n",
            " 0   data        172501 non-null  datetime64[ns]\n",
            " 1   usuario     172495 non-null  object        \n",
            " 2   apelido     172501 non-null  object        \n",
            " 3   texto       172501 non-null  object        \n",
            " 4   retweet     172501 non-null  int64         \n",
            " 5   seguidores  172501 non-null  int64         \n",
            " 6   idioma      172501 non-null  object        \n",
            " 7   lugar       7829 non-null    object        \n",
            " 8   pais        7829 non-null    object        \n",
            " 9   sigla       7829 non-null    object        \n",
            " 10  latitude    594 non-null     float64       \n",
            " 11  longitude   594 non-null     float64       \n",
            " 12  hashtags    172501 non-null  object        \n",
            "dtypes: datetime64[ns](1), float64(2), int64(2), object(8)\n",
            "memory usage: 17.1+ MB\n"
          ],
          "name": "stdout"
        }
      ]
    },
    {
      "cell_type": "markdown",
      "metadata": {
        "id": "Ts5SI3_VjiAC"
      },
      "source": [
        "##Criando uma coluna com o Mês"
      ]
    },
    {
      "cell_type": "code",
      "metadata": {
        "id": "gpMPx6SMjQiw",
        "outputId": "1addfd77-5ad7-400a-d0bf-f2ea2e604f73",
        "colab": {
          "base_uri": "https://localhost:8080/",
          "height": 306
        }
      },
      "source": [
        "dfn['mês'] = dfn['data'].dt.month\n",
        "dfn.head()"
      ],
      "execution_count": 64,
      "outputs": [
        {
          "output_type": "execute_result",
          "data": {
            "text/html": [
              "<div>\n",
              "<style scoped>\n",
              "    .dataframe tbody tr th:only-of-type {\n",
              "        vertical-align: middle;\n",
              "    }\n",
              "\n",
              "    .dataframe tbody tr th {\n",
              "        vertical-align: top;\n",
              "    }\n",
              "\n",
              "    .dataframe thead th {\n",
              "        text-align: right;\n",
              "    }\n",
              "</style>\n",
              "<table border=\"1\" class=\"dataframe\">\n",
              "  <thead>\n",
              "    <tr style=\"text-align: right;\">\n",
              "      <th></th>\n",
              "      <th>data</th>\n",
              "      <th>usuario</th>\n",
              "      <th>apelido</th>\n",
              "      <th>texto</th>\n",
              "      <th>retweet</th>\n",
              "      <th>seguidores</th>\n",
              "      <th>idioma</th>\n",
              "      <th>lugar</th>\n",
              "      <th>pais</th>\n",
              "      <th>sigla</th>\n",
              "      <th>latitude</th>\n",
              "      <th>longitude</th>\n",
              "      <th>hashtags</th>\n",
              "      <th>mês</th>\n",
              "    </tr>\n",
              "  </thead>\n",
              "  <tbody>\n",
              "    <tr>\n",
              "      <th>0</th>\n",
              "      <td>2020-03-23 18:51:14</td>\n",
              "      <td>Gaboardi</td>\n",
              "      <td>fraslee</td>\n",
              "      <td>@bolsonarosp cade o fundao deputado??? congres...</td>\n",
              "      <td>0</td>\n",
              "      <td>138</td>\n",
              "      <td>pt</td>\n",
              "      <td>NaN</td>\n",
              "      <td>NaN</td>\n",
              "      <td>NaN</td>\n",
              "      <td>NaN</td>\n",
              "      <td>NaN</td>\n",
              "      <td>[]</td>\n",
              "      <td>3</td>\n",
              "    </tr>\n",
              "    <tr>\n",
              "      <th>1</th>\n",
              "      <td>2020-04-01 21:11:07</td>\n",
              "      <td>🚩</td>\n",
              "      <td>santosodeto</td>\n",
              "      <td>fumaca de cigarro pode propagar coronavirus? h...</td>\n",
              "      <td>0</td>\n",
              "      <td>1885</td>\n",
              "      <td>pt</td>\n",
              "      <td>NaN</td>\n",
              "      <td>NaN</td>\n",
              "      <td>NaN</td>\n",
              "      <td>NaN</td>\n",
              "      <td>NaN</td>\n",
              "      <td>[]</td>\n",
              "      <td>4</td>\n",
              "    </tr>\n",
              "    <tr>\n",
              "      <th>2</th>\n",
              "      <td>2020-06-25 11:09:19</td>\n",
              "      <td>Andreia Peraro</td>\n",
              "      <td>AndreiaPeraro</td>\n",
              "      <td>@ipratesmd @dr_pampers sera que corremos o ris...</td>\n",
              "      <td>0</td>\n",
              "      <td>86</td>\n",
              "      <td>pt</td>\n",
              "      <td>NaN</td>\n",
              "      <td>NaN</td>\n",
              "      <td>NaN</td>\n",
              "      <td>NaN</td>\n",
              "      <td>NaN</td>\n",
              "      <td>[]</td>\n",
              "      <td>6</td>\n",
              "    </tr>\n",
              "    <tr>\n",
              "      <th>3</th>\n",
              "      <td>2020-04-06 15:44:36</td>\n",
              "      <td>Diorgenes Pandini</td>\n",
              "      <td>diorpandini</td>\n",
              "      <td>prioridade ?!\\n\\n #covid19 #floripa #isolament...</td>\n",
              "      <td>0</td>\n",
              "      <td>219</td>\n",
              "      <td>pt</td>\n",
              "      <td>NaN</td>\n",
              "      <td>NaN</td>\n",
              "      <td>NaN</td>\n",
              "      <td>NaN</td>\n",
              "      <td>NaN</td>\n",
              "      <td>['COVID19', 'floripa', 'isolamento']</td>\n",
              "      <td>4</td>\n",
              "    </tr>\n",
              "    <tr>\n",
              "      <th>4</th>\n",
              "      <td>2020-03-30 00:43:36</td>\n",
              "      <td>Valnei do Val</td>\n",
              "      <td>vdoval</td>\n",
              "      <td>que tal uma noticia boa, indo na contramao do ...</td>\n",
              "      <td>0</td>\n",
              "      <td>201</td>\n",
              "      <td>pt</td>\n",
              "      <td>NaN</td>\n",
              "      <td>NaN</td>\n",
              "      <td>NaN</td>\n",
              "      <td>NaN</td>\n",
              "      <td>NaN</td>\n",
              "      <td>[]</td>\n",
              "      <td>3</td>\n",
              "    </tr>\n",
              "  </tbody>\n",
              "</table>\n",
              "</div>"
            ],
            "text/plain": [
              "                 data  ... mês\n",
              "0 2020-03-23 18:51:14  ...   3\n",
              "1 2020-04-01 21:11:07  ...   4\n",
              "2 2020-06-25 11:09:19  ...   6\n",
              "3 2020-04-06 15:44:36  ...   4\n",
              "4 2020-03-30 00:43:36  ...   3\n",
              "\n",
              "[5 rows x 14 columns]"
            ]
          },
          "metadata": {
            "tags": []
          },
          "execution_count": 64
        }
      ]
    },
    {
      "cell_type": "markdown",
      "metadata": {
        "id": "RQ6sJNp6xziC"
      },
      "source": [
        "##Usando a função \"Groupby\" e \"sum\" para visualizar o período de mais retweet na base \"duvidasDB\""
      ]
    },
    {
      "cell_type": "code",
      "metadata": {
        "id": "Khq5DjLflXRT",
        "outputId": "1ff0fb33-d899-48af-e229-721c3097c069",
        "colab": {
          "base_uri": "https://localhost:8080/",
          "height": 304
        }
      },
      "source": [
        "dfn.groupby(dfn['data'].dt.month)['retweet'].sum().plot.bar()\n",
        "#dfn.groupby([dfn['data'].dt.month, [['id']].count().rename(columns={'id': 'Total'})"
      ],
      "execution_count": 74,
      "outputs": [
        {
          "output_type": "execute_result",
          "data": {
            "text/plain": [
              "<matplotlib.axes._subplots.AxesSubplot at 0x7f70f14f6320>"
            ]
          },
          "metadata": {
            "tags": []
          },
          "execution_count": 74
        },
        {
          "output_type": "display_data",
          "data": {
            "image/png": "[encoded data removed]",
            "text/plain": [
              "<Figure size 432x288 with 1 Axes>"
            ]
          },
          "metadata": {
            "tags": [],
            "needs_background": "light"
          }
        }
      ]
    },
    {
      "cell_type": "markdown",
      "metadata": {
        "id": "Uh6DecW53FEH"
      },
      "source": [
        "### Informações dos temas discutidos\n",
        "\n",
        "* Doença\n",
        "* Medicamentos\n",
        "* Tratamentos\n",
        "* Pessoas"
      ]
    },
    {
      "cell_type": "code",
      "metadata": {
        "id": "7GE8UN-4Zx7I"
      },
      "source": [
        "# lista de palavras chaves para cada título\n",
        "\n",
        "doenca = ['covid', 'covid-19', 'covid19','coronavirus','covid_19','gripezinha','sars','epidemia', 'animais', 'transmissao', 'espiro', 'febre', 'pandemia', 'cvd', 'virus']\n",
        "medicamento = ['tratamento', 'remedio','cloroquina','hidroxicloroquina','vermictina','novalgina', 'dipirona', 'dexametasona', 'azitromicina', 'corticoides']\n",
        "organização = ['oms','stf','pt','pf','cnn','globo','cnnbrasil','ministério','banco','onubrasil','onu','anvisa']\n",
        "pessoa = ['jair', 'bolsonaro', 'jair bolsonaro', 'jairbolsonaro','presidente','bozo','bosonaro', 'bozonaro','mandetta','trump','lula','doria','haddad','gilmar mendes','osmar terra', 'ormarterra','ditadoria']"
      ],
      "execution_count": 23,
      "outputs": []
    },
    {
      "cell_type": "code",
      "metadata": {
        "id": "DyEeL6Fh3Pm0",
        "outputId": "f5e286b8-9ea0-445a-bcf0-8a36e46decb3",
        "colab": {
          "base_uri": "https://localhost:8080/",
          "height": 233
        }
      },
      "source": [
        "doencaDB = duvidasDB[duvidasDB['texto'].str.contains(('|').join(doenca))].copy()\n",
        "doencaDB.reset_index(drop=True, inplace=True)\n",
        "doencaDB['texto']"
      ],
      "execution_count": null,
      "outputs": [
        {
          "output_type": "execute_result",
          "data": {
            "text/plain": [
              "0        @bolsonarosp cade o fundao deputado??? congres...\n",
              "1        fumaca de cigarro pode propagar coronavirus? h...\n",
              "2        prioridade ?!\\n\\n #covid19 #floripa #isolament...\n",
              "3        @josemedeirosmt seria isso algum tipo aleatori...\n",
              "4        \"nova york e o novo epicentro da pandemia de c...\n",
              "                               ...                        \n",
              "87825    @acruz39 andas a fazer tratamentos ao coronavi...\n",
              "87826    @0n3p1ece @alexmono oh jumentinha, 1918 e isso...\n",
              "87827    @biologiabraba @tati_cordeiro so vontade ou vo...\n",
              "87828    oms: tamo tendo pandemia evitar\\n conglomerado...\n",
              "87829    @osmarterra sr. osmar terra, gostaria de ouvir...\n",
              "Name: texto, Length: 87830, dtype: object"
            ]
          },
          "metadata": {
            "tags": []
          },
          "execution_count": 37
        }
      ]
    },
    {
      "cell_type": "code",
      "metadata": {
        "id": "vxyzvbEBWph4",
        "outputId": "0613874e-d7af-4771-9bcb-6950c4b4a707",
        "colab": {
          "base_uri": "https://localhost:8080/",
          "height": 143
        }
      },
      "source": [
        "medicaDB = duvidasDB[duvidasDB['texto'].str.contains(('|').join(medicamento))].copy()\n",
        "medicaDB.reset_index(drop=True, inplace=True)\n",
        "medicaDB['texto'].loc[0:5]"
      ],
      "execution_count": null,
      "outputs": [
        {
          "output_type": "execute_result",
          "data": {
            "text/plain": [
              "0    @bbcbrasil @cavmota a pergunta que nao quer ca...\n",
              "1    problemas no paraiso da cloroquina? e essa tre...\n",
              "2    @veramagalhaes verba 792k,  fale sobre a cloro...\n",
              "3    @gilmarmendes ue ?! mas a cloroquina nao recom...\n",
              "4    sera que a renata vai tomar cloroquina william...\n",
              "5    @cnnbrasil so a cloroquina ja derruba os dois ...\n",
              "Name: texto, dtype: object"
            ]
          },
          "metadata": {
            "tags": []
          },
          "execution_count": 38
        }
      ]
    },
    {
      "cell_type": "code",
      "metadata": {
        "id": "g1RxTth7Xd2K",
        "outputId": "1b46164c-a049-45b0-91f6-6d88001c8a41",
        "colab": {
          "base_uri": "https://localhost:8080/",
          "height": 35
        }
      },
      "source": [
        "pessoaDB = duvidasDB[duvidasDB['texto'].str.contains(('|').join(pessoa))].copy()\n",
        "pessoaDB.reset_index(drop=True, inplace=True)\n",
        "pessoaDB['texto'].loc[0]"
      ],
      "execution_count": 26,
      "outputs": [
        {
          "output_type": "execute_result",
          "data": {
            "application/vnd.google.colaboratory.intrinsic+json": {
              "type": "string"
            },
            "text/plain": [
              "'@bolsonarosp cade o fundao deputado??? congresso esta sentado em 3bi olhando a pandemia da janela.'"
            ]
          },
          "metadata": {
            "tags": []
          },
          "execution_count": 26
        }
      ]
    },
    {
      "cell_type": "code",
      "metadata": {
        "id": "hheVJ5mdYSc2",
        "outputId": "81914add-beaa-4f4e-9505-1ea87a1afb0f",
        "colab": {
          "base_uri": "https://localhost:8080/",
          "height": 233
        }
      },
      "source": [
        "orgDB = duvidasDB[duvidasDB['texto'].str.contains(('|').join(organização))].copy()\n",
        "orgDB.reset_index(drop=True, inplace=True)\n",
        "orgDB['texto']"
      ],
      "execution_count": null,
      "outputs": [
        {
          "output_type": "execute_result",
          "data": {
            "text/plain": [
              "0       que tal uma noticia boa, indo na contramao do ...\n",
              "1       @janainadobrasil a sra pode de ir   catar coqu...\n",
              "2       @gilmarmendes ue ?! mas a cloroquina nao recom...\n",
              "3       sera que a renata vai tomar cloroquina william...\n",
              "4       @amorimvivian_ giiiiii ??? ta se cuidando dire...\n",
              "                              ...                        \n",
              "9642    @katiaabreu mas voce vai da cloroquina pra teu...\n",
              "9643    #grandedebatecnn tiago anastacio, falou q falt...\n",
              "9644    adivinhem a casa de quem que ta cheia de paren...\n",
              "9645    @zugrs mas a oms nao tem um protocolo mundial ...\n",
              "9646    oms: tamo tendo pandemia evitar\\n conglomerado...\n",
              "Name: texto, Length: 9647, dtype: object"
            ]
          },
          "metadata": {
            "tags": []
          },
          "execution_count": 31
        }
      ]
    },
    {
      "cell_type": "markdown",
      "metadata": {
        "id": "QcRKT4NJPsxK"
      },
      "source": [
        "### Analisando o texto"
      ]
    },
    {
      "cell_type": "code",
      "metadata": {
        "id": "ZO5mtH46P6U1",
        "outputId": "e3a96c34-f87f-4684-d33a-5d502c9bb460",
        "colab": {
          "base_uri": "https://localhost:8080/",
          "height": 221
        }
      },
      "source": [
        "textos = df['texto']\n",
        "print (textos)"
      ],
      "execution_count": null,
      "outputs": [
        {
          "output_type": "stream",
          "text": [
            "0          @BolsonaroSP Cade o fundão deputado??? Congres...\n",
            "1          Em ação preventiva, o Governo do Estado suspen...\n",
            "2          Incrível como os defensores do fim do distanci...\n",
            "3          Fumaça de cigarro pode propagar coronavírus? h...\n",
            "4          🚨Todos juntos contra COVID-19💪\\n\\nSolicite seu...\n",
            "                                 ...                        \n",
            "1658820    oms: tamo tendo pandemia evitar\\n conglomerado...\n",
            "1658821    @OsmarTerra Sr. Osmar Terra, gostaria de ouvir...\n",
            "1658822    CIENTISTA DE HARVARD PREVÊ QUE ATÉ 70% DO MUND...\n",
            "1658823    #BolsonaroTemRazaoSim porque, quando a prefeit...\n",
            "1658824    Em meio a uma pandemia, estamos na luta também...\n",
            "Name: texto, Length: 1658825, dtype: object\n"
          ],
          "name": "stdout"
        }
      ]
    },
    {
      "cell_type": "markdown",
      "metadata": {
        "id": "2A0ctJtFQBTx"
      },
      "source": [
        "###Quebrando o texto em palavras"
      ]
    },
    {
      "cell_type": "code",
      "metadata": {
        "id": "lZg9psr4jlRj",
        "outputId": "f5bd61de-ee50-423a-c59b-4ecc2a04ff67",
        "colab": {
          "base_uri": "https://localhost:8080/",
          "height": 221
        }
      },
      "source": [
        "texto_quebra = textos.str.split()\n",
        "print (texto_quebra)"
      ],
      "execution_count": null,
      "outputs": [
        {
          "output_type": "stream",
          "text": [
            "0          [@BolsonaroSP, Cade, o, fundão, deputado???, C...\n",
            "1          [Em, ação, preventiva,, o, Governo, do, Estado...\n",
            "2          [Incrível, como, os, defensores, do, fim, do, ...\n",
            "3          [Fumaça, de, cigarro, pode, propagar, coronaví...\n",
            "4          [🚨Todos, juntos, contra, COVID-19💪, Solicite, ...\n",
            "                                 ...                        \n",
            "1658820    [oms:, tamo, tendo, pandemia, evitar, conglome...\n",
            "1658821    [@OsmarTerra, Sr., Osmar, Terra,, gostaria, de...\n",
            "1658822    [CIENTISTA, DE, HARVARD, PREVÊ, QUE, ATÉ, 70%,...\n",
            "1658823    [#BolsonaroTemRazaoSim, porque,, quando, a, pr...\n",
            "1658824    [Em, meio, a, uma, pandemia,, estamos, na, lut...\n",
            "Name: texto, Length: 1658825, dtype: object\n"
          ],
          "name": "stdout"
        }
      ]
    },
    {
      "cell_type": "markdown",
      "metadata": {
        "id": "JAunwNAdxNQF"
      },
      "source": [
        "###Analisando o primeiro indice "
      ]
    },
    {
      "cell_type": "code",
      "metadata": {
        "id": "kvpo3Ogiwve5",
        "outputId": "c2473af5-0171-4423-a4a6-e210260be634",
        "colab": {
          "base_uri": "https://localhost:8080/",
          "height": 54
        }
      },
      "source": [
        "print (texto_quebra[0])"
      ],
      "execution_count": null,
      "outputs": [
        {
          "output_type": "stream",
          "text": [
            "['@BolsonaroSP', 'Cade', 'o', 'fundão', 'deputado???', 'Congresso', 'está', 'sentado', 'em', '3BI', 'olhando', 'a', 'pandemia', 'da', 'janela.']\n"
          ],
          "name": "stdout"
        }
      ]
    },
    {
      "cell_type": "markdown",
      "metadata": {
        "id": "7bMUloZKSv1T"
      },
      "source": [
        "Contando a quantidade de palavras do primeiro indice"
      ]
    },
    {
      "cell_type": "code",
      "metadata": {
        "id": "kepcJL6C0Hzp",
        "outputId": "883f8741-87bc-4b0c-cc09-6069ecedb08d",
        "colab": {
          "base_uri": "https://localhost:8080/",
          "height": 34
        }
      },
      "source": [
        "len(texto_quebra[0])"
      ],
      "execution_count": null,
      "outputs": [
        {
          "output_type": "execute_result",
          "data": {
            "text/plain": [
              "15"
            ]
          },
          "metadata": {
            "tags": []
          },
          "execution_count": 23
        }
      ]
    },
    {
      "cell_type": "code",
      "metadata": {
        "id": "1tLosXu43npS",
        "outputId": "9738ff2e-9868-4883-d128-03ac1121fa6a",
        "colab": {
          "base_uri": "https://localhost:8080/",
          "height": 51
        }
      },
      "source": [
        "data = df.texto\n",
        "print (data[0])\n",
        "inicio = data[0].find('?')\n",
        "print (inicio)\n",
        "#fim = data[0].find('', inicio)\n",
        "#print (fim)\n",
        "#host = data[inicio +1 : fim]\n",
        "#print (host)"
      ],
      "execution_count": null,
      "outputs": [
        {
          "output_type": "stream",
          "text": [
            "@BolsonaroSP Cade o fundão deputado??? Congresso está sentado em 3BI olhando a pandemia da janela.\n",
            "35\n"
          ],
          "name": "stdout"
        }
      ]
    },
    {
      "cell_type": "markdown",
      "metadata": {
        "id": "3wvD3J_neaPZ"
      },
      "source": [
        "###Percorrendo os elementos da Lista "
      ]
    },
    {
      "cell_type": "code",
      "metadata": {
        "id": "vAtwSSnDXCJU"
      },
      "source": [
        "palavras = df.texto\n",
        "i = 0\n",
        "while i < len(palavras):\n",
        "  print (palavras[i])\n",
        "  i = i + 1\n"
      ],
      "execution_count": null,
      "outputs": []
    },
    {
      "cell_type": "markdown",
      "metadata": {
        "id": "fnehLi2f0iIT"
      },
      "source": [
        "###Usando a função enumerate para visualizar o conjunto de palavras"
      ]
    },
    {
      "cell_type": "code",
      "metadata": {
        "id": "Oe5FczXffOoB"
      },
      "source": [
        "for cont in enumerate(texto_quebra): \n",
        "  print (cont)"
      ],
      "execution_count": null,
      "outputs": []
    }
  ]
}