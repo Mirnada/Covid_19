{
  "nbformat": 4,
  "nbformat_minor": 0,
  "metadata": {
    "colab": {
      "name": "Covid_19.ipynb",
      "provenance": [],
      "include_colab_link": true
    },
    "kernelspec": {
      "name": "python3",
      "display_name": "Python 3"
    }
  },
  "cells": [
    {
      "cell_type": "markdown",
      "metadata": {
        "id": "view-in-github",
        "colab_type": "text"
      },
      "source": [
        "<a href=\"https://colab.research.google.com/github/Mirnada/Covid_19/blob/master/Covid_19.ipynb\" target=\"_parent\"><img src=\"https://colab.research.google.com/assets/colab-badge.svg\" alt=\"Open In Colab\"/></a>"
      ]
    },
    {
      "cell_type": "markdown",
      "metadata": {
        "id": "7cL7fmW2aCE_"
      },
      "source": [
        "# Análise dos dados do Covid_19\n"
      ]
    },
    {
      "cell_type": "markdown",
      "metadata": {
        "id": "Az3vruND0jVI"
      },
      "source": [
        "## Montando o Drive"
      ]
    },
    {
      "cell_type": "code",
      "metadata": {
        "id": "CtXBSRhf0mt-",
        "outputId": "f890c62b-ca8a-49f2-ada5-3b2b42361681",
        "colab": {
          "base_uri": "https://localhost:8080/"
        }
      },
      "source": [
        "from google.colab import drive\n",
        "\n",
        "drive.mount('/content/drive')"
      ],
      "execution_count": 116,
      "outputs": [
        {
          "output_type": "stream",
          "text": [
            "Drive already mounted at /content/drive; to attempt to forcibly remount, call drive.mount(\"/content/drive\", force_remount=True).\n"
          ],
          "name": "stdout"
        }
      ]
    },
    {
      "cell_type": "markdown",
      "metadata": {
        "id": "E4leXC2ps27j"
      },
      "source": [
        "## Importando bibliotecas"
      ]
    },
    {
      "cell_type": "code",
      "metadata": {
        "id": "mlTix7VotEkL"
      },
      "source": [
        "import pandas as pd\n",
        "from unicodedata import normalize\n",
        "import matplotlib.pyplot as plt\n",
        "%matplotlib inline\n",
        "\n",
        "df = pd.read_csv('/content/drive/My Drive/Datasets/dados-curso-completo.csv')"
      ],
      "execution_count": 2,
      "outputs": []
    },
    {
      "cell_type": "markdown",
      "metadata": {
        "id": "9KYsUh3YhIz3"
      },
      "source": [
        "## Dataset original - Estatísticas"
      ]
    },
    {
      "cell_type": "markdown",
      "metadata": {
        "id": "crTmK5fuN_Yz"
      },
      "source": [
        "### Informações gerias do dataset"
      ]
    },
    {
      "cell_type": "code",
      "metadata": {
        "id": "Ne1FJRpzOIXD",
        "outputId": "dce61936-7eca-4efd-b2d0-eb749607813b",
        "colab": {
          "base_uri": "https://localhost:8080/",
          "height": 529
        }
      },
      "source": [
        "df.head(10)"
      ],
      "execution_count": 3,
      "outputs": [
        {
          "output_type": "execute_result",
          "data": {
            "text/html": [
              "<div>\n",
              "<style scoped>\n",
              "    .dataframe tbody tr th:only-of-type {\n",
              "        vertical-align: middle;\n",
              "    }\n",
              "\n",
              "    .dataframe tbody tr th {\n",
              "        vertical-align: top;\n",
              "    }\n",
              "\n",
              "    .dataframe thead th {\n",
              "        text-align: right;\n",
              "    }\n",
              "</style>\n",
              "<table border=\"1\" class=\"dataframe\">\n",
              "  <thead>\n",
              "    <tr style=\"text-align: right;\">\n",
              "      <th></th>\n",
              "      <th>data</th>\n",
              "      <th>usuario</th>\n",
              "      <th>apelido</th>\n",
              "      <th>texto</th>\n",
              "      <th>retweet</th>\n",
              "      <th>seguidores</th>\n",
              "      <th>idioma</th>\n",
              "      <th>lugar</th>\n",
              "      <th>pais</th>\n",
              "      <th>sigla</th>\n",
              "      <th>latitude</th>\n",
              "      <th>longitude</th>\n",
              "      <th>hashtags</th>\n",
              "    </tr>\n",
              "  </thead>\n",
              "  <tbody>\n",
              "    <tr>\n",
              "      <th>0</th>\n",
              "      <td>2020-03-23 18:51:14</td>\n",
              "      <td>Gaboardi</td>\n",
              "      <td>fraslee</td>\n",
              "      <td>@BolsonaroSP Cade o fundão deputado??? Congres...</td>\n",
              "      <td>0</td>\n",
              "      <td>138</td>\n",
              "      <td>pt</td>\n",
              "      <td>NaN</td>\n",
              "      <td>NaN</td>\n",
              "      <td>NaN</td>\n",
              "      <td>NaN</td>\n",
              "      <td>NaN</td>\n",
              "      <td>[]</td>\n",
              "    </tr>\n",
              "    <tr>\n",
              "      <th>1</th>\n",
              "      <td>2020-03-18 03:18:14</td>\n",
              "      <td>Seu Zé da Farmácia</td>\n",
              "      <td>seuzedafarmacia</td>\n",
              "      <td>Em ação preventiva, o Governo do Estado suspen...</td>\n",
              "      <td>0</td>\n",
              "      <td>56</td>\n",
              "      <td>pt</td>\n",
              "      <td>NaN</td>\n",
              "      <td>NaN</td>\n",
              "      <td>NaN</td>\n",
              "      <td>NaN</td>\n",
              "      <td>NaN</td>\n",
              "      <td>[]</td>\n",
              "    </tr>\n",
              "    <tr>\n",
              "      <th>2</th>\n",
              "      <td>2020-03-29 12:09:27</td>\n",
              "      <td>Marília Oliveira 🇧🇷</td>\n",
              "      <td>Marioliveira_gb</td>\n",
              "      <td>Incrível como os defensores do fim do distanci...</td>\n",
              "      <td>0</td>\n",
              "      <td>5</td>\n",
              "      <td>pt</td>\n",
              "      <td>NaN</td>\n",
              "      <td>NaN</td>\n",
              "      <td>NaN</td>\n",
              "      <td>NaN</td>\n",
              "      <td>NaN</td>\n",
              "      <td>[]</td>\n",
              "    </tr>\n",
              "    <tr>\n",
              "      <th>3</th>\n",
              "      <td>2020-04-01 21:11:07</td>\n",
              "      <td>🚩</td>\n",
              "      <td>santosodeto</td>\n",
              "      <td>Fumaça de cigarro pode propagar coronavírus? h...</td>\n",
              "      <td>0</td>\n",
              "      <td>1885</td>\n",
              "      <td>pt</td>\n",
              "      <td>NaN</td>\n",
              "      <td>NaN</td>\n",
              "      <td>NaN</td>\n",
              "      <td>NaN</td>\n",
              "      <td>NaN</td>\n",
              "      <td>[]</td>\n",
              "    </tr>\n",
              "    <tr>\n",
              "      <th>4</th>\n",
              "      <td>2020-03-19 17:49:40</td>\n",
              "      <td>Nova Impressão</td>\n",
              "      <td>novaimpressao_</td>\n",
              "      <td>🚨Todos juntos contra COVID-19💪\\n\\nSolicite seu...</td>\n",
              "      <td>0</td>\n",
              "      <td>124</td>\n",
              "      <td>pt</td>\n",
              "      <td>Brasília</td>\n",
              "      <td>Brazil</td>\n",
              "      <td>BR</td>\n",
              "      <td>-47.8778</td>\n",
              "      <td>-15.77691</td>\n",
              "      <td>[]</td>\n",
              "    </tr>\n",
              "    <tr>\n",
              "      <th>5</th>\n",
              "      <td>2020-05-08 11:21:36</td>\n",
              "      <td>Marcel Silvano</td>\n",
              "      <td>marcelsilvano</td>\n",
              "      <td>Importantes avanços! A pesquisa brasileira, a ...</td>\n",
              "      <td>4</td>\n",
              "      <td>2769</td>\n",
              "      <td>pt</td>\n",
              "      <td>Macaé</td>\n",
              "      <td>Brazil</td>\n",
              "      <td>BR</td>\n",
              "      <td>NaN</td>\n",
              "      <td>NaN</td>\n",
              "      <td>[]</td>\n",
              "    </tr>\n",
              "    <tr>\n",
              "      <th>6</th>\n",
              "      <td>2020-03-10 21:27:40</td>\n",
              "      <td>Teixeira Correia</td>\n",
              "      <td>LidadorNoticias</td>\n",
              "      <td>(Última hora) Volta ao Alentejo: Anulada por c...</td>\n",
              "      <td>0</td>\n",
              "      <td>39</td>\n",
              "      <td>pt</td>\n",
              "      <td>NaN</td>\n",
              "      <td>NaN</td>\n",
              "      <td>NaN</td>\n",
              "      <td>NaN</td>\n",
              "      <td>NaN</td>\n",
              "      <td>[]</td>\n",
              "    </tr>\n",
              "    <tr>\n",
              "      <th>7</th>\n",
              "      <td>2020-06-04 13:22:21</td>\n",
              "      <td>Thiago Moraes</td>\n",
              "      <td>ThiagoMoraesPB</td>\n",
              "      <td>João Pessoa tem queda no isolamento social por...</td>\n",
              "      <td>1</td>\n",
              "      <td>3578</td>\n",
              "      <td>pt</td>\n",
              "      <td>NaN</td>\n",
              "      <td>NaN</td>\n",
              "      <td>NaN</td>\n",
              "      <td>NaN</td>\n",
              "      <td>NaN</td>\n",
              "      <td>[]</td>\n",
              "    </tr>\n",
              "    <tr>\n",
              "      <th>8</th>\n",
              "      <td>2020-05-07 21:32:12</td>\n",
              "      <td>PT Brasil</td>\n",
              "      <td>ptbrasil</td>\n",
              "      <td>A #tvPT de hoje vai falar sobre a pandemia na ...</td>\n",
              "      <td>10</td>\n",
              "      <td>942696</td>\n",
              "      <td>pt</td>\n",
              "      <td>NaN</td>\n",
              "      <td>NaN</td>\n",
              "      <td>NaN</td>\n",
              "      <td>NaN</td>\n",
              "      <td>NaN</td>\n",
              "      <td>['tvPT']</td>\n",
              "    </tr>\n",
              "    <tr>\n",
              "      <th>9</th>\n",
              "      <td>2020-03-11 20:27:49</td>\n",
              "      <td>Niquito ;)</td>\n",
              "      <td>NLazaroto</td>\n",
              "      <td>O Coronavirús causou uma pandemia e eu ainda n...</td>\n",
              "      <td>0</td>\n",
              "      <td>215</td>\n",
              "      <td>pt</td>\n",
              "      <td>NaN</td>\n",
              "      <td>NaN</td>\n",
              "      <td>NaN</td>\n",
              "      <td>NaN</td>\n",
              "      <td>NaN</td>\n",
              "      <td>[]</td>\n",
              "    </tr>\n",
              "  </tbody>\n",
              "</table>\n",
              "</div>"
            ],
            "text/plain": [
              "                  data              usuario  ... longitude  hashtags\n",
              "0  2020-03-23 18:51:14             Gaboardi  ...       NaN        []\n",
              "1  2020-03-18 03:18:14   Seu Zé da Farmácia  ...       NaN        []\n",
              "2  2020-03-29 12:09:27  Marília Oliveira 🇧🇷  ...       NaN        []\n",
              "3  2020-04-01 21:11:07                    🚩  ...       NaN        []\n",
              "4  2020-03-19 17:49:40       Nova Impressão  ... -15.77691        []\n",
              "5  2020-05-08 11:21:36       Marcel Silvano  ...       NaN        []\n",
              "6  2020-03-10 21:27:40     Teixeira Correia  ...       NaN        []\n",
              "7  2020-06-04 13:22:21        Thiago Moraes  ...       NaN        []\n",
              "8  2020-05-07 21:32:12            PT Brasil  ...       NaN  ['tvPT']\n",
              "9  2020-03-11 20:27:49           Niquito ;)  ...       NaN        []\n",
              "\n",
              "[10 rows x 13 columns]"
            ]
          },
          "metadata": {
            "tags": []
          },
          "execution_count": 3
        }
      ]
    },
    {
      "cell_type": "code",
      "metadata": {
        "id": "JzrVqnjaNxib",
        "outputId": "601e5020-e576-4e8b-a269-e6d2b80205e2",
        "colab": {
          "base_uri": "https://localhost:8080/",
          "height": 357
        }
      },
      "source": [
        "# informações gereias\n",
        "df.info()"
      ],
      "execution_count": null,
      "outputs": [
        {
          "output_type": "stream",
          "text": [
            "<class 'pandas.core.frame.DataFrame'>\n",
            "RangeIndex: 1658825 entries, 0 to 1658824\n",
            "Data columns (total 13 columns):\n",
            " #   Column      Non-Null Count    Dtype  \n",
            "---  ------      --------------    -----  \n",
            " 0   data        1658825 non-null  object \n",
            " 1   usuario     1658768 non-null  object \n",
            " 2   apelido     1658825 non-null  object \n",
            " 3   texto       1658825 non-null  object \n",
            " 4   retweet     1658825 non-null  int64  \n",
            " 5   seguidores  1658825 non-null  int64  \n",
            " 6   idioma      1658825 non-null  object \n",
            " 7   lugar       74605 non-null    object \n",
            " 8   pais        74600 non-null    object \n",
            " 9   sigla       74595 non-null    object \n",
            " 10  latitude    8720 non-null     float64\n",
            " 11  longitude   8720 non-null     float64\n",
            " 12  hashtags    1658825 non-null  object \n",
            "dtypes: float64(2), int64(2), object(9)\n",
            "memory usage: 164.5+ MB\n"
          ],
          "name": "stdout"
        }
      ]
    },
    {
      "cell_type": "markdown",
      "metadata": {
        "id": "Azjnzzfuhazr"
      },
      "source": [
        "* data: data do tweet do usuário\n",
        "* usuario: nome do usuario\n",
        "* apelido: apelido do usuário\n",
        "* texto: texto publicado pelo usuário\n",
        "* retweet: quantidade de vezes que o tweet foi replicado\n",
        "* seguidores: quantidade de seguidores do usuário\n",
        "* idioma: idioma do usuário\n",
        "* lugar: lugar do usuário na publicação\n",
        "* pais: país do usuário na publicação\n",
        "* sigla: sigla do Estado do usuário\n",
        "* latitude: posição geogŕafica do usuário \n",
        "* longitude: posição geográfica do usuário"
      ]
    },
    {
      "cell_type": "code",
      "metadata": {
        "id": "D8x3VqOICfIQ",
        "outputId": "745f9965-bdaa-4292-8f6d-389342d86503",
        "colab": {
          "base_uri": "https://localhost:8080/",
          "height": 255
        }
      },
      "source": [
        "# quantidade de valores nulos\n",
        "df.isnull().sum()"
      ],
      "execution_count": null,
      "outputs": [
        {
          "output_type": "execute_result",
          "data": {
            "text/plain": [
              "data                0\n",
              "usuario            57\n",
              "apelido             0\n",
              "texto               0\n",
              "retweet             0\n",
              "seguidores          0\n",
              "idioma              0\n",
              "lugar         1584220\n",
              "pais          1584225\n",
              "sigla         1584230\n",
              "latitude      1650105\n",
              "longitude     1650105\n",
              "hashtags            0\n",
              "dtype: int64"
            ]
          },
          "metadata": {
            "tags": []
          },
          "execution_count": 9
        }
      ]
    },
    {
      "cell_type": "markdown",
      "metadata": {
        "id": "0ZS8756gPPef"
      },
      "source": [
        "### Analisando os dados numericos"
      ]
    },
    {
      "cell_type": "code",
      "metadata": {
        "id": "ks5b5w8hPYL_",
        "outputId": "790e0540-6370-4f8d-9afe-17c275876709",
        "colab": {
          "base_uri": "https://localhost:8080/",
          "height": 173
        }
      },
      "source": [
        "df.describe().transpose()"
      ],
      "execution_count": null,
      "outputs": [
        {
          "output_type": "execute_result",
          "data": {
            "text/html": [
              "<div>\n",
              "<style scoped>\n",
              "    .dataframe tbody tr th:only-of-type {\n",
              "        vertical-align: middle;\n",
              "    }\n",
              "\n",
              "    .dataframe tbody tr th {\n",
              "        vertical-align: top;\n",
              "    }\n",
              "\n",
              "    .dataframe thead th {\n",
              "        text-align: right;\n",
              "    }\n",
              "</style>\n",
              "<table border=\"1\" class=\"dataframe\">\n",
              "  <thead>\n",
              "    <tr style=\"text-align: right;\">\n",
              "      <th></th>\n",
              "      <th>count</th>\n",
              "      <th>mean</th>\n",
              "      <th>std</th>\n",
              "      <th>min</th>\n",
              "      <th>25%</th>\n",
              "      <th>50%</th>\n",
              "      <th>75%</th>\n",
              "      <th>max</th>\n",
              "    </tr>\n",
              "  </thead>\n",
              "  <tbody>\n",
              "    <tr>\n",
              "      <th>retweet</th>\n",
              "      <td>1658825.0</td>\n",
              "      <td>197.853299</td>\n",
              "      <td>6337.641384</td>\n",
              "      <td>0.000000</td>\n",
              "      <td>0.000000</td>\n",
              "      <td>0.000000</td>\n",
              "      <td>0.000000</td>\n",
              "      <td>1.139763e+06</td>\n",
              "    </tr>\n",
              "    <tr>\n",
              "      <th>seguidores</th>\n",
              "      <td>1658825.0</td>\n",
              "      <td>32572.055193</td>\n",
              "      <td>368029.985029</td>\n",
              "      <td>0.000000</td>\n",
              "      <td>101.000000</td>\n",
              "      <td>380.000000</td>\n",
              "      <td>1470.000000</td>\n",
              "      <td>8.424125e+07</td>\n",
              "    </tr>\n",
              "    <tr>\n",
              "      <th>latitude</th>\n",
              "      <td>8720.0</td>\n",
              "      <td>-40.237583</td>\n",
              "      <td>20.808494</td>\n",
              "      <td>-123.120400</td>\n",
              "      <td>-47.864334</td>\n",
              "      <td>-43.955615</td>\n",
              "      <td>-38.453198</td>\n",
              "      <td>1.747893e+02</td>\n",
              "    </tr>\n",
              "    <tr>\n",
              "      <th>longitude</th>\n",
              "      <td>8720.0</td>\n",
              "      <td>-11.117100</td>\n",
              "      <td>19.169105</td>\n",
              "      <td>-37.818769</td>\n",
              "      <td>-23.305300</td>\n",
              "      <td>-19.624400</td>\n",
              "      <td>-7.120700</td>\n",
              "      <td>5.825778e+01</td>\n",
              "    </tr>\n",
              "  </tbody>\n",
              "</table>\n",
              "</div>"
            ],
            "text/plain": [
              "                count          mean  ...          75%           max\n",
              "retweet     1658825.0    197.853299  ...     0.000000  1.139763e+06\n",
              "seguidores  1658825.0  32572.055193  ...  1470.000000  8.424125e+07\n",
              "latitude       8720.0    -40.237583  ...   -38.453198  1.747893e+02\n",
              "longitude      8720.0    -11.117100  ...    -7.120700  5.825778e+01\n",
              "\n",
              "[4 rows x 8 columns]"
            ]
          },
          "metadata": {
            "tags": []
          },
          "execution_count": 3
        }
      ]
    },
    {
      "cell_type": "markdown",
      "metadata": {
        "id": "5S2c_rnwsVRS"
      },
      "source": [
        "Ao gerar alguns dados estatísticos, podemos notar:\n",
        "\n",
        "* a variável *retweet* tem como valor máximo 1139763, isso quer dizer que uma publicação específica foi replicada mais de 1 milhão de vezes, assim como a variável *seguidores* nos mostra que um determinado usuário possui aproximadamente 8,5 milhões de seguidores \n",
        "\n",
        "* as colunas *retweet* e *seguidores* possui uma grande discrepância em sua distribuição de frequencia. Em *retweet*, todos os valores estão acima do 3º quartil, indicando que 75% dos valores são iguais a zero.\n"
      ]
    },
    {
      "cell_type": "markdown",
      "metadata": {
        "id": "oWGrmMDTPZW3"
      },
      "source": [
        "### Analisando os dados categóricos"
      ]
    },
    {
      "cell_type": "code",
      "metadata": {
        "id": "FF5AYG0hPrNn",
        "outputId": "81d01786-2ea0-47d4-ccfb-9f22e158048e",
        "colab": {
          "base_uri": "https://localhost:8080/",
          "height": 221
        }
      },
      "source": [
        "# Quantidade de tweets por páis\n",
        "df['sigla'].value_counts()"
      ],
      "execution_count": null,
      "outputs": [
        {
          "output_type": "execute_result",
          "data": {
            "text/plain": [
              "BR    67247\n",
              "PT     2675\n",
              "US     1068\n",
              "IT      484\n",
              "ES      379\n",
              "      ...  \n",
              "KR        1\n",
              "AD        1\n",
              "MC        1\n",
              "SI        1\n",
              "GF        1\n",
              "Name: sigla, Length: 120, dtype: int64"
            ]
          },
          "metadata": {
            "tags": []
          },
          "execution_count": 17
        }
      ]
    },
    {
      "cell_type": "markdown",
      "metadata": {
        "id": "Ty1kolG68o2s"
      },
      "source": [
        "Aproximadamente 90% dos dados são do Brasil\n",
        "\n",
        "*Obs: apenas os dados que contem a sigla do país"
      ]
    },
    {
      "cell_type": "code",
      "metadata": {
        "id": "l1nTwaFr3EYv",
        "outputId": "9944921d-b221-483e-e22c-0a5795b33717",
        "colab": {
          "base_uri": "https://localhost:8080/",
          "height": 34
        }
      },
      "source": [
        "# proporção dos tweets do Brasil\n",
        "(df['sigla'].value_counts()['BR']/df['sigla'].value_counts().sum())*100"
      ],
      "execution_count": null,
      "outputs": [
        {
          "output_type": "execute_result",
          "data": {
            "text/plain": [
              "90.14947382532341"
            ]
          },
          "metadata": {
            "tags": []
          },
          "execution_count": 18
        }
      ]
    },
    {
      "cell_type": "markdown",
      "metadata": {
        "id": "l74X1sd59Mjd"
      },
      "source": [
        "## Dataset DuvidasDB"
      ]
    },
    {
      "cell_type": "code",
      "metadata": {
        "id": "-xDmk9L79qBv",
        "outputId": "6df689d3-8d69-4b77-e599-2d652d128971",
        "colab": {
          "base_uri": "https://localhost:8080/",
          "height": 306
        }
      },
      "source": [
        "duvidasDB = df[df['texto'].str.contains('?', regex=False)].copy()\n",
        "\n",
        "# resetando o indice do dataset\n",
        "duvidasDB.reset_index(drop=True, inplace=True)\n",
        "# todas as letras convertidas para minúsculas\n",
        "duvidasDB['texto'] = duvidasDB.texto.str.lower()\n",
        "# retirada dos carecteres acentuadas por seus respectivos carecteres sem acento\n",
        "duvidasDB['texto'] = duvidasDB.texto.apply(lambda txt: normalize('NFKD', txt).encode('ASCII','ignore').decode('ASCII'))\n",
        "# Convertendo o tipo do campo data em datetime\n",
        "duvidasDB['data'] = pd.to_datetime(duvidasDB['data'])\n",
        "# Ordenando os tweets por data\n",
        "duvidasDB.sort_values('data', inplace=True)\n",
        "# resetando os indixes\n",
        "duvidasDB.reset_index(drop=True, inplace=True)\n",
        "\n",
        "duvidasDB.head()"
      ],
      "execution_count": 4,
      "outputs": [
        {
          "output_type": "execute_result",
          "data": {
            "text/html": [
              "<div>\n",
              "<style scoped>\n",
              "    .dataframe tbody tr th:only-of-type {\n",
              "        vertical-align: middle;\n",
              "    }\n",
              "\n",
              "    .dataframe tbody tr th {\n",
              "        vertical-align: top;\n",
              "    }\n",
              "\n",
              "    .dataframe thead th {\n",
              "        text-align: right;\n",
              "    }\n",
              "</style>\n",
              "<table border=\"1\" class=\"dataframe\">\n",
              "  <thead>\n",
              "    <tr style=\"text-align: right;\">\n",
              "      <th></th>\n",
              "      <th>data</th>\n",
              "      <th>usuario</th>\n",
              "      <th>apelido</th>\n",
              "      <th>texto</th>\n",
              "      <th>retweet</th>\n",
              "      <th>seguidores</th>\n",
              "      <th>idioma</th>\n",
              "      <th>lugar</th>\n",
              "      <th>pais</th>\n",
              "      <th>sigla</th>\n",
              "      <th>latitude</th>\n",
              "      <th>longitude</th>\n",
              "      <th>hashtags</th>\n",
              "    </tr>\n",
              "  </thead>\n",
              "  <tbody>\n",
              "    <tr>\n",
              "      <th>0</th>\n",
              "      <td>2020-01-01 23:44:49</td>\n",
              "      <td>Furacão da CCCP ☭</td>\n",
              "      <td>Dalestee13PT</td>\n",
              "      <td>@isabela_camren @__bitchcoin__ cortaram da cam...</td>\n",
              "      <td>0</td>\n",
              "      <td>1228</td>\n",
              "      <td>pt</td>\n",
              "      <td>NaN</td>\n",
              "      <td>NaN</td>\n",
              "      <td>NaN</td>\n",
              "      <td>NaN</td>\n",
              "      <td>NaN</td>\n",
              "      <td>[]</td>\n",
              "    </tr>\n",
              "    <tr>\n",
              "      <th>1</th>\n",
              "      <td>2020-01-02 00:13:49</td>\n",
              "      <td>Teresa SM</td>\n",
              "      <td>bazert</td>\n",
              "      <td>o tamiflu nao e aquela coisa para a gripe a? u...</td>\n",
              "      <td>0</td>\n",
              "      <td>7456</td>\n",
              "      <td>pt</td>\n",
              "      <td>NaN</td>\n",
              "      <td>NaN</td>\n",
              "      <td>NaN</td>\n",
              "      <td>NaN</td>\n",
              "      <td>NaN</td>\n",
              "      <td>[]</td>\n",
              "    </tr>\n",
              "    <tr>\n",
              "      <th>2</th>\n",
              "      <td>2020-01-02 01:33:38</td>\n",
              "      <td>Manu, mas não a Gavassi</td>\n",
              "      <td>pringless_</td>\n",
              "      <td>@willpelicari mas como foi o processo? ele tev...</td>\n",
              "      <td>0</td>\n",
              "      <td>264</td>\n",
              "      <td>pt</td>\n",
              "      <td>NaN</td>\n",
              "      <td>NaN</td>\n",
              "      <td>NaN</td>\n",
              "      <td>NaN</td>\n",
              "      <td>NaN</td>\n",
              "      <td>[]</td>\n",
              "    </tr>\n",
              "    <tr>\n",
              "      <th>3</th>\n",
              "      <td>2020-01-02 14:14:02</td>\n",
              "      <td>CorollaVírus.exe</td>\n",
              "      <td>CoronaVirus_exe</td>\n",
              "      <td>@senadofederal nao gostaria de fazer parte? fo...</td>\n",
              "      <td>0</td>\n",
              "      <td>68</td>\n",
              "      <td>pt</td>\n",
              "      <td>NaN</td>\n",
              "      <td>NaN</td>\n",
              "      <td>NaN</td>\n",
              "      <td>NaN</td>\n",
              "      <td>NaN</td>\n",
              "      <td>[]</td>\n",
              "    </tr>\n",
              "    <tr>\n",
              "      <th>4</th>\n",
              "      <td>2020-01-02 16:32:53</td>\n",
              "      <td>Matheus Serdeira 🇦🇹</td>\n",
              "      <td>MathSerdeira11</td>\n",
              "      <td>brasileirao\\n\\nsera que vai acabar a quarenten...</td>\n",
              "      <td>0</td>\n",
              "      <td>4562</td>\n",
              "      <td>pt</td>\n",
              "      <td>NaN</td>\n",
              "      <td>NaN</td>\n",
              "      <td>NaN</td>\n",
              "      <td>NaN</td>\n",
              "      <td>NaN</td>\n",
              "      <td>[]</td>\n",
              "    </tr>\n",
              "  </tbody>\n",
              "</table>\n",
              "</div>"
            ],
            "text/plain": [
              "                 data                  usuario  ... longitude hashtags\n",
              "0 2020-01-01 23:44:49        Furacão da CCCP ☭  ...       NaN       []\n",
              "1 2020-01-02 00:13:49                Teresa SM  ...       NaN       []\n",
              "2 2020-01-02 01:33:38  Manu, mas não a Gavassi  ...       NaN       []\n",
              "3 2020-01-02 14:14:02         CorollaVírus.exe  ...       NaN       []\n",
              "4 2020-01-02 16:32:53      Matheus Serdeira 🇦🇹  ...       NaN       []\n",
              "\n",
              "[5 rows x 13 columns]"
            ]
          },
          "metadata": {
            "tags": []
          },
          "execution_count": 4
        }
      ]
    },
    {
      "cell_type": "code",
      "metadata": {
        "id": "JmBvwKeZRvcn",
        "outputId": "2c60579b-f5f5-44e6-ec02-69fc47bac785",
        "colab": {
          "base_uri": "https://localhost:8080/"
        }
      },
      "source": [
        "# nao podemos colocar a data como indice pois existem data iguais\n",
        "duvidasDB.data.duplicated().any()"
      ],
      "execution_count": null,
      "outputs": [
        {
          "output_type": "execute_result",
          "data": {
            "text/plain": [
              "True"
            ]
          },
          "metadata": {
            "tags": []
          },
          "execution_count": 151
        }
      ]
    },
    {
      "cell_type": "markdown",
      "metadata": {
        "id": "6wPqUBJS6JEJ"
      },
      "source": [
        "### Visão Geral dos Dados"
      ]
    },
    {
      "cell_type": "code",
      "metadata": {
        "id": "DP0FRlioy7dg",
        "outputId": "60ef6bde-bf7a-4fa4-b853-699a57b3bfcc",
        "colab": {
          "base_uri": "https://localhost:8080/",
          "height": 173
        }
      },
      "source": [
        "duvidasDB.describe().transpose()"
      ],
      "execution_count": null,
      "outputs": [
        {
          "output_type": "execute_result",
          "data": {
            "text/html": [
              "<div>\n",
              "<style scoped>\n",
              "    .dataframe tbody tr th:only-of-type {\n",
              "        vertical-align: middle;\n",
              "    }\n",
              "\n",
              "    .dataframe tbody tr th {\n",
              "        vertical-align: top;\n",
              "    }\n",
              "\n",
              "    .dataframe thead th {\n",
              "        text-align: right;\n",
              "    }\n",
              "</style>\n",
              "<table border=\"1\" class=\"dataframe\">\n",
              "  <thead>\n",
              "    <tr style=\"text-align: right;\">\n",
              "      <th></th>\n",
              "      <th>count</th>\n",
              "      <th>mean</th>\n",
              "      <th>std</th>\n",
              "      <th>min</th>\n",
              "      <th>25%</th>\n",
              "      <th>50%</th>\n",
              "      <th>75%</th>\n",
              "      <th>max</th>\n",
              "    </tr>\n",
              "  </thead>\n",
              "  <tbody>\n",
              "    <tr>\n",
              "      <th>retweet</th>\n",
              "      <td>172501.0</td>\n",
              "      <td>123.877137</td>\n",
              "      <td>4714.103506</td>\n",
              "      <td>0.000000</td>\n",
              "      <td>0.000000</td>\n",
              "      <td>0.000000</td>\n",
              "      <td>0.000000</td>\n",
              "      <td>6.165690e+05</td>\n",
              "    </tr>\n",
              "    <tr>\n",
              "      <th>seguidores</th>\n",
              "      <td>172501.0</td>\n",
              "      <td>12244.941235</td>\n",
              "      <td>227150.310261</td>\n",
              "      <td>0.000000</td>\n",
              "      <td>78.000000</td>\n",
              "      <td>296.000000</td>\n",
              "      <td>1020.000000</td>\n",
              "      <td>1.310412e+07</td>\n",
              "    </tr>\n",
              "    <tr>\n",
              "      <th>latitude</th>\n",
              "      <td>594.0</td>\n",
              "      <td>-42.739200</td>\n",
              "      <td>16.340911</td>\n",
              "      <td>-118.291855</td>\n",
              "      <td>-48.190162</td>\n",
              "      <td>-45.280150</td>\n",
              "      <td>-38.634174</td>\n",
              "      <td>1.516286e+02</td>\n",
              "    </tr>\n",
              "    <tr>\n",
              "      <th>longitude</th>\n",
              "      <td>594.0</td>\n",
              "      <td>-14.001684</td>\n",
              "      <td>16.266415</td>\n",
              "      <td>-34.823600</td>\n",
              "      <td>-23.498240</td>\n",
              "      <td>-20.451828</td>\n",
              "      <td>-8.060902</td>\n",
              "      <td>5.288644e+01</td>\n",
              "    </tr>\n",
              "  </tbody>\n",
              "</table>\n",
              "</div>"
            ],
            "text/plain": [
              "               count          mean  ...          75%           max\n",
              "retweet     172501.0    123.877137  ...     0.000000  6.165690e+05\n",
              "seguidores  172501.0  12244.941235  ...  1020.000000  1.310412e+07\n",
              "latitude       594.0    -42.739200  ...   -38.634174  1.516286e+02\n",
              "longitude      594.0    -14.001684  ...    -8.060902  5.288644e+01\n",
              "\n",
              "[4 rows x 8 columns]"
            ]
          },
          "metadata": {
            "tags": []
          },
          "execution_count": 154
        }
      ]
    },
    {
      "cell_type": "markdown",
      "metadata": {
        "id": "CoIxCBbGEzz0"
      },
      "source": [
        "Ao gerar alguns dados estatísticos, podemos notar as mesmas características do dataset original:\n",
        "\n",
        "* a variável *retweet* tem como valor máximo 616569, isso quer dizer que uma publicação específica foi replicada mais de 0,5 milhão de vezes, assim como a variável *seguidores* nos mostra que um determinado usuário possui aproximadamente 1,3 milhão de seguidores \n",
        "\n",
        "* as colunas *retweet* e *seguidores* possui uma grande discrepância em sua distribuição de frequencia. Em *retweet*, todos os valores estão acima do 3º quartil, indicando que 75% dos valores são iguais a zero.\n"
      ]
    },
    {
      "cell_type": "code",
      "metadata": {
        "id": "RfpgxVySVf1C",
        "outputId": "2ecebd7b-0990-45c7-b4a2-797e34d485d8",
        "colab": {
          "base_uri": "https://localhost:8080/"
        }
      },
      "source": [
        "duvidasDB.info()"
      ],
      "execution_count": null,
      "outputs": [
        {
          "output_type": "stream",
          "text": [
            "<class 'pandas.core.frame.DataFrame'>\n",
            "RangeIndex: 172501 entries, 0 to 172500\n",
            "Data columns (total 13 columns):\n",
            " #   Column      Non-Null Count   Dtype         \n",
            "---  ------      --------------   -----         \n",
            " 0   data        172501 non-null  datetime64[ns]\n",
            " 1   usuario     172495 non-null  object        \n",
            " 2   apelido     172501 non-null  object        \n",
            " 3   texto       172501 non-null  object        \n",
            " 4   retweet     172501 non-null  int64         \n",
            " 5   seguidores  172501 non-null  int64         \n",
            " 6   idioma      172501 non-null  object        \n",
            " 7   lugar       7829 non-null    object        \n",
            " 8   pais        7829 non-null    object        \n",
            " 9   sigla       7829 non-null    object        \n",
            " 10  latitude    594 non-null     float64       \n",
            " 11  longitude   594 non-null     float64       \n",
            " 12  hashtags    172501 non-null  object        \n",
            "dtypes: datetime64[ns](1), float64(2), int64(2), object(8)\n",
            "memory usage: 17.1+ MB\n"
          ],
          "name": "stdout"
        }
      ]
    },
    {
      "cell_type": "code",
      "metadata": {
        "id": "kUdohheP71pU",
        "outputId": "3935a7d7-732f-4547-8286-34cfb9dd2d24",
        "colab": {
          "base_uri": "https://localhost:8080/",
          "height": 255
        }
      },
      "source": [
        "#Contagem de dados ausentes\n",
        "duvidasDB.isnull().sum()"
      ],
      "execution_count": null,
      "outputs": [
        {
          "output_type": "execute_result",
          "data": {
            "text/plain": [
              "data               0\n",
              "usuario            6\n",
              "apelido            0\n",
              "texto              0\n",
              "retweet            0\n",
              "seguidores         0\n",
              "idioma             0\n",
              "lugar         164672\n",
              "pais          164672\n",
              "sigla         164672\n",
              "latitude      171907\n",
              "longitude     171907\n",
              "hashtags           0\n",
              "dtype: int64"
            ]
          },
          "metadata": {
            "tags": []
          },
          "execution_count": 14
        }
      ]
    },
    {
      "cell_type": "code",
      "metadata": {
        "id": "mLfXDkcX3S-o",
        "outputId": "d970adf5-0964-4081-cae6-368c021ec3fa",
        "colab": {
          "base_uri": "https://localhost:8080/"
        }
      },
      "source": [
        "# Total por pais\n",
        "duvidasDB.pais.value_counts()"
      ],
      "execution_count": null,
      "outputs": [
        {
          "output_type": "execute_result",
          "data": {
            "text/plain": [
              "Brazil                        7148\n",
              "Portugal                       243\n",
              "United States                  101\n",
              "Italy                           45\n",
              "United Kingdom                  42\n",
              "Spain                           34\n",
              "France                          23\n",
              "Canada                          22\n",
              "Republic of Mozambique          21\n",
              "Argentina                       17\n",
              "Ireland                         12\n",
              "Japan                            8\n",
              "Angola                           8\n",
              "Colombia                         6\n",
              "Chile                            6\n",
              "Germany                          5\n",
              "Switzerland                      5\n",
              "Belgium                          5\n",
              "Peru                             4\n",
              "New Zealand                      4\n",
              "Bahrain                          4\n",
              "India                            4\n",
              "Australia                        4\n",
              "Nigeria                          4\n",
              "South Africa                     3\n",
              "Uruguay                          3\n",
              "The Netherlands                  3\n",
              "Austria                          3\n",
              "People's Republic of China       3\n",
              "Egypt                            2\n",
              "Sweden                           2\n",
              "Romania                          2\n",
              "Mexico                           2\n",
              "Cape Verde                       2\n",
              "Turkey                           2\n",
              "Venezuela                        2\n",
              "Paraguay                         2\n",
              "Kingdom of Saudi Arabia          2\n",
              "Trinidad and Tobago              1\n",
              "Sri Lanka                        1\n",
              "Ghana                            1\n",
              "Armenia                          1\n",
              "Cuba                             1\n",
              "Monaco                           1\n",
              "Denmark                          1\n",
              "United Arab Emirates             1\n",
              "Bolivia                          1\n",
              "Pakistan                         1\n",
              "Poland                           1\n",
              "Malaysia                         1\n",
              "Morocco                          1\n",
              "Guadeloupe                       1\n",
              "Indonesia                        1\n",
              "Kazakhstan                       1\n",
              "Luxembourg                       1\n",
              "Dominican Republic               1\n",
              "Norway                           1\n",
              "Taiwan                           1\n",
              "Israel                           1\n",
              "Name: pais, dtype: int64"
            ]
          },
          "metadata": {
            "tags": []
          },
          "execution_count": 81
        }
      ]
    },
    {
      "cell_type": "markdown",
      "metadata": {
        "id": "Xw0FQ5w8E9JR"
      },
      "source": [
        "Assim como no dataset original, o Brasil continua sendo o país do qual se tem mais registros"
      ]
    },
    {
      "cell_type": "code",
      "metadata": {
        "id": "OC3mgAk9E6Vx",
        "outputId": "29a02395-26d6-465e-cde2-653839b8ee26",
        "colab": {
          "base_uri": "https://localhost:8080/"
        }
      },
      "source": [
        "(duvidasDB['pais'].value_counts()['Brazil']/duvidasDB['pais'].value_counts().sum())*100"
      ],
      "execution_count": null,
      "outputs": [
        {
          "output_type": "execute_result",
          "data": {
            "text/plain": [
              "91.30157108187508"
            ]
          },
          "metadata": {
            "tags": []
          },
          "execution_count": 82
        }
      ]
    },
    {
      "cell_type": "code",
      "metadata": {
        "id": "bFBLlfitpI_f"
      },
      "source": [
        "month = {1:'Janeiro', 2:'Fevereiro', 3:'Março', 4:'Abril', 5:'Maio', 6:'Junho'}"
      ],
      "execution_count": 45,
      "outputs": []
    },
    {
      "cell_type": "code",
      "metadata": {
        "id": "oMxbqVXIJBmi",
        "outputId": "039f3788-d489-47a6-9bbc-cf9c74f21a13",
        "colab": {
          "base_uri": "https://localhost:8080/",
          "height": 295
        }
      },
      "source": [
        "# perído de mais tweets\n",
        "tweetMonth = duvidasDB.groupby(duvidasDB['data'].dt.month)['texto'].count()\n",
        "\n",
        "plt.title('Número de tweets por mês')\n",
        "plt.xlabel('Mês')\n",
        "plt.ylabel('Quantidade de tweets')\n",
        "plt.plot([month[index] for index in tweetMonth.index],tweetMonth.values)\n",
        "plt.show()"
      ],
      "execution_count": 46,
      "outputs": [
        {
          "output_type": "display_data",
          "data": {
            "image/png": "[encoded data removed]",
            "text/plain": [
              "<Figure size 432x288 with 1 Axes>"
            ]
          },
          "metadata": {
            "tags": [],
            "needs_background": "light"
          }
        }
      ]
    },
    {
      "cell_type": "code",
      "metadata": {
        "id": "qOb1m6nEWjmc",
        "outputId": "8ff59181-a268-4921-a246-9ad8c76c45af",
        "colab": {
          "base_uri": "https://localhost:8080/",
          "height": 251
        }
      },
      "source": [
        "fig, ax = plt.subplots()\n",
        "ax.pie(tweetMonth.values, labels=[month[index] for index in tweetMonth.index], autopct='%1.1f%%')\n",
        "ax.axis('equal')\n",
        "plt.show()"
      ],
      "execution_count": null,
      "outputs": [
        {
          "output_type": "display_data",
          "data": {
            "image/png": "[encoded data removed]",
            "text/plain": [
              "<Figure size 432x288 with 1 Axes>"
            ]
          },
          "metadata": {
            "tags": []
          }
        }
      ]
    },
    {
      "cell_type": "code",
      "metadata": {
        "id": "8H6tBW4qHqQF",
        "outputId": "cad562e8-26aa-464d-bfdf-862a20edfc9a",
        "colab": {
          "base_uri": "https://localhost:8080/",
          "height": 313
        }
      },
      "source": [
        "# período de mais retweets\n",
        "retweetMonth = duvidasDB.groupby(duvidasDB['data'].dt.month)['retweet'].sum()\n",
        "\n",
        "plt.title('Número de retweets por mês')\n",
        "plt.xlabel('Mês')\n",
        "plt.ylabel('Quantidade de retweet')\n",
        "plt.plot([month[index] for index in retweetMonth.index],retweetMonth.values)"
      ],
      "execution_count": 47,
      "outputs": [
        {
          "output_type": "execute_result",
          "data": {
            "text/plain": [
              "[<matplotlib.lines.Line2D at 0x7f391c785f28>]"
            ]
          },
          "metadata": {
            "tags": []
          },
          "execution_count": 47
        },
        {
          "output_type": "display_data",
          "data": {
            "image/png": "[encoded data removed]",
            "text/plain": [
              "<Figure size 432x288 with 1 Axes>"
            ]
          },
          "metadata": {
            "tags": [],
            "needs_background": "light"
          }
        }
      ]
    },
    {
      "cell_type": "code",
      "metadata": {
        "id": "lcnaV5bzymeQ",
        "outputId": "2ef627bd-474a-4a05-c0ad-bed66ed02f63",
        "colab": {
          "base_uri": "https://localhost:8080/",
          "height": 450
        }
      },
      "source": [
        "# Media de retweet e seguidores por lugar \n",
        "duvidasDB.groupby(['lugar']).agg({'pais' : 'count', 'retweet' : 'mean', 'seguidores' : 'mean'}).sort_values(by=['retweet'], ascending=False)"
      ],
      "execution_count": 9,
      "outputs": [
        {
          "output_type": "execute_result",
          "data": {
            "text/html": [
              "<div>\n",
              "<style scoped>\n",
              "    .dataframe tbody tr th:only-of-type {\n",
              "        vertical-align: middle;\n",
              "    }\n",
              "\n",
              "    .dataframe tbody tr th {\n",
              "        vertical-align: top;\n",
              "    }\n",
              "\n",
              "    .dataframe thead th {\n",
              "        text-align: right;\n",
              "    }\n",
              "</style>\n",
              "<table border=\"1\" class=\"dataframe\">\n",
              "  <thead>\n",
              "    <tr style=\"text-align: right;\">\n",
              "      <th></th>\n",
              "      <th>pais</th>\n",
              "      <th>retweet</th>\n",
              "      <th>seguidores</th>\n",
              "    </tr>\n",
              "    <tr>\n",
              "      <th>lugar</th>\n",
              "      <th></th>\n",
              "      <th></th>\n",
              "      <th></th>\n",
              "    </tr>\n",
              "  </thead>\n",
              "  <tbody>\n",
              "    <tr>\n",
              "      <th>Vila Nova de Gaia</th>\n",
              "      <td>9</td>\n",
              "      <td>658.666667</td>\n",
              "      <td>882.222222</td>\n",
              "    </tr>\n",
              "    <tr>\n",
              "      <th>Peñalolén</th>\n",
              "      <td>1</td>\n",
              "      <td>239.000000</td>\n",
              "      <td>3576.000000</td>\n",
              "    </tr>\n",
              "    <tr>\n",
              "      <th>Tanguá</th>\n",
              "      <td>1</td>\n",
              "      <td>132.000000</td>\n",
              "      <td>10967.000000</td>\n",
              "    </tr>\n",
              "    <tr>\n",
              "      <th>Mata de São João</th>\n",
              "      <td>1</td>\n",
              "      <td>115.000000</td>\n",
              "      <td>64652.000000</td>\n",
              "    </tr>\n",
              "    <tr>\n",
              "      <th>Cruz das Almas</th>\n",
              "      <td>1</td>\n",
              "      <td>101.000000</td>\n",
              "      <td>295.000000</td>\n",
              "    </tr>\n",
              "    <tr>\n",
              "      <th>...</th>\n",
              "      <td>...</td>\n",
              "      <td>...</td>\n",
              "      <td>...</td>\n",
              "    </tr>\n",
              "    <tr>\n",
              "      <th>Ibateguara</th>\n",
              "      <td>1</td>\n",
              "      <td>0.000000</td>\n",
              "      <td>254.000000</td>\n",
              "    </tr>\n",
              "    <tr>\n",
              "      <th>Ibirama</th>\n",
              "      <td>2</td>\n",
              "      <td>0.000000</td>\n",
              "      <td>833.500000</td>\n",
              "    </tr>\n",
              "    <tr>\n",
              "      <th>Ibiraçu</th>\n",
              "      <td>1</td>\n",
              "      <td>0.000000</td>\n",
              "      <td>436.000000</td>\n",
              "    </tr>\n",
              "    <tr>\n",
              "      <th>Ibiúna</th>\n",
              "      <td>2</td>\n",
              "      <td>0.000000</td>\n",
              "      <td>481.500000</td>\n",
              "    </tr>\n",
              "    <tr>\n",
              "      <th>İstanbul</th>\n",
              "      <td>1</td>\n",
              "      <td>0.000000</td>\n",
              "      <td>5.000000</td>\n",
              "    </tr>\n",
              "  </tbody>\n",
              "</table>\n",
              "<p>1285 rows × 3 columns</p>\n",
              "</div>"
            ],
            "text/plain": [
              "                   pais     retweet    seguidores\n",
              "lugar                                            \n",
              "Vila Nova de Gaia     9  658.666667    882.222222\n",
              "Peñalolén             1  239.000000   3576.000000\n",
              "Tanguá                1  132.000000  10967.000000\n",
              "Mata de São João      1  115.000000  64652.000000\n",
              "Cruz das Almas        1  101.000000    295.000000\n",
              "...                 ...         ...           ...\n",
              "Ibateguara            1    0.000000    254.000000\n",
              "Ibirama               2    0.000000    833.500000\n",
              "Ibiraçu               1    0.000000    436.000000\n",
              "Ibiúna                2    0.000000    481.500000\n",
              "İstanbul              1    0.000000      5.000000\n",
              "\n",
              "[1285 rows x 3 columns]"
            ]
          },
          "metadata": {
            "tags": []
          },
          "execution_count": 9
        }
      ]
    },
    {
      "cell_type": "code",
      "metadata": {
        "id": "GpxrUHmonds9",
        "outputId": "b523b116-5d60-4800-814c-674a487677d3",
        "colab": {
          "base_uri": "https://localhost:8080/",
          "height": 450
        }
      },
      "source": [
        "#Lugar com maior media de retweet e seguidores\n",
        "duvidasDB.groupby(['lugar']).agg({'pais' : 'count', 'retweet' : 'mean', 'seguidores' : 'mean'}).sort_values(by=['retweet'], ascending=False)"
      ],
      "execution_count": 6,
      "outputs": [
        {
          "output_type": "execute_result",
          "data": {
            "text/html": [
              "<div>\n",
              "<style scoped>\n",
              "    .dataframe tbody tr th:only-of-type {\n",
              "        vertical-align: middle;\n",
              "    }\n",
              "\n",
              "    .dataframe tbody tr th {\n",
              "        vertical-align: top;\n",
              "    }\n",
              "\n",
              "    .dataframe thead th {\n",
              "        text-align: right;\n",
              "    }\n",
              "</style>\n",
              "<table border=\"1\" class=\"dataframe\">\n",
              "  <thead>\n",
              "    <tr style=\"text-align: right;\">\n",
              "      <th></th>\n",
              "      <th>pais</th>\n",
              "      <th>retweet</th>\n",
              "      <th>seguidores</th>\n",
              "    </tr>\n",
              "    <tr>\n",
              "      <th>lugar</th>\n",
              "      <th></th>\n",
              "      <th></th>\n",
              "      <th></th>\n",
              "    </tr>\n",
              "  </thead>\n",
              "  <tbody>\n",
              "    <tr>\n",
              "      <th>Vila Nova de Gaia</th>\n",
              "      <td>9</td>\n",
              "      <td>658.666667</td>\n",
              "      <td>882.222222</td>\n",
              "    </tr>\n",
              "    <tr>\n",
              "      <th>Peñalolén</th>\n",
              "      <td>1</td>\n",
              "      <td>239.000000</td>\n",
              "      <td>3576.000000</td>\n",
              "    </tr>\n",
              "    <tr>\n",
              "      <th>Tanguá</th>\n",
              "      <td>1</td>\n",
              "      <td>132.000000</td>\n",
              "      <td>10967.000000</td>\n",
              "    </tr>\n",
              "    <tr>\n",
              "      <th>Mata de São João</th>\n",
              "      <td>1</td>\n",
              "      <td>115.000000</td>\n",
              "      <td>64652.000000</td>\n",
              "    </tr>\n",
              "    <tr>\n",
              "      <th>Cruz das Almas</th>\n",
              "      <td>1</td>\n",
              "      <td>101.000000</td>\n",
              "      <td>295.000000</td>\n",
              "    </tr>\n",
              "    <tr>\n",
              "      <th>...</th>\n",
              "      <td>...</td>\n",
              "      <td>...</td>\n",
              "      <td>...</td>\n",
              "    </tr>\n",
              "    <tr>\n",
              "      <th>Ibateguara</th>\n",
              "      <td>1</td>\n",
              "      <td>0.000000</td>\n",
              "      <td>254.000000</td>\n",
              "    </tr>\n",
              "    <tr>\n",
              "      <th>Ibirama</th>\n",
              "      <td>2</td>\n",
              "      <td>0.000000</td>\n",
              "      <td>833.500000</td>\n",
              "    </tr>\n",
              "    <tr>\n",
              "      <th>Ibiraçu</th>\n",
              "      <td>1</td>\n",
              "      <td>0.000000</td>\n",
              "      <td>436.000000</td>\n",
              "    </tr>\n",
              "    <tr>\n",
              "      <th>Ibiúna</th>\n",
              "      <td>2</td>\n",
              "      <td>0.000000</td>\n",
              "      <td>481.500000</td>\n",
              "    </tr>\n",
              "    <tr>\n",
              "      <th>İstanbul</th>\n",
              "      <td>1</td>\n",
              "      <td>0.000000</td>\n",
              "      <td>5.000000</td>\n",
              "    </tr>\n",
              "  </tbody>\n",
              "</table>\n",
              "<p>1285 rows × 3 columns</p>\n",
              "</div>"
            ],
            "text/plain": [
              "                   pais     retweet    seguidores\n",
              "lugar                                            \n",
              "Vila Nova de Gaia     9  658.666667    882.222222\n",
              "Peñalolén             1  239.000000   3576.000000\n",
              "Tanguá                1  132.000000  10967.000000\n",
              "Mata de São João      1  115.000000  64652.000000\n",
              "Cruz das Almas        1  101.000000    295.000000\n",
              "...                 ...         ...           ...\n",
              "Ibateguara            1    0.000000    254.000000\n",
              "Ibirama               2    0.000000    833.500000\n",
              "Ibiraçu               1    0.000000    436.000000\n",
              "Ibiúna                2    0.000000    481.500000\n",
              "İstanbul              1    0.000000      5.000000\n",
              "\n",
              "[1285 rows x 3 columns]"
            ]
          },
          "metadata": {
            "tags": []
          },
          "execution_count": 6
        }
      ]
    },
    {
      "cell_type": "markdown",
      "metadata": {
        "id": "Uh6DecW53FEH"
      },
      "source": [
        "### Informações dos temas discutidos\n",
        "* Doença\n",
        "* Medicamentos\n",
        "* Tratamentos\n",
        "* Pessoas\n",
        "\n",
        "OBS: inserir imagem de como montamos os 4 datasets"
      ]
    },
    {
      "cell_type": "code",
      "metadata": {
        "id": "7GE8UN-4Zx7I"
      },
      "source": [
        "# lista de palavras chaves para cada título\n",
        "\n",
        "doenca = ['covid', 'covid-19', 'covid19','coronavirus','covid_19','gripezinha','sars','epidemia', 'animais', 'transmissao', 'espiro', 'febre', 'pandemia', 'cvd', 'virus']\n",
        "medicamento = ['azitromicina', 'tratamento', 'remedio','cloroquina','hidroxicloroquina','vermictina','novalgina', 'dipirona', 'dexametasona', 'azitromicina', 'corticoides']\n",
        "organizacaoo = ['oms','stf','pt','pf','cnn','globo','cnnbrasil','ministério','banco','onubrasil','onu','anvisa']\n",
        "pessoa = ['jair', 'bolsonaro', 'jair bolsonaro', 'jairbolsonaro','presidente','bozo','bosonaro', 'bozonaro','mandetta','trump','lula','doria','haddad','osmar terra', 'osmarterra']"
      ],
      "execution_count": 12,
      "outputs": []
    },
    {
      "cell_type": "code",
      "metadata": {
        "id": "DyEeL6Fh3Pm0",
        "outputId": "cdccef70-09ab-4848-98e0-1bf5867e87bc",
        "colab": {
          "base_uri": "https://localhost:8080/",
          "height": 233
        }
      },
      "source": [
        "# dataset Doença\n",
        "doencaDB = duvidasDB[duvidasDB['texto'].str.contains(('|').join(doenca))].copy()\n",
        "doencaDB['texto']"
      ],
      "execution_count": 13,
      "outputs": [
        {
          "output_type": "execute_result",
          "data": {
            "text/plain": [
              "1         o tamiflu nao e aquela coisa para a gripe a? u...\n",
              "27          @sehvnstuff h1n1? e gerar uma fucking pandemia?\n",
              "30             por que sera que pandemia parou de grafitar?\n",
              "39        isto ja se tornou epidemia ou pandemia? https:...\n",
              "43             @chumeltorres la que?? nacademia o pandemia?\n",
              "                                ...                        \n",
              "172379    gente que censura descarada e essa do @youtube...\n",
              "172404    meninas, a tpm e menstruacao de vcs ta afetand...\n",
              "172419    a chance de eu pegar covid19 e maior a noite d...\n",
              "172445    a hidroxicloroquina e a ivermectina sao excele...\n",
              "172497    @marcelo69220190 @pedroernestors que coisa fei...\n",
              "Name: texto, Length: 87728, dtype: object"
            ]
          },
          "metadata": {
            "tags": []
          },
          "execution_count": 13
        }
      ]
    },
    {
      "cell_type": "code",
      "metadata": {
        "id": "vxyzvbEBWph4",
        "outputId": "b32a4ae9-12a6-4bd3-a1ea-7e3d3903d8d3",
        "colab": {
          "base_uri": "https://localhost:8080/",
          "height": 233
        }
      },
      "source": [
        "# dataset Medicamento\n",
        "medicDB = duvidasDB[duvidasDB['texto'].str.contains(('|').join(medicamento))].copy()\n",
        "medicDB['texto']"
      ],
      "execution_count": 14,
      "outputs": [
        {
          "output_type": "execute_result",
          "data": {
            "text/plain": [
              "38        @tecnotrapta @ricksterzzzuk @alliancelgb @phay...\n",
              "50        @legalizaura e o azitromicina? se for ele ta e...\n",
              "52        porra todos oa efeitos colaterais da azitromic...\n",
              "54        e ai sao pedro que patifaria e essa meu parcer...\n",
              "55        @_hellenlessa1 7 dias ne? azitromicina faz efe...\n",
              "                                ...                        \n",
              "172426              e a cloroquina? https://t.co/uy8xpvue2p\n",
              "172427                   e o moro? morreu?\\ne a cloroquina?\n",
              "172440           @falarafha cloroquina com cuscuz. que tal?\n",
              "172442    @plrobertojr ??????????????????????????? kkkkk...\n",
              "172445    a hidroxicloroquina e a ivermectina sao excele...\n",
              "Name: texto, Length: 24361, dtype: object"
            ]
          },
          "metadata": {
            "tags": []
          },
          "execution_count": 14
        }
      ]
    },
    {
      "cell_type": "code",
      "metadata": {
        "id": "g1RxTth7Xd2K",
        "outputId": "180d3b7a-7ea6-4428-8be6-ef099a197427",
        "colab": {
          "base_uri": "https://localhost:8080/",
          "height": 233
        }
      },
      "source": [
        "# dataset Organização a partir dos datasets Doença e Medicamentos\n",
        "orgDB_a = doencaDB[doencaDB['texto'].str.contains(('|').join(organizacaoo))].copy()\n",
        "\n",
        "orgDB_b = medicDB[medicDB['texto'].str.contains(('|').join(organizacaoo))].copy()\n",
        "\n",
        "# concatenação dos dois sub-datasets retirando os registros duplicados\n",
        "orgDB = pd.concat([orgDB_a, orgDB_b]).drop_duplicates()\n",
        "orgDB['texto']"
      ],
      "execution_count": 24,
      "outputs": [
        {
          "output_type": "execute_result",
          "data": {
            "text/plain": [
              "128       coronavirus. que virus e este que esta a deixa...\n",
              "129       coronavirus. que virus e este que esta a deixa...\n",
              "133       epidemia por virus nao conhecido esta se espal...\n",
              "235       virus misterioso faz oms convocar reuniao de e...\n",
              "267       a nova pandemia (?), meu pai\\n\\n\"coronavirus t...\n",
              "                                ...                        \n",
              "171388    @jornaloglobo com certeza foi a cloroquina que...\n",
              "171426    agora vai ficar de quarentena passando remedio...\n",
              "171925    entenderam porque a oms e mandemtta falam que ...\n",
              "172064    @elianadigiacomo @jornalnacional a globo emiss...\n",
              "172273    @bolsonarosp @cnnbrasil por que a gente e que ...\n",
              "Name: texto, Length: 5965, dtype: object"
            ]
          },
          "metadata": {
            "tags": []
          },
          "execution_count": 24
        }
      ]
    },
    {
      "cell_type": "code",
      "metadata": {
        "id": "hheVJ5mdYSc2",
        "outputId": "c971f7a9-1174-41a9-ddc1-913c9e4a2ac0",
        "colab": {
          "base_uri": "https://localhost:8080/",
          "height": 233
        }
      },
      "source": [
        "# dataset Pessoas a partir dos datasets Doença e Medicamentos\n",
        "pessoaDB_a = doencaDB[doencaDB['texto'].str.contains(('|').join(pessoa))].copy()\n",
        "\n",
        "pessoaDB_b = medicDB[medicDB['texto'].str.contains(('|').join(pessoa))].copy()\n",
        "\n",
        "# concatenação dos dois sub-datasets retirando os registros duplicados\n",
        "pessoaDB = pd.concat([pessoaDB_a, pessoaDB_b]).drop_duplicates()\n",
        "pessoaDB['texto']"
      ],
      "execution_count": 16,
      "outputs": [
        {
          "output_type": "execute_result",
          "data": {
            "text/plain": [
              "380       o que o governo @jairbolsonaro ta fazendo pra ...\n",
              "385       @carlosbolsonaro @policiafederal @sf_moro carl...\n",
              "434       @lhmandetta ta esperando o corona virus  se di...\n",
              "477       https://t.co/j2n6wzuhir\\n@jairbolsonaro @minsa...\n",
              "511       sera? \\neua tem coronavirus sob controle, diz ...\n",
              "                                ...                        \n",
              "172103    \"o que presidente vai inaugurar? ele pode inau...\n",
              "172129    cade  cloroquina presidente?\\nsocorro...\\n@car...\n",
              "172273    @bolsonarosp @cnnbrasil por que a gente e que ...\n",
              "172312    @carlosbolsonaro ja tomou sua cloroquina hoje?...\n",
              "172386    alguem sabe que resultados foram obtidos pela ...\n",
              "Name: texto, Length: 14275, dtype: object"
            ]
          },
          "metadata": {
            "tags": []
          },
          "execution_count": 16
        }
      ]
    },
    {
      "cell_type": "code",
      "metadata": {
        "id": "RTBpAt-7f3Fz",
        "outputId": "9b8ccd92-fa8b-4b46-9337-9c9c531b5210",
        "colab": {
          "base_uri": "https://localhost:8080/",
          "height": 233
        }
      },
      "source": [
        "# concatenação dos dois sub-datasets retirando os registros duplicados\n",
        "covidDB = pd.concat([doencaDB, medicDB]).drop_duplicates()\n",
        "covidDB['texto']"
      ],
      "execution_count": 17,
      "outputs": [
        {
          "output_type": "execute_result",
          "data": {
            "text/plain": [
              "1         o tamiflu nao e aquela coisa para a gripe a? u...\n",
              "27          @sehvnstuff h1n1? e gerar uma fucking pandemia?\n",
              "30             por que sera que pandemia parou de grafitar?\n",
              "39        isto ja se tornou epidemia ou pandemia? https:...\n",
              "43             @chumeltorres la que?? nacademia o pandemia?\n",
              "                                ...                        \n",
              "172424    @wilsonwitzel mau carater!!! quantas vidas ser...\n",
              "172426              e a cloroquina? https://t.co/uy8xpvue2p\n",
              "172427                   e o moro? morreu?\\ne a cloroquina?\n",
              "172440           @falarafha cloroquina com cuscuz. que tal?\n",
              "172442    @plrobertojr ??????????????????????????? kkkkk...\n",
              "Name: texto, Length: 108787, dtype: object"
            ]
          },
          "metadata": {
            "tags": []
          },
          "execution_count": 17
        }
      ]
    },
    {
      "cell_type": "code",
      "metadata": {
        "id": "dtr8Kss3vO9k",
        "outputId": "43d3a5d2-9ee2-4f2e-8575-d53838296294",
        "colab": {
          "base_uri": "https://localhost:8080/",
          "height": 97
        }
      },
      "source": [
        "# Usuario mais influente\n",
        "covidDB[covidDB.seguidores == covidDB['seguidores'].max()]"
      ],
      "execution_count": 18,
      "outputs": [
        {
          "output_type": "execute_result",
          "data": {
            "text/html": [
              "<div>\n",
              "<style scoped>\n",
              "    .dataframe tbody tr th:only-of-type {\n",
              "        vertical-align: middle;\n",
              "    }\n",
              "\n",
              "    .dataframe tbody tr th {\n",
              "        vertical-align: top;\n",
              "    }\n",
              "\n",
              "    .dataframe thead th {\n",
              "        text-align: right;\n",
              "    }\n",
              "</style>\n",
              "<table border=\"1\" class=\"dataframe\">\n",
              "  <thead>\n",
              "    <tr style=\"text-align: right;\">\n",
              "      <th></th>\n",
              "      <th>data</th>\n",
              "      <th>usuario</th>\n",
              "      <th>apelido</th>\n",
              "      <th>texto</th>\n",
              "      <th>retweet</th>\n",
              "      <th>seguidores</th>\n",
              "      <th>idioma</th>\n",
              "      <th>lugar</th>\n",
              "      <th>pais</th>\n",
              "      <th>sigla</th>\n",
              "      <th>latitude</th>\n",
              "      <th>longitude</th>\n",
              "      <th>hashtags</th>\n",
              "    </tr>\n",
              "  </thead>\n",
              "  <tbody>\n",
              "    <tr>\n",
              "      <th>157484</th>\n",
              "      <td>2020-06-05 12:00:00</td>\n",
              "      <td>G1</td>\n",
              "      <td>g1</td>\n",
              "      <td>#oassunto - o que a ciencia ja sabe sobre o us...</td>\n",
              "      <td>4</td>\n",
              "      <td>11545512</td>\n",
              "      <td>pt</td>\n",
              "      <td>NaN</td>\n",
              "      <td>NaN</td>\n",
              "      <td>NaN</td>\n",
              "      <td>NaN</td>\n",
              "      <td>NaN</td>\n",
              "      <td>['OAssunto']</td>\n",
              "    </tr>\n",
              "  </tbody>\n",
              "</table>\n",
              "</div>"
            ],
            "text/plain": [
              "                      data usuario apelido  ... latitude  longitude      hashtags\n",
              "157484 2020-06-05 12:00:00      G1      g1  ...      NaN        NaN  ['OAssunto']\n",
              "\n",
              "[1 rows x 13 columns]"
            ]
          },
          "metadata": {
            "tags": []
          },
          "execution_count": 18
        }
      ]
    },
    {
      "cell_type": "code",
      "metadata": {
        "id": "fFsN0mTQvZ1p",
        "outputId": "67f47cba-94be-4315-d764-41f153958e38",
        "colab": {
          "base_uri": "https://localhost:8080/",
          "height": 97
        }
      },
      "source": [
        "# O Usuario com o texto mais retweet\n",
        "# esse vírus está na trilha de campanha de uma vida. reduzindo os preços das companhias aéreas e do gás? \n",
        "#   dando às pessoas licença remunerada do trabalho? fazendo ...\n",
        "covidDB[covidDB.retweet == covidDB['retweet'].max()]"
      ],
      "execution_count": 22,
      "outputs": [
        {
          "output_type": "execute_result",
          "data": {
            "text/html": [
              "<div>\n",
              "<style scoped>\n",
              "    .dataframe tbody tr th:only-of-type {\n",
              "        vertical-align: middle;\n",
              "    }\n",
              "\n",
              "    .dataframe tbody tr th {\n",
              "        vertical-align: top;\n",
              "    }\n",
              "\n",
              "    .dataframe thead th {\n",
              "        text-align: right;\n",
              "    }\n",
              "</style>\n",
              "<table border=\"1\" class=\"dataframe\">\n",
              "  <thead>\n",
              "    <tr style=\"text-align: right;\">\n",
              "      <th></th>\n",
              "      <th>data</th>\n",
              "      <th>usuario</th>\n",
              "      <th>apelido</th>\n",
              "      <th>texto</th>\n",
              "      <th>retweet</th>\n",
              "      <th>seguidores</th>\n",
              "      <th>idioma</th>\n",
              "      <th>lugar</th>\n",
              "      <th>pais</th>\n",
              "      <th>sigla</th>\n",
              "      <th>latitude</th>\n",
              "      <th>longitude</th>\n",
              "      <th>hashtags</th>\n",
              "    </tr>\n",
              "  </thead>\n",
              "  <tbody>\n",
              "    <tr>\n",
              "      <th>25453</th>\n",
              "      <td>2020-03-12 18:48:10</td>\n",
              "      <td>HARRY’</td>\n",
              "      <td>LastBornAdekoya</td>\n",
              "      <td>rt @ojenabosi: this virus is on the campaign t...</td>\n",
              "      <td>58744</td>\n",
              "      <td>2103</td>\n",
              "      <td>en</td>\n",
              "      <td>NaN</td>\n",
              "      <td>NaN</td>\n",
              "      <td>NaN</td>\n",
              "      <td>NaN</td>\n",
              "      <td>NaN</td>\n",
              "      <td>[]</td>\n",
              "    </tr>\n",
              "  </tbody>\n",
              "</table>\n",
              "</div>"
            ],
            "text/plain": [
              "                     data usuario  ... longitude hashtags\n",
              "25453 2020-03-12 18:48:10  HARRY’  ...       NaN       []\n",
              "\n",
              "[1 rows x 13 columns]"
            ]
          },
          "metadata": {
            "tags": []
          },
          "execution_count": 22
        }
      ]
    },
    {
      "cell_type": "code",
      "metadata": {
        "id": "DktiyqeAjx9j",
        "outputId": "95a57bda-775a-4762-8814-99b8df7d6018",
        "colab": {
          "base_uri": "https://localhost:8080/",
          "height": 295
        }
      },
      "source": [
        "# Comparativo entre a quantidade de tweets ao longo do semestre entre os tópicos abordado anteriormente\n",
        "plt.title('Número de tweets por mês')\n",
        "plt.xlabel('Mês')\n",
        "plt.ylabel('Quantidade de tweets')\n",
        "\n",
        "tweetMonthDoencaDB = doencaDB.groupby(doencaDB['data'].dt.month)['texto'].count()\n",
        "plt.plot(tweetMonthDoencaDB, color='r', label='Doença')\n",
        "\n",
        "tweetMonthMedicDB = medicDB.groupby(medicDB['data'].dt.month)['texto'].count()\n",
        "plt.plot(tweetMonthMedicDB, color='g', label='Medicamentos')\n",
        "\n",
        "tweetMonthPessoaDB = pessoaDB.groupby(pessoaDB['data'].dt.month)['texto'].count()\n",
        "plt.plot(tweetMonthPessoaDB, color='k', label='Pessoas')\n",
        "\n",
        "tweetMonthOrgDB =orgDB.groupby(orgDB['data'].dt.month)['texto'].count()\n",
        "plt.plot(tweetMonthOrgDB,color='y')\n",
        "\n",
        "plt.legend(['Doença','Medicamentos','Pessoas','Organizações'])\n",
        "plt.xticks(list(month.keys()), list(month.values()))\n",
        "plt.grid()\n",
        "plt.show()"
      ],
      "execution_count": 80,
      "outputs": [
        {
          "output_type": "display_data",
          "data": {
            "image/png": "[encoded data removed]",
            "text/plain": [
              "<Figure size 432x288 with 1 Axes>"
            ]
          },
          "metadata": {
            "tags": [],
            "needs_background": "light"
          }
        }
      ]
    },
    {
      "cell_type": "code",
      "metadata": {
        "id": "AohHcT6V53RK",
        "outputId": "54eae77f-4721-402a-b4e0-23bc49bac2cc",
        "colab": {
          "base_uri": "https://localhost:8080/",
          "height": 204
        }
      },
      "source": [
        "import plotly.graph_objects as go\n",
        "\n",
        "df = pd.read_csv('https://raw.githubusercontent.com/plotly/datasets/master/2011_february_us_airport_traffic.csv')\n",
        "df['text'] = df['airport'] + '' + df['city'] + ', ' + df['state'] + '' + 'Arrivals: ' + df['cnt'].astype(str)\n",
        "\n",
        "df.head()\n"
      ],
      "execution_count": null,
      "outputs": [
        {
          "output_type": "execute_result",
          "data": {
            "text/html": [
              "<div>\n",
              "<style scoped>\n",
              "    .dataframe tbody tr th:only-of-type {\n",
              "        vertical-align: middle;\n",
              "    }\n",
              "\n",
              "    .dataframe tbody tr th {\n",
              "        vertical-align: top;\n",
              "    }\n",
              "\n",
              "    .dataframe thead th {\n",
              "        text-align: right;\n",
              "    }\n",
              "</style>\n",
              "<table border=\"1\" class=\"dataframe\">\n",
              "  <thead>\n",
              "    <tr style=\"text-align: right;\">\n",
              "      <th></th>\n",
              "      <th>iata</th>\n",
              "      <th>airport</th>\n",
              "      <th>city</th>\n",
              "      <th>state</th>\n",
              "      <th>country</th>\n",
              "      <th>lat</th>\n",
              "      <th>long</th>\n",
              "      <th>cnt</th>\n",
              "      <th>text</th>\n",
              "    </tr>\n",
              "  </thead>\n",
              "  <tbody>\n",
              "    <tr>\n",
              "      <th>0</th>\n",
              "      <td>ORD</td>\n",
              "      <td>Chicago O'Hare International</td>\n",
              "      <td>Chicago</td>\n",
              "      <td>IL</td>\n",
              "      <td>USA</td>\n",
              "      <td>41.979595</td>\n",
              "      <td>-87.904464</td>\n",
              "      <td>25129</td>\n",
              "      <td>Chicago O'Hare InternationalChicago, ILArrival...</td>\n",
              "    </tr>\n",
              "    <tr>\n",
              "      <th>1</th>\n",
              "      <td>ATL</td>\n",
              "      <td>William B Hartsfield-Atlanta Intl</td>\n",
              "      <td>Atlanta</td>\n",
              "      <td>GA</td>\n",
              "      <td>USA</td>\n",
              "      <td>33.640444</td>\n",
              "      <td>-84.426944</td>\n",
              "      <td>21925</td>\n",
              "      <td>William B Hartsfield-Atlanta IntlAtlanta, GAAr...</td>\n",
              "    </tr>\n",
              "    <tr>\n",
              "      <th>2</th>\n",
              "      <td>DFW</td>\n",
              "      <td>Dallas-Fort Worth International</td>\n",
              "      <td>Dallas-Fort Worth</td>\n",
              "      <td>TX</td>\n",
              "      <td>USA</td>\n",
              "      <td>32.895951</td>\n",
              "      <td>-97.037200</td>\n",
              "      <td>20662</td>\n",
              "      <td>Dallas-Fort Worth InternationalDallas-Fort Wor...</td>\n",
              "    </tr>\n",
              "    <tr>\n",
              "      <th>3</th>\n",
              "      <td>PHX</td>\n",
              "      <td>Phoenix Sky Harbor International</td>\n",
              "      <td>Phoenix</td>\n",
              "      <td>AZ</td>\n",
              "      <td>USA</td>\n",
              "      <td>33.434167</td>\n",
              "      <td>-112.008056</td>\n",
              "      <td>17290</td>\n",
              "      <td>Phoenix Sky Harbor InternationalPhoenix, AZArr...</td>\n",
              "    </tr>\n",
              "    <tr>\n",
              "      <th>4</th>\n",
              "      <td>DEN</td>\n",
              "      <td>Denver Intl</td>\n",
              "      <td>Denver</td>\n",
              "      <td>CO</td>\n",
              "      <td>USA</td>\n",
              "      <td>39.858408</td>\n",
              "      <td>-104.667002</td>\n",
              "      <td>13781</td>\n",
              "      <td>Denver IntlDenver, COArrivals: 13781</td>\n",
              "    </tr>\n",
              "  </tbody>\n",
              "</table>\n",
              "</div>"
            ],
            "text/plain": [
              "  iata  ...                                               text\n",
              "0  ORD  ...  Chicago O'Hare InternationalChicago, ILArrival...\n",
              "1  ATL  ...  William B Hartsfield-Atlanta IntlAtlanta, GAAr...\n",
              "2  DFW  ...  Dallas-Fort Worth InternationalDallas-Fort Wor...\n",
              "3  PHX  ...  Phoenix Sky Harbor InternationalPhoenix, AZArr...\n",
              "4  DEN  ...               Denver IntlDenver, COArrivals: 13781\n",
              "\n",
              "[5 rows x 9 columns]"
            ]
          },
          "metadata": {
            "tags": []
          },
          "execution_count": 107
        }
      ]
    },
    {
      "cell_type": "code",
      "metadata": {
        "id": "tro4PBEE7vwA",
        "outputId": "b53a0bcb-43ff-40ce-8354-526ae63ebf3b",
        "colab": {
          "base_uri": "https://localhost:8080/",
          "height": 374
        }
      },
      "source": [
        "covidDB.dropna(subset = ['latitude', 'longitude'], inplace=True)\n",
        "covidDB = covidDB[covidDB.sigla == 'BR']\n",
        "covidDB.head()"
      ],
      "execution_count": null,
      "outputs": [
        {
          "output_type": "execute_result",
          "data": {
            "text/html": [
              "<div>\n",
              "<style scoped>\n",
              "    .dataframe tbody tr th:only-of-type {\n",
              "        vertical-align: middle;\n",
              "    }\n",
              "\n",
              "    .dataframe tbody tr th {\n",
              "        vertical-align: top;\n",
              "    }\n",
              "\n",
              "    .dataframe thead th {\n",
              "        text-align: right;\n",
              "    }\n",
              "</style>\n",
              "<table border=\"1\" class=\"dataframe\">\n",
              "  <thead>\n",
              "    <tr style=\"text-align: right;\">\n",
              "      <th></th>\n",
              "      <th>data</th>\n",
              "      <th>usuario</th>\n",
              "      <th>apelido</th>\n",
              "      <th>texto</th>\n",
              "      <th>retweet</th>\n",
              "      <th>seguidores</th>\n",
              "      <th>idioma</th>\n",
              "      <th>lugar</th>\n",
              "      <th>pais</th>\n",
              "      <th>sigla</th>\n",
              "      <th>latitude</th>\n",
              "      <th>longitude</th>\n",
              "      <th>hashtags</th>\n",
              "    </tr>\n",
              "  </thead>\n",
              "  <tbody>\n",
              "    <tr>\n",
              "      <th>410</th>\n",
              "      <td>2020-01-21 23:36:11</td>\n",
              "      <td>ALEXSANDRO QUEIROZ</td>\n",
              "      <td>ac_q</td>\n",
              "      <td>coronavirus e vc sem plano de saude? protecao!...</td>\n",
              "      <td>0</td>\n",
              "      <td>131</td>\n",
              "      <td>pt</td>\n",
              "      <td>Recife</td>\n",
              "      <td>Brazil</td>\n",
              "      <td>BR</td>\n",
              "      <td>-34.92570</td>\n",
              "      <td>-8.06050</td>\n",
              "      <td>['cdlrecife', 'cdl', 'sauderecife']</td>\n",
              "    </tr>\n",
              "    <tr>\n",
              "      <th>3869</th>\n",
              "      <td>2020-01-29 22:28:29</td>\n",
              "      <td>A Magia da Poesia</td>\n",
              "      <td>fabiorochapoeta</td>\n",
              "      <td>como pode ser mais divertido?\\n.\\n.\\n.\\n.\\n.\\n...</td>\n",
              "      <td>0</td>\n",
              "      <td>3852</td>\n",
              "      <td>pt</td>\n",
              "      <td>Rio de Janeiro</td>\n",
              "      <td>Brazil</td>\n",
              "      <td>BR</td>\n",
              "      <td>-43.46890</td>\n",
              "      <td>-23.01780</td>\n",
              "      <td>['fabiorochapoeta', 'globeleza', 'carnaval2020...</td>\n",
              "    </tr>\n",
              "    <tr>\n",
              "      <th>5150</th>\n",
              "      <td>2020-01-31 20:44:53</td>\n",
              "      <td>Aleks Marc</td>\n",
              "      <td>ALEKSANDRO_</td>\n",
              "      <td>quem vence ??? \\n#coronavirus #kkkkkk em diade...</td>\n",
              "      <td>0</td>\n",
              "      <td>53</td>\n",
              "      <td>pt</td>\n",
              "      <td>Diadema</td>\n",
              "      <td>Brazil</td>\n",
              "      <td>BR</td>\n",
              "      <td>-46.61060</td>\n",
              "      <td>-23.68610</td>\n",
              "      <td>['coronavirus', 'kkkkkk']</td>\n",
              "    </tr>\n",
              "    <tr>\n",
              "      <th>7061</th>\n",
              "      <td>2020-02-04 21:25:43</td>\n",
              "      <td>Estudio Hum.net</td>\n",
              "      <td>EstudioHum</td>\n",
              "      <td>encomendas da china podem transmitir coronavir...</td>\n",
              "      <td>0</td>\n",
              "      <td>188</td>\n",
              "      <td>pt</td>\n",
              "      <td>Coração de Maria</td>\n",
              "      <td>Brazil</td>\n",
              "      <td>BR</td>\n",
              "      <td>-38.78243</td>\n",
              "      <td>-12.24274</td>\n",
              "      <td>[]</td>\n",
              "    </tr>\n",
              "    <tr>\n",
              "      <th>7521</th>\n",
              "      <td>2020-02-05 04:49:35</td>\n",
              "      <td>Jovem Pan Londrina</td>\n",
              "      <td>panlondrina</td>\n",
              "      <td>quem ai ta com medo do coronavirus?\\n\\nveja ma...</td>\n",
              "      <td>0</td>\n",
              "      <td>13453</td>\n",
              "      <td>pt</td>\n",
              "      <td>Londrina</td>\n",
              "      <td>Brazil</td>\n",
              "      <td>BR</td>\n",
              "      <td>-51.16540</td>\n",
              "      <td>-23.30996</td>\n",
              "      <td>[]</td>\n",
              "    </tr>\n",
              "  </tbody>\n",
              "</table>\n",
              "</div>"
            ],
            "text/plain": [
              "                    data  ...                                           hashtags\n",
              "410  2020-01-21 23:36:11  ...                ['cdlrecife', 'cdl', 'sauderecife']\n",
              "3869 2020-01-29 22:28:29  ...  ['fabiorochapoeta', 'globeleza', 'carnaval2020...\n",
              "5150 2020-01-31 20:44:53  ...                          ['coronavirus', 'kkkkkk']\n",
              "7061 2020-02-04 21:25:43  ...                                                 []\n",
              "7521 2020-02-05 04:49:35  ...                                                 []\n",
              "\n",
              "[5 rows x 13 columns]"
            ]
          },
          "metadata": {
            "tags": []
          },
          "execution_count": 104
        }
      ]
    },
    {
      "cell_type": "code",
      "metadata": {
        "id": "J7OJvkwG5uxK",
        "outputId": "d8e28326-ef75-45e1-d491-e49eef9e5008",
        "colab": {
          "base_uri": "https://localhost:8080/"
        }
      },
      "source": [
        "fig = go.Figure(data=go.Scattergeo(\n",
        "        locationmode = 'country names',\n",
        "        locations = ['Brazil'],\n",
        "        lon = covidDB['longitude'],\n",
        "        lat = covidDB['latitude'],\n",
        "        text = covidDB['texto'],\n",
        "        mode = 'markers',\n",
        "        marker = dict(\n",
        "            size = 8,\n",
        "            opacity = 0.8,\n",
        "            reversescale = True,\n",
        "            autocolorscale = False,\n",
        "            symbol = 'square',\n",
        "            line = dict(\n",
        "                width=1,\n",
        "                color='rgba(102, 102, 102)'\n",
        "            ),\n",
        "            colorscale = 'Blues',\n",
        "            cmin = 0,\n",
        "            color = df['cnt'],\n",
        "            cmax = df['cnt'].max(),\n",
        "            colorbar_title=\"Incoming flights<br>February 2011\"\n",
        "        )))\n",
        "\n",
        "fig.update_layout(\n",
        "        title = 'Most trafficked US airports<br>(Hover for airport names)',\n",
        "    )\n",
        "fig.show()"
      ],
      "execution_count": null,
      "outputs": [
        {
          "output_type": "display_data",
          "data": {
            "text/html": [
              "<html>\n",
              "<head><meta charset=\"utf-8\" /></head>\n",
              "<body>\n",
              "    <div>\n",
              "            <script src=\"https://cdnjs.cloudflare.com/ajax/libs/mathjax/2.7.5/MathJax.js?config=TeX-AMS-MML_SVG\"></script><script type=\"text/javascript\">if (window.MathJax) {MathJax.Hub.Config({SVG: {font: \"STIX-Web\"}});}</script>\n",
              "                <script type=\"text/javascript\">window.PlotlyConfig = {MathJaxConfig: 'local'};</script>\n",
              "        <script src=\"https://cdn.plot.ly/plotly-latest.min.js\"></script>    \n",
              "            <div id=\"15421684-8129-4b05-b59f-3479a3615ace\" class=\"plotly-graph-div\" style=\"height:525px; width:100%;\"></div>\n",
              "            <script type=\"text/javascript\">\n",
              "                \n",
              "                    window.PLOTLYENV=window.PLOTLYENV || {};\n",
              "                    \n",
              "                if (document.getElementById(\"15421684-8129-4b05-b59f-3479a3615ace\")) {\n",
              "                    Plotly.newPlot(\n",
              "                        '15421684-8129-4b05-b59f-3479a3615ace',\n",
              "                        [{\"lat\": [-34.9257, -43.4689, -46.6106, -38.78243, -51.1654, -34.89282682, -43.26027778, -34.843424, -49.9043, -44.1978, -51.06136344, -34.8969226, -44.296875, -49.2699, -46.7244, -34.8627, -43.26027778, -43.18069722, -47.9, -46.6333, -43.17742825, -34.87141968, -38.5847549, -44.0869, -48.59557103, -56.0969, -51.2208, -44.25843, -51.2208, -46.6333, -46.7876, -47.42426188, -46.5401, -46.70165, -49.2699, -34.9257, -43.02939, -36.021770000000004, -46.69330001, -46.69330001, -51.2208, -43.9677, -46.67571414, -40.3290802, -46.70926377, -40.28988471, -35.71621432, -38.4767, -48.911190000000005, -38.48042709, -34.8627, -54.61356, -46.94092, -46.94092, -43.1314, -47.365112100000005, -47.9, -47.80588669, -43.17989807, -47.05416531, -47.4243101, -51.16009398, -49.2699, -46.59243043, -46.63148489, -52.673965700000004, -48.1761, -36.6608, -38.3374121, -48.01979291, -54.6039, -46.6333, -38.4767, -39.8601, -43.2854772, -43.9387, -43.29124, -41.87357, -35.70590353, -45.25353, -47.4581, -43.1975, -48.551, -34.8627, -55.51190064, -38.5266, -54.646302600000006, -35.70590353, -48.89479046, -34.87457625, -43.1833, -50.87249, -38.5461316, -51.16009398, -35.2017, -48.3, -43.18069722, -51.16009804, -51.18659482, -47.92638721, -43.6464, -43.09718616, -51.16009398, -46.6191, -43.30795, -51.9329, -43.8636, -34.9325, -46.65869951, -46.6333, -53.0, -39.01462, -38.5266, -43.1975, -35.7248, -43.20120120000001, -51.35555, -51.19929853, -53.0, -51.16009398, -43.1975, -48.60889, -46.6333, -46.6333, -43.8636, -34.9257, -46.63355, -51.2208, -40.35603136, -36.6167, -43.6799287, -43.50648659, -38.95, -34.9257, -51.16009398, -52.34001482, -47.9, -47.4243101, -46.6333, -46.6333, -48.55612381, -51.16009398, -46.6333, -46.5697, -46.6333, -47.50162953, -34.9257, -38.5153399, -46.72841244, -47.4243101, -46.58229, -46.53655264, -43.0543, -43.38328259, -43.17986794, -48.4772, -38.4767, -34.83610564, -43.1975, -60.0253, -37.06426887, -48.84837720000001, -38.5266, -53.0, -43.0235551, -48.46255783, -43.8636, -46.65694444, -46.6333, -51.19170688, -38.342659999999995, -47.2181, -63.9039, -43.2806, -51.2208, -53.0, -47.49181833, -39.297779999999996, -35.7248, -49.2707, -44.2061439, -53.0, -48.4772, -44.1978, -46.63148489, -34.9325, -46.63148489, -47.9, -43.1975, -46.6333, -34.8387, -47.95620547, -34.8627, -35.9758, -47.49181833, -34.83501403, -34.88881302, -34.8387, -37.65656, -35.8825, -49.25486326, -55.5007437, -60.0253, -34.8627, -49.27433098, -60.001146, -38.5266, -42.7812, -42.7812, -49.2705, -47.9394742, -47.282309999999995, -60.0253, -39.29157257, -35.11228, -46.617194700000006, -43.9874315, -35.18071997, -45.30677, -34.87457625, -49.9043, -38.5266, -49.27634239, -51.18659482, -51.18659482, -40.353, -47.91006804, -43.39489591, -41.154920000000004, -60.0253, -36.44437, -34.8627, -48.4772, -34.8627, -34.83886689, -34.8627, -46.5697, -59.95519131, -54.6167, -43.41705, -34.8627, -48.03584273, -48.03584273, -34.8599, -34.8627, -34.8627, -67.84114257, -52.677704500000004, -46.674739, -46.582, -47.8, -46.6333, -46.711885200000005, -48.0190701, -44.995360999999995, -43.10705, -43.946127000000004], \"locationmode\": \"country names\", \"locations\": [\"Brazil\"], \"lon\": [-8.0605, -23.0178, -23.6861, -12.24274, -23.30996, -8.0401625, -22.88694444, -7.965246799999999, -6.0707, -19.9678, 0.04676622, -8.029703999999999, -21.28937436, -25.4346, -23.3286, -7.1207, -22.92833333, -22.96703333, -15.8, -23.55, -22.9081197, -8.06341878, -3.7786362000000002, -19.7669, -27.13485313, -15.5958, -30.0291, -21.13316, -30.0291, -23.55, -23.534000000000002, -22.00328829, -22.9526, -22.61411, -25.4346, -8.0605, -15.74683, -6.22901, -23.63113755, -23.63113755, -30.0291, -19.837, -23.55808712, -20.3417208, -23.53514143, -20.35087169, -9.5842925, -12.9747, -20.73797, -13.00450027, -7.1207, -20.46441, -19.59412, -19.59412, -22.3758, -22.362973800000002, -15.8, -21.20917167, -22.89521579, -23.16857594, -22.0067035, -30.02056731, -25.4346, -23.58247211, -23.45930693, -26.22686605, -21.7947, -9.7519, -12.8969502, -15.83732716, -20.458170000000003, -23.55, -12.9747, -18.7224, -22.83080042, -19.9191, -22.16415, -22.08318, -9.64550209, -21.69665, -23.5017, -22.908, -22.498260000000002, -7.1207, -11.86761097, -3.7293, -20.4536554, -9.64550209, -23.99173923, -8.06210722, -22.95, -21.79711, -3.7849602, -30.02056731, -5.78222, -18.9167, -22.96703333, -30.02055199, -30.02221014, -1.29463496, -22.9978, -22.880885, -30.02056731, -23.68596, -22.887929999999997, -23.4183, -16.7322, -8.195, -23.55326741, -23.55, -11.0, -10.50525, -3.7293, -22.908, -9.6232, -22.954156100000002, -23.666439999999998, -30.02812975, -11.0, -30.02056731, -22.908, -27.600479999999997, -23.55, -23.55, -16.7322, -8.0605, -23.61008, -30.0291, -20.31105708, -9.41667, -22.89881045, -20.38798545, -12.25, -8.0605, -30.02056731, -31.766826799999997, -15.8, -22.0067035, -23.55, -23.55, -27.58744112, -30.02056731, -23.55, -23.6238, -23.55, -4.95396447, -8.0605, -3.7399982000000005, -23.48527009, -22.0067035, -23.71867, -23.53607654, -22.8283, -22.81709949, -22.91000096, -1.4511, -12.9747, -7.14608589, -22.908, -3.11333, -10.97127033, -26.301593800000003, -3.7293, -11.0, -21.1820517, -1.44263972, -16.7322, -23.56944444, -23.55, -29.17402582, -12.932310000000001, -23.0903, -8.7619, -22.7041, -30.0291, -11.0, -23.51120667, -6.35856, -9.6232, -16.6869, -2.5832572, -11.0, -1.4511, -19.9678, -23.45930693, -8.195, -23.45930693, -22.0167, -22.908, -23.55, -7.0983, -15.85699628, -7.1207, -8.2828, -23.51120667, -7.10498971, -8.09846973, -7.0983, -6.43583, -7.2191, -16.69714108, -11.8525071, -3.11333, -7.1207, -16.68640494, -3.108331, -3.7293, -5.0947, -5.0947, -25.4339, -19.760572500000002, -20.638939999999998, -3.11333, -14.816374900000001, -7.404719999999999, -23.487859399999998, -19.95990826, -5.88286982, -2.2181, -8.06210722, -6.0707, -3.7293, -25.42895452, -30.02221014, -30.02221014, -3.6875, -15.81060859, -22.771901999999997, -11.55138, -3.11333, -8.522, -7.1207, -1.4511, -7.1207, -7.09858303, -7.1207, -23.6238, -3.07386703, -20.45, -20.3712, -7.1207, -15.834299, -15.834299, -7.999, -7.1207, -7.1207, -9.98655887, -26.22456465, -23.606067000000003, -23.5798, -21.1667, -23.55, -23.475638600000003, -16.02267301, -12.148204, -22.90736071, -22.916373], \"marker\": {\"autocolorscale\": false, \"cmax\": 25129, \"cmin\": 0, \"color\": [25129, 21925, 20662, 17290, 13781, 13223, 12016, 11797, 10536, 10490, 9898, 9182, 8678, 8523, 7965, 7690, 7541, 7392, 6979, 6779, 6233, 6204, 6044, 5945, 5907, 5627, 4943, 4749, 4616, 4432, 4367, 4332, 4071, 4057, 3972, 3896, 3824, 3654, 3616, 3403, 3386, 3180, 3058, 3030, 3015, 3005, 2786, 2136, 2104, 2104, 2044, 2003, 1986, 1752, 1716, 1622, 1620, 1502, 1474, 1439, 1337, 1327, 1310, 1299, 1258, 1224, 1206, 1199, 1162, 1103, 1095, 1052, 1040, 1035, 1006, 956, 953, 949, 932, 926, 880, 840, 818, 800, 785, 768, 747, 711, 708, 702, 686, 686, 675, 664, 658, 656, 653, 627, 611, 608, 582, 572, 562, 553, 540, 538, 529, 524, 518, 516, 479, 472, 460, 451, 448, 445, 426, 414, 410, 410, 409, 408, 404, 404, 396, 393, 382, 381, 379, 347, 346, 338, 333, 328, 324, 324, 319, 314, 310, 306, 301, 296, 295, 288, 285, 280, 270, 270, 264, 264, 258, 248, 248, 246, 245, 225, 216, 216, 214, 212, 210, 208, 208, 201, 199, 168, 168, 168, 168, 168, 168, 159, 158, 158, 156, 146, 144, 140, 127, 114, 112, 112, 112, 112, 112, 112, 112, 112, 112, 110, 108, 108, 104, 104, 104, 104, 102, 96, 93, 91, 90, 74, 72, 60, 58, 56, 56, 56, 56, 56, 56, 56, 56, 52, 50, 50, 48, 48, 37, 32, 23], \"colorbar\": {\"title\": {\"text\": \"Incoming flights<br>February 2011\"}}, \"colorscale\": [[0.0, \"rgb(247,251,255)\"], [0.125, \"rgb(222,235,247)\"], [0.25, \"rgb(198,219,239)\"], [0.375, \"rgb(158,202,225)\"], [0.5, \"rgb(107,174,214)\"], [0.625, \"rgb(66,146,198)\"], [0.75, \"rgb(33,113,181)\"], [0.875, \"rgb(8,81,156)\"], [1.0, \"rgb(8,48,107)\"]], \"line\": {\"color\": \"rgba(102, 102, 102)\", \"width\": 1}, \"opacity\": 0.8, \"reversescale\": true, \"size\": 8, \"symbol\": \"square\"}, \"mode\": \"markers\", \"text\": [\"coronavirus e vc sem plano de saude? protecao! carnaval vem ai trazendo muita coisa! \\n\\n#cdlrecife #cdl #sauderecife... https://t.co/latdjrmibj\", \"como pode ser mais divertido?\\n.\\n.\\n.\\n.\\n.\\n#fabiorochapoeta #globeleza #carnaval2020 #coronavirus... https://t.co/2zzf3ahnk8\", \"quem vence ??? \\n#coronavirus #kkkkkk em diadema, sao paulo https://t.co/v5and5wx1s\", \"encomendas da china podem transmitir coronavirus?\\nnao! nao ha risco de contaminacao por mercadorias, uma vez que o... https://t.co/dlgxkks7ne\", \"quem ai ta com medo do coronavirus?\\n\\nveja mais noticias em youtube:... https://t.co/5gbxlsmuhy\", \"medo do coronavirus?\\n\\ncompre ja seu estoque de \\\"mantimentos\\\" para curtir o carnaval em um lugar mais tranquilo, lon... https://t.co/a1klggdamw\", \"medo de coronavirus? no jaca nunca sera!!! quem aprendeu a nadar no lacerda, e imune a tudo...fala ai barreto\\npisci... https://t.co/5p1jbro0js\", \"e seguro viajar para a tailandia em meio a um surto de coronavirus? https://t.co/0bpkzes814\", \"enquanto isso..tu acha mesmo que corona virus vai matar um povo desse?  #curtindo #curtir #deboas... https://t.co/5rtzlieum0\", \"cade o alexandre de freitas machado?\\n\\nfoi ver o pa1pa2, na italia?\\n\\ne o covid-19?...preocupei. em betim https://t.co/fi220s1kdt\", \"quer se prevenir contra o coronavirus? \\na estacio te ajuda!!! \\n\\nconfira estas dicas importantes e compartilhe!  e... https://t.co/39b1bbhgtx\", \"#hojeemdia acompanhando ,assisto diariamente ... covid19 caso q so piora os numeros, e so manda lavar as maos??? e... https://t.co/bsf8usto5c\", \"pandemia tik tok vs pandemia covid-19. quem vence? em apocalipse urgente https://t.co/tkfopdnbpv\", \"#covid_19 #corona #pulapra2021\\n\\na gente nunca sabe quem e que nao costuma lavar as maos ne? \\nate a #meninaolivia ch... https://t.co/pa11xdtlgm\", \"magoou? \\nmagoou...\\nkkkkkkkkkkkkkkkkk...\\nem epoca de pandemia, melhor nao arriscar !!! em franco da rocha https://t.co/6xebdci9tk\", \"voces acham que o corona virus tem alguma chance contra o povo brasileiro?\\n\\no h1n1 nao fez nem cocegas, com o covid... https://t.co/kek7zxhnjf\", \"para descontrair. tu pergunta pra pessoa: ta estressado com essa historia de coronavirus? nada. to de boa. a pessoa... https://t.co/5deanqq435\", \"em epoca de \\\"quarentena\\\" por forca do #coronavirus, a gente treina em casa, porque nao? ainda tras a filhota junto... https://t.co/noztvzfldy\", \"nao to feliz com voce viu corona virus?  em brasilia, brazil https://t.co/kpggbkczis\", \"um novo virus traz novos habitos, novas maneiras de pensar! #distanciasalva\\n.\\n.\\n.\\nvoce tem feito sua parte? \\no iso... https://t.co/aj8fvlkscn\", \"vamos fazer a nossa parte para conter o avanco do covid-19?\\n\\nfaca a sua compra atraves de nossa loja virtual e use... https://t.co/ammeer1ga7\", \"informa\\n\\nvamos combater as fake news? \\npara receber noticias oficiais sobre o covid-19, assine o boletim do gov... https://t.co/phozz7tnw9\", \"informativo w3\\n\\no que e coronavirus? (covid-19)\\ncoronavirus e uma familia de virus que causam infeccoes respiratori... https://t.co/ldmttrczle\", \"vai ficar em casa? a @lepm_editores tem um ebook gratis por dia para  voce!\\n\\na orientacao e: em tempos de covid-19... https://t.co/bcew3gcc2x\", \"vamos falar sobre a covid-19 e sobre a dengue?   \\n.\\nnosso pais esta passando por uma fase extremamente delicada c... https://t.co/gb1gi5jpwq\", \"covid-19 como trabalhar de casa em tempos de corona virus? o video esta no meu canal no youtube e so buscar por afr... https://t.co/dnfpagqfsw\", \"por que e importante o isolamento social/domiciliar neste momento ?   \\n#saude #coronavirus #virus #isolamentosocial... https://t.co/6ninprwvhm\", \"voce sabe executar o passo passo para correta higienizacao de maos?\\n#covid19\\n#coronavirus #prevencao #higienizacao... https://t.co/z5othtmlmb\", \"esta com sua #empresa #fechada e precisa informar aos seus #clientes que e devido ao #covid ? nos gravamos em audio... https://t.co/x1wwvgrcon\", \"entendeu?\\n\\n#coronavirus #covid19  #prevencao #saude #quarentena #fiqueemcasa #papocomagu #influencerdigital... https://t.co/zxvfwwlxyk\", \"6 dia de quarentena: \\\"sera que formiga peida?!\\\"  rsrs.\\n\\n#corona #coronavirus #covid19 #formigapeida #pensamento... https://t.co/2don4pbsph\", \"eu vou para o ambulatorio por voce e pelos seus. voce pode ficar em casa por mim e pelos meus?\\n\\n#covid_19... https://t.co/zcac0xl7ow\", \"saudades de nossa casa? fique na sua! queremos te ver em breve.  coronavirus- os consulados do palmeiras no bra... https://t.co/hoq1bjzmec\", \"dois ou tres?   #covid19 #coronavirus #jornal #newspaper #serranegra em serra negra, sao paulo, brazil https://t.co/lyfoiyeetz\", \"cade a menina preucupada em salvar o planeta,corona virus nao rouba seus sonhos #greta? escrota mentirosa, pois ess... https://t.co/6thfobexhz\", \"fala pessoal, vamos para uma live amanha? vamos falar sobre quarentena, coronavirus e como isso afeta a nosso profi... https://t.co/rk7ofwar85\", \"sabia que este fim de semana sera crucial para o avanco do corona virus no pais?\\n\\ne o momento de nos consc... https://t.co/42b3mgdey1\", \"vapo no coronavirus! \\\"treine em casa, fique em casa, nao saia de casa...\\\". o gerson vem fazendo sua parte. e voce?... https://t.co/hnn4sty8i5\", \"home office que fala?\\nbora colocar a stellinha black pra trabalhar um pouco...\\n\\n#covid19 #homeoffice #emcasa... https://t.co/xpjtdgtufg\", \"home office que fala?\\nbora colocar a stellinha black pra trabalhar um pouco...\\n\\n#covid19 #homeoffice #emcasa... https://t.co/a0hyumr143\", \"e onde voces moram?\\n\\n#outono #covid_19 #coronavirus em porto alegre, rio grande do sul https://t.co/hkxxsivz84\", \"quarentena e quarentena... pelo amor de deus fiquem em casa!! qual a sua desculpas pra treinar ??? #pandemia... https://t.co/zl8y4athkn\", \"maratona de tartarugas ninjas?\\n#366sketches 82/366\\n#stayhome #coronavirus #covid19 #watercolor #sketchoftheday em o... https://t.co/ngrdf6c1wz\", \"o isolamento social e realmente necessario? pense que pessoas sem sintomas tambem propagam o virus.\\n\\npense que mesm... https://t.co/hpbm9thye4\", \"estao gostando de ficar recluso???\\n#fotojornalismo #arfocsp #sao_paulo #cidade #cultura #coronavirusbrazil #covid19... https://t.co/tdhwiikpqo\", \"hoje fomos eu, torto e a papada!\\n\\ne ai? como esta a sua quarentena?\\n\\n#quarentena #dog #coronavirusbrazil... https://t.co/p2pchxi865\", \"estou trabalhando por voce e pelos seus, voce pode ficar em casa por mim e pelos meus?(!)\\n\\n#coronavirus #covid-19... https://t.co/b5vg3pfd7l\", \"voce sabe qual e o impacto da pandemia do novo coronavirus nos contratos de trabalho?\\n.\\nhoje, a partir das 21h no c... https://t.co/51o5nfocnn\", \" ministerio da saude aprova medicina a distancia durante a pandemia do coronavirus. voce viu? o que acha? em olimp... https://t.co/3vokof3wzp\", \"#repost uoloficial\\n     \\n como e feito e qual o processo de combate a uma pandemia? na verdade sao varios.... https://t.co/eu2wrukcwz\", \"e isso cnnbrasil?\\n#pandemia #coronavirus #covid #covid19 #riodejaneiro #rj #brasil em joao pessoa, brazil https://t.co/npvdyq80mk\", \"em tempos de dificeis de pandemia e quarentena.....\\nprecisando de dinheiro ???\\na multiplica pode ajudar !!!\\nligue e... https://t.co/fogqxhwk2t\", \"conhece quem esta descumprindo a proibicao de funcionamento? canais para denuncia!\\n.\\n.\\n.\\n#covid #araxa... https://t.co/lz4ongqfri\", \"conhece quem esta descumprindo a proibicao de funcionamento? canais para denuncia!\\n.\\n.\\n.\\n#covid #araxa... https://t.co/hudc6oev3l\", \"quando acabar essa pandemia, qual sera a primeira coisa que vcs farao? fala pra mim! \\n\\neu ja quero estar ai, no pa... https://t.co/oqsj5dg05i\", \"se voce pode e esta cumprindo a quarentena, comente com um \\nvamos iniciar uma corrente do bem?! \\n\\n#covid #covid19... https://t.co/daxso9mlml\", \"como manter a saude mental em meio a todo esse caos que o covid-19 trouxe consigo?\\n.\\nmuito tem se falado das inumer... https://t.co/i0lwpgnjrk\", \"toda quinta-feira aqui com voce!\\n\\na nossa luta e diaria, com ou sem covid19.\\ne como superar tudo isso??\\no que posso... https://t.co/3a2b53kwsp\", \"\\\"entao voce e o coronavirus?\\\"\\n.\\n.\\n.\\nmuseu do amanha, 28 de setembro de 2019.\\n#tbt  #tbt em museu do amanha https://t.co/a5eoyyipxe\", \"e, temos que concordar que a palavrinha magica e \\\"trabalho\\\"\\nalguem discorda?\\n#gripechinesa #gripe #covid_19 #covid... https://t.co/q5oe4r1tfr\", \"vai uma taca de vinho ai?\\n#ficaemcasabrasil \\n#covid19 #coronavirus #ficaemcasa em primeiro de maio 304 centro de... https://t.co/9vju4uiuaj\", \"em epoca de #coronavirus #covid19 ... como vai a imunidade de voces? cuidem-se. reforcem a imunidade, comecem  o... https://t.co/oounz3imfb\", \"ja viram meu ultimo video sobre as teorias da conspiracao sobre o #covid19? link na bio \\n.\\n.\\n.\\n.\\n.\\n.\\n.... https://t.co/8ytgimkfmz\", \"faz sentido?\\n.\\n#bhakti #espiritualizese #autoconhecimento #covid19 #coronavirus #coronavirus #terapiaemocional #om... https://t.co/scxdbemusa\", \"voce sabe o que significa distanciamento social?\\no momento de combate a uma pandemia mundial talvez nao seja o mais... https://t.co/uc6bdzucyx\", \"sera que chove? #tempofeio #vemchuva #patobranco #cidadedepatobranco #patobrancopr #parana #fiqueemcasa #covid19... https://t.co/nlmvgp6cyy\", \"combinado? \\n.\\n#distanciamentosocial #covid #covid19 #secuidemais #empatia #sensatez #emcasa em araraquara https://t.co/3przda1urr\", \"estao pensando que o #coronavirus e brincadeira e? #fiquememcasa #arapiraca #cuidado #saude #alagoas #povoteimoso f... https://t.co/fgoky0ef1k\", \"em tempo de corona virus o cidadao de bem esta preso e os presos condenados estao sendo livres.\\nha coerencia nisso?... https://t.co/5cgmypix9d\", \"quebrar o espelho em plena era de covid19 seria um mau  pressagio? tomara que nao! #espelho #espelhoquebrado... https://t.co/9xywvkij3a\", \"como fica meu contrato de aluguel neste periodo de pandemia?\\n\\n#direito #direitocivil #aluguel #contrato #quarentena... https://t.co/gcai48uhlc\", \"como ficara a pensao alimenticia na pandemia durante a quarentena?\\n\\ncompartilhe!\\nrf\\n*\\n*\\n*\\n*\\n*\\n*\\n*\\n*\\n*\\n*\\n*\\n*\\n*\\n*... https://t.co/zpksa3vsen\", \"quer ajudar a sua cidade na luta contra o coronavirus sem sair da #quarentena? seja voluntario em nossa campanha co... https://t.co/xpg7gzv7go\", \"direito em suas maos  e crime sair de casa na quarentena ou isolamento social por causa do coronavirus?\\n-\\n31 de ma... https://t.co/jqbatgnx5u\", \"voce ainda nao escutou o trap do coronavirus da @urgueto ne?! entao corre la no youtube e digita: \\\"ur gueto - trap... https://t.co/ib6kkm42gi\", \"tudo e questao do foco que damos pras coisas. ta ruim? ta, e e pra todo mundo. ninguem esperava uma pandemia que fi... https://t.co/vlswvhha5t\", \"oi pessoal, vamos ajudar?\\n\\n.\\n#covid_19 #uniao #redesolidaria #renovabrcovid19 #paraibadosulrj em paraiba do s... https://t.co/z0bvv45kat\", \"bora de diversao?  #covid19 #isolamentosocial em conceicao de macabu https://t.co/xucsady9ya\", \"e se eu tiver com os sintomas?\\n.\\nfiquem ligados, as 19h00, perguntas e respostas sobre covid-19. todos na mesma bat... https://t.co/abwjn50u6k\", \"quem vai segurar essa onda?\\n\\n#covid19 #coronavirus #comunismojamais #comunistadeiphone #comunismonao #comunismomata... https://t.co/ezrv6lh3ro\", \"tirar a barba ajuda na prevencao do coronavirus?\\n\\nhomens tem raspado os pelos do rosto para se proteger da covid-19... https://t.co/agc6bt2qra\", \"glamourizacao da pandemia?   nao sei se estou meio surtado, ou se ha uma onda fashionista se aproveitando do cov... https://t.co/ctjiajdvrd\", \"vamos conversar?\\nte espero hoje na live as 19h30.\\n-jau confirma seu primeiro caso de covid-19.\\n- barra bonita com 1... https://t.co/ny3uid1von\", \"tem duvidas sobre o coronavirus (covid-19)? a prevencao ainda e o melhor remedio!\\n.\\nduvidas: disque saude - 136... https://t.co/nbmjvq57wz\", \"o que o corona virus tem a ver com ecologia?\\n\\nno brasil tambem ja se comeca a notar algumas mudancas em virtude da... https://t.co/mks3pejjud\", \"copa covid 2020, quem vai roubar mais? em fortaleza, brazil https://t.co/e9zpbanqpi\", \"covid-19: saude x economia. e o trabalhador como fica? https://t.co/c8jrehuaeg https://t.co/e7ljqrdwk8\", \"estamos prontos?\\n.\\nfiquem ligados, as 19h00, perguntas e respostas sobre covid-19. todos na mesma batalha.\\n.\\na luta... https://t.co/wee9macqcp\", \"primeiro caso confirmado de coronavirus em itarare? fiquem tranquilos. o paciente que teve seu exame confirmado par... https://t.co/qmcaamii3x\", \"esses dias de #coronavirus estao deixando voces um pouco malucos??? pq eu e @laisdourado_ perdemos um pouco a linha... https://t.co/ciusd0st64\", \"e, se quando voce fosse para rua,voce enxergasse o coronavirus, sairiam assim mesmo? em botafogo, rio de janeiro, b... https://t.co/op2oazkmtg\", \"concorda? deixe seu comentario - #mandetta #saude #pandemia #covid19 #coronavirus #politica #eleicoes em osvaldo cr... https://t.co/fsrzj3pwbj\", \"voce sairia de casa se pudesse ver assim?\\n\\ndeixe seu comentario\\n\\n#coronavirus #epidemia em sofacar - limpeza de est... https://t.co/go1306xalp\", \"em epoca de #coronavirus #covid19 ... como vai a imunidade de voces? cuidem-se. reforcem a imunidade, comecem  o... https://t.co/molds4dzon\", \"em tempos de coronavirus, tambem faz parte uma caninha samanau, ne?... em petropolis, rio grande do norte, brazil https://t.co/01e203wjii\", \"se ele fosse o who unicef covid19udi \\n-\\nse o #coronavirus #covid_19 \\nfosse visivel ?\\n-\\nvoce sairia de casa ? \\n-... https://t.co/hs9dupmnsk\", \"vamos brincar nesta quarentena ? \\n.\\n.\\n.\\n.\\n.\\n#ficaemcasa \\n#coronavirus \\n#covid19 \\n#covd19 \\n#covid20 \\n#alcohol... https://t.co/fbi24xfipb\", \"em epoca de #coronavirus #covid19 ... como vai a imunidade de voces? cuidem-se. reforcem a imunidade, comecem  o... https://t.co/htjldxquuj\", \"como esta o jejum de voces?  #ods35 #facaasuaparte #covid19 #fiqueemcasa #jejumgenocida em av. plinio brasil mil... https://t.co/xf0puislqi\", \"me diga, quantas vidas sao realmente aceitaveis? \\n.\\n.\\n.\\n.\\n#castanhal\\n#empatia\\n#ficaemcasa\\n#coronavirus... https://t.co/upvjg410eu\", \"o que voce esta fazendo na quarentena?\\n.\\n.\\n.\\n.\\n.\\n #coronavirus #quarentena #corona #nadaparasiempre em pedra de gua... https://t.co/mnbmm9lfah\", \"lembra desse jogo? se sim, voce esta no grupo de risco #coronavirus\\n\\n#domingou #quarentena #segamastersystem... https://t.co/rggkiwkk5d\", \"em epoca de #coronavirus #covid19 ... como vai a imunidade de voces? cuidem-se. reforcem a imunidade, comecem  o... https://t.co/ad8ke6u2fz\", \" impacto.\\n\\nquem trabalha com marketing digital sofre impactos nos negocios por causa do corona virus?\\n\\nnao!\\n\\ncom... https://t.co/kwmmu3bov9\", \" coronavirus\\n\\ndevo trocar lentes de contato por oculos para me prevenir?\\n\\napesar de nao haver comprovacao cientif... https://t.co/unfro4tnke\", \"maringa e recorde em casos de dengue, e tambem de corona virus. de quem e a responsabilidade? em maringa https://t.co/qk793al9pt\", \"entao, sabe a quarentena???  \\n#1984 #covid #covid19 #corona #coronavirus #coronga #corongavirus #china... https://t.co/toopne82lh\", \"voce sabia que o virus pode ficar incubado em voce por 14 dias ate comecar a se manifestar?\\npor isso a importancia... https://t.co/irlfsnhgzx\", \"clientes e amigos dominatrix! tudo bem? nosso negocio foi o primeiro a fechar por causa da pandemia e com certeza s... https://t.co/9vrqiu5zyc\", \"covid-19\\n\\n#ficaemcasa  \\nsim o maximo possivel!!!\\n\\ne para quem nao tem casa?\\no que podemos e devemos fazer?!\\n\\nestam... https://t.co/ri4wy2agff\", \"pessoas morrem e agora tudo e  covid-19, tem de apurar , politicagem com a pandemia,se realmente existe? em brazil https://t.co/vqsi9fmo7u\", \"vc viu na midia? nao  ? nem vai ver  exercito  brasileiro no combate  ao corona virus em euclides da cunha, bahia,... https://t.co/clhgr4tbli\", \"copa covid 2020.\\nquem vai roubar mais durante a crise? em fortaleza, ceara, brasil https://t.co/1k8er1fbqb\", \"alguem cancela esse virus?  #naoaguentomais #coronavirus #quarentena #emcasa #homeoffice \\n\\n\\n #instagram... https://t.co/lxgtqigo2v\", \" quantas pequenas empresas estao vulneraveis a crise do #coronavirus?\\n\\nde acordo com o @sebrae / sebraealagoas em... https://t.co/pkzyckhgpe\", \"ensaios de uma quarentena - e ai macacada, todo mundo em casa?\\n#covid_19 #stayhome #staysafe #fiqueemcasa... https://t.co/fvmtqqpgio\", \"mais alguem esta sendo feito de empregado nessa quarentena? \\n.\\n#quarentenanaosaoferias #quarentena #covid19... https://t.co/dmavduaim1\", \"qual a relacao entre friends, covid-19, boas acoes e mercado de consumo?\\n\\nno artigo de hoje da caue vieira advocacy... https://t.co/njjuwceahu\", \"achei bacana a ideia do corona e voces? libera os bolsominions da quarentena? #ficaadica #liberageral #covid... https://t.co/9pskk6y12r\", \"em epoca de #coronavirus #covid19 ... como vai a imunidade de voces? cuidem-se. reforcem a imunidade, comecem  o... https://t.co/vnl29xeax8\", \"se voce pudesse ver o virus ainda assim quereria sair a rua?? #fiqueemcasa #covid19 #novocoronavirus... https://t.co/ptkdfmkihy\", \"boa tarde!\\n\\nseu dia esta corrido na retomada da rotina neste periodo de pandemia? \\n\\nnos, da ford dimas lhe entedemo... https://t.co/vbbgdbihkn\", \"  voce esta conseguindo visualizar como vai ficar sua atuacao profissional depois da pandemia?\\n\\nos tempos ja eram... https://t.co/k4qx6bjfiv\", \"os profissionais da saude estao ansiosos nessa pandemia.\\n\\nperguntaram isso para voce?\\n\\nfizeram essa pergunta em 8 r... https://t.co/tnyvld8h34\", \"corona malvadao?  #covid #covid19 #corona #coronga #pico #curva #russia #china #cuba #pt #psdb... https://t.co/3cknvjugg0\", \"essa pandemia voces acham que ameniza quando em?\\n em recife, brazil https://t.co/tftubqb5ri\", \"ainda precisando de mascaras de protecao? encomende a sua, tenho novas estampas!\\n#coronavairus #protecao #covid19... https://t.co/3luduelfnr\", \"devido a pandemia do covid-19, qual e o seu #lookdodia by corona, seguifas? \\n.\\n.\\n.\\n.\\n.\\n#corona #coronavirus... https://t.co/jtjuhw4jlx\", \"quem vai explicar esse rebosteio???\\n#desgovernobolsonaro \\n#covid_19 \\n#bolsominions \\n#historia em vitoria. espirito... https://t.co/zjvz3rkvtp\", \"#covid19 ???  #deus #universal em palmeira dos ndios, alagoas, brazil https://t.co/miodbs5qal\", \" live | covid-19: preciso mesmo ficar em casa? \\n\\ncompletado um mes desde que a oms decreta pandemia do novo coron... https://t.co/zjlgcx8hkh\", \"parem de ter coronavirus eu preciso sair \\ncarnaval pq me abandonaste???????? em bloco do caixao ouro preto mg https://t.co/pqb6i9tjwm\", \"olha como ficou lindo o boneco ecologico de lavinia! e o seu como esta? \\n#fiqueemcasa \\n#isolamentosocial \\n#covid_19... https://t.co/nrxtmjh2hn\", \"#tbt saudade de se arrumar, ne,  meu filho?  #quarentena #pandemia em recife, brazil https://t.co/cs0nz0q9m2\", \"em epoca de #coronavirus #covid19 ... como vai a imunidade de voces? cuidem-se. reforcem a imunidade, comecem  o... https://t.co/qqhruo3yo8\", \"#quarentena \\ncomo vc esta?\\ntemas para live.\\n#live #tema #covid_19 em clinica psicologica dra.flavia rochefort https://t.co/yvn5irm127\", \"menos de um mes pra fica mais vivido e cade o fim da pandemia? em brasilia, brazil https://t.co/2ylgo4dvbc\", \"o que vc esta fazendo na #quarentena? \\n eu experimentando meus chapeus  \\n#ficaemcasa #covid19... https://t.co/dtftcm5gff\", \"para qual direcao?  depois do covid-19\\n\\nreflexao: seja qual for a sua decisao,  lembre-se que o mundo nao sera mais... https://t.co/hydukp3csh\", \"qual o seu papel na luta contra o covid-19?\\no seu eu nao sei, mas eu resolvi aceitar o convite parar ser mentor no... https://t.co/kjqwvrtzxc\", \"esta esperando o seu auxilio?   #fyp #fy #auxiliochallenge #caixa #covid19 #covid19 #viralvideo #goviral #foryou... https://t.co/a0ced7zwca\", \"em epoca de #coronavirus #covid19 ... como vai a imunidade de voces? cuidem-se. reforcem a imunidade, comecem  o... https://t.co/l84x7ql8pw\", \"e dai? lamento. quer que eu faca o que?, diz bolsonaro sobre mortes por coronavirus; 'sou messias, mas nao faco mi... https://t.co/a2sadotyvd\", \"*maravilhosa noite* !!!\\n\\ncomo voce esta?\\n\\npude notar, por conta do coronavirus e a galera estar segurando $$$, que... https://t.co/msf5h6pmrv\", \"ta facil ensinar as criancas?  quem mais?  #fiqueemcasa #ficaemcasa #covid19 #quarentena #isolamentosocial... https://t.co/lhxo2r6qko\", \"que tal torcida tricolor ?\\nestamos juntos nessa pandemia covid -19\\n\\n#heroisusammascara \\n#dgsportsoficial em acailan... https://t.co/o1tcoskzqv\", \"quem queria ta assim com o seu mozao? \\n.\\n.\\ne o coronavirus quebrando paradigmas. mas, o que importa e o amor.... https://t.co/x41xdomqe9\", \"#repost prefeitura_horizonte with make_repost\\n\\nvamos conversar sobre saude e coronavirus? o prefeito chico cesar... https://t.co/jsgko0h35d\", \"e dai?\\n\\nupa pirituba/sp\\nby cepeda francisco/folhapress \\n#fiqueemcasa #imprensacontraovirus #arfocsp... https://t.co/91zs23qf0p\", \"#livecapitalinicial\\n#oqvcfazquandoninguemtevefazendo\\n???????\\n#euquerosaber \\n#ficaemcasa #covid19 #coronavirus... https://t.co/h8kyfzvqrw\", \"sera que semana que vem vou poder abrir minha loja? saudade\\n\\n#covid19 \\n#crismodasme39anos em cris modas me https://t.co/3uqfod56yz\", \"usa secador de maos no banheiro? cuidado, ele transmite h1n1 e coronavirus \\nsegundo um novo estudo, as maquinas de... https://t.co/gddlwwzcd6\", \"pandemia?\\nmais de 7.100 obitos confirmados?\\nisolamento social?\\n.\\nque nada! \\njogar cartas e mais importante.\\n.\\ndenun... https://t.co/xhaqi34pbv\", \"vem comigo! um bate papo o povo lindo da ibm.pavuna (ibmpavuna) e com voce, sobre fe durante a pandemia. tamojunto?... https://t.co/x0kicqboqa\", \"do mesmo criador do \\\"e dai?\\\" para os mortos no brasil em plena pandemia do coronavirus, vem ai o \\\"cala boca, nao te... https://t.co/nbkqdy3mcl\", \"sera que agora vai?\\n#jairbolsonaro\\n#bolsonaro\\n#servicob10\\n#impeachmentbolsonaro\\n#covid_19\\n#mito\\n#38\\n#conversaafiada... https://t.co/xuzq3jryjf\", \"como lancar um olhar nao binario para enxergar a pandemia?\\n\\nna ultima reflexao que compartilhei, convidei a todos q... https://t.co/1ppjljwydc\", \"pode? \\n#quarentena #covid19 #covid #isolamento #isolamentosocial #distanciamento #distanciamentosocial em bancarios... https://t.co/3odukofdsw\", \"como ter calma em meio ao caos? escreva um conselho para manter calma e foco neste periodo de pandemia. em rio de j... https://t.co/24quzh8hxx\", \"voce procura alternativas para ganhar dinheiro em plena pandemia? entao fale com a gente,  pois a equipe da... https://t.co/sbor70ub0k\", \"agora aberto as quartas devido a pandemia! ja fez seu pedido? #vemprolucs em farolandia https://t.co/ksxungnqx2\", \"protegida aqui e voce ai?\\ncuidem-se! \\n#usemascara #joinville #coronavirus #covid_19 em jovem pan joinville https://t.co/gc0gk5s3g2\", \"como ficam as celebracoes de casamento durante a pandemia? \\n.\\n.\\n.\\nfui entrevistada pelo diariodonordeste para res... https://t.co/jz0awazc6s\", \"nao, nao entendi! no meio de uma pandemia, com medidas de isolamento social a dona vivo quer que eu va a uma loja?... https://t.co/w8wmoyizcz\", \"eu nao coloquei minha mae pra fazer tiktok nao ne ?! \\n\\n\\n#quarentena #coronavirus #diadasmaes #maquiagembrasil... https://t.co/l15xy63938\", \"o que nos dermatopatologistas podemos fazer durante a pandemia? \\n\\no brasil, por ser um pais gigante, vai apresentar... https://t.co/xc3h4reakn\", \"advinha os presidentes?  #covid #covid19 #corona #coronga #viruschines #chinavirus #comunavirus em montes clar... https://t.co/jtbwun5qal\", \"hoje comemoramos o dia do enfermeiro...\\ncomemoramos em plena pandemia???\\n\\nsim,  claro, principalmente a... https://t.co/91lwu1iwy7\", \"wstou vendendo virgulas, alguem quer?\\n\\n6  licoes que o filme o vendedor de sonhos, pode te ajudar nesta pandemia: d... https://t.co/xoq7fqur01\", \"#tbt de 1912 pq to com vontade comer formiga\\ncomo que vao categorizar as festas retro depois da pandemia? qndo eu n... https://t.co/d9z5f74r76\", \"pensamos que estamos em crise, o que e crise?\\n\\nna minha visao, a verdadeira crise nao e a pandemia atual. a verdade... https://t.co/upgu3hnwkz\", \"live - moda\\nvamos falar de um assunto diferente?  coisas leves, para esquecer um pouco da pandemia!  \\namanha fare... https://t.co/d9cpjkxthy\", \"bart deu o recado, entendido?\\nfique em casa. \\n\\n#bartsimpson #covid19 #fiqueemcasa #roystickers #stilodio... https://t.co/jvebnzhhxr\", \"seu sorriso e bonitao de onde vem isso? a foto ja mostra.\\n\\nsemana passada a postagem era de como a covid-19 tinha... https://t.co/fsyglgtsvv\", \"protegidos ? \\n.\\n.\\nprotected ? \\n\\n#coronavirus #covid_19 #protecao #desaceleracao #sol #brasil #povo #descuidados... https://t.co/jyean0extr\", \"boa tarde meus butterflys, como anda a sua motivacao??? estamos numa contubarda pandemia e muitas pessoas nao sabem... https://t.co/wspy135fab\", \"#repost @33fabricio with @get_repost\\n\\ncomo esta seu veiculo interno e externo com essa pandemia?\\nque tal deixar... https://t.co/ih3bitajol\", \"ha cerca de 1 mes me perguntaram \\\"se voce tivesse covid-19, voce nao iria querer ser tratado com hidroxicloroquina?... https://t.co/drabjx20ny\", \"e depois?\\nquando a pandemia passar.. \\n vamos falar de #futuro   \\n\\n deixe sugestao aqui embaixo. \\nfaca sua perg... https://t.co/ev4pzx0zm1\", \"e  brilho que fala?!?\\n\\ndesfoquei pra tentar mostrar a holografia do glitter.\\n.\\ncomprei na pandemia pela internet... https://t.co/n0kc0eqjud\", \"extra extra a quarentena acabou! tchau corona virus \\n\\ne ai, voce esta preparado para receber essa noticia?\\n.\\n.\\n.... https://t.co/id3hkgffts\", \"coronavirus: \\nporque investir em marketing digital durante a crise?\\nse voce quiser saber o porque me chama no link... https://t.co/upz70jpbdj\", \"esperar o que de um verme criminoso?\\n#impeachmentbolsonaro\\n#covid_19\\n#governadores\\n#bolsonaro\\n#inferno\\n#tiririca... https://t.co/2cu6lci0lf\", \"ei, voce ja esta sabendo? betim tera uma pesquisa sobre a covid-19 feita com moradores da cidade.\\npara voce saber c... https://t.co/sglqdveuco\", \"que feriado e hj mesmo? #sampa #work #mascarede #011 #work #covid_19 #live #metropolitan #saopaulo #sp #holiday em... https://t.co/qunokt4aw7\", \"64 dia de isolamento: vai um bolo de chocolate ai?\\n#quarentena #covid19 #ficaemcasa em jaboatao dos guararapes https://t.co/de3hlqp9fi\", \"20 mil e dais?\\n\\nchegamos a 20 mil mortes por covid-19 no brasil. sao 20 mil vidas ceifadas! ha 12 dias, quando tinh... https://t.co/mvvuvltcn4\", \"voce quer saber sobre a enfermagem na linha de frente na covid-19?\\nnao perca!!!\\ndia 22 de maio de 2020 \\nhorario: 19... https://t.co/5g25jltu2x\", \"rio 21/05/3020\\n\\ncomo voces estao convivendo nesse momento de pandemia, isolamento social e lutos coletivos?\\n\\n prec... https://t.co/morgraybhh\", \"o atleta do seculo\\ne responsavel pelas piadas de maior mal gosto do seculo... talquei?! \\n#covid19... https://t.co/fnxkeowp1r\", \"quem disse que nao tem festa por conta do corona virus?\\nfaca a sua encomenda na salgattore do seu kit fica em casa.... https://t.co/i7d1cwciw2\", \"em tempos de mascaras me diga:com qual touca eu fico melhor?\\n#covid_19 #clinicamucioporto27anos #weekend #louvre... https://t.co/mvsgxvuhcb\", \"quem tambem? curta!\\n#covid_19  #coronavirus \\n\\n_______________________________________________\\n #reflexao #maio... https://t.co/lbpe1yjdzf\", \"nao vou parar... vcs sabem ne? nessa pandemia eu decidi ir pra cima, fazer mais, nao recuar pra te ajudar a desenvo... https://t.co/kjkvl2bm64\", \"#repost @33fabricio with @get_repost\\n\\ncomo esta seu veiculo interno e externo com essa pandemia?\\nque tal deixar... https://t.co/4jbjpaxv5h\", \"perdas e danos.  no que a pandemia tem afetado minha vida? em principio houve um desaceleramento em todas as ativid... https://t.co/riefh1znvd\", \"cervejinha ao som de diogo nogueira pra relaxar, vamos ou bora? #quarentena #covid19 #ficaemcasa em esconderijo caj... https://t.co/z6eqp4rxev\", \"quem disse que nao tem festa por conta do corona virus?\\nfaca a sua encomenda na salgattore do seu kit fica em casa.... https://t.co/stsair0i0u\", \"saudade da academia ne meu filho? facil nao esta sendo, mas logo isso vai passar. #fiqueemcasa #covid19 em riacho d... https://t.co/xwvsyqyr43\", \"iai essa galera, tudo bem? esta disponivel ate amanha o link da pesquisa \\\"juventudes e a pandemia do coronavirus\\\",... https://t.co/n7i593nssf\", \"covid-19, ne?\\n\\nninguem esperava que um inimigo invisivel fizesse tantas vitimas na economia ou na saude.\\n\\nalgumas e... https://t.co/eemu5c50yx\", \"como a pandemia esta afetando o sistema prisional?\\n\\nnesta terca-feira, 26, o em debate no damasio aborda o cenario,... https://t.co/erc6q4lvkt\", \"e cloroquina ou gasolina o que e usado no tratamento da covid 19 ?\\n\\nhttps://t.co/l2k5ea18ax em manaos, amazonas, br... https://t.co/xwf0tmgafo\", \"reposted from @eleve_in como voce imagina o futuro do consumo pos pandemia? esse sera o grande tema do primeirogra... https://t.co/k8m6pqvsjs\", \"voce ja conhece a central de informacoes sobre o funcionamento do trt-18 durante a pandemia? a pagina foi criada no... https://t.co/7b1qqgwbjx\", \"adivinha quem ja se recuperou totalmente da covid-19? e bom te ver de volta ao servico, meu amigo! que os demais gu... https://t.co/ve1bsabzzq\", \"policia  federal ou fortal?\\n\\nnumero de obitos no ceara cai 90% em 2 dias!\\nnovo remedio infalivel contra o covid 1... https://t.co/biqko0pkh0\", \"tem duvidas sobre a legislacao trabalhistas em tempos de covid 19? cola nesta live promovida pelo crc-pi, onde eu e... https://t.co/dmnut2bs3c\", \"tem duvidas sobre a legislacao trabalhistas em tempos de covid 19? cola nesta live promovida pelo crc-pi, onde eu e... https://t.co/ocwy30wscn\", \"quais serao as acoes emergenciais da prefeitura para profissionais da area da cultura pela pandemia do covid-19? al... https://t.co/pku67ihg7m\", \" covid19\\n\\no sistema empregador web enlouqueceu?!?\\n\\nvoce empregador que suspendeu ou reduziu o contrato de trabalho... https://t.co/zpco09jj1k\", \"saudade dos roles que fala?\\n.\\n.\\n.\\n.\\n.\\n.\\n.\\n.\\n#covid #coronavirus #covid_19 #corona #quarentena #quarantine... https://t.co/ch7izeeu59\", \"v o c e   s a b i a  !?\\na covid-19, doenca causada pelo novo coronavirus, e assintomatica na maioria dos infectados... https://t.co/hh8lvb7a47\", \"quer fazer a diferenca na luta contra o coronavirus?\\na partir de r$ 10 voce contribui com a  doacao de alcool em ge... https://t.co/4w7wjckhve\", \"#covid19: como ajudar as criancas a lidar com o estresse durante a pandemia?\\n\\ncriancas reagem de formas diferentes... https://t.co/f4auhwkisa\", \"vamos continuar com medo ???? ate quando ??? viver com medo , e viver pela metade.... vc pode sobreviver a pandemia... https://t.co/p81ybr6slp\", \"quarentena covid-19, ate quando? em central park shopping https://t.co/by9e4tfdms\", \"saudade de uma praia no nordeste ne minha filha? #covid_19 #vaipassar em ponta negra, rio grande do norte, brazil https://t.co/kn4uebk07v\", \"viu isso? \\n.\\nreposted from imirante \\nmanifestantes queimam mascaras em protesto contra o coronavirus no maranhao;... https://t.co/mavpqurygf\", \"voce orou? pediu a deus? entao pode ter certeza que vem noticia boa por ai! eu pedi pelo fim dessa pandemia, voce t... https://t.co/6gvhlv6nfn\", \"vai sair hoje ??  #vaisairhoje #memecaixao #memes #humor #coronavirus #covid19 em em algum lugar desse mund... https://t.co/3qnn9ji3fc\", \"como serao os eventos pos pandemia? \\n.\\n.\\n.\\nvamos comecar a semana com noticia boa? vou estar com a minha amiga cer... https://t.co/1anfsacstw\", \" *voce tem feito seu planejamento para seu ministerio infantil pos pandemia?*\\n *&gt;&gt;&gt;convite especial&lt;&lt;&lt;* \\n\\n*... https://t.co/csgumlbaay\", \"se a tia da cloroquina pode, por que voce nao pode? #ods35 #facaasuaparte #covid19 #fiqueemcasa #bolsocorno... https://t.co/wssaxtbke5\", \"e para rir ou para chorar? #ods35 #facaasuaparte #covid19 #fiqueemcasa #eviteaglomeracoes #bolsocorno #antifa... https://t.co/l6a0zbnaye\", \"quais as vantagens de ser microempreendedor individual (mei)?\\no que muda para o mei por conta da pandemia da covid-... https://t.co/xuvshlalyu\", \"vamos de live de qualidade mais tarde? como tem sido conduzido o atendimento psicologico aos pacientes com covid-19... https://t.co/qv1icmpcxp\", \"precisando de um salao de beleza, ne minha filha? #pandemia #covid_19 #luna #gerbil #esquilodamongolia #mypet... https://t.co/j4jxjbufnx\", \"sim, os festejos juninos 2020 foram cancelados em toda a bahia devido a pandemia, mas e agora? como fica a situacao... https://t.co/pmhyy7gyqs\", \"sabia que o amazonas esta criando tecnologia de ponta para o tratamento do covid-19? convidei o prof. dr. ricardo_s... https://t.co/pi8miknfmw\", \"ola, pessoal. tudo bem com voces? \\n\\nvivemos momentos dificeis diante da pandemia de coronavirus (covid-19). diante... https://t.co/rqbpllanmf\", \"onde estao aqueles que defendem o \\\"protocolo\\\" da oms? \\n#oms #covid19 #cloroquina #hidroxicloroquina #coronavirus... https://t.co/c4qzgs6yei\", \"concordam?\\n\\n#impeachmentbolsonaro\\n#covid_19\\n#bolsonaro\\n#jairbolsonaro\\n#isolamentosocial\\n#distanciamentosocial... https://t.co/j4kblpvcfb\", \"quando sera que teremos a liberdade?\\n#pandemia #coronavirus #covid19 #covid #isolamento #isolamentosocial... https://t.co/8nsxo9sxyp\", \"quem disse que nao tem festa por conta do corona virus?\\nfaca a sua encomenda na salgattore.\\nencomende sua torta, se... https://t.co/cr51wapmqd\", \"quem sou? onde estou? para onde vou?\\n#pandemia #coronavirus #covid19 #covid #isolamento #isolamentosocial... https://t.co/6gndceycw8\", \"alguem poderia explicar?\\n\\npor que?\\n\\n- (1) o virus foi subestimado pela china e oms?\\n- (2) alguns remedios como... https://t.co/3nmnwgmrgw\", \"oie, gente! \\nvamos conversar um pouco?\\ncomo estao os estudos de voces durante esse periodo de pandemia?\\nestao c... https://t.co/z4rqiloe0f\", \"voce ja realizou uma higienizacao profissional em seus estofados pos pandemia? \\n\\nnos podemos lhe ajudar!\\n\\nvenha fal... https://t.co/7xruetehkg\", \"voce anda sem dormir? e tanta preocupacao! covid-19, passa alcool gel, troca de roupa, lava as maos de 10 em 10 min... https://t.co/joj2bpqjod\", \"vamos ajudar? como?\\n.\\n.\\n. em meio a pandemia, a vila vicentina recebe doacoes do grupo  mulheres do brasil - nu... https://t.co/7z7hkght7x\", \"como nao surtar em tempos de  #quarentena? \\n\\n#isolamentosocial\\n#pandemia\\n#queens\\n#dontstopmenow\\n#freddiemercury em... https://t.co/sbgfvhsbzv\", \"como nao surtar em tempos de  #quarentena? \\n\\n#isolamentosocial\\n#pandemia\\n#queens\\n#dontstopmenow\\n#freddiemercury em... https://t.co/ydbmoviv0d\", \"primeira consulta pos-pandemia \\n\\ne voces, tambem se movimentaram assim ou fizeram algo mais ousado do que isso? ... https://t.co/atusx58qg0\", \"onde estamos? para onde vamos?\\n#pandemia #coronavirus #covid19 #covid #isolamento #isolamentosocial #distanciamento... https://t.co/who1jtcoek\", \"onde vamos parar?\\n#pandemia #coronavirus #covid19 #covid #isolamento #isolamentosocial #distanciamento... https://t.co/oosi1robnu\", \"em tempos de quarentena, em qual dessas fases voce estar?\\n#querentena #covid19 #crescer  #aprender  #resiliencia em... https://t.co/vrwppzb2jl\", \"covid19, gafanhotos... o que esta faltando acontecer?\\n\\nse eu fechar os ceus, e nao houver chuva; ou se ordenar aos... https://t.co/nnefggrwrr\", \"14.245  o que e a hidroxicloroquina? https://t.co/xaxsrnb10q https://t.co/dy40zuc7wk\", \"e cade todos, ???? contar a realidade pra voces, se liberarem a hidroxicloroquina, e o numero de internacoes cair v... https://t.co/vzyphvkzfc\", \"infectologista do doria tomou ou nao tomou a hidroxicloroquina? \\n\\nao ser questionado pelo @datenaoficial sobre o us... https://t.co/heeidt1iq5\", \"e dai?  que a novalgina que todo mundo toma pra dorzinha de cabeca e sem receita medica, tambem cause arritmia card... https://t.co/qj8amn8t2i\", \"alguem sabe onde esse homem fez faculdade de medicina pra sair liberando remedio? #indignada #forabolsonaro... https://t.co/g5b75budu8\", \"\\\"... comico ou tragico?... a direita toma cloroquina e a direita tubaina, enquanto o maluco beleza, demite a regina... https://t.co/tbpkmcetqh\", \"abi pergunta: a quem interessa uso da cloroquina? em barreiras, bahia, brazil https://t.co/v22ofggpza\", \"cloroquina funciona ou nao funciona? tire voce mesmo as suas conclusoes isso e se voce e capaz disso !!!!! ou... https://t.co/fucqryewh2\", \"quantas pessoas poderiam ter sido salvas usando a cloroquina ?... https://t.co/r6r9xxb2hq\"], \"type\": \"scattergeo\"}],\n",
              "                        {\"template\": {\"data\": {\"bar\": [{\"error_x\": {\"color\": \"#2a3f5f\"}, \"error_y\": {\"color\": \"#2a3f5f\"}, \"marker\": {\"line\": {\"color\": \"#E5ECF6\", \"width\": 0.5}}, \"type\": \"bar\"}], \"barpolar\": [{\"marker\": {\"line\": {\"color\": \"#E5ECF6\", \"width\": 0.5}}, \"type\": \"barpolar\"}], \"carpet\": [{\"aaxis\": {\"endlinecolor\": \"#2a3f5f\", \"gridcolor\": \"white\", \"linecolor\": \"white\", \"minorgridcolor\": \"white\", \"startlinecolor\": \"#2a3f5f\"}, \"baxis\": {\"endlinecolor\": \"#2a3f5f\", \"gridcolor\": \"white\", \"linecolor\": \"white\", \"minorgridcolor\": \"white\", \"startlinecolor\": \"#2a3f5f\"}, \"type\": \"carpet\"}], \"choropleth\": [{\"colorbar\": {\"outlinewidth\": 0, \"ticks\": \"\"}, \"type\": \"choropleth\"}], \"contour\": [{\"colorbar\": {\"outlinewidth\": 0, \"ticks\": \"\"}, \"colorscale\": [[0.0, \"#0d0887\"], [0.1111111111111111, \"#46039f\"], [0.2222222222222222, \"#7201a8\"], [0.3333333333333333, \"#9c179e\"], [0.4444444444444444, \"#bd3786\"], [0.5555555555555556, \"#d8576b\"], [0.6666666666666666, \"#ed7953\"], [0.7777777777777778, \"#fb9f3a\"], [0.8888888888888888, \"#fdca26\"], [1.0, \"#f0f921\"]], \"type\": \"contour\"}], \"contourcarpet\": [{\"colorbar\": {\"outlinewidth\": 0, \"ticks\": \"\"}, \"type\": \"contourcarpet\"}], \"heatmap\": [{\"colorbar\": {\"outlinewidth\": 0, \"ticks\": \"\"}, \"colorscale\": [[0.0, \"#0d0887\"], [0.1111111111111111, \"#46039f\"], [0.2222222222222222, \"#7201a8\"], [0.3333333333333333, \"#9c179e\"], [0.4444444444444444, \"#bd3786\"], [0.5555555555555556, \"#d8576b\"], [0.6666666666666666, \"#ed7953\"], [0.7777777777777778, \"#fb9f3a\"], [0.8888888888888888, \"#fdca26\"], [1.0, \"#f0f921\"]], \"type\": \"heatmap\"}], \"heatmapgl\": [{\"colorbar\": {\"outlinewidth\": 0, \"ticks\": \"\"}, \"colorscale\": [[0.0, \"#0d0887\"], [0.1111111111111111, \"#46039f\"], [0.2222222222222222, \"#7201a8\"], [0.3333333333333333, \"#9c179e\"], [0.4444444444444444, \"#bd3786\"], [0.5555555555555556, \"#d8576b\"], [0.6666666666666666, \"#ed7953\"], [0.7777777777777778, \"#fb9f3a\"], [0.8888888888888888, \"#fdca26\"], [1.0, \"#f0f921\"]], \"type\": \"heatmapgl\"}], \"histogram\": [{\"marker\": {\"colorbar\": {\"outlinewidth\": 0, \"ticks\": \"\"}}, \"type\": \"histogram\"}], \"histogram2d\": [{\"colorbar\": {\"outlinewidth\": 0, \"ticks\": \"\"}, \"colorscale\": [[0.0, \"#0d0887\"], [0.1111111111111111, \"#46039f\"], [0.2222222222222222, \"#7201a8\"], [0.3333333333333333, \"#9c179e\"], [0.4444444444444444, \"#bd3786\"], [0.5555555555555556, \"#d8576b\"], [0.6666666666666666, \"#ed7953\"], [0.7777777777777778, \"#fb9f3a\"], [0.8888888888888888, \"#fdca26\"], [1.0, \"#f0f921\"]], \"type\": \"histogram2d\"}], \"histogram2dcontour\": [{\"colorbar\": {\"outlinewidth\": 0, \"ticks\": \"\"}, \"colorscale\": [[0.0, \"#0d0887\"], [0.1111111111111111, \"#46039f\"], [0.2222222222222222, \"#7201a8\"], [0.3333333333333333, \"#9c179e\"], [0.4444444444444444, \"#bd3786\"], [0.5555555555555556, \"#d8576b\"], [0.6666666666666666, \"#ed7953\"], [0.7777777777777778, \"#fb9f3a\"], [0.8888888888888888, \"#fdca26\"], [1.0, \"#f0f921\"]], \"type\": \"histogram2dcontour\"}], \"mesh3d\": [{\"colorbar\": {\"outlinewidth\": 0, \"ticks\": \"\"}, \"type\": \"mesh3d\"}], \"parcoords\": [{\"line\": {\"colorbar\": {\"outlinewidth\": 0, \"ticks\": \"\"}}, \"type\": \"parcoords\"}], \"pie\": [{\"automargin\": true, \"type\": \"pie\"}], \"scatter\": [{\"marker\": {\"colorbar\": {\"outlinewidth\": 0, \"ticks\": \"\"}}, \"type\": \"scatter\"}], \"scatter3d\": [{\"line\": {\"colorbar\": {\"outlinewidth\": 0, \"ticks\": \"\"}}, \"marker\": {\"colorbar\": {\"outlinewidth\": 0, \"ticks\": \"\"}}, \"type\": \"scatter3d\"}], \"scattercarpet\": [{\"marker\": {\"colorbar\": {\"outlinewidth\": 0, \"ticks\": \"\"}}, \"type\": \"scattercarpet\"}], \"scattergeo\": [{\"marker\": {\"colorbar\": {\"outlinewidth\": 0, \"ticks\": \"\"}}, \"type\": \"scattergeo\"}], \"scattergl\": [{\"marker\": {\"colorbar\": {\"outlinewidth\": 0, \"ticks\": \"\"}}, \"type\": \"scattergl\"}], \"scattermapbox\": [{\"marker\": {\"colorbar\": {\"outlinewidth\": 0, \"ticks\": \"\"}}, \"type\": \"scattermapbox\"}], \"scatterpolar\": [{\"marker\": {\"colorbar\": {\"outlinewidth\": 0, \"ticks\": \"\"}}, \"type\": \"scatterpolar\"}], \"scatterpolargl\": [{\"marker\": {\"colorbar\": {\"outlinewidth\": 0, \"ticks\": \"\"}}, \"type\": \"scatterpolargl\"}], \"scatterternary\": [{\"marker\": {\"colorbar\": {\"outlinewidth\": 0, \"ticks\": \"\"}}, \"type\": \"scatterternary\"}], \"surface\": [{\"colorbar\": {\"outlinewidth\": 0, \"ticks\": \"\"}, \"colorscale\": [[0.0, \"#0d0887\"], [0.1111111111111111, \"#46039f\"], [0.2222222222222222, \"#7201a8\"], [0.3333333333333333, \"#9c179e\"], [0.4444444444444444, \"#bd3786\"], [0.5555555555555556, \"#d8576b\"], [0.6666666666666666, \"#ed7953\"], [0.7777777777777778, \"#fb9f3a\"], [0.8888888888888888, \"#fdca26\"], [1.0, \"#f0f921\"]], \"type\": \"surface\"}], \"table\": [{\"cells\": {\"fill\": {\"color\": \"#EBF0F8\"}, \"line\": {\"color\": \"white\"}}, \"header\": {\"fill\": {\"color\": \"#C8D4E3\"}, \"line\": {\"color\": \"white\"}}, \"type\": \"table\"}]}, \"layout\": {\"annotationdefaults\": {\"arrowcolor\": \"#2a3f5f\", \"arrowhead\": 0, \"arrowwidth\": 1}, \"coloraxis\": {\"colorbar\": {\"outlinewidth\": 0, \"ticks\": \"\"}}, \"colorscale\": {\"diverging\": [[0, \"#8e0152\"], [0.1, \"#c51b7d\"], [0.2, \"#de77ae\"], [0.3, \"#f1b6da\"], [0.4, \"#fde0ef\"], [0.5, \"#f7f7f7\"], [0.6, \"#e6f5d0\"], [0.7, \"#b8e186\"], [0.8, \"#7fbc41\"], [0.9, \"#4d9221\"], [1, \"#276419\"]], \"sequential\": [[0.0, \"#0d0887\"], [0.1111111111111111, \"#46039f\"], [0.2222222222222222, \"#7201a8\"], [0.3333333333333333, \"#9c179e\"], [0.4444444444444444, \"#bd3786\"], [0.5555555555555556, \"#d8576b\"], [0.6666666666666666, \"#ed7953\"], [0.7777777777777778, \"#fb9f3a\"], [0.8888888888888888, \"#fdca26\"], [1.0, \"#f0f921\"]], \"sequentialminus\": [[0.0, \"#0d0887\"], [0.1111111111111111, \"#46039f\"], [0.2222222222222222, \"#7201a8\"], [0.3333333333333333, \"#9c179e\"], [0.4444444444444444, \"#bd3786\"], [0.5555555555555556, \"#d8576b\"], [0.6666666666666666, \"#ed7953\"], [0.7777777777777778, \"#fb9f3a\"], [0.8888888888888888, \"#fdca26\"], [1.0, \"#f0f921\"]]}, \"colorway\": [\"#636efa\", \"#EF553B\", \"#00cc96\", \"#ab63fa\", \"#FFA15A\", \"#19d3f3\", \"#FF6692\", \"#B6E880\", \"#FF97FF\", \"#FECB52\"], \"font\": {\"color\": \"#2a3f5f\"}, \"geo\": {\"bgcolor\": \"white\", \"lakecolor\": \"white\", \"landcolor\": \"#E5ECF6\", \"showlakes\": true, \"showland\": true, \"subunitcolor\": \"white\"}, \"hoverlabel\": {\"align\": \"left\"}, \"hovermode\": \"closest\", \"mapbox\": {\"style\": \"light\"}, \"paper_bgcolor\": \"white\", \"plot_bgcolor\": \"#E5ECF6\", \"polar\": {\"angularaxis\": {\"gridcolor\": \"white\", \"linecolor\": \"white\", \"ticks\": \"\"}, \"bgcolor\": \"#E5ECF6\", \"radialaxis\": {\"gridcolor\": \"white\", \"linecolor\": \"white\", \"ticks\": \"\"}}, \"scene\": {\"xaxis\": {\"backgroundcolor\": \"#E5ECF6\", \"gridcolor\": \"white\", \"gridwidth\": 2, \"linecolor\": \"white\", \"showbackground\": true, \"ticks\": \"\", \"zerolinecolor\": \"white\"}, \"yaxis\": {\"backgroundcolor\": \"#E5ECF6\", \"gridcolor\": \"white\", \"gridwidth\": 2, \"linecolor\": \"white\", \"showbackground\": true, \"ticks\": \"\", \"zerolinecolor\": \"white\"}, \"zaxis\": {\"backgroundcolor\": \"#E5ECF6\", \"gridcolor\": \"white\", \"gridwidth\": 2, \"linecolor\": \"white\", \"showbackground\": true, \"ticks\": \"\", \"zerolinecolor\": \"white\"}}, \"shapedefaults\": {\"line\": {\"color\": \"#2a3f5f\"}}, \"ternary\": {\"aaxis\": {\"gridcolor\": \"white\", \"linecolor\": \"white\", \"ticks\": \"\"}, \"baxis\": {\"gridcolor\": \"white\", \"linecolor\": \"white\", \"ticks\": \"\"}, \"bgcolor\": \"#E5ECF6\", \"caxis\": {\"gridcolor\": \"white\", \"linecolor\": \"white\", \"ticks\": \"\"}}, \"title\": {\"x\": 0.05}, \"xaxis\": {\"automargin\": true, \"gridcolor\": \"white\", \"linecolor\": \"white\", \"ticks\": \"\", \"title\": {\"standoff\": 15}, \"zerolinecolor\": \"white\", \"zerolinewidth\": 2}, \"yaxis\": {\"automargin\": true, \"gridcolor\": \"white\", \"linecolor\": \"white\", \"ticks\": \"\", \"title\": {\"standoff\": 15}, \"zerolinecolor\": \"white\", \"zerolinewidth\": 2}}}, \"title\": {\"text\": \"Most trafficked US airports<br>(Hover for airport names)\"}},\n",
              "                        {\"responsive\": true}\n",
              "                    ).then(function(){\n",
              "                            \n",
              "var gd = document.getElementById('15421684-8129-4b05-b59f-3479a3615ace');\n",
              "var x = new MutationObserver(function (mutations, observer) {{\n",
              "        var display = window.getComputedStyle(gd).display;\n",
              "        if (!display || display === 'none') {{\n",
              "            console.log([gd, 'removed!']);\n",
              "            Plotly.purge(gd);\n",
              "            observer.disconnect();\n",
              "        }}\n",
              "}});\n",
              "\n",
              "// Listen for the removal of the full notebook cells\n",
              "var notebookContainer = gd.closest('#notebook-container');\n",
              "if (notebookContainer) {{\n",
              "    x.observe(notebookContainer, {childList: true});\n",
              "}}\n",
              "\n",
              "// Listen for the clearing of the current output cell\n",
              "var outputEl = gd.closest('.output');\n",
              "if (outputEl) {{\n",
              "    x.observe(outputEl, {childList: true});\n",
              "}}\n",
              "\n",
              "                        })\n",
              "                };\n",
              "                \n",
              "            </script>\n",
              "        </div>\n",
              "</body>\n",
              "</html>"
            ]
          },
          "metadata": {
            "tags": []
          }
        }
      ]
    }
  ]
}