{
  "nbformat": 4,
  "nbformat_minor": 0,
  "metadata": {
    "colab": {
      "name": "Covid_19.ipynb",
      "provenance": [],
      "toc_visible": true,
      "include_colab_link": true
    },
    "kernelspec": {
      "name": "python3",
      "display_name": "Python 3"
    }
  },
  "cells": [
    {
      "cell_type": "markdown",
      "metadata": {
        "id": "view-in-github",
        "colab_type": "text"
      },
      "source": [
        "<a href=\"https://colab.research.google.com/github/Mirnada/Covid_19/blob/master/Covid_19.ipynb\" target=\"_parent\"><img src=\"https://colab.research.google.com/assets/colab-badge.svg\" alt=\"Open In Colab\"/></a>"
      ]
    },
    {
      "cell_type": "markdown",
      "metadata": {
        "id": "7cL7fmW2aCE_"
      },
      "source": [
        "# Análise dos dados do Covid_19\n",
        "\n",
        "\n",
        "\n"
      ]
    },
    {
      "cell_type": "markdown",
      "metadata": {
        "id": "Az3vruND0jVI"
      },
      "source": [
        "## Montando o Drive"
      ]
    },
    {
      "cell_type": "code",
      "metadata": {
        "id": "CtXBSRhf0mt-",
        "outputId": "99884cb8-228d-470a-fcb1-69d5e4738644",
        "colab": {
          "base_uri": "https://localhost:8080/",
          "height": 54
        }
      },
      "source": [
        "from google.colab import drive\n",
        "\n",
        "drive.mount('/content/drive')"
      ],
      "execution_count": 9,
      "outputs": [
        {
          "output_type": "stream",
          "text": [
            "Drive already mounted at /content/drive; to attempt to forcibly remount, call drive.mount(\"/content/drive\", force_remount=True).\n"
          ],
          "name": "stdout"
        }
      ]
    },
    {
      "cell_type": "markdown",
      "metadata": {
        "id": "E4leXC2ps27j"
      },
      "source": [
        "## Importando bibliotecas"
      ]
    },
    {
      "cell_type": "code",
      "metadata": {
        "id": "mlTix7VotEkL",
        "outputId": "8799c60a-cd06-441e-b667-5c83f07dcb50",
        "colab": {
          "base_uri": "https://localhost:8080/",
          "height": 394
        }
      },
      "source": [
        "import pandas as pd\n",
        "\n",
        "df = pd.read_csv('/content/drive/My Drive/Datasets/dados-curso-completo.csv')\n",
        "df.tail()"
      ],
      "execution_count": 10,
      "outputs": [
        {
          "output_type": "execute_result",
          "data": {
            "text/html": [
              "<div>\n",
              "<style scoped>\n",
              "    .dataframe tbody tr th:only-of-type {\n",
              "        vertical-align: middle;\n",
              "    }\n",
              "\n",
              "    .dataframe tbody tr th {\n",
              "        vertical-align: top;\n",
              "    }\n",
              "\n",
              "    .dataframe thead th {\n",
              "        text-align: right;\n",
              "    }\n",
              "</style>\n",
              "<table border=\"1\" class=\"dataframe\">\n",
              "  <thead>\n",
              "    <tr style=\"text-align: right;\">\n",
              "      <th></th>\n",
              "      <th>data</th>\n",
              "      <th>usuario</th>\n",
              "      <th>apelido</th>\n",
              "      <th>texto</th>\n",
              "      <th>retweet</th>\n",
              "      <th>seguidores</th>\n",
              "      <th>idioma</th>\n",
              "      <th>lugar</th>\n",
              "      <th>pais</th>\n",
              "      <th>sigla</th>\n",
              "      <th>latitude</th>\n",
              "      <th>longitude</th>\n",
              "      <th>hashtags</th>\n",
              "    </tr>\n",
              "  </thead>\n",
              "  <tbody>\n",
              "    <tr>\n",
              "      <th>1658820</th>\n",
              "      <td>2020-03-13 17:26:18</td>\n",
              "      <td>broca</td>\n",
              "      <td>whoisdrill</td>\n",
              "      <td>oms: tamo tendo pandemia evitar\\n conglomerado...</td>\n",
              "      <td>0</td>\n",
              "      <td>361</td>\n",
              "      <td>pt</td>\n",
              "      <td>NaN</td>\n",
              "      <td>NaN</td>\n",
              "      <td>NaN</td>\n",
              "      <td>NaN</td>\n",
              "      <td>NaN</td>\n",
              "      <td>[]</td>\n",
              "    </tr>\n",
              "    <tr>\n",
              "      <th>1658821</th>\n",
              "      <td>2020-05-12 13:02:34</td>\n",
              "      <td>Renato 🇧🇷</td>\n",
              "      <td>VerdadeExpress</td>\n",
              "      <td>@OsmarTerra Sr. Osmar Terra, gostaria de ouvir...</td>\n",
              "      <td>0</td>\n",
              "      <td>4066</td>\n",
              "      <td>pt</td>\n",
              "      <td>NaN</td>\n",
              "      <td>NaN</td>\n",
              "      <td>NaN</td>\n",
              "      <td>NaN</td>\n",
              "      <td>NaN</td>\n",
              "      <td>[]</td>\n",
              "    </tr>\n",
              "    <tr>\n",
              "      <th>1658822</th>\n",
              "      <td>2020-03-19 18:16:30</td>\n",
              "      <td>eugeniocosta8</td>\n",
              "      <td>EugenioCosta8</td>\n",
              "      <td>CIENTISTA DE HARVARD PREVÊ QUE ATÉ 70% DO MUND...</td>\n",
              "      <td>3</td>\n",
              "      <td>5307</td>\n",
              "      <td>pt</td>\n",
              "      <td>NaN</td>\n",
              "      <td>NaN</td>\n",
              "      <td>NaN</td>\n",
              "      <td>NaN</td>\n",
              "      <td>NaN</td>\n",
              "      <td>['CORONAVIRUS']</td>\n",
              "    </tr>\n",
              "    <tr>\n",
              "      <th>1658823</th>\n",
              "      <td>2020-04-07 18:14:45</td>\n",
              "      <td>Wagner Mota - Seriedade + Geek</td>\n",
              "      <td>wagnermota75</td>\n",
              "      <td>#BolsonaroTemRazaoSim porque, quando a prefeit...</td>\n",
              "      <td>0</td>\n",
              "      <td>1000</td>\n",
              "      <td>pt</td>\n",
              "      <td>NaN</td>\n",
              "      <td>NaN</td>\n",
              "      <td>NaN</td>\n",
              "      <td>NaN</td>\n",
              "      <td>NaN</td>\n",
              "      <td>['BolsonaroTemRazaoSim']</td>\n",
              "    </tr>\n",
              "    <tr>\n",
              "      <th>1658824</th>\n",
              "      <td>2020-06-02 16:04:51</td>\n",
              "      <td>Fotógrafo</td>\n",
              "      <td>omarcelogoulart</td>\n",
              "      <td>Em meio a uma pandemia, estamos na luta também...</td>\n",
              "      <td>0</td>\n",
              "      <td>726</td>\n",
              "      <td>pt</td>\n",
              "      <td>São Félix do Araguaia</td>\n",
              "      <td>Brazil</td>\n",
              "      <td>BR</td>\n",
              "      <td>-53.0</td>\n",
              "      <td>-11.0</td>\n",
              "      <td>[]</td>\n",
              "    </tr>\n",
              "  </tbody>\n",
              "</table>\n",
              "</div>"
            ],
            "text/plain": [
              "                        data  ...                  hashtags\n",
              "1658820  2020-03-13 17:26:18  ...                        []\n",
              "1658821  2020-05-12 13:02:34  ...                        []\n",
              "1658822  2020-03-19 18:16:30  ...           ['CORONAVIRUS']\n",
              "1658823  2020-04-07 18:14:45  ...  ['BolsonaroTemRazaoSim']\n",
              "1658824  2020-06-02 16:04:51  ...                        []\n",
              "\n",
              "[5 rows x 13 columns]"
            ]
          },
          "metadata": {
            "tags": []
          },
          "execution_count": 10
        }
      ]
    },
    {
      "cell_type": "markdown",
      "metadata": {
        "id": "crTmK5fuN_Yz"
      },
      "source": [
        "Analisando os 10 primeiros registros"
      ]
    },
    {
      "cell_type": "code",
      "metadata": {
        "id": "Ne1FJRpzOIXD",
        "outputId": "02622fdc-f1dd-4956-9f40-921aad421066",
        "colab": {
          "base_uri": "https://localhost:8080/",
          "height": 974
        }
      },
      "source": [
        "df.head(10)"
      ],
      "execution_count": 11,
      "outputs": [
        {
          "output_type": "execute_result",
          "data": {
            "text/html": [
              "<div>\n",
              "<style scoped>\n",
              "    .dataframe tbody tr th:only-of-type {\n",
              "        vertical-align: middle;\n",
              "    }\n",
              "\n",
              "    .dataframe tbody tr th {\n",
              "        vertical-align: top;\n",
              "    }\n",
              "\n",
              "    .dataframe thead th {\n",
              "        text-align: right;\n",
              "    }\n",
              "</style>\n",
              "<table border=\"1\" class=\"dataframe\">\n",
              "  <thead>\n",
              "    <tr style=\"text-align: right;\">\n",
              "      <th></th>\n",
              "      <th>data</th>\n",
              "      <th>usuario</th>\n",
              "      <th>apelido</th>\n",
              "      <th>texto</th>\n",
              "      <th>retweet</th>\n",
              "      <th>seguidores</th>\n",
              "      <th>idioma</th>\n",
              "      <th>lugar</th>\n",
              "      <th>pais</th>\n",
              "      <th>sigla</th>\n",
              "      <th>latitude</th>\n",
              "      <th>longitude</th>\n",
              "      <th>hashtags</th>\n",
              "    </tr>\n",
              "  </thead>\n",
              "  <tbody>\n",
              "    <tr>\n",
              "      <th>0</th>\n",
              "      <td>2020-03-23 18:51:14</td>\n",
              "      <td>Gaboardi</td>\n",
              "      <td>fraslee</td>\n",
              "      <td>@BolsonaroSP Cade o fundão deputado??? Congres...</td>\n",
              "      <td>0</td>\n",
              "      <td>138</td>\n",
              "      <td>pt</td>\n",
              "      <td>NaN</td>\n",
              "      <td>NaN</td>\n",
              "      <td>NaN</td>\n",
              "      <td>NaN</td>\n",
              "      <td>NaN</td>\n",
              "      <td>[]</td>\n",
              "    </tr>\n",
              "    <tr>\n",
              "      <th>1</th>\n",
              "      <td>2020-03-18 03:18:14</td>\n",
              "      <td>Seu Zé da Farmácia</td>\n",
              "      <td>seuzedafarmacia</td>\n",
              "      <td>Em ação preventiva, o Governo do Estado suspen...</td>\n",
              "      <td>0</td>\n",
              "      <td>56</td>\n",
              "      <td>pt</td>\n",
              "      <td>NaN</td>\n",
              "      <td>NaN</td>\n",
              "      <td>NaN</td>\n",
              "      <td>NaN</td>\n",
              "      <td>NaN</td>\n",
              "      <td>[]</td>\n",
              "    </tr>\n",
              "    <tr>\n",
              "      <th>2</th>\n",
              "      <td>2020-03-29 12:09:27</td>\n",
              "      <td>Marília Oliveira 🇧🇷</td>\n",
              "      <td>Marioliveira_gb</td>\n",
              "      <td>Incrível como os defensores do fim do distanci...</td>\n",
              "      <td>0</td>\n",
              "      <td>5</td>\n",
              "      <td>pt</td>\n",
              "      <td>NaN</td>\n",
              "      <td>NaN</td>\n",
              "      <td>NaN</td>\n",
              "      <td>NaN</td>\n",
              "      <td>NaN</td>\n",
              "      <td>[]</td>\n",
              "    </tr>\n",
              "    <tr>\n",
              "      <th>3</th>\n",
              "      <td>2020-04-01 21:11:07</td>\n",
              "      <td>🚩</td>\n",
              "      <td>santosodeto</td>\n",
              "      <td>Fumaça de cigarro pode propagar coronavírus? h...</td>\n",
              "      <td>0</td>\n",
              "      <td>1885</td>\n",
              "      <td>pt</td>\n",
              "      <td>NaN</td>\n",
              "      <td>NaN</td>\n",
              "      <td>NaN</td>\n",
              "      <td>NaN</td>\n",
              "      <td>NaN</td>\n",
              "      <td>[]</td>\n",
              "    </tr>\n",
              "    <tr>\n",
              "      <th>4</th>\n",
              "      <td>2020-03-19 17:49:40</td>\n",
              "      <td>Nova Impressão</td>\n",
              "      <td>novaimpressao_</td>\n",
              "      <td>🚨Todos juntos contra COVID-19💪\\n\\nSolicite seu...</td>\n",
              "      <td>0</td>\n",
              "      <td>124</td>\n",
              "      <td>pt</td>\n",
              "      <td>Brasília</td>\n",
              "      <td>Brazil</td>\n",
              "      <td>BR</td>\n",
              "      <td>-47.8778</td>\n",
              "      <td>-15.77691</td>\n",
              "      <td>[]</td>\n",
              "    </tr>\n",
              "    <tr>\n",
              "      <th>5</th>\n",
              "      <td>2020-05-08 11:21:36</td>\n",
              "      <td>Marcel Silvano</td>\n",
              "      <td>marcelsilvano</td>\n",
              "      <td>Importantes avanços! A pesquisa brasileira, a ...</td>\n",
              "      <td>4</td>\n",
              "      <td>2769</td>\n",
              "      <td>pt</td>\n",
              "      <td>Macaé</td>\n",
              "      <td>Brazil</td>\n",
              "      <td>BR</td>\n",
              "      <td>NaN</td>\n",
              "      <td>NaN</td>\n",
              "      <td>[]</td>\n",
              "    </tr>\n",
              "    <tr>\n",
              "      <th>6</th>\n",
              "      <td>2020-03-10 21:27:40</td>\n",
              "      <td>Teixeira Correia</td>\n",
              "      <td>LidadorNoticias</td>\n",
              "      <td>(Última hora) Volta ao Alentejo: Anulada por c...</td>\n",
              "      <td>0</td>\n",
              "      <td>39</td>\n",
              "      <td>pt</td>\n",
              "      <td>NaN</td>\n",
              "      <td>NaN</td>\n",
              "      <td>NaN</td>\n",
              "      <td>NaN</td>\n",
              "      <td>NaN</td>\n",
              "      <td>[]</td>\n",
              "    </tr>\n",
              "    <tr>\n",
              "      <th>7</th>\n",
              "      <td>2020-06-04 13:22:21</td>\n",
              "      <td>Thiago Moraes</td>\n",
              "      <td>ThiagoMoraesPB</td>\n",
              "      <td>João Pessoa tem queda no isolamento social por...</td>\n",
              "      <td>1</td>\n",
              "      <td>3578</td>\n",
              "      <td>pt</td>\n",
              "      <td>NaN</td>\n",
              "      <td>NaN</td>\n",
              "      <td>NaN</td>\n",
              "      <td>NaN</td>\n",
              "      <td>NaN</td>\n",
              "      <td>[]</td>\n",
              "    </tr>\n",
              "    <tr>\n",
              "      <th>8</th>\n",
              "      <td>2020-05-07 21:32:12</td>\n",
              "      <td>PT Brasil</td>\n",
              "      <td>ptbrasil</td>\n",
              "      <td>A #tvPT de hoje vai falar sobre a pandemia na ...</td>\n",
              "      <td>10</td>\n",
              "      <td>942696</td>\n",
              "      <td>pt</td>\n",
              "      <td>NaN</td>\n",
              "      <td>NaN</td>\n",
              "      <td>NaN</td>\n",
              "      <td>NaN</td>\n",
              "      <td>NaN</td>\n",
              "      <td>['tvPT']</td>\n",
              "    </tr>\n",
              "    <tr>\n",
              "      <th>9</th>\n",
              "      <td>2020-03-11 20:27:49</td>\n",
              "      <td>Niquito ;)</td>\n",
              "      <td>NLazaroto</td>\n",
              "      <td>O Coronavirús causou uma pandemia e eu ainda n...</td>\n",
              "      <td>0</td>\n",
              "      <td>215</td>\n",
              "      <td>pt</td>\n",
              "      <td>NaN</td>\n",
              "      <td>NaN</td>\n",
              "      <td>NaN</td>\n",
              "      <td>NaN</td>\n",
              "      <td>NaN</td>\n",
              "      <td>[]</td>\n",
              "    </tr>\n",
              "  </tbody>\n",
              "</table>\n",
              "</div>"
            ],
            "text/plain": [
              "                  data              usuario  ... longitude  hashtags\n",
              "0  2020-03-23 18:51:14             Gaboardi  ...       NaN        []\n",
              "1  2020-03-18 03:18:14   Seu Zé da Farmácia  ...       NaN        []\n",
              "2  2020-03-29 12:09:27  Marília Oliveira 🇧🇷  ...       NaN        []\n",
              "3  2020-04-01 21:11:07                    🚩  ...       NaN        []\n",
              "4  2020-03-19 17:49:40       Nova Impressão  ... -15.77691        []\n",
              "5  2020-05-08 11:21:36       Marcel Silvano  ...       NaN        []\n",
              "6  2020-03-10 21:27:40     Teixeira Correia  ...       NaN        []\n",
              "7  2020-06-04 13:22:21        Thiago Moraes  ...       NaN        []\n",
              "8  2020-05-07 21:32:12            PT Brasil  ...       NaN  ['tvPT']\n",
              "9  2020-03-11 20:27:49           Niquito ;)  ...       NaN        []\n",
              "\n",
              "[10 rows x 13 columns]"
            ]
          },
          "metadata": {
            "tags": []
          },
          "execution_count": 11
        }
      ]
    },
    {
      "cell_type": "markdown",
      "metadata": {
        "id": "0ZS8756gPPef"
      },
      "source": [
        "Aanalisando os dados numericos"
      ]
    },
    {
      "cell_type": "code",
      "metadata": {
        "id": "N_jZBQsFxtO4",
        "outputId": "648a73d0-c60f-4101-a791-d2d046afe678",
        "colab": {
          "base_uri": "https://localhost:8080/",
          "height": 170
        }
      },
      "source": [
        "df.retweet.describe()"
      ],
      "execution_count": 21,
      "outputs": [
        {
          "output_type": "execute_result",
          "data": {
            "text/plain": [
              "count    1.658825e+06\n",
              "mean     1.978533e+02\n",
              "std      6.337641e+03\n",
              "min      0.000000e+00\n",
              "25%      0.000000e+00\n",
              "50%      0.000000e+00\n",
              "75%      0.000000e+00\n",
              "max      1.139763e+06\n",
              "Name: retweet, dtype: float64"
            ]
          },
          "metadata": {
            "tags": []
          },
          "execution_count": 21
        }
      ]
    },
    {
      "cell_type": "code",
      "metadata": {
        "id": "ks5b5w8hPYL_",
        "outputId": "7ab4741c-a376-4cf2-89b6-304e05881b3a",
        "colab": {
          "base_uri": "https://localhost:8080/",
          "height": 297
        }
      },
      "source": [
        "df.describe()"
      ],
      "execution_count": 12,
      "outputs": [
        {
          "output_type": "execute_result",
          "data": {
            "text/html": [
              "<div>\n",
              "<style scoped>\n",
              "    .dataframe tbody tr th:only-of-type {\n",
              "        vertical-align: middle;\n",
              "    }\n",
              "\n",
              "    .dataframe tbody tr th {\n",
              "        vertical-align: top;\n",
              "    }\n",
              "\n",
              "    .dataframe thead th {\n",
              "        text-align: right;\n",
              "    }\n",
              "</style>\n",
              "<table border=\"1\" class=\"dataframe\">\n",
              "  <thead>\n",
              "    <tr style=\"text-align: right;\">\n",
              "      <th></th>\n",
              "      <th>retweet</th>\n",
              "      <th>seguidores</th>\n",
              "      <th>latitude</th>\n",
              "      <th>longitude</th>\n",
              "    </tr>\n",
              "  </thead>\n",
              "  <tbody>\n",
              "    <tr>\n",
              "      <th>count</th>\n",
              "      <td>1.658825e+06</td>\n",
              "      <td>1.658825e+06</td>\n",
              "      <td>8720.000000</td>\n",
              "      <td>8720.000000</td>\n",
              "    </tr>\n",
              "    <tr>\n",
              "      <th>mean</th>\n",
              "      <td>1.978533e+02</td>\n",
              "      <td>3.257206e+04</td>\n",
              "      <td>-40.237583</td>\n",
              "      <td>-11.117100</td>\n",
              "    </tr>\n",
              "    <tr>\n",
              "      <th>std</th>\n",
              "      <td>6.337641e+03</td>\n",
              "      <td>3.680300e+05</td>\n",
              "      <td>20.808494</td>\n",
              "      <td>19.169105</td>\n",
              "    </tr>\n",
              "    <tr>\n",
              "      <th>min</th>\n",
              "      <td>0.000000e+00</td>\n",
              "      <td>0.000000e+00</td>\n",
              "      <td>-123.120400</td>\n",
              "      <td>-37.818769</td>\n",
              "    </tr>\n",
              "    <tr>\n",
              "      <th>25%</th>\n",
              "      <td>0.000000e+00</td>\n",
              "      <td>1.010000e+02</td>\n",
              "      <td>-47.864334</td>\n",
              "      <td>-23.305300</td>\n",
              "    </tr>\n",
              "    <tr>\n",
              "      <th>50%</th>\n",
              "      <td>0.000000e+00</td>\n",
              "      <td>3.800000e+02</td>\n",
              "      <td>-43.955615</td>\n",
              "      <td>-19.624400</td>\n",
              "    </tr>\n",
              "    <tr>\n",
              "      <th>75%</th>\n",
              "      <td>0.000000e+00</td>\n",
              "      <td>1.470000e+03</td>\n",
              "      <td>-38.453198</td>\n",
              "      <td>-7.120700</td>\n",
              "    </tr>\n",
              "    <tr>\n",
              "      <th>max</th>\n",
              "      <td>1.139763e+06</td>\n",
              "      <td>8.424125e+07</td>\n",
              "      <td>174.789310</td>\n",
              "      <td>58.257776</td>\n",
              "    </tr>\n",
              "  </tbody>\n",
              "</table>\n",
              "</div>"
            ],
            "text/plain": [
              "            retweet    seguidores     latitude    longitude\n",
              "count  1.658825e+06  1.658825e+06  8720.000000  8720.000000\n",
              "mean   1.978533e+02  3.257206e+04   -40.237583   -11.117100\n",
              "std    6.337641e+03  3.680300e+05    20.808494    19.169105\n",
              "min    0.000000e+00  0.000000e+00  -123.120400   -37.818769\n",
              "25%    0.000000e+00  1.010000e+02   -47.864334   -23.305300\n",
              "50%    0.000000e+00  3.800000e+02   -43.955615   -19.624400\n",
              "75%    0.000000e+00  1.470000e+03   -38.453198    -7.120700\n",
              "max    1.139763e+06  8.424125e+07   174.789310    58.257776"
            ]
          },
          "metadata": {
            "tags": []
          },
          "execution_count": 12
        }
      ]
    },
    {
      "cell_type": "markdown",
      "metadata": {
        "id": "oWGrmMDTPZW3"
      },
      "source": [
        "Fazendo uma contagem no texto"
      ]
    },
    {
      "cell_type": "code",
      "metadata": {
        "id": "FF5AYG0hPrNn",
        "outputId": "9764d33f-b94f-4e32-d073-780fe113a3d1",
        "colab": {
          "base_uri": "https://localhost:8080/",
          "height": 241
        }
      },
      "source": [
        "df['texto'].value_counts()"
      ],
      "execution_count": 13,
      "outputs": [
        {
          "output_type": "execute_result",
          "data": {
            "text/plain": [
              "covid 19? desculpa eu entendi convite pra ficar de love                                                                                         120\n",
              "e vamos de pandemia                                                                                                                              82\n",
              "Tem muitos infectados, mas não é de coronavírus, é de maldade e inveja...                                                                        70\n",
              "e vamos de isolamento social                                                                                                                     63\n",
              "#Podcast - Tudo sobre o #Coronavirus aqui. Ouça informações e números atualizados do #COVID19 #G1 https://t.co/eyFxEDgVFW                        50\n",
              "                                                                                                                                               ... \n",
              "coitada o medo do coronavirus fez a mina usar máscara https://t.co/aev0dqcLCt                                                                     1\n",
              "Bom dia, veja os destaques da edição impressa do Estado de Minas desta sexta-feira, 22 de maio de 2020. Leia mais:… https://t.co/YowasNeCpx       1\n",
              "Acabei de sair do Hosp. Unimed da Barra, onde meu primo Antonio Carlos de 67 anos, há 16 dias foi detectado com o C… https://t.co/5WIgaVEGQI      1\n",
              "@biiasampaio3 @Justineleepkaln é pra espantar o coronavírus                                                                                       1\n",
              "Vamo se vê sim quando a pandemia acabar po\\n\\nno inferno                                                                                          1\n",
              "Name: texto, Length: 1653599, dtype: int64"
            ]
          },
          "metadata": {
            "tags": []
          },
          "execution_count": 13
        }
      ]
    },
    {
      "cell_type": "markdown",
      "metadata": {
        "id": "QcRKT4NJPsxK"
      },
      "source": [
        "Analisando as palavras do texto"
      ]
    },
    {
      "cell_type": "code",
      "metadata": {
        "id": "ZO5mtH46P6U1"
      },
      "source": [
        "textos = df['texto']"
      ],
      "execution_count": 15,
      "outputs": []
    },
    {
      "cell_type": "code",
      "metadata": {
        "id": "CdoWMTdVv6az",
        "outputId": "0a4c12e3-18c2-449c-91cb-96ca9c67a119",
        "colab": {
          "base_uri": "https://localhost:8080/",
          "height": 221
        }
      },
      "source": [
        "print (textos)"
      ],
      "execution_count": 16,
      "outputs": [
        {
          "output_type": "stream",
          "text": [
            "0          @BolsonaroSP Cade o fundão deputado??? Congres...\n",
            "1          Em ação preventiva, o Governo do Estado suspen...\n",
            "2          Incrível como os defensores do fim do distanci...\n",
            "3          Fumaça de cigarro pode propagar coronavírus? h...\n",
            "4          🚨Todos juntos contra COVID-19💪\\n\\nSolicite seu...\n",
            "                                 ...                        \n",
            "1658820    oms: tamo tendo pandemia evitar\\n conglomerado...\n",
            "1658821    @OsmarTerra Sr. Osmar Terra, gostaria de ouvir...\n",
            "1658822    CIENTISTA DE HARVARD PREVÊ QUE ATÉ 70% DO MUND...\n",
            "1658823    #BolsonaroTemRazaoSim porque, quando a prefeit...\n",
            "1658824    Em meio a uma pandemia, estamos na luta também...\n",
            "Name: texto, Length: 1658825, dtype: object\n"
          ],
          "name": "stdout"
        }
      ]
    },
    {
      "cell_type": "markdown",
      "metadata": {
        "id": "2A0ctJtFQBTx"
      },
      "source": [
        "Quebrando o texto em palavras"
      ]
    },
    {
      "cell_type": "code",
      "metadata": {
        "id": "lZg9psr4jlRj"
      },
      "source": [
        "texto_quebra = textos.str.split()"
      ],
      "execution_count": 17,
      "outputs": []
    },
    {
      "cell_type": "code",
      "metadata": {
        "id": "4LWstIsTwiU1",
        "outputId": "de63a3d1-3f1d-405a-9c77-ccfef3a1c19c",
        "colab": {
          "base_uri": "https://localhost:8080/",
          "height": 221
        }
      },
      "source": [
        "print (texto_quebra)"
      ],
      "execution_count": 18,
      "outputs": [
        {
          "output_type": "stream",
          "text": [
            "0          [@BolsonaroSP, Cade, o, fundão, deputado???, C...\n",
            "1          [Em, ação, preventiva,, o, Governo, do, Estado...\n",
            "2          [Incrível, como, os, defensores, do, fim, do, ...\n",
            "3          [Fumaça, de, cigarro, pode, propagar, coronaví...\n",
            "4          [🚨Todos, juntos, contra, COVID-19💪, Solicite, ...\n",
            "                                 ...                        \n",
            "1658820    [oms:, tamo, tendo, pandemia, evitar, conglome...\n",
            "1658821    [@OsmarTerra, Sr., Osmar, Terra,, gostaria, de...\n",
            "1658822    [CIENTISTA, DE, HARVARD, PREVÊ, QUE, ATÉ, 70%,...\n",
            "1658823    [#BolsonaroTemRazaoSim, porque,, quando, a, pr...\n",
            "1658824    [Em, meio, a, uma, pandemia,, estamos, na, lut...\n",
            "Name: texto, Length: 1658825, dtype: object\n"
          ],
          "name": "stdout"
        }
      ]
    },
    {
      "cell_type": "markdown",
      "metadata": {
        "id": "JAunwNAdxNQF"
      },
      "source": [
        "Analisando o primeiro indice "
      ]
    },
    {
      "cell_type": "code",
      "metadata": {
        "id": "kvpo3Ogiwve5",
        "outputId": "15ac978c-5012-48f7-bb56-9f65d836e52e",
        "colab": {
          "base_uri": "https://localhost:8080/",
          "height": 54
        }
      },
      "source": [
        "print (texto_quebra[0])"
      ],
      "execution_count": 20,
      "outputs": [
        {
          "output_type": "stream",
          "text": [
            "['@BolsonaroSP', 'Cade', 'o', 'fundão', 'deputado???', 'Congresso', 'está', 'sentado', 'em', '3BI', 'olhando', 'a', 'pandemia', 'da', 'janela.']\n"
          ],
          "name": "stdout"
        }
      ]
    },
    {
      "cell_type": "code",
      "metadata": {
        "id": "uDu3Ynjjz3Lw",
        "outputId": "dab2d191-ed53-4b78-d314-fea50c504d02",
        "colab": {
          "base_uri": "https://localhost:8080/",
          "height": 34
        }
      },
      "source": [
        "len(texto_quebra)"
      ],
      "execution_count": 22,
      "outputs": [
        {
          "output_type": "execute_result",
          "data": {
            "text/plain": [
              "1658825"
            ]
          },
          "metadata": {
            "tags": []
          },
          "execution_count": 22
        }
      ]
    },
    {
      "cell_type": "code",
      "metadata": {
        "id": "kepcJL6C0Hzp",
        "outputId": "883f8741-87bc-4b0c-cc09-6069ecedb08d",
        "colab": {
          "base_uri": "https://localhost:8080/",
          "height": 34
        }
      },
      "source": [
        "len(texto_quebra[0])"
      ],
      "execution_count": 23,
      "outputs": [
        {
          "output_type": "execute_result",
          "data": {
            "text/plain": [
              "15"
            ]
          },
          "metadata": {
            "tags": []
          },
          "execution_count": 23
        }
      ]
    },
    {
      "cell_type": "markdown",
      "metadata": {
        "id": "fnehLi2f0iIT"
      },
      "source": [
        "Pelo indice analisando entende-se que das 15 palavras a unica que nos interessa é a: 'pandemia', porem ainda não é o suficente."
      ]
    },
    {
      "cell_type": "code",
      "metadata": {
        "id": "lXzUWSUz1i14",
        "outputId": "0f906df1-7f10-421e-ae02-8077a2dc3690",
        "colab": {
          "base_uri": "https://localhost:8080/",
          "height": 1000
        }
      },
      "source": [
        "!git help commit"
      ],
      "execution_count": 24,
      "outputs": [
        {
          "output_type": "stream",
          "text": [
            "GIT-COMMIT(1)                     Git Manual                     GIT-COMMIT(1)\n",
            "\n",
            "N\bNA\bAM\bME\bE\n",
            "       git-commit - Record changes to the repository\n",
            "\n",
            "S\bSY\bYN\bNO\bOP\bPS\bSI\bIS\bS\n",
            "       _\bg_\bi_\bt _\bc_\bo_\bm_\bm_\bi_\bt [-a | --interactive | --patch] [-s] [-v] [-u<mode>] [--amend]\n",
            "                  [--dry-run] [(-c | -C | --fixup | --squash) <commit>]\n",
            "                  [-F <file> | -m <msg>] [--reset-author] [--allow-empty]\n",
            "                  [--allow-empty-message] [--no-verify] [-e] [--author=<author>]\n",
            "                  [--date=<date>] [--cleanup=<mode>] [--[no-]status]\n",
            "                  [-i | -o] [-S[<keyid>]] [--] [<file>...]\n",
            "\n",
            "D\bDE\bES\bSC\bCR\bRI\bIP\bPT\bTI\bIO\bON\bN\n",
            "       Stores the current contents of the index in a new commit along with a\n",
            "       log message from the user describing the changes.\n",
            "\n",
            "       The content to be added can be specified in several ways:\n",
            "\n",
            "        1. by using _\bg_\bi_\bt _\ba_\bd_\bd to incrementally \"add\" changes to the index before\n",
            "           using the _\bc_\bo_\bm_\bm_\bi_\bt command (Note: even modified files must be\n",
            "           \"added\");\n",
            "\n",
            "        2. by using _\bg_\bi_\bt _\br_\bm to remove files from the working tree and the\n",
            "           index, again before using the _\bc_\bo_\bm_\bm_\bi_\bt command;\n",
            "\n",
            "        3. by listing files as arguments to the _\bc_\bo_\bm_\bm_\bi_\bt command (without\n",
            "           --interactive or --patch switch), in which case the commit will\n",
            "           ignore changes staged in the index, and instead record the current\n",
            "           content of the listed files (which must already be known to Git);\n",
            "\n",
            "        4. by using the -a switch with the _\bc_\bo_\bm_\bm_\bi_\bt command to automatically\n",
            "           \"add\" changes from all known files (i.e. all files that are already\n",
            "           listed in the index) and to automatically \"rm\" files in the index\n",
            "           that have been removed from the working tree, and then perform the\n",
            "           actual commit;\n",
            "\n",
            "        5. by using the --interactive or --patch switches with the _\bc_\bo_\bm_\bm_\bi_\bt\n",
            "           command to decide one by one which files or hunks should be part of\n",
            "           the commit in addition to contents in the index, before finalizing\n",
            "           the operation. See the “Interactive Mode” section of g\bgi\bit\bt-\b-a\bad\bdd\bd(1) to\n",
            "           learn how to operate these modes.\n",
            "\n",
            "       The -\b--\b-d\bdr\bry\by-\b-r\bru\bun\bn option can be used to obtain a summary of what is\n",
            "       included by any of the above for the next commit by giving the same set\n",
            "       of parameters (options and paths).\n",
            "\n",
            "       If you make a commit and then find a mistake immediately after that,\n",
            "       you can recover from it with _\bg_\bi_\bt _\br_\be_\bs_\be_\bt.\n",
            "\n",
            "O\bOP\bPT\bTI\bIO\bON\bNS\bS\n",
            "       -a, --all\n",
            "           Tell the command to automatically stage files that have been\n",
            "           modified and deleted, but new files you have not told Git about are\n",
            "           not affected.\n",
            "\n",
            "       -p, --patch\n",
            "           Use the interactive patch selection interface to chose which\n",
            "           changes to commit. See g\bgi\bit\bt-\b-a\bad\bdd\bd(1) for details.\n",
            "\n",
            "       -C <commit>, --reuse-message=<commit>\n",
            "           Take an existing commit object, and reuse the log message and the\n",
            "           authorship information (including the timestamp) when creating the\n",
            "           commit.\n",
            "\n",
            "       -c <commit>, --reedit-message=<commit>\n",
            "           Like _\b-_\bC, but with -\b-c\bc the editor is invoked, so that the user can\n",
            "           further edit the commit message.\n",
            "\n",
            "       --fixup=<commit>\n",
            "           Construct a commit message for use with r\bre\beb\bba\bas\bse\be -\b--\b-a\bau\but\bto\bos\bsq\bqu\bua\bas\bsh\bh. The\n",
            "           commit message will be the subject line from the specified commit\n",
            "           with a prefix of \"fixup! \". See g\bgi\bit\bt-\b-r\bre\beb\bba\bas\bse\be(1) for details.\n",
            "\n",
            "       --squash=<commit>\n",
            "           Construct a commit message for use with r\bre\beb\bba\bas\bse\be -\b--\b-a\bau\but\bto\bos\bsq\bqu\bua\bas\bsh\bh. The\n",
            "           commit message subject line is taken from the specified commit with\n",
            "           a prefix of \"squash! \". Can be used with additional commit message\n",
            "           options (-\b-m\bm/-\b-c\bc/-\b-C\bC/-\b-F\bF). See g\bgi\bit\bt-\b-r\bre\beb\bba\bas\bse\be(1) for details.\n",
            "\n",
            "       --reset-author\n",
            "           When used with -C/-c/--amend options, or when committing after a\n",
            "           conflicting cherry-pick, declare that the authorship of the\n",
            "           resulting commit now belongs to the committer. This also renews the\n",
            "           author timestamp.\n",
            "\n",
            "       --short\n",
            "           When doing a dry-run, give the output in the short-format. See g\bgi\bit\bt-\b-\n",
            "           s\bst\bta\bat\btu\bus\bs(1) for details. Implies -\b--\b-d\bdr\bry\by-\b-r\bru\bun\bn.\n",
            "\n",
            "       --branch\n",
            "           Show the branch and tracking info even in short-format.\n",
            "\n",
            "       --porcelain\n",
            "           When doing a dry-run, give the output in a porcelain-ready format.\n",
            "           See g\bgi\bit\bt-\b-s\bst\bta\bat\btu\bus\bs(1) for details. Implies -\b--\b-d\bdr\bry\by-\b-r\bru\bun\bn.\n",
            "\n",
            "       --long\n",
            "           When doing a dry-run, give the output in the long-format. Implies\n",
            "           -\b--\b-d\bdr\bry\by-\b-r\bru\bun\bn.\n",
            "\n",
            "       -z, --null\n",
            "           When showing s\bsh\bho\bor\brt\bt or p\bpo\bor\brc\bce\bel\bla\bai\bin\bn status output, print the filename\n",
            "           verbatim and terminate the entries with NUL, instead of LF. If no\n",
            "           format is given, implies the -\b--\b-p\bpo\bor\brc\bce\bel\bla\bai\bin\bn output format. Without the\n",
            "           -\b-z\bz option, filenames with \"unusual\" characters are quoted as\n",
            "           explained for the configuration variable c\bco\bor\bre\be.\b.q\bqu\buo\bot\bte\beP\bPa\bat\bth\bh (see g\bgi\bit\bt-\b-\n",
            "           c\bco\bon\bnf\bfi\big\bg(1)).\n",
            "\n",
            "       -F <file>, --file=<file>\n",
            "           Take the commit message from the given file. Use _\b- to read the\n",
            "           message from the standard input.\n",
            "\n",
            "       --author=<author>\n",
            "           Override the commit author. Specify an explicit author using the\n",
            "           standard A\bA U\bU T\bTh\bho\bor\br <\b<a\bau\but\bth\bho\bor\br@\b@e\bex\bxa\bam\bmp\bpl\ble\be.\b.c\bco\bom\bm>\b> format. Otherwise <author>\n",
            "           is assumed to be a pattern and is used to search for an existing\n",
            "           commit by that author (i.e. rev-list --all -i --author=<author>);\n",
            "           the commit author is then copied from the first such commit found.\n",
            "\n",
            "       --date=<date>\n",
            "           Override the author date used in the commit.\n",
            "\n",
            "       -m <msg>, --message=<msg>\n",
            "           Use the given <msg> as the commit message. If multiple -\b-m\bm options\n",
            "           are given, their values are concatenated as separate paragraphs.\n",
            "\n",
            "           The -\b-m\bm option is mutually exclusive with -\b-c\bc, -\b-C\bC, and -\b-F\bF.\n",
            "\n",
            "       -t <file>, --template=<file>\n",
            "           When editing the commit message, start the editor with the contents\n",
            "           in the given file. The c\bco\bom\bmm\bmi\bit\bt.\b.t\bte\bem\bmp\bpl\bla\bat\bte\be configuration variable is\n",
            "           often used to give this option implicitly to the command. This\n",
            "           mechanism can be used by projects that want to guide participants\n",
            "           with some hints on what to write in the message in what order. If\n",
            "           the user exits the editor without editing the message, the commit\n",
            "           is aborted. This has no effect when a message is given by other\n",
            "           means, e.g. with the -\b-m\bm or -\b-F\bF options.\n",
            "\n",
            "       -s, --signoff\n",
            "           Add Signed-off-by line by the committer at the end of the commit\n",
            "           log message. The meaning of a signoff depends on the project, but\n",
            "           it typically certifies that committer has the rights to submit this\n",
            "           work under the same license and agrees to a Developer Certificate\n",
            "           of Origin (see h\bht\btt\btp\bp:\b:/\b//\b/d\bde\bev\bve\bel\blo\bop\bpe\ber\brc\bce\ber\brt\bti\bif\bfi\bic\bca\bat\bte\be.\b.o\bor\brg\bg/\b/ for more\n",
            "           information).\n",
            "\n",
            "       -n, --no-verify\n",
            "           This option bypasses the pre-commit and commit-msg hooks. See also\n",
            "           g\bgi\bit\bth\bho\boo\bok\bks\bs(5).\n",
            "\n",
            "       --allow-empty\n",
            "           Usually recording a commit that has the exact same tree as its sole\n",
            "           parent commit is a mistake, and the command prevents you from\n",
            "           making such a commit. This option bypasses the safety, and is\n",
            "           primarily for use by foreign SCM interface scripts.\n",
            "\n",
            "       --allow-empty-message\n",
            "           Like --allow-empty this command is primarily for use by foreign SCM\n",
            "           interface scripts. It allows you to create a commit with an empty\n",
            "           commit message without using plumbing commands like g\bgi\bit\bt-\b-c\bco\bom\bmm\bmi\bit\bt-\b-\n",
            "           t\btr\bre\bee\be(1).\n",
            "\n",
            "       --cleanup=<mode>\n",
            "           This option determines how the supplied commit message should be\n",
            "           cleaned up before committing. The _\b<_\bm_\bo_\bd_\be_\b> can be s\bst\btr\bri\bip\bp, w\bwh\bhi\bit\bte\bes\bsp\bpa\bac\bce\be,\n",
            "           v\bve\ber\brb\bba\bat\bti\bim\bm, s\bsc\bci\bis\bss\bso\bor\brs\bs or d\bde\bef\bfa\bau\bul\blt\bt.\n",
            "\n",
            "           strip\n",
            "               Strip leading and trailing empty lines, trailing whitespace,\n",
            "               commentary and collapse consecutive empty lines.\n",
            "\n",
            "           whitespace\n",
            "               Same as s\bst\btr\bri\bip\bp except #commentary is not removed.\n",
            "\n",
            "           verbatim\n",
            "               Do not change the message at all.\n",
            "\n",
            "           scissors\n",
            "               Same as w\bwh\bhi\bit\bte\bes\bsp\bpa\bac\bce\be except that everything from (and including)\n",
            "               the line found below is truncated, if the message is to be\n",
            "               edited. \"#\b#\" can be customized with core.commentChar.\n",
            "\n",
            "                   # ------------------------ >8 ------------------------\n",
            "\n",
            "           default\n",
            "               Same as s\bst\btr\bri\bip\bp if the message is to be edited. Otherwise\n",
            "               w\bwh\bhi\bit\bte\bes\bsp\bpa\bac\bce\be.\n",
            "\n",
            "           The default can be changed by the c\bco\bom\bmm\bmi\bit\bt.\b.c\bcl\ble\bea\ban\bnu\bup\bp configuration\n",
            "           variable (see g\bgi\bit\bt-\b-c\bco\bon\bnf\bfi\big\bg(1)).\n",
            "\n",
            "       -e, --edit\n",
            "           The message taken from file with -\b-F\bF, command line with -\b-m\bm, and from\n",
            "           commit object with -\b-C\bC are usually used as the commit log message\n",
            "           unmodified. This option lets you further edit the message taken\n",
            "           from these sources.\n",
            "\n",
            "       --no-edit\n",
            "           Use the selected commit message without launching an editor. For\n",
            "           example, g\bgi\bit\bt c\bco\bom\bmm\bmi\bit\bt -\b--\b-a\bam\bme\ben\bnd\bd -\b--\b-n\bno\bo-\b-e\bed\bdi\bit\bt amends a commit without\n",
            "           changing its commit message.\n",
            "\n",
            "       --amend\n",
            "           Replace the tip of the current branch by creating a new commit. The\n",
            "           recorded tree is prepared as usual (including the effect of the -\b-i\bi\n",
            "           and -\b-o\bo options and explicit pathspec), and the message from the\n",
            "           original commit is used as the starting point, instead of an empty\n",
            "           message, when no other message is specified from the command line\n",
            "           via options such as -\b-m\bm, -\b-F\bF, -\b-c\bc, etc. The new commit has the same\n",
            "           parents and author as the current one (the -\b--\b-r\bre\bes\bse\bet\bt-\b-a\bau\but\bth\bho\bor\br option\n",
            "           can countermand this).\n",
            "\n",
            "           It is a rough equivalent for:\n",
            "\n",
            "                       $ git reset --soft HEAD^\n",
            "                       $ ... do something else to come up with the right tree ...\n",
            "                       $ git commit -c ORIG_HEAD\n",
            "\n",
            "           but can be used to amend a merge commit.\n",
            "\n",
            "           You should understand the implications of rewriting history if you\n",
            "           amend a commit that has already been published. (See the\n",
            "           \"RECOVERING FROM UPSTREAM REBASE\" section in g\bgi\bit\bt-\b-r\bre\beb\bba\bas\bse\be(1).)\n",
            "\n",
            "       --no-post-rewrite\n",
            "           Bypass the post-rewrite hook.\n",
            "\n",
            "       -i, --include\n",
            "           Before making a commit out of staged contents so far, stage the\n",
            "           contents of paths given on the command line as well. This is\n",
            "           usually not what you want unless you are concluding a conflicted\n",
            "           merge.\n",
            "\n",
            "       -o, --only\n",
            "           Make a commit by taking the updated working tree contents of the\n",
            "           paths specified on the command line, disregarding any contents that\n",
            "           have been staged for other paths. This is the default mode of\n",
            "           operation of _\bg_\bi_\bt _\bc_\bo_\bm_\bm_\bi_\bt if any paths are given on the command line,\n",
            "           in which case this option can be omitted. If this option is\n",
            "           specified together with -\b--\b-a\bam\bme\ben\bnd\bd, then no paths need to be\n",
            "           specified, which can be used to amend the last commit without\n",
            "           committing changes that have already been staged. If used together\n",
            "           with -\b--\b-a\bal\bll\blo\bow\bw-\b-e\bem\bmp\bpt\bty\by paths are also not required, and an empty commit\n",
            "           will be created.\n",
            "\n",
            "       -u[<mode>], --untracked-files[=<mode>]\n",
            "           Show untracked files.\n",
            "\n",
            "           The mode parameter is optional (defaults to _\ba_\bl_\bl), and is used to\n",
            "           specify the handling of untracked files; when -u is not used, the\n",
            "           default is _\bn_\bo_\br_\bm_\ba_\bl, i.e. show untracked files and directories.\n",
            "\n",
            "           The possible options are:\n",
            "\n",
            "           ·   _\bn_\bo - Show no untracked files\n",
            "\n",
            "           ·   _\bn_\bo_\br_\bm_\ba_\bl - Shows untracked files and directories\n",
            "\n",
            "           ·   _\ba_\bl_\bl - Also shows individual files in untracked directories.\n",
            "\n",
            "               The default can be changed using the status.showUntrackedFiles\n",
            "               configuration variable documented in g\bgi\bit\bt-\b-c\bco\bon\bnf\bfi\big\bg(1).\n",
            "\n",
            "       -v, --verbose\n",
            "           Show unified diff between the HEAD commit and what would be\n",
            "           committed at the bottom of the commit message template to help the\n",
            "           user describe the commit by reminding what changes the commit has.\n",
            "           Note that this diff output doesn’t have its lines prefixed with _\b#.\n",
            "           This diff will not be a part of the commit message. See the\n",
            "           c\bco\bom\bmm\bmi\bit\bt.\b.v\bve\ber\brb\bbo\bos\bse\be configuration variable in g\bgi\bit\bt-\b-c\bco\bon\bnf\bfi\big\bg(1).\n",
            "\n",
            "           If specified twice, show in addition the unified diff between what\n",
            "           would be committed and the worktree files, i.e. the unstaged\n",
            "           changes to tracked files.\n",
            "\n",
            "       -q, --quiet\n",
            "           Suppress commit summary message.\n",
            "\n",
            "       --dry-run\n",
            "           Do not create a commit, but show a list of paths that are to be\n",
            "           committed, paths with local changes that will be left uncommitted\n",
            "           and paths that are untracked.\n",
            "\n",
            "       --status\n",
            "           Include the output of g\bgi\bit\bt-\b-s\bst\bta\bat\btu\bus\bs(1) in the commit message template\n",
            "           when using an editor to prepare the commit message. Defaults to on,\n",
            "           but can be used to override configuration variable commit.status.\n",
            "\n",
            "       --no-status\n",
            "           Do not include the output of g\bgi\bit\bt-\b-s\bst\bta\bat\btu\bus\bs(1) in the commit message\n",
            "           template when using an editor to prepare the default commit\n",
            "           message.\n",
            "\n",
            "       -S[<keyid>], --gpg-sign[=<keyid>]\n",
            "           GPG-sign commits. The k\bke\bey\byi\bid\bd argument is optional and defaults to\n",
            "           the committer identity; if specified, it must be stuck to the\n",
            "           option without a space.\n",
            "\n",
            "       --no-gpg-sign\n",
            "           Countermand c\bco\bom\bmm\bmi\bit\bt.\b.g\bgp\bpg\bgS\bSi\big\bgn\bn configuration variable that is set to\n",
            "           force each and every commit to be signed.\n",
            "\n",
            "       --\n",
            "           Do not interpret any more arguments as options.\n",
            "\n",
            "       <file>...\n",
            "           When files are given on the command line, the command commits the\n",
            "           contents of the named files, without recording the changes already\n",
            "           staged. The contents of these files are also staged for the next\n",
            "           commit on top of what have been staged before.\n",
            "\n",
            "D\bDA\bAT\bTE\bE F\bFO\bOR\bRM\bMA\bAT\bTS\bS\n",
            "       The G\bGI\bIT\bT_\b_A\bAU\bUT\bTH\bHO\bOR\bR_\b_D\bDA\bAT\bTE\bE, G\bGI\bIT\bT_\b_C\bCO\bOM\bMM\bMI\bIT\bTT\bTE\bER\bR_\b_D\bDA\bAT\bTE\bE environment variables and the\n",
            "       -\b--\b-d\bda\bat\bte\be option support the following date formats:\n",
            "\n",
            "       Git internal format\n",
            "           It is <\b<u\bun\bni\bix\bx t\bti\bim\bme\bes\bst\bta\bam\bmp\bp>\b> <\b<t\bti\bim\bme\be z\bzo\bon\bne\be o\bof\bff\bfs\bse\bet\bt>\b>, where <\b<u\bun\bni\bix\bx t\bti\bim\bme\bes\bst\bta\bam\bmp\bp>\b>\n",
            "           is the number of seconds since the UNIX epoch.  <\b<t\bti\bim\bme\be z\bzo\bon\bne\be o\bof\bff\bfs\bse\bet\bt>\b>\n",
            "           is a positive or negative offset from UTC. For example CET (which\n",
            "           is 1 hour ahead of UTC) is +\b+0\b01\b10\b00\b0.\n",
            "\n",
            "       RFC 2822\n",
            "           The standard email format as described by RFC 2822, for example\n",
            "           T\bTh\bhu\bu,\b, 0\b07\b7 A\bAp\bpr\br 2\b20\b00\b05\b5 2\b22\b2:\b:1\b13\b3:\b:1\b13\b3 +\b+0\b02\b20\b00\b0.\n",
            "\n",
            "       ISO 8601\n",
            "           Time and date specified by the ISO 8601 standard, for example\n",
            "           2\b20\b00\b05\b5-\b-0\b04\b4-\b-0\b07\b7T\bT2\b22\b2:\b:1\b13\b3:\b:1\b13\b3. The parser accepts a space instead of the T\bT\n",
            "           character as well.\n",
            "\n",
            "               N\bNo\bot\bte\be\n",
            "               In addition, the date part is accepted in the following\n",
            "               formats: Y\bYY\bYY\bYY\bY.\b.M\bMM\bM.\b.D\bDD\bD, M\bMM\bM/\b/D\bDD\bD/\b/Y\bYY\bYY\bYY\bY and D\bDD\bD.\b.M\bMM\bM.\b.Y\bYY\bYY\bYY\bY.\n",
            "\n",
            "E\bEX\bXA\bAM\bMP\bPL\bLE\bES\bS\n",
            "       When recording your own work, the contents of modified files in your\n",
            "       working tree are temporarily stored to a staging area called the\n",
            "       \"index\" with _\bg_\bi_\bt _\ba_\bd_\bd. A file can be reverted back, only in the index\n",
            "       but not in the working tree, to that of the last commit with g\bgi\bit\bt r\bre\bes\bse\bet\bt\n",
            "       H\bHE\bEA\bAD\bD -\b--\b- <\b<f\bfi\bil\ble\be>\b>, which effectively reverts _\bg_\bi_\bt _\ba_\bd_\bd and prevents the\n",
            "       changes to this file from participating in the next commit. After\n",
            "       building the state to be committed incrementally with these commands,\n",
            "       g\bgi\bit\bt c\bco\bom\bmm\bmi\bit\bt (without any pathname parameter) is used to record what has\n",
            "       been staged so far. This is the most basic form of the command. An\n",
            "       example:\n",
            "\n",
            "           $ edit hello.c\n",
            "           $ git rm goodbye.c\n",
            "           $ git add hello.c\n",
            "           $ git commit\n",
            "\n",
            "       Instead of staging files after each individual change, you can tell g\bgi\bit\bt\n",
            "       c\bco\bom\bmm\bmi\bit\bt to notice the changes to the files whose contents are tracked in\n",
            "       your working tree and do corresponding g\bgi\bit\bt a\bad\bdd\bd and g\bgi\bit\bt r\brm\bm for you. That\n",
            "       is, this example does the same as the earlier example if there is no\n",
            "       other change in your working tree:\n",
            "\n",
            "           $ edit hello.c\n",
            "           $ rm goodbye.c\n",
            "           $ git commit -a\n",
            "\n",
            "       The command g\bgi\bit\bt c\bco\bom\bmm\bmi\bit\bt -\b-a\ba first looks at your working tree, notices\n",
            "       that you have modified hello.c and removed goodbye.c, and performs\n",
            "       necessary g\bgi\bit\bt a\bad\bdd\bd and g\bgi\bit\bt r\brm\bm for you.\n",
            "\n",
            "       After staging changes to many files, you can alter the order the\n",
            "       changes are recorded in, by giving pathnames to g\bgi\bit\bt c\bco\bom\bmm\bmi\bit\bt. When\n",
            "       pathnames are given, the command makes a commit that only records the\n",
            "       changes made to the named paths:\n",
            "\n",
            "           $ edit hello.c hello.h\n",
            "           $ git add hello.c hello.h\n",
            "           $ edit Makefile\n",
            "           $ git commit Makefile\n",
            "\n",
            "       This makes a commit that records the modification to M\bMa\bak\bke\bef\bfi\bil\ble\be. The\n",
            "       changes staged for h\bhe\bel\bll\blo\bo.\b.c\bc and h\bhe\bel\bll\blo\bo.\b.h\bh are not included in the\n",
            "       resulting commit. However, their changes are not lost — they are still\n",
            "       staged and merely held back. After the above sequence, if you do:\n",
            "\n",
            "           $ git commit\n",
            "\n",
            "       this second commit would record the changes to h\bhe\bel\bll\blo\bo.\b.c\bc and h\bhe\bel\bll\blo\bo.\b.h\bh as\n",
            "       expected.\n",
            "\n",
            "       After a merge (initiated by _\bg_\bi_\bt _\bm_\be_\br_\bg_\be or _\bg_\bi_\bt _\bp_\bu_\bl_\bl) stops because of\n",
            "       conflicts, cleanly merged paths are already staged to be committed for\n",
            "       you, and paths that conflicted are left in unmerged state. You would\n",
            "       have to first check which paths are conflicting with _\bg_\bi_\bt _\bs_\bt_\ba_\bt_\bu_\bs and\n",
            "       after fixing them manually in your working tree, you would stage the\n",
            "       result as usual with _\bg_\bi_\bt _\ba_\bd_\bd:\n",
            "\n",
            "           $ git status | grep unmerged\n",
            "           unmerged: hello.c\n",
            "           $ edit hello.c\n",
            "           $ git add hello.c\n",
            "\n",
            "       After resolving conflicts and staging the result, g\bgi\bit\bt l\bls\bs-\b-f\bfi\bil\ble\bes\bs -\b-u\bu would\n",
            "       stop mentioning the conflicted path. When you are done, run g\bgi\bit\bt c\bco\bom\bmm\bmi\bit\bt\n",
            "       to finally record the merge:\n",
            "\n",
            "           $ git commit\n",
            "\n",
            "       As with the case to record your own changes, you can use -\b-a\ba option to\n",
            "       save typing. One difference is that during a merge resolution, you\n",
            "       cannot use g\bgi\bit\bt c\bco\bom\bmm\bmi\bit\bt with pathnames to alter the order the changes are\n",
            "       committed, because the merge should be recorded as a single commit. In\n",
            "       fact, the command refuses to run when given pathnames (but see -\b-i\bi\n",
            "       option).\n",
            "\n",
            "D\bDI\bIS\bSC\bCU\bUS\bSS\bSI\bIO\bON\bN\n",
            "       Though not required, it’s a good idea to begin the commit message with\n",
            "       a single short (less than 50 character) line summarizing the change,\n",
            "       followed by a blank line and then a more thorough description. The text\n",
            "       up to the first blank line in a commit message is treated as the commit\n",
            "       title, and that title is used throughout Git. For example, g\bgi\bit\bt-\b-f\bfo\bor\brm\bma\bat\bt-\b-\n",
            "       p\bpa\bat\btc\bch\bh(1) turns a commit into email, and it uses the title on the\n",
            "       Subject line and the rest of the commit in the body.\n",
            "\n",
            "       Git is to some extent character encoding agnostic.\n",
            "\n",
            "       ·   The contents of the blob objects are uninterpreted sequences of\n",
            "           bytes. There is no encoding translation at the core level.\n",
            "\n",
            "       ·   Path names are encoded in UTF-8 normalization form C. This applies\n",
            "           to tree objects, the index file, ref names, as well as path names\n",
            "           in command line arguments, environment variables and config files\n",
            "           (.\b.g\bgi\bit\bt/\b/c\bco\bon\bnf\bfi\big\bg (see g\bgi\bit\bt-\b-c\bco\bon\bnf\bfi\big\bg(1)), g\bgi\bit\bti\big\bgn\bno\bor\bre\be(5), g\bgi\bit\bta\bat\btt\btr\bri\bib\bbu\but\bte\bes\bs(5)\n",
            "           and g\bgi\bit\btm\bmo\bod\bdu\bul\ble\bes\bs(5)).\n",
            "\n",
            "           Note that Git at the core level treats path names simply as\n",
            "           sequences of non-NUL bytes, there are no path name encoding\n",
            "           conversions (except on Mac and Windows). Therefore, using non-ASCII\n",
            "           path names will mostly work even on platforms and file systems that\n",
            "           use legacy extended ASCII encodings. However, repositories created\n",
            "           on such systems will not work properly on UTF-8-based systems (e.g.\n",
            "           Linux, Mac, Windows) and vice versa. Additionally, many Git-based\n",
            "           tools simply assume path names to be UTF-8 and will fail to display\n",
            "           other encodings correctly.\n",
            "\n",
            "       ·   Commit log messages are typically encoded in UTF-8, but other\n",
            "           extended ASCII encodings are also supported. This includes\n",
            "           ISO-8859-x, CP125x and many others, but _\bn_\bo_\bt UTF-16/32, EBCDIC and\n",
            "           CJK multi-byte encodings (GBK, Shift-JIS, Big5, EUC-x, CP9xx etc.).\n",
            "\n",
            "       Although we encourage that the commit log messages are encoded in\n",
            "       UTF-8, both the core and Git Porcelain are designed not to force UTF-8\n",
            "       on projects. If all participants of a particular project find it more\n",
            "       convenient to use legacy encodings, Git does not forbid it. However,\n",
            "       there are a few things to keep in mind.\n",
            "\n",
            "        1. _\bg_\bi_\bt _\bc_\bo_\bm_\bm_\bi_\bt and _\bg_\bi_\bt _\bc_\bo_\bm_\bm_\bi_\bt_\b-_\bt_\br_\be_\be issues a warning if the commit log\n",
            "           message given to it does not look like a valid UTF-8 string, unless\n",
            "           you explicitly say your project uses a legacy encoding. The way to\n",
            "           say this is to have i18n.commitencoding in .\b.g\bgi\bit\bt/\b/c\bco\bon\bnf\bfi\big\bg file, like\n",
            "           this:\n",
            "\n",
            "               [i18n]\n",
            "                       commitEncoding = ISO-8859-1\n",
            "\n",
            "           Commit objects created with the above setting record the value of\n",
            "           i\bi1\b18\b8n\bn.\b.c\bco\bom\bmm\bmi\bit\btE\bEn\bnc\bco\bod\bdi\bin\bng\bg in its e\ben\bnc\bco\bod\bdi\bin\bng\bg header. This is to help other\n",
            "           people who look at them later. Lack of this header implies that the\n",
            "           commit log message is encoded in UTF-8.\n",
            "\n",
            "        2. _\bg_\bi_\bt _\bl_\bo_\bg, _\bg_\bi_\bt _\bs_\bh_\bo_\bw, _\bg_\bi_\bt _\bb_\bl_\ba_\bm_\be and friends look at the e\ben\bnc\bco\bod\bdi\bin\bng\bg\n",
            "           header of a commit object, and try to re-code the log message into\n",
            "           UTF-8 unless otherwise specified. You can specify the desired\n",
            "           output encoding with i\bi1\b18\b8n\bn.\b.l\blo\bog\bgO\bOu\but\btp\bpu\but\btE\bEn\bnc\bco\bod\bdi\bin\bng\bg in .\b.g\bgi\bit\bt/\b/c\bco\bon\bnf\bfi\big\bg file,\n",
            "           like this:\n",
            "\n",
            "               [i18n]\n",
            "                       logOutputEncoding = ISO-8859-1\n",
            "\n",
            "           If you do not have this configuration variable, the value of\n",
            "           i\bi1\b18\b8n\bn.\b.c\bco\bom\bmm\bmi\bit\btE\bEn\bnc\bco\bod\bdi\bin\bng\bg is used instead.\n",
            "\n",
            "       Note that we deliberately chose not to re-code the commit log message\n",
            "       when a commit is made to force UTF-8 at the commit object level,\n",
            "       because re-coding to UTF-8 is not necessarily a reversible operation.\n",
            "\n",
            "E\bEN\bNV\bVI\bIR\bRO\bON\bNM\bME\bEN\bNT\bT A\bAN\bND\bD C\bCO\bON\bNF\bFI\bIG\bGU\bUR\bRA\bAT\bTI\bIO\bON\bN V\bVA\bAR\bRI\bIA\bAB\bBL\bLE\bES\bS\n",
            "       The editor used to edit the commit log message will be chosen from the\n",
            "       G\bGI\bIT\bT_\b_E\bED\bDI\bIT\bTO\bOR\bR environment variable, the core.editor configuration\n",
            "       variable, the V\bVI\bIS\bSU\bUA\bAL\bL environment variable, or the E\bED\bDI\bIT\bTO\bOR\bR environment\n",
            "       variable (in that order). See g\bgi\bit\bt-\b-v\bva\bar\br(1) for details.\n",
            "\n",
            "H\bHO\bOO\bOK\bKS\bS\n",
            "       This command can run c\bco\bom\bmm\bmi\bit\bt-\b-m\bms\bsg\bg, p\bpr\bre\bep\bpa\bar\bre\be-\b-c\bco\bom\bmm\bmi\bit\bt-\b-m\bms\bsg\bg, p\bpr\bre\be-\b-c\bco\bom\bmm\bmi\bit\bt,\n",
            "       p\bpo\bos\bst\bt-\b-c\bco\bom\bmm\bmi\bit\bt and p\bpo\bos\bst\bt-\b-r\bre\bew\bwr\bri\bit\bte\be hooks. See g\bgi\bit\bth\bho\boo\bok\bks\bs(5) for more\n",
            "       information.\n",
            "\n",
            "F\bFI\bIL\bLE\bES\bS\n",
            "       $\b$G\bGI\bIT\bT_\b_D\bDI\bIR\bR/\b/C\bCO\bOM\bMM\bMI\bIT\bT_\b_E\bED\bDI\bIT\bTM\bMS\bSG\bG\n",
            "           This file contains the commit message of a commit in progress. If\n",
            "           g\bgi\bit\bt c\bco\bom\bmm\bmi\bit\bt exits due to an error before creating a commit, any\n",
            "           commit message that has been provided by the user (e.g., in an\n",
            "           editor session) will be available in this file, but will be\n",
            "           overwritten by the next invocation of g\bgi\bit\bt c\bco\bom\bmm\bmi\bit\bt.\n",
            "\n",
            "S\bSE\bEE\bE A\bAL\bLS\bSO\bO\n",
            "       g\bgi\bit\bt-\b-a\bad\bdd\bd(1), g\bgi\bit\bt-\b-r\brm\bm(1), g\bgi\bit\bt-\b-m\bmv\bv(1), g\bgi\bit\bt-\b-m\bme\ber\brg\bge\be(1), g\bgi\bit\bt-\b-c\bco\bom\bmm\bmi\bit\bt-\b-t\btr\bre\bee\be(1)\n",
            "\n",
            "G\bGI\bIT\bT\n",
            "       Part of the g\bgi\bit\bt(1) suite\n",
            "\n",
            "Git 2.17.1                        04/20/2020                     GIT-COMMIT(1)\n"
          ],
          "name": "stdout"
        }
      ]
    }
  ]
}