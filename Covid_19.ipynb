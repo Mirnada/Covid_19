{
  "nbformat": 4,
  "nbformat_minor": 0,
  "metadata": {
    "colab": {
      "name": "Covid_19.ipynb",
      "provenance": [],
      "include_colab_link": true
    },
    "kernelspec": {
      "name": "python3",
      "display_name": "Python 3"
    }
  },
  "cells": [
    {
      "cell_type": "markdown",
      "metadata": {
        "id": "view-in-github",
        "colab_type": "text"
      },
      "source": [
        "<a href=\"https://colab.research.google.com/github/Mirnada/Covid_19/blob/master/Covid_19.ipynb\" target=\"_parent\"><img src=\"https://colab.research.google.com/assets/colab-badge.svg\" alt=\"Open In Colab\"/></a>"
      ]
    },
    {
      "cell_type": "markdown",
      "metadata": {
        "id": "7cL7fmW2aCE_"
      },
      "source": [
        "# Análise dos dados do Covid_19\n"
      ]
    },
    {
      "cell_type": "markdown",
      "metadata": {
        "id": "Az3vruND0jVI"
      },
      "source": [
        "## Montando o Drive"
      ]
    },
    {
      "cell_type": "code",
      "metadata": {
        "id": "CtXBSRhf0mt-",
        "outputId": "37e6394b-6238-400d-b2dd-38779b39042c",
        "colab": {
          "base_uri": "https://localhost:8080/",
          "height": 35
        }
      },
      "source": [
        "from google.colab import drive\n",
        "\n",
        "drive.mount('/content/drive')"
      ],
      "execution_count": 117,
      "outputs": [
        {
          "output_type": "stream",
          "text": [
            "Drive already mounted at /content/drive; to attempt to forcibly remount, call drive.mount(\"/content/drive\", force_remount=True).\n"
          ],
          "name": "stdout"
        }
      ]
    },
    {
      "cell_type": "markdown",
      "metadata": {
        "id": "E4leXC2ps27j"
      },
      "source": [
        "## Importando bibliotecas"
      ]
    },
    {
      "cell_type": "code",
      "metadata": {
        "id": "mlTix7VotEkL"
      },
      "source": [
        "import pandas as pd\n",
        "from unicodedata import normalize\n",
        "import matplotlib.pyplot as plt\n",
        "%matplotlib inline\n",
        "\n",
        "df = pd.read_csv('/content/drive/My Drive/Datasets/dados-curso-completo.csv')"
      ],
      "execution_count": 118,
      "outputs": []
    },
    {
      "cell_type": "markdown",
      "metadata": {
        "id": "9KYsUh3YhIz3"
      },
      "source": [
        "## Dataset original - Estatísticas"
      ]
    },
    {
      "cell_type": "markdown",
      "metadata": {
        "id": "crTmK5fuN_Yz"
      },
      "source": [
        "### Informações gerias do dataset"
      ]
    },
    {
      "cell_type": "code",
      "metadata": {
        "id": "Ne1FJRpzOIXD",
        "outputId": "dce61936-7eca-4efd-b2d0-eb749607813b",
        "colab": {
          "base_uri": "https://localhost:8080/",
          "height": 529
        }
      },
      "source": [
        "df.head(10)"
      ],
      "execution_count": null,
      "outputs": [
        {
          "output_type": "execute_result",
          "data": {
            "text/html": [
              "<div>\n",
              "<style scoped>\n",
              "    .dataframe tbody tr th:only-of-type {\n",
              "        vertical-align: middle;\n",
              "    }\n",
              "\n",
              "    .dataframe tbody tr th {\n",
              "        vertical-align: top;\n",
              "    }\n",
              "\n",
              "    .dataframe thead th {\n",
              "        text-align: right;\n",
              "    }\n",
              "</style>\n",
              "<table border=\"1\" class=\"dataframe\">\n",
              "  <thead>\n",
              "    <tr style=\"text-align: right;\">\n",
              "      <th></th>\n",
              "      <th>data</th>\n",
              "      <th>usuario</th>\n",
              "      <th>apelido</th>\n",
              "      <th>texto</th>\n",
              "      <th>retweet</th>\n",
              "      <th>seguidores</th>\n",
              "      <th>idioma</th>\n",
              "      <th>lugar</th>\n",
              "      <th>pais</th>\n",
              "      <th>sigla</th>\n",
              "      <th>latitude</th>\n",
              "      <th>longitude</th>\n",
              "      <th>hashtags</th>\n",
              "    </tr>\n",
              "  </thead>\n",
              "  <tbody>\n",
              "    <tr>\n",
              "      <th>0</th>\n",
              "      <td>2020-03-23 18:51:14</td>\n",
              "      <td>Gaboardi</td>\n",
              "      <td>fraslee</td>\n",
              "      <td>@BolsonaroSP Cade o fundão deputado??? Congres...</td>\n",
              "      <td>0</td>\n",
              "      <td>138</td>\n",
              "      <td>pt</td>\n",
              "      <td>NaN</td>\n",
              "      <td>NaN</td>\n",
              "      <td>NaN</td>\n",
              "      <td>NaN</td>\n",
              "      <td>NaN</td>\n",
              "      <td>[]</td>\n",
              "    </tr>\n",
              "    <tr>\n",
              "      <th>1</th>\n",
              "      <td>2020-03-18 03:18:14</td>\n",
              "      <td>Seu Zé da Farmácia</td>\n",
              "      <td>seuzedafarmacia</td>\n",
              "      <td>Em ação preventiva, o Governo do Estado suspen...</td>\n",
              "      <td>0</td>\n",
              "      <td>56</td>\n",
              "      <td>pt</td>\n",
              "      <td>NaN</td>\n",
              "      <td>NaN</td>\n",
              "      <td>NaN</td>\n",
              "      <td>NaN</td>\n",
              "      <td>NaN</td>\n",
              "      <td>[]</td>\n",
              "    </tr>\n",
              "    <tr>\n",
              "      <th>2</th>\n",
              "      <td>2020-03-29 12:09:27</td>\n",
              "      <td>Marília Oliveira 🇧🇷</td>\n",
              "      <td>Marioliveira_gb</td>\n",
              "      <td>Incrível como os defensores do fim do distanci...</td>\n",
              "      <td>0</td>\n",
              "      <td>5</td>\n",
              "      <td>pt</td>\n",
              "      <td>NaN</td>\n",
              "      <td>NaN</td>\n",
              "      <td>NaN</td>\n",
              "      <td>NaN</td>\n",
              "      <td>NaN</td>\n",
              "      <td>[]</td>\n",
              "    </tr>\n",
              "    <tr>\n",
              "      <th>3</th>\n",
              "      <td>2020-04-01 21:11:07</td>\n",
              "      <td>🚩</td>\n",
              "      <td>santosodeto</td>\n",
              "      <td>Fumaça de cigarro pode propagar coronavírus? h...</td>\n",
              "      <td>0</td>\n",
              "      <td>1885</td>\n",
              "      <td>pt</td>\n",
              "      <td>NaN</td>\n",
              "      <td>NaN</td>\n",
              "      <td>NaN</td>\n",
              "      <td>NaN</td>\n",
              "      <td>NaN</td>\n",
              "      <td>[]</td>\n",
              "    </tr>\n",
              "    <tr>\n",
              "      <th>4</th>\n",
              "      <td>2020-03-19 17:49:40</td>\n",
              "      <td>Nova Impressão</td>\n",
              "      <td>novaimpressao_</td>\n",
              "      <td>🚨Todos juntos contra COVID-19💪\\n\\nSolicite seu...</td>\n",
              "      <td>0</td>\n",
              "      <td>124</td>\n",
              "      <td>pt</td>\n",
              "      <td>Brasília</td>\n",
              "      <td>Brazil</td>\n",
              "      <td>BR</td>\n",
              "      <td>-47.8778</td>\n",
              "      <td>-15.77691</td>\n",
              "      <td>[]</td>\n",
              "    </tr>\n",
              "    <tr>\n",
              "      <th>5</th>\n",
              "      <td>2020-05-08 11:21:36</td>\n",
              "      <td>Marcel Silvano</td>\n",
              "      <td>marcelsilvano</td>\n",
              "      <td>Importantes avanços! A pesquisa brasileira, a ...</td>\n",
              "      <td>4</td>\n",
              "      <td>2769</td>\n",
              "      <td>pt</td>\n",
              "      <td>Macaé</td>\n",
              "      <td>Brazil</td>\n",
              "      <td>BR</td>\n",
              "      <td>NaN</td>\n",
              "      <td>NaN</td>\n",
              "      <td>[]</td>\n",
              "    </tr>\n",
              "    <tr>\n",
              "      <th>6</th>\n",
              "      <td>2020-03-10 21:27:40</td>\n",
              "      <td>Teixeira Correia</td>\n",
              "      <td>LidadorNoticias</td>\n",
              "      <td>(Última hora) Volta ao Alentejo: Anulada por c...</td>\n",
              "      <td>0</td>\n",
              "      <td>39</td>\n",
              "      <td>pt</td>\n",
              "      <td>NaN</td>\n",
              "      <td>NaN</td>\n",
              "      <td>NaN</td>\n",
              "      <td>NaN</td>\n",
              "      <td>NaN</td>\n",
              "      <td>[]</td>\n",
              "    </tr>\n",
              "    <tr>\n",
              "      <th>7</th>\n",
              "      <td>2020-06-04 13:22:21</td>\n",
              "      <td>Thiago Moraes</td>\n",
              "      <td>ThiagoMoraesPB</td>\n",
              "      <td>João Pessoa tem queda no isolamento social por...</td>\n",
              "      <td>1</td>\n",
              "      <td>3578</td>\n",
              "      <td>pt</td>\n",
              "      <td>NaN</td>\n",
              "      <td>NaN</td>\n",
              "      <td>NaN</td>\n",
              "      <td>NaN</td>\n",
              "      <td>NaN</td>\n",
              "      <td>[]</td>\n",
              "    </tr>\n",
              "    <tr>\n",
              "      <th>8</th>\n",
              "      <td>2020-05-07 21:32:12</td>\n",
              "      <td>PT Brasil</td>\n",
              "      <td>ptbrasil</td>\n",
              "      <td>A #tvPT de hoje vai falar sobre a pandemia na ...</td>\n",
              "      <td>10</td>\n",
              "      <td>942696</td>\n",
              "      <td>pt</td>\n",
              "      <td>NaN</td>\n",
              "      <td>NaN</td>\n",
              "      <td>NaN</td>\n",
              "      <td>NaN</td>\n",
              "      <td>NaN</td>\n",
              "      <td>['tvPT']</td>\n",
              "    </tr>\n",
              "    <tr>\n",
              "      <th>9</th>\n",
              "      <td>2020-03-11 20:27:49</td>\n",
              "      <td>Niquito ;)</td>\n",
              "      <td>NLazaroto</td>\n",
              "      <td>O Coronavirús causou uma pandemia e eu ainda n...</td>\n",
              "      <td>0</td>\n",
              "      <td>215</td>\n",
              "      <td>pt</td>\n",
              "      <td>NaN</td>\n",
              "      <td>NaN</td>\n",
              "      <td>NaN</td>\n",
              "      <td>NaN</td>\n",
              "      <td>NaN</td>\n",
              "      <td>[]</td>\n",
              "    </tr>\n",
              "  </tbody>\n",
              "</table>\n",
              "</div>"
            ],
            "text/plain": [
              "                  data              usuario  ... longitude  hashtags\n",
              "0  2020-03-23 18:51:14             Gaboardi  ...       NaN        []\n",
              "1  2020-03-18 03:18:14   Seu Zé da Farmácia  ...       NaN        []\n",
              "2  2020-03-29 12:09:27  Marília Oliveira 🇧🇷  ...       NaN        []\n",
              "3  2020-04-01 21:11:07                    🚩  ...       NaN        []\n",
              "4  2020-03-19 17:49:40       Nova Impressão  ... -15.77691        []\n",
              "5  2020-05-08 11:21:36       Marcel Silvano  ...       NaN        []\n",
              "6  2020-03-10 21:27:40     Teixeira Correia  ...       NaN        []\n",
              "7  2020-06-04 13:22:21        Thiago Moraes  ...       NaN        []\n",
              "8  2020-05-07 21:32:12            PT Brasil  ...       NaN  ['tvPT']\n",
              "9  2020-03-11 20:27:49           Niquito ;)  ...       NaN        []\n",
              "\n",
              "[10 rows x 13 columns]"
            ]
          },
          "metadata": {
            "tags": []
          },
          "execution_count": 3
        }
      ]
    },
    {
      "cell_type": "code",
      "metadata": {
        "id": "JzrVqnjaNxib",
        "outputId": "601e5020-e576-4e8b-a269-e6d2b80205e2",
        "colab": {
          "base_uri": "https://localhost:8080/",
          "height": 357
        }
      },
      "source": [
        "# informações gereias\n",
        "df.info()"
      ],
      "execution_count": null,
      "outputs": [
        {
          "output_type": "stream",
          "text": [
            "<class 'pandas.core.frame.DataFrame'>\n",
            "RangeIndex: 1658825 entries, 0 to 1658824\n",
            "Data columns (total 13 columns):\n",
            " #   Column      Non-Null Count    Dtype  \n",
            "---  ------      --------------    -----  \n",
            " 0   data        1658825 non-null  object \n",
            " 1   usuario     1658768 non-null  object \n",
            " 2   apelido     1658825 non-null  object \n",
            " 3   texto       1658825 non-null  object \n",
            " 4   retweet     1658825 non-null  int64  \n",
            " 5   seguidores  1658825 non-null  int64  \n",
            " 6   idioma      1658825 non-null  object \n",
            " 7   lugar       74605 non-null    object \n",
            " 8   pais        74600 non-null    object \n",
            " 9   sigla       74595 non-null    object \n",
            " 10  latitude    8720 non-null     float64\n",
            " 11  longitude   8720 non-null     float64\n",
            " 12  hashtags    1658825 non-null  object \n",
            "dtypes: float64(2), int64(2), object(9)\n",
            "memory usage: 164.5+ MB\n"
          ],
          "name": "stdout"
        }
      ]
    },
    {
      "cell_type": "markdown",
      "metadata": {
        "id": "Azjnzzfuhazr"
      },
      "source": [
        "* data: data do tweet do usuário\n",
        "* usuario: nome do usuario\n",
        "* apelido: apelido do usuário\n",
        "* texto: texto publicado pelo usuário\n",
        "* retweet: quantidade de vezes que o tweet foi replicado\n",
        "* seguidores: quantidade de seguidores do usuário\n",
        "* idioma: idioma do usuário\n",
        "* lugar: lugar do usuário na publicação\n",
        "* pais: país do usuário na publicação\n",
        "* sigla: sigla do Estado do usuário\n",
        "* latitude: posição geogŕafica do usuário \n",
        "* longitude: posição geográfica do usuário"
      ]
    },
    {
      "cell_type": "code",
      "metadata": {
        "id": "D8x3VqOICfIQ",
        "outputId": "745f9965-bdaa-4292-8f6d-389342d86503",
        "colab": {
          "base_uri": "https://localhost:8080/",
          "height": 255
        }
      },
      "source": [
        "# quantidade de valores nulos\n",
        "df.isnull().sum()"
      ],
      "execution_count": null,
      "outputs": [
        {
          "output_type": "execute_result",
          "data": {
            "text/plain": [
              "data                0\n",
              "usuario            57\n",
              "apelido             0\n",
              "texto               0\n",
              "retweet             0\n",
              "seguidores          0\n",
              "idioma              0\n",
              "lugar         1584220\n",
              "pais          1584225\n",
              "sigla         1584230\n",
              "latitude      1650105\n",
              "longitude     1650105\n",
              "hashtags            0\n",
              "dtype: int64"
            ]
          },
          "metadata": {
            "tags": []
          },
          "execution_count": 9
        }
      ]
    },
    {
      "cell_type": "markdown",
      "metadata": {
        "id": "0ZS8756gPPef"
      },
      "source": [
        "### Analisando os dados numericos"
      ]
    },
    {
      "cell_type": "code",
      "metadata": {
        "id": "ks5b5w8hPYL_",
        "outputId": "790e0540-6370-4f8d-9afe-17c275876709",
        "colab": {
          "base_uri": "https://localhost:8080/",
          "height": 173
        }
      },
      "source": [
        "df.describe().transpose()"
      ],
      "execution_count": null,
      "outputs": [
        {
          "output_type": "execute_result",
          "data": {
            "text/html": [
              "<div>\n",
              "<style scoped>\n",
              "    .dataframe tbody tr th:only-of-type {\n",
              "        vertical-align: middle;\n",
              "    }\n",
              "\n",
              "    .dataframe tbody tr th {\n",
              "        vertical-align: top;\n",
              "    }\n",
              "\n",
              "    .dataframe thead th {\n",
              "        text-align: right;\n",
              "    }\n",
              "</style>\n",
              "<table border=\"1\" class=\"dataframe\">\n",
              "  <thead>\n",
              "    <tr style=\"text-align: right;\">\n",
              "      <th></th>\n",
              "      <th>count</th>\n",
              "      <th>mean</th>\n",
              "      <th>std</th>\n",
              "      <th>min</th>\n",
              "      <th>25%</th>\n",
              "      <th>50%</th>\n",
              "      <th>75%</th>\n",
              "      <th>max</th>\n",
              "    </tr>\n",
              "  </thead>\n",
              "  <tbody>\n",
              "    <tr>\n",
              "      <th>retweet</th>\n",
              "      <td>1658825.0</td>\n",
              "      <td>197.853299</td>\n",
              "      <td>6337.641384</td>\n",
              "      <td>0.000000</td>\n",
              "      <td>0.000000</td>\n",
              "      <td>0.000000</td>\n",
              "      <td>0.000000</td>\n",
              "      <td>1.139763e+06</td>\n",
              "    </tr>\n",
              "    <tr>\n",
              "      <th>seguidores</th>\n",
              "      <td>1658825.0</td>\n",
              "      <td>32572.055193</td>\n",
              "      <td>368029.985029</td>\n",
              "      <td>0.000000</td>\n",
              "      <td>101.000000</td>\n",
              "      <td>380.000000</td>\n",
              "      <td>1470.000000</td>\n",
              "      <td>8.424125e+07</td>\n",
              "    </tr>\n",
              "    <tr>\n",
              "      <th>latitude</th>\n",
              "      <td>8720.0</td>\n",
              "      <td>-40.237583</td>\n",
              "      <td>20.808494</td>\n",
              "      <td>-123.120400</td>\n",
              "      <td>-47.864334</td>\n",
              "      <td>-43.955615</td>\n",
              "      <td>-38.453198</td>\n",
              "      <td>1.747893e+02</td>\n",
              "    </tr>\n",
              "    <tr>\n",
              "      <th>longitude</th>\n",
              "      <td>8720.0</td>\n",
              "      <td>-11.117100</td>\n",
              "      <td>19.169105</td>\n",
              "      <td>-37.818769</td>\n",
              "      <td>-23.305300</td>\n",
              "      <td>-19.624400</td>\n",
              "      <td>-7.120700</td>\n",
              "      <td>5.825778e+01</td>\n",
              "    </tr>\n",
              "  </tbody>\n",
              "</table>\n",
              "</div>"
            ],
            "text/plain": [
              "                count          mean  ...          75%           max\n",
              "retweet     1658825.0    197.853299  ...     0.000000  1.139763e+06\n",
              "seguidores  1658825.0  32572.055193  ...  1470.000000  8.424125e+07\n",
              "latitude       8720.0    -40.237583  ...   -38.453198  1.747893e+02\n",
              "longitude      8720.0    -11.117100  ...    -7.120700  5.825778e+01\n",
              "\n",
              "[4 rows x 8 columns]"
            ]
          },
          "metadata": {
            "tags": []
          },
          "execution_count": 3
        }
      ]
    },
    {
      "cell_type": "markdown",
      "metadata": {
        "id": "5S2c_rnwsVRS"
      },
      "source": [
        "Ao gerar alguns dados estatísticos, podemos notar:\n",
        "\n",
        "* a variável *retweet* tem como valor máximo 1139763, isso quer dizer que uma publicação específica foi replicada mais de 1 milhão de vezes, assim como a variável *seguidores* nos mostra que um determinado usuário possui aproximadamente 8,5 milhões de seguidores \n",
        "\n",
        "* as colunas *retweet* e *seguidores* possui uma grande discrepância em sua distribuição de frequencia. Em *retweet*, todos os valores estão acima do 3º quartil, indicando que 75% dos valores são iguais a zero.\n"
      ]
    },
    {
      "cell_type": "markdown",
      "metadata": {
        "id": "oWGrmMDTPZW3"
      },
      "source": [
        "### Analisando os dados categóricos"
      ]
    },
    {
      "cell_type": "code",
      "metadata": {
        "id": "FF5AYG0hPrNn",
        "outputId": "81d01786-2ea0-47d4-ccfb-9f22e158048e",
        "colab": {
          "base_uri": "https://localhost:8080/",
          "height": 221
        }
      },
      "source": [
        "# Quantidade de tweets por páis\n",
        "df['sigla'].value_counts()"
      ],
      "execution_count": null,
      "outputs": [
        {
          "output_type": "execute_result",
          "data": {
            "text/plain": [
              "BR    67247\n",
              "PT     2675\n",
              "US     1068\n",
              "IT      484\n",
              "ES      379\n",
              "      ...  \n",
              "KR        1\n",
              "AD        1\n",
              "MC        1\n",
              "SI        1\n",
              "GF        1\n",
              "Name: sigla, Length: 120, dtype: int64"
            ]
          },
          "metadata": {
            "tags": []
          },
          "execution_count": 17
        }
      ]
    },
    {
      "cell_type": "markdown",
      "metadata": {
        "id": "Ty1kolG68o2s"
      },
      "source": [
        "Aproximadamente 90% dos dados são do Brasil\n",
        "\n",
        "*Obs: apenas os dados que contem a sigla do país"
      ]
    },
    {
      "cell_type": "code",
      "metadata": {
        "id": "l1nTwaFr3EYv",
        "outputId": "9944921d-b221-483e-e22c-0a5795b33717",
        "colab": {
          "base_uri": "https://localhost:8080/",
          "height": 34
        }
      },
      "source": [
        "# proporção dos tweets do Brasil\n",
        "(df['sigla'].value_counts()['BR']/df['sigla'].value_counts().sum())*100"
      ],
      "execution_count": null,
      "outputs": [
        {
          "output_type": "execute_result",
          "data": {
            "text/plain": [
              "90.14947382532341"
            ]
          },
          "metadata": {
            "tags": []
          },
          "execution_count": 18
        }
      ]
    },
    {
      "cell_type": "markdown",
      "metadata": {
        "id": "l74X1sd59Mjd"
      },
      "source": [
        "## Dataset DuvidasDB"
      ]
    },
    {
      "cell_type": "code",
      "metadata": {
        "id": "-xDmk9L79qBv",
        "outputId": "d8ec135a-14b8-4f9b-bc88-7a0375e4f8a7",
        "colab": {
          "base_uri": "https://localhost:8080/",
          "height": 306
        }
      },
      "source": [
        "duvidasDB = df[df['texto'].str.contains('?', regex=False)].copy()\n",
        "# todas as letras convertidas para minúsculas\n",
        "duvidasDB['texto'] = duvidasDB.texto.str.lower()\n",
        "# retirada dos carecteres acentuadas por seus respectivos carecteres sem acento\n",
        "duvidasDB['texto'] = duvidasDB.texto.apply(lambda txt: normalize('NFKD', txt).encode('ASCII','ignore').decode('ASCII'))\n",
        "# Convertendo o tipo do campo data em datetime\n",
        "duvidasDB['data'] = pd.to_datetime(duvidasDB['data'])\n",
        "# Ordenando os tweets por data\n",
        "duvidasDB.sort_values('data', inplace=True)\n",
        "# resetando os indixes\n",
        "duvidasDB.reset_index(drop=True, inplace=True)\n",
        "\n",
        "duvidasDB.head()"
      ],
      "execution_count": 119,
      "outputs": [
        {
          "output_type": "execute_result",
          "data": {
            "text/html": [
              "<div>\n",
              "<style scoped>\n",
              "    .dataframe tbody tr th:only-of-type {\n",
              "        vertical-align: middle;\n",
              "    }\n",
              "\n",
              "    .dataframe tbody tr th {\n",
              "        vertical-align: top;\n",
              "    }\n",
              "\n",
              "    .dataframe thead th {\n",
              "        text-align: right;\n",
              "    }\n",
              "</style>\n",
              "<table border=\"1\" class=\"dataframe\">\n",
              "  <thead>\n",
              "    <tr style=\"text-align: right;\">\n",
              "      <th></th>\n",
              "      <th>data</th>\n",
              "      <th>usuario</th>\n",
              "      <th>apelido</th>\n",
              "      <th>texto</th>\n",
              "      <th>retweet</th>\n",
              "      <th>seguidores</th>\n",
              "      <th>idioma</th>\n",
              "      <th>lugar</th>\n",
              "      <th>pais</th>\n",
              "      <th>sigla</th>\n",
              "      <th>latitude</th>\n",
              "      <th>longitude</th>\n",
              "      <th>hashtags</th>\n",
              "    </tr>\n",
              "  </thead>\n",
              "  <tbody>\n",
              "    <tr>\n",
              "      <th>0</th>\n",
              "      <td>2020-01-01 23:44:49</td>\n",
              "      <td>Furacão da CCCP ☭</td>\n",
              "      <td>Dalestee13PT</td>\n",
              "      <td>@isabela_camren @__bitchcoin__ cortaram da cam...</td>\n",
              "      <td>0</td>\n",
              "      <td>1228</td>\n",
              "      <td>pt</td>\n",
              "      <td>NaN</td>\n",
              "      <td>NaN</td>\n",
              "      <td>NaN</td>\n",
              "      <td>NaN</td>\n",
              "      <td>NaN</td>\n",
              "      <td>[]</td>\n",
              "    </tr>\n",
              "    <tr>\n",
              "      <th>1</th>\n",
              "      <td>2020-01-02 00:13:49</td>\n",
              "      <td>Teresa SM</td>\n",
              "      <td>bazert</td>\n",
              "      <td>o tamiflu nao e aquela coisa para a gripe a? u...</td>\n",
              "      <td>0</td>\n",
              "      <td>7456</td>\n",
              "      <td>pt</td>\n",
              "      <td>NaN</td>\n",
              "      <td>NaN</td>\n",
              "      <td>NaN</td>\n",
              "      <td>NaN</td>\n",
              "      <td>NaN</td>\n",
              "      <td>[]</td>\n",
              "    </tr>\n",
              "    <tr>\n",
              "      <th>2</th>\n",
              "      <td>2020-01-02 01:33:38</td>\n",
              "      <td>Manu, mas não a Gavassi</td>\n",
              "      <td>pringless_</td>\n",
              "      <td>@willpelicari mas como foi o processo? ele tev...</td>\n",
              "      <td>0</td>\n",
              "      <td>264</td>\n",
              "      <td>pt</td>\n",
              "      <td>NaN</td>\n",
              "      <td>NaN</td>\n",
              "      <td>NaN</td>\n",
              "      <td>NaN</td>\n",
              "      <td>NaN</td>\n",
              "      <td>[]</td>\n",
              "    </tr>\n",
              "    <tr>\n",
              "      <th>3</th>\n",
              "      <td>2020-01-02 14:14:02</td>\n",
              "      <td>CorollaVírus.exe</td>\n",
              "      <td>CoronaVirus_exe</td>\n",
              "      <td>@senadofederal nao gostaria de fazer parte? fo...</td>\n",
              "      <td>0</td>\n",
              "      <td>68</td>\n",
              "      <td>pt</td>\n",
              "      <td>NaN</td>\n",
              "      <td>NaN</td>\n",
              "      <td>NaN</td>\n",
              "      <td>NaN</td>\n",
              "      <td>NaN</td>\n",
              "      <td>[]</td>\n",
              "    </tr>\n",
              "    <tr>\n",
              "      <th>4</th>\n",
              "      <td>2020-01-02 16:32:53</td>\n",
              "      <td>Matheus Serdeira 🇦🇹</td>\n",
              "      <td>MathSerdeira11</td>\n",
              "      <td>brasileirao\\n\\nsera que vai acabar a quarenten...</td>\n",
              "      <td>0</td>\n",
              "      <td>4562</td>\n",
              "      <td>pt</td>\n",
              "      <td>NaN</td>\n",
              "      <td>NaN</td>\n",
              "      <td>NaN</td>\n",
              "      <td>NaN</td>\n",
              "      <td>NaN</td>\n",
              "      <td>[]</td>\n",
              "    </tr>\n",
              "  </tbody>\n",
              "</table>\n",
              "</div>"
            ],
            "text/plain": [
              "                 data                  usuario  ... longitude hashtags\n",
              "0 2020-01-01 23:44:49        Furacão da CCCP ☭  ...       NaN       []\n",
              "1 2020-01-02 00:13:49                Teresa SM  ...       NaN       []\n",
              "2 2020-01-02 01:33:38  Manu, mas não a Gavassi  ...       NaN       []\n",
              "3 2020-01-02 14:14:02         CorollaVírus.exe  ...       NaN       []\n",
              "4 2020-01-02 16:32:53      Matheus Serdeira 🇦🇹  ...       NaN       []\n",
              "\n",
              "[5 rows x 13 columns]"
            ]
          },
          "metadata": {
            "tags": []
          },
          "execution_count": 119
        }
      ]
    },
    {
      "cell_type": "code",
      "metadata": {
        "id": "JmBvwKeZRvcn",
        "outputId": "2c60579b-f5f5-44e6-ec02-69fc47bac785",
        "colab": {
          "base_uri": "https://localhost:8080/"
        }
      },
      "source": [
        "# nao podemos colocar a data como indice pois existem data iguais\n",
        "duvidasDB.data.duplicated().any()"
      ],
      "execution_count": null,
      "outputs": [
        {
          "output_type": "execute_result",
          "data": {
            "text/plain": [
              "True"
            ]
          },
          "metadata": {
            "tags": []
          },
          "execution_count": 151
        }
      ]
    },
    {
      "cell_type": "markdown",
      "metadata": {
        "id": "6wPqUBJS6JEJ"
      },
      "source": [
        "### Visão Geral dos Dados"
      ]
    },
    {
      "cell_type": "code",
      "metadata": {
        "id": "DP0FRlioy7dg",
        "outputId": "60ef6bde-bf7a-4fa4-b853-699a57b3bfcc",
        "colab": {
          "base_uri": "https://localhost:8080/",
          "height": 173
        }
      },
      "source": [
        "duvidasDB.describe().transpose()"
      ],
      "execution_count": null,
      "outputs": [
        {
          "output_type": "execute_result",
          "data": {
            "text/html": [
              "<div>\n",
              "<style scoped>\n",
              "    .dataframe tbody tr th:only-of-type {\n",
              "        vertical-align: middle;\n",
              "    }\n",
              "\n",
              "    .dataframe tbody tr th {\n",
              "        vertical-align: top;\n",
              "    }\n",
              "\n",
              "    .dataframe thead th {\n",
              "        text-align: right;\n",
              "    }\n",
              "</style>\n",
              "<table border=\"1\" class=\"dataframe\">\n",
              "  <thead>\n",
              "    <tr style=\"text-align: right;\">\n",
              "      <th></th>\n",
              "      <th>count</th>\n",
              "      <th>mean</th>\n",
              "      <th>std</th>\n",
              "      <th>min</th>\n",
              "      <th>25%</th>\n",
              "      <th>50%</th>\n",
              "      <th>75%</th>\n",
              "      <th>max</th>\n",
              "    </tr>\n",
              "  </thead>\n",
              "  <tbody>\n",
              "    <tr>\n",
              "      <th>retweet</th>\n",
              "      <td>172501.0</td>\n",
              "      <td>123.877137</td>\n",
              "      <td>4714.103506</td>\n",
              "      <td>0.000000</td>\n",
              "      <td>0.000000</td>\n",
              "      <td>0.000000</td>\n",
              "      <td>0.000000</td>\n",
              "      <td>6.165690e+05</td>\n",
              "    </tr>\n",
              "    <tr>\n",
              "      <th>seguidores</th>\n",
              "      <td>172501.0</td>\n",
              "      <td>12244.941235</td>\n",
              "      <td>227150.310261</td>\n",
              "      <td>0.000000</td>\n",
              "      <td>78.000000</td>\n",
              "      <td>296.000000</td>\n",
              "      <td>1020.000000</td>\n",
              "      <td>1.310412e+07</td>\n",
              "    </tr>\n",
              "    <tr>\n",
              "      <th>latitude</th>\n",
              "      <td>594.0</td>\n",
              "      <td>-42.739200</td>\n",
              "      <td>16.340911</td>\n",
              "      <td>-118.291855</td>\n",
              "      <td>-48.190162</td>\n",
              "      <td>-45.280150</td>\n",
              "      <td>-38.634174</td>\n",
              "      <td>1.516286e+02</td>\n",
              "    </tr>\n",
              "    <tr>\n",
              "      <th>longitude</th>\n",
              "      <td>594.0</td>\n",
              "      <td>-14.001684</td>\n",
              "      <td>16.266415</td>\n",
              "      <td>-34.823600</td>\n",
              "      <td>-23.498240</td>\n",
              "      <td>-20.451828</td>\n",
              "      <td>-8.060902</td>\n",
              "      <td>5.288644e+01</td>\n",
              "    </tr>\n",
              "  </tbody>\n",
              "</table>\n",
              "</div>"
            ],
            "text/plain": [
              "               count          mean  ...          75%           max\n",
              "retweet     172501.0    123.877137  ...     0.000000  6.165690e+05\n",
              "seguidores  172501.0  12244.941235  ...  1020.000000  1.310412e+07\n",
              "latitude       594.0    -42.739200  ...   -38.634174  1.516286e+02\n",
              "longitude      594.0    -14.001684  ...    -8.060902  5.288644e+01\n",
              "\n",
              "[4 rows x 8 columns]"
            ]
          },
          "metadata": {
            "tags": []
          },
          "execution_count": 154
        }
      ]
    },
    {
      "cell_type": "markdown",
      "metadata": {
        "id": "CoIxCBbGEzz0"
      },
      "source": [
        "Ao gerar alguns dados estatísticos, podemos notar as mesmas características do dataset original:\n",
        "\n",
        "* a variável *retweet* tem como valor máximo 616569, isso quer dizer que uma publicação específica foi replicada mais de 0,5 milhão de vezes, assim como a variável *seguidores* nos mostra que um determinado usuário possui aproximadamente 1,3 milhão de seguidores \n",
        "\n",
        "* as colunas *retweet* e *seguidores* possui uma grande discrepância em sua distribuição de frequencia. Em *retweet*, todos os valores estão acima do 3º quartil, indicando que 75% dos valores são iguais a zero.\n"
      ]
    },
    {
      "cell_type": "code",
      "metadata": {
        "id": "RfpgxVySVf1C",
        "outputId": "2ecebd7b-0990-45c7-b4a2-797e34d485d8",
        "colab": {
          "base_uri": "https://localhost:8080/"
        }
      },
      "source": [
        "duvidasDB.info()"
      ],
      "execution_count": null,
      "outputs": [
        {
          "output_type": "stream",
          "text": [
            "<class 'pandas.core.frame.DataFrame'>\n",
            "RangeIndex: 172501 entries, 0 to 172500\n",
            "Data columns (total 13 columns):\n",
            " #   Column      Non-Null Count   Dtype         \n",
            "---  ------      --------------   -----         \n",
            " 0   data        172501 non-null  datetime64[ns]\n",
            " 1   usuario     172495 non-null  object        \n",
            " 2   apelido     172501 non-null  object        \n",
            " 3   texto       172501 non-null  object        \n",
            " 4   retweet     172501 non-null  int64         \n",
            " 5   seguidores  172501 non-null  int64         \n",
            " 6   idioma      172501 non-null  object        \n",
            " 7   lugar       7829 non-null    object        \n",
            " 8   pais        7829 non-null    object        \n",
            " 9   sigla       7829 non-null    object        \n",
            " 10  latitude    594 non-null     float64       \n",
            " 11  longitude   594 non-null     float64       \n",
            " 12  hashtags    172501 non-null  object        \n",
            "dtypes: datetime64[ns](1), float64(2), int64(2), object(8)\n",
            "memory usage: 17.1+ MB\n"
          ],
          "name": "stdout"
        }
      ]
    },
    {
      "cell_type": "code",
      "metadata": {
        "id": "kUdohheP71pU",
        "outputId": "3935a7d7-732f-4547-8286-34cfb9dd2d24",
        "colab": {
          "base_uri": "https://localhost:8080/",
          "height": 255
        }
      },
      "source": [
        "#Contagem de dados ausentes\n",
        "duvidasDB.isnull().sum()"
      ],
      "execution_count": null,
      "outputs": [
        {
          "output_type": "execute_result",
          "data": {
            "text/plain": [
              "data               0\n",
              "usuario            6\n",
              "apelido            0\n",
              "texto              0\n",
              "retweet            0\n",
              "seguidores         0\n",
              "idioma             0\n",
              "lugar         164672\n",
              "pais          164672\n",
              "sigla         164672\n",
              "latitude      171907\n",
              "longitude     171907\n",
              "hashtags           0\n",
              "dtype: int64"
            ]
          },
          "metadata": {
            "tags": []
          },
          "execution_count": 14
        }
      ]
    },
    {
      "cell_type": "code",
      "metadata": {
        "id": "mLfXDkcX3S-o",
        "outputId": "d970adf5-0964-4081-cae6-368c021ec3fa",
        "colab": {
          "base_uri": "https://localhost:8080/"
        }
      },
      "source": [
        "# Total por pais\n",
        "duvidasDB.pais.value_counts()"
      ],
      "execution_count": null,
      "outputs": [
        {
          "output_type": "execute_result",
          "data": {
            "text/plain": [
              "Brazil                        7148\n",
              "Portugal                       243\n",
              "United States                  101\n",
              "Italy                           45\n",
              "United Kingdom                  42\n",
              "Spain                           34\n",
              "France                          23\n",
              "Canada                          22\n",
              "Republic of Mozambique          21\n",
              "Argentina                       17\n",
              "Ireland                         12\n",
              "Japan                            8\n",
              "Angola                           8\n",
              "Colombia                         6\n",
              "Chile                            6\n",
              "Germany                          5\n",
              "Switzerland                      5\n",
              "Belgium                          5\n",
              "Peru                             4\n",
              "New Zealand                      4\n",
              "Bahrain                          4\n",
              "India                            4\n",
              "Australia                        4\n",
              "Nigeria                          4\n",
              "South Africa                     3\n",
              "Uruguay                          3\n",
              "The Netherlands                  3\n",
              "Austria                          3\n",
              "People's Republic of China       3\n",
              "Egypt                            2\n",
              "Sweden                           2\n",
              "Romania                          2\n",
              "Mexico                           2\n",
              "Cape Verde                       2\n",
              "Turkey                           2\n",
              "Venezuela                        2\n",
              "Paraguay                         2\n",
              "Kingdom of Saudi Arabia          2\n",
              "Trinidad and Tobago              1\n",
              "Sri Lanka                        1\n",
              "Ghana                            1\n",
              "Armenia                          1\n",
              "Cuba                             1\n",
              "Monaco                           1\n",
              "Denmark                          1\n",
              "United Arab Emirates             1\n",
              "Bolivia                          1\n",
              "Pakistan                         1\n",
              "Poland                           1\n",
              "Malaysia                         1\n",
              "Morocco                          1\n",
              "Guadeloupe                       1\n",
              "Indonesia                        1\n",
              "Kazakhstan                       1\n",
              "Luxembourg                       1\n",
              "Dominican Republic               1\n",
              "Norway                           1\n",
              "Taiwan                           1\n",
              "Israel                           1\n",
              "Name: pais, dtype: int64"
            ]
          },
          "metadata": {
            "tags": []
          },
          "execution_count": 81
        }
      ]
    },
    {
      "cell_type": "markdown",
      "metadata": {
        "id": "Xw0FQ5w8E9JR"
      },
      "source": [
        "Assim como no dataset original, o Brasil continua sendo o país do qual se tem mais registros"
      ]
    },
    {
      "cell_type": "code",
      "metadata": {
        "id": "OC3mgAk9E6Vx",
        "outputId": "29a02395-26d6-465e-cde2-653839b8ee26",
        "colab": {
          "base_uri": "https://localhost:8080/"
        }
      },
      "source": [
        "(duvidasDB['pais'].value_counts()['Brazil']/duvidasDB['pais'].value_counts().sum())*100"
      ],
      "execution_count": null,
      "outputs": [
        {
          "output_type": "execute_result",
          "data": {
            "text/plain": [
              "91.30157108187508"
            ]
          },
          "metadata": {
            "tags": []
          },
          "execution_count": 82
        }
      ]
    },
    {
      "cell_type": "code",
      "metadata": {
        "id": "bFBLlfitpI_f"
      },
      "source": [
        "month = {1:'Janeiro', 2:'Fevereiro', 3:'Março', 4:'Abril', 5:'Maio', 6:'Junho'}"
      ],
      "execution_count": null,
      "outputs": []
    },
    {
      "cell_type": "code",
      "metadata": {
        "id": "oMxbqVXIJBmi",
        "outputId": "039f3788-d489-47a6-9bbc-cf9c74f21a13",
        "colab": {
          "base_uri": "https://localhost:8080/",
          "height": 295
        }
      },
      "source": [
        "# perído de mais tweets\n",
        "tweetMonth = duvidasDB.groupby(duvidasDB['data'].dt.month)['texto'].count()\n",
        "\n",
        "plt.title('Número de tweets por mês')\n",
        "plt.xlabel('Mês')\n",
        "plt.ylabel('Quantidade de tweets')\n",
        "plt.plot([month[index] for index in tweetMonth.index],tweetMonth.values)\n",
        "plt.show()"
      ],
      "execution_count": null,
      "outputs": [
        {
          "output_type": "display_data",
          "data": {
            "image/png": "[encoded data removed]",
            "text/plain": [
              "<Figure size 432x288 with 1 Axes>"
            ]
          },
          "metadata": {
            "tags": [],
            "needs_background": "light"
          }
        }
      ]
    },
    {
      "cell_type": "code",
      "metadata": {
        "id": "qOb1m6nEWjmc",
        "outputId": "8ff59181-a268-4921-a246-9ad8c76c45af",
        "colab": {
          "base_uri": "https://localhost:8080/",
          "height": 251
        }
      },
      "source": [
        "fig, ax = plt.subplots()\n",
        "ax.pie(tweetMonth.values, labels=[month[index] for index in tweetMonth.index], autopct='%1.1f%%')\n",
        "ax.axis('equal')\n",
        "plt.show()"
      ],
      "execution_count": null,
      "outputs": [
        {
          "output_type": "display_data",
          "data": {
            "image/png": "[encoded data removed]",
            "text/plain": [
              "<Figure size 432x288 with 1 Axes>"
            ]
          },
          "metadata": {
            "tags": []
          }
        }
      ]
    },
    {
      "cell_type": "code",
      "metadata": {
        "id": "8H6tBW4qHqQF",
        "outputId": "cad562e8-26aa-464d-bfdf-862a20edfc9a",
        "colab": {
          "base_uri": "https://localhost:8080/",
          "height": 313
        }
      },
      "source": [
        "# período de mais retweets\n",
        "retweetMonth = duvidasDB.groupby(duvidasDB['data'].dt.month)['retweet'].sum()\n",
        "\n",
        "plt.title('Número de retweets por mês')\n",
        "plt.xlabel('Mês')\n",
        "plt.ylabel('Quantidade de retweet')\n",
        "plt.plot([month[index] for index in retweetMonth.index],retweetMonth.values)"
      ],
      "execution_count": null,
      "outputs": [
        {
          "output_type": "execute_result",
          "data": {
            "text/plain": [
              "[<matplotlib.lines.Line2D at 0x7f391c785f28>]"
            ]
          },
          "metadata": {
            "tags": []
          },
          "execution_count": 47
        },
        {
          "output_type": "display_data",
          "data": {
            "image/png": "[encoded data removed]",
            "text/plain": [
              "<Figure size 432x288 with 1 Axes>"
            ]
          },
          "metadata": {
            "tags": [],
            "needs_background": "light"
          }
        }
      ]
    },
    {
      "cell_type": "code",
      "metadata": {
        "id": "lcnaV5bzymeQ",
        "outputId": "2ef627bd-474a-4a05-c0ad-bed66ed02f63",
        "colab": {
          "base_uri": "https://localhost:8080/",
          "height": 450
        }
      },
      "source": [
        "# Media de retweet e seguidores por lugar \n",
        "duvidasDB.groupby(['lugar']).agg({'pais' : 'count', 'retweet' : 'mean', 'seguidores' : 'mean'}).sort_values(by=['retweet'], ascending=False)"
      ],
      "execution_count": null,
      "outputs": [
        {
          "output_type": "execute_result",
          "data": {
            "text/html": [
              "<div>\n",
              "<style scoped>\n",
              "    .dataframe tbody tr th:only-of-type {\n",
              "        vertical-align: middle;\n",
              "    }\n",
              "\n",
              "    .dataframe tbody tr th {\n",
              "        vertical-align: top;\n",
              "    }\n",
              "\n",
              "    .dataframe thead th {\n",
              "        text-align: right;\n",
              "    }\n",
              "</style>\n",
              "<table border=\"1\" class=\"dataframe\">\n",
              "  <thead>\n",
              "    <tr style=\"text-align: right;\">\n",
              "      <th></th>\n",
              "      <th>pais</th>\n",
              "      <th>retweet</th>\n",
              "      <th>seguidores</th>\n",
              "    </tr>\n",
              "    <tr>\n",
              "      <th>lugar</th>\n",
              "      <th></th>\n",
              "      <th></th>\n",
              "      <th></th>\n",
              "    </tr>\n",
              "  </thead>\n",
              "  <tbody>\n",
              "    <tr>\n",
              "      <th>Vila Nova de Gaia</th>\n",
              "      <td>9</td>\n",
              "      <td>658.666667</td>\n",
              "      <td>882.222222</td>\n",
              "    </tr>\n",
              "    <tr>\n",
              "      <th>Peñalolén</th>\n",
              "      <td>1</td>\n",
              "      <td>239.000000</td>\n",
              "      <td>3576.000000</td>\n",
              "    </tr>\n",
              "    <tr>\n",
              "      <th>Tanguá</th>\n",
              "      <td>1</td>\n",
              "      <td>132.000000</td>\n",
              "      <td>10967.000000</td>\n",
              "    </tr>\n",
              "    <tr>\n",
              "      <th>Mata de São João</th>\n",
              "      <td>1</td>\n",
              "      <td>115.000000</td>\n",
              "      <td>64652.000000</td>\n",
              "    </tr>\n",
              "    <tr>\n",
              "      <th>Cruz das Almas</th>\n",
              "      <td>1</td>\n",
              "      <td>101.000000</td>\n",
              "      <td>295.000000</td>\n",
              "    </tr>\n",
              "    <tr>\n",
              "      <th>...</th>\n",
              "      <td>...</td>\n",
              "      <td>...</td>\n",
              "      <td>...</td>\n",
              "    </tr>\n",
              "    <tr>\n",
              "      <th>Ibateguara</th>\n",
              "      <td>1</td>\n",
              "      <td>0.000000</td>\n",
              "      <td>254.000000</td>\n",
              "    </tr>\n",
              "    <tr>\n",
              "      <th>Ibirama</th>\n",
              "      <td>2</td>\n",
              "      <td>0.000000</td>\n",
              "      <td>833.500000</td>\n",
              "    </tr>\n",
              "    <tr>\n",
              "      <th>Ibiraçu</th>\n",
              "      <td>1</td>\n",
              "      <td>0.000000</td>\n",
              "      <td>436.000000</td>\n",
              "    </tr>\n",
              "    <tr>\n",
              "      <th>Ibiúna</th>\n",
              "      <td>2</td>\n",
              "      <td>0.000000</td>\n",
              "      <td>481.500000</td>\n",
              "    </tr>\n",
              "    <tr>\n",
              "      <th>İstanbul</th>\n",
              "      <td>1</td>\n",
              "      <td>0.000000</td>\n",
              "      <td>5.000000</td>\n",
              "    </tr>\n",
              "  </tbody>\n",
              "</table>\n",
              "<p>1285 rows × 3 columns</p>\n",
              "</div>"
            ],
            "text/plain": [
              "                   pais     retweet    seguidores\n",
              "lugar                                            \n",
              "Vila Nova de Gaia     9  658.666667    882.222222\n",
              "Peñalolén             1  239.000000   3576.000000\n",
              "Tanguá                1  132.000000  10967.000000\n",
              "Mata de São João      1  115.000000  64652.000000\n",
              "Cruz das Almas        1  101.000000    295.000000\n",
              "...                 ...         ...           ...\n",
              "Ibateguara            1    0.000000    254.000000\n",
              "Ibirama               2    0.000000    833.500000\n",
              "Ibiraçu               1    0.000000    436.000000\n",
              "Ibiúna                2    0.000000    481.500000\n",
              "İstanbul              1    0.000000      5.000000\n",
              "\n",
              "[1285 rows x 3 columns]"
            ]
          },
          "metadata": {
            "tags": []
          },
          "execution_count": 9
        }
      ]
    },
    {
      "cell_type": "code",
      "metadata": {
        "id": "GpxrUHmonds9",
        "outputId": "b523b116-5d60-4800-814c-674a487677d3",
        "colab": {
          "base_uri": "https://localhost:8080/",
          "height": 450
        }
      },
      "source": [
        "#Lugar com maior media de retweet e seguidores\n",
        "duvidasDB.groupby(['lugar']).agg({'pais' : 'count', 'retweet' : 'mean', 'seguidores' : 'mean'}).sort_values(by=['retweet'], ascending=False)"
      ],
      "execution_count": null,
      "outputs": [
        {
          "output_type": "execute_result",
          "data": {
            "text/html": [
              "<div>\n",
              "<style scoped>\n",
              "    .dataframe tbody tr th:only-of-type {\n",
              "        vertical-align: middle;\n",
              "    }\n",
              "\n",
              "    .dataframe tbody tr th {\n",
              "        vertical-align: top;\n",
              "    }\n",
              "\n",
              "    .dataframe thead th {\n",
              "        text-align: right;\n",
              "    }\n",
              "</style>\n",
              "<table border=\"1\" class=\"dataframe\">\n",
              "  <thead>\n",
              "    <tr style=\"text-align: right;\">\n",
              "      <th></th>\n",
              "      <th>pais</th>\n",
              "      <th>retweet</th>\n",
              "      <th>seguidores</th>\n",
              "    </tr>\n",
              "    <tr>\n",
              "      <th>lugar</th>\n",
              "      <th></th>\n",
              "      <th></th>\n",
              "      <th></th>\n",
              "    </tr>\n",
              "  </thead>\n",
              "  <tbody>\n",
              "    <tr>\n",
              "      <th>Vila Nova de Gaia</th>\n",
              "      <td>9</td>\n",
              "      <td>658.666667</td>\n",
              "      <td>882.222222</td>\n",
              "    </tr>\n",
              "    <tr>\n",
              "      <th>Peñalolén</th>\n",
              "      <td>1</td>\n",
              "      <td>239.000000</td>\n",
              "      <td>3576.000000</td>\n",
              "    </tr>\n",
              "    <tr>\n",
              "      <th>Tanguá</th>\n",
              "      <td>1</td>\n",
              "      <td>132.000000</td>\n",
              "      <td>10967.000000</td>\n",
              "    </tr>\n",
              "    <tr>\n",
              "      <th>Mata de São João</th>\n",
              "      <td>1</td>\n",
              "      <td>115.000000</td>\n",
              "      <td>64652.000000</td>\n",
              "    </tr>\n",
              "    <tr>\n",
              "      <th>Cruz das Almas</th>\n",
              "      <td>1</td>\n",
              "      <td>101.000000</td>\n",
              "      <td>295.000000</td>\n",
              "    </tr>\n",
              "    <tr>\n",
              "      <th>...</th>\n",
              "      <td>...</td>\n",
              "      <td>...</td>\n",
              "      <td>...</td>\n",
              "    </tr>\n",
              "    <tr>\n",
              "      <th>Ibateguara</th>\n",
              "      <td>1</td>\n",
              "      <td>0.000000</td>\n",
              "      <td>254.000000</td>\n",
              "    </tr>\n",
              "    <tr>\n",
              "      <th>Ibirama</th>\n",
              "      <td>2</td>\n",
              "      <td>0.000000</td>\n",
              "      <td>833.500000</td>\n",
              "    </tr>\n",
              "    <tr>\n",
              "      <th>Ibiraçu</th>\n",
              "      <td>1</td>\n",
              "      <td>0.000000</td>\n",
              "      <td>436.000000</td>\n",
              "    </tr>\n",
              "    <tr>\n",
              "      <th>Ibiúna</th>\n",
              "      <td>2</td>\n",
              "      <td>0.000000</td>\n",
              "      <td>481.500000</td>\n",
              "    </tr>\n",
              "    <tr>\n",
              "      <th>İstanbul</th>\n",
              "      <td>1</td>\n",
              "      <td>0.000000</td>\n",
              "      <td>5.000000</td>\n",
              "    </tr>\n",
              "  </tbody>\n",
              "</table>\n",
              "<p>1285 rows × 3 columns</p>\n",
              "</div>"
            ],
            "text/plain": [
              "                   pais     retweet    seguidores\n",
              "lugar                                            \n",
              "Vila Nova de Gaia     9  658.666667    882.222222\n",
              "Peñalolén             1  239.000000   3576.000000\n",
              "Tanguá                1  132.000000  10967.000000\n",
              "Mata de São João      1  115.000000  64652.000000\n",
              "Cruz das Almas        1  101.000000    295.000000\n",
              "...                 ...         ...           ...\n",
              "Ibateguara            1    0.000000    254.000000\n",
              "Ibirama               2    0.000000    833.500000\n",
              "Ibiraçu               1    0.000000    436.000000\n",
              "Ibiúna                2    0.000000    481.500000\n",
              "İstanbul              1    0.000000      5.000000\n",
              "\n",
              "[1285 rows x 3 columns]"
            ]
          },
          "metadata": {
            "tags": []
          },
          "execution_count": 6
        }
      ]
    },
    {
      "cell_type": "markdown",
      "metadata": {
        "id": "Uh6DecW53FEH"
      },
      "source": [
        "### Informações dos temas discutidos\n",
        "* Doença\n",
        "* Medicamentos\n",
        "* Tratamentos\n",
        "* Pessoas\n",
        "\n",
        "OBS: inserir imagem de como montamos os 4 datasets"
      ]
    },
    {
      "cell_type": "code",
      "metadata": {
        "id": "7GE8UN-4Zx7I"
      },
      "source": [
        "# lista de palavras chaves para cada título\n",
        "\n",
        "doenca = ['covid', 'covid-19', 'covid19','coronavirus','covid_19','gripezinha','sars','epidemia', 'animais', 'transmissao', 'espiro', 'febre', 'pandemia', 'cvd', 'virus']\n",
        "medicamento = ['azitromicina', 'tratamento', 'remedio','cloroquina','hidroxicloroquina','vermictina','novalgina', 'dipirona', 'dexametasona', 'azitromicina', 'corticoides']\n",
        "organizacaoo = ['oms','stf','pt','pf','cnn','globo','cnnbrasil','ministério','banco','onubrasil','onu','anvisa']\n",
        "pessoa = ['jair', 'bolsonaro', 'jair bolsonaro', 'jairbolsonaro','presidente','bozo','bosonaro', 'bozonaro','mandetta','trump','lula','doria','haddad','osmar terra', 'osmarterra']"
      ],
      "execution_count": 120,
      "outputs": []
    },
    {
      "cell_type": "code",
      "metadata": {
        "id": "DyEeL6Fh3Pm0",
        "outputId": "0f0b874e-7747-4b63-c802-f300265de37a",
        "colab": {
          "base_uri": "https://localhost:8080/",
          "height": 233
        }
      },
      "source": [
        "# dataset Doença\n",
        "doencaDB = duvidasDB[duvidasDB['texto'].str.contains(('|').join(doenca))].copy()\n",
        "doencaDB['texto']"
      ],
      "execution_count": 121,
      "outputs": [
        {
          "output_type": "execute_result",
          "data": {
            "text/plain": [
              "1         o tamiflu nao e aquela coisa para a gripe a? u...\n",
              "27          @sehvnstuff h1n1? e gerar uma fucking pandemia?\n",
              "30             por que sera que pandemia parou de grafitar?\n",
              "39        isto ja se tornou epidemia ou pandemia? https:...\n",
              "43             @chumeltorres la que?? nacademia o pandemia?\n",
              "                                ...                        \n",
              "172379    gente que censura descarada e essa do @youtube...\n",
              "172404    meninas, a tpm e menstruacao de vcs ta afetand...\n",
              "172419    a chance de eu pegar covid19 e maior a noite d...\n",
              "172445    a hidroxicloroquina e a ivermectina sao excele...\n",
              "172497    @marcelo69220190 @pedroernestors que coisa fei...\n",
              "Name: texto, Length: 87728, dtype: object"
            ]
          },
          "metadata": {
            "tags": []
          },
          "execution_count": 121
        }
      ]
    },
    {
      "cell_type": "code",
      "metadata": {
        "id": "vxyzvbEBWph4",
        "outputId": "da76b3f8-37f5-4acc-e813-b65503f54e3d",
        "colab": {
          "base_uri": "https://localhost:8080/",
          "height": 233
        }
      },
      "source": [
        "# dataset Medicamento\n",
        "medicDB = duvidasDB[duvidasDB['texto'].str.contains(('|').join(medicamento))].copy()\n",
        "medicDB['texto']"
      ],
      "execution_count": 122,
      "outputs": [
        {
          "output_type": "execute_result",
          "data": {
            "text/plain": [
              "38        @tecnotrapta @ricksterzzzuk @alliancelgb @phay...\n",
              "50        @legalizaura e o azitromicina? se for ele ta e...\n",
              "52        porra todos oa efeitos colaterais da azitromic...\n",
              "54        e ai sao pedro que patifaria e essa meu parcer...\n",
              "55        @_hellenlessa1 7 dias ne? azitromicina faz efe...\n",
              "                                ...                        \n",
              "172426              e a cloroquina? https://t.co/uy8xpvue2p\n",
              "172427                   e o moro? morreu?\\ne a cloroquina?\n",
              "172440           @falarafha cloroquina com cuscuz. que tal?\n",
              "172442    @plrobertojr ??????????????????????????? kkkkk...\n",
              "172445    a hidroxicloroquina e a ivermectina sao excele...\n",
              "Name: texto, Length: 24361, dtype: object"
            ]
          },
          "metadata": {
            "tags": []
          },
          "execution_count": 122
        }
      ]
    },
    {
      "cell_type": "code",
      "metadata": {
        "id": "g1RxTth7Xd2K",
        "outputId": "25ea6c68-9da6-4553-fef6-c521399d8a89",
        "colab": {
          "base_uri": "https://localhost:8080/",
          "height": 233
        }
      },
      "source": [
        "# dataset Organização a partir dos datasets Doença e Medicamentos\n",
        "orgDB_a = doencaDB[doencaDB['texto'].str.contains(('|').join(organizacaoo))].copy()\n",
        "\n",
        "orgDB_b = medicDB[medicDB['texto'].str.contains(('|').join(organizacaoo))].copy()\n",
        "\n",
        "# concatenação dos dois sub-datasets retirando os registros duplicados\n",
        "orgDB = pd.concat([orgDB_a, orgDB_b]).drop_duplicates()\n",
        "orgDB['texto']"
      ],
      "execution_count": 123,
      "outputs": [
        {
          "output_type": "execute_result",
          "data": {
            "text/plain": [
              "128       coronavirus. que virus e este que esta a deixa...\n",
              "129       coronavirus. que virus e este que esta a deixa...\n",
              "133       epidemia por virus nao conhecido esta se espal...\n",
              "235       virus misterioso faz oms convocar reuniao de e...\n",
              "267       a nova pandemia (?), meu pai\\n\\n\"coronavirus t...\n",
              "                                ...                        \n",
              "171388    @jornaloglobo com certeza foi a cloroquina que...\n",
              "171426    agora vai ficar de quarentena passando remedio...\n",
              "171925    entenderam porque a oms e mandemtta falam que ...\n",
              "172064    @elianadigiacomo @jornalnacional a globo emiss...\n",
              "172273    @bolsonarosp @cnnbrasil por que a gente e que ...\n",
              "Name: texto, Length: 5965, dtype: object"
            ]
          },
          "metadata": {
            "tags": []
          },
          "execution_count": 123
        }
      ]
    },
    {
      "cell_type": "code",
      "metadata": {
        "id": "hheVJ5mdYSc2",
        "outputId": "0cf78caa-fb6a-4dfe-caba-b56668490bca",
        "colab": {
          "base_uri": "https://localhost:8080/",
          "height": 233
        }
      },
      "source": [
        "# dataset Pessoas a partir dos datasets Doença e Medicamentos\n",
        "pessoaDB_a = doencaDB[doencaDB['texto'].str.contains(('|').join(pessoa))].copy()\n",
        "\n",
        "pessoaDB_b = medicDB[medicDB['texto'].str.contains(('|').join(pessoa))].copy()\n",
        "\n",
        "# concatenação dos dois sub-datasets retirando os registros duplicados\n",
        "pessoaDB = pd.concat([pessoaDB_a, pessoaDB_b]).drop_duplicates()\n",
        "pessoaDB['texto']"
      ],
      "execution_count": 124,
      "outputs": [
        {
          "output_type": "execute_result",
          "data": {
            "text/plain": [
              "380       o que o governo @jairbolsonaro ta fazendo pra ...\n",
              "385       @carlosbolsonaro @policiafederal @sf_moro carl...\n",
              "434       @lhmandetta ta esperando o corona virus  se di...\n",
              "477       https://t.co/j2n6wzuhir\\n@jairbolsonaro @minsa...\n",
              "511       sera? \\neua tem coronavirus sob controle, diz ...\n",
              "                                ...                        \n",
              "172103    \"o que presidente vai inaugurar? ele pode inau...\n",
              "172129    cade  cloroquina presidente?\\nsocorro...\\n@car...\n",
              "172273    @bolsonarosp @cnnbrasil por que a gente e que ...\n",
              "172312    @carlosbolsonaro ja tomou sua cloroquina hoje?...\n",
              "172386    alguem sabe que resultados foram obtidos pela ...\n",
              "Name: texto, Length: 14275, dtype: object"
            ]
          },
          "metadata": {
            "tags": []
          },
          "execution_count": 124
        }
      ]
    },
    {
      "cell_type": "code",
      "metadata": {
        "id": "RTBpAt-7f3Fz",
        "outputId": "bc958466-77e9-42f0-e8c8-054d72e4ba40",
        "colab": {
          "base_uri": "https://localhost:8080/",
          "height": 233
        }
      },
      "source": [
        "# concatenação dos dois sub-datasets retirando os registros duplicados\n",
        "covidDB = pd.concat([doencaDB, medicDB]).drop_duplicates()\n",
        "covidDB['texto']"
      ],
      "execution_count": 125,
      "outputs": [
        {
          "output_type": "execute_result",
          "data": {
            "text/plain": [
              "1         o tamiflu nao e aquela coisa para a gripe a? u...\n",
              "27          @sehvnstuff h1n1? e gerar uma fucking pandemia?\n",
              "30             por que sera que pandemia parou de grafitar?\n",
              "39        isto ja se tornou epidemia ou pandemia? https:...\n",
              "43             @chumeltorres la que?? nacademia o pandemia?\n",
              "                                ...                        \n",
              "172424    @wilsonwitzel mau carater!!! quantas vidas ser...\n",
              "172426              e a cloroquina? https://t.co/uy8xpvue2p\n",
              "172427                   e o moro? morreu?\\ne a cloroquina?\n",
              "172440           @falarafha cloroquina com cuscuz. que tal?\n",
              "172442    @plrobertojr ??????????????????????????? kkkkk...\n",
              "Name: texto, Length: 108787, dtype: object"
            ]
          },
          "metadata": {
            "tags": []
          },
          "execution_count": 125
        }
      ]
    },
    {
      "cell_type": "code",
      "metadata": {
        "id": "dtr8Kss3vO9k",
        "outputId": "7ef319c4-6ce6-4096-d680-0a5bd5fb883d",
        "colab": {
          "base_uri": "https://localhost:8080/",
          "height": 97
        }
      },
      "source": [
        "# Usuario mais influente\n",
        "covidDB[covidDB.seguidores == covidDB['seguidores'].max()]"
      ],
      "execution_count": 126,
      "outputs": [
        {
          "output_type": "execute_result",
          "data": {
            "text/html": [
              "<div>\n",
              "<style scoped>\n",
              "    .dataframe tbody tr th:only-of-type {\n",
              "        vertical-align: middle;\n",
              "    }\n",
              "\n",
              "    .dataframe tbody tr th {\n",
              "        vertical-align: top;\n",
              "    }\n",
              "\n",
              "    .dataframe thead th {\n",
              "        text-align: right;\n",
              "    }\n",
              "</style>\n",
              "<table border=\"1\" class=\"dataframe\">\n",
              "  <thead>\n",
              "    <tr style=\"text-align: right;\">\n",
              "      <th></th>\n",
              "      <th>data</th>\n",
              "      <th>usuario</th>\n",
              "      <th>apelido</th>\n",
              "      <th>texto</th>\n",
              "      <th>retweet</th>\n",
              "      <th>seguidores</th>\n",
              "      <th>idioma</th>\n",
              "      <th>lugar</th>\n",
              "      <th>pais</th>\n",
              "      <th>sigla</th>\n",
              "      <th>latitude</th>\n",
              "      <th>longitude</th>\n",
              "      <th>hashtags</th>\n",
              "    </tr>\n",
              "  </thead>\n",
              "  <tbody>\n",
              "    <tr>\n",
              "      <th>157484</th>\n",
              "      <td>2020-06-05 12:00:00</td>\n",
              "      <td>G1</td>\n",
              "      <td>g1</td>\n",
              "      <td>#oassunto - o que a ciencia ja sabe sobre o us...</td>\n",
              "      <td>4</td>\n",
              "      <td>11545512</td>\n",
              "      <td>pt</td>\n",
              "      <td>NaN</td>\n",
              "      <td>NaN</td>\n",
              "      <td>NaN</td>\n",
              "      <td>NaN</td>\n",
              "      <td>NaN</td>\n",
              "      <td>['OAssunto']</td>\n",
              "    </tr>\n",
              "  </tbody>\n",
              "</table>\n",
              "</div>"
            ],
            "text/plain": [
              "                      data usuario apelido  ... latitude  longitude      hashtags\n",
              "157484 2020-06-05 12:00:00      G1      g1  ...      NaN        NaN  ['OAssunto']\n",
              "\n",
              "[1 rows x 13 columns]"
            ]
          },
          "metadata": {
            "tags": []
          },
          "execution_count": 126
        }
      ]
    },
    {
      "cell_type": "code",
      "metadata": {
        "id": "fFsN0mTQvZ1p",
        "outputId": "3550a7dc-a55d-43b1-b5ef-9b935c1fc6d9",
        "colab": {
          "base_uri": "https://localhost:8080/",
          "height": 97
        }
      },
      "source": [
        "# O Usuario com o texto mais retweet\n",
        "# esse vírus está na trilha de campanha de uma vida. reduzindo os preços das companhias aéreas e do gás? \n",
        "#   dando às pessoas licença remunerada do trabalho? fazendo ...\n",
        "covidDB[covidDB.retweet == covidDB['retweet'].max()]"
      ],
      "execution_count": 127,
      "outputs": [
        {
          "output_type": "execute_result",
          "data": {
            "text/html": [
              "<div>\n",
              "<style scoped>\n",
              "    .dataframe tbody tr th:only-of-type {\n",
              "        vertical-align: middle;\n",
              "    }\n",
              "\n",
              "    .dataframe tbody tr th {\n",
              "        vertical-align: top;\n",
              "    }\n",
              "\n",
              "    .dataframe thead th {\n",
              "        text-align: right;\n",
              "    }\n",
              "</style>\n",
              "<table border=\"1\" class=\"dataframe\">\n",
              "  <thead>\n",
              "    <tr style=\"text-align: right;\">\n",
              "      <th></th>\n",
              "      <th>data</th>\n",
              "      <th>usuario</th>\n",
              "      <th>apelido</th>\n",
              "      <th>texto</th>\n",
              "      <th>retweet</th>\n",
              "      <th>seguidores</th>\n",
              "      <th>idioma</th>\n",
              "      <th>lugar</th>\n",
              "      <th>pais</th>\n",
              "      <th>sigla</th>\n",
              "      <th>latitude</th>\n",
              "      <th>longitude</th>\n",
              "      <th>hashtags</th>\n",
              "    </tr>\n",
              "  </thead>\n",
              "  <tbody>\n",
              "    <tr>\n",
              "      <th>25453</th>\n",
              "      <td>2020-03-12 18:48:10</td>\n",
              "      <td>HARRY’</td>\n",
              "      <td>LastBornAdekoya</td>\n",
              "      <td>rt @ojenabosi: this virus is on the campaign t...</td>\n",
              "      <td>58744</td>\n",
              "      <td>2103</td>\n",
              "      <td>en</td>\n",
              "      <td>NaN</td>\n",
              "      <td>NaN</td>\n",
              "      <td>NaN</td>\n",
              "      <td>NaN</td>\n",
              "      <td>NaN</td>\n",
              "      <td>[]</td>\n",
              "    </tr>\n",
              "  </tbody>\n",
              "</table>\n",
              "</div>"
            ],
            "text/plain": [
              "                     data usuario  ... longitude hashtags\n",
              "25453 2020-03-12 18:48:10  HARRY’  ...       NaN       []\n",
              "\n",
              "[1 rows x 13 columns]"
            ]
          },
          "metadata": {
            "tags": []
          },
          "execution_count": 127
        }
      ]
    },
    {
      "cell_type": "code",
      "metadata": {
        "id": "DktiyqeAjx9j",
        "outputId": "fab87c39-c46c-4df9-96eb-b0376d798ecd",
        "colab": {
          "base_uri": "https://localhost:8080/",
          "height": 295
        }
      },
      "source": [
        "# Comparativo entre a quantidade de tweets ao longo do semestre entre os tópicos abordado anteriormente\n",
        "plt.title('Número de tweets por mês')\n",
        "plt.xlabel('Mês')\n",
        "plt.ylabel('Quantidade de tweets')\n",
        "\n",
        "tweetMonthDoencaDB = doencaDB.groupby(doencaDB['data'].dt.month)['texto'].count()\n",
        "plt.plot(tweetMonthDoencaDB, color='r', label='Doença')\n",
        "\n",
        "tweetMonthMedicDB = medicDB.groupby(medicDB['data'].dt.month)['texto'].count()\n",
        "plt.plot(tweetMonthMedicDB, color='g', label='Medicamentos')\n",
        "\n",
        "tweetMonthPessoaDB = pessoaDB.groupby(pessoaDB['data'].dt.month)['texto'].count()\n",
        "plt.plot(tweetMonthPessoaDB, color='k', label='Pessoas')\n",
        "\n",
        "tweetMonthOrgDB =orgDB.groupby(orgDB['data'].dt.month)['texto'].count()\n",
        "plt.plot(tweetMonthOrgDB,color='y')\n",
        "\n",
        "plt.legend(['Doença','Medicamentos','Pessoas','Organizações'])\n",
        "plt.xticks(list(month.keys()), list(month.values()))\n",
        "plt.grid()\n",
        "plt.show()"
      ],
      "execution_count": 128,
      "outputs": [
        {
          "output_type": "display_data",
          "data": {
            "image/png": "[encoded data removed]",
            "text/plain": [
              "<Figure size 432x288 with 1 Axes>"
            ]
          },
          "metadata": {
            "tags": [],
            "needs_background": "light"
          }
        }
      ]
    },
    {
      "cell_type": "code",
      "metadata": {
        "id": "tro4PBEE7vwA",
        "outputId": "6ced22b7-a749-48da-ecdd-3ac579aec07b",
        "colab": {
          "base_uri": "https://localhost:8080/",
          "height": 408
        }
      },
      "source": [
        "covidDB.dropna(subset = ['latitude', 'longitude'], inplace=True)\n",
        "covidDB = covidDB[covidDB.sigla == 'BR']\n",
        "covidDB.reset_index(drop=True, inplace=True)\n",
        "covidDB.tail()"
      ],
      "execution_count": 155,
      "outputs": [
        {
          "output_type": "execute_result",
          "data": {
            "text/html": [
              "<div>\n",
              "<style scoped>\n",
              "    .dataframe tbody tr th:only-of-type {\n",
              "        vertical-align: middle;\n",
              "    }\n",
              "\n",
              "    .dataframe tbody tr th {\n",
              "        vertical-align: top;\n",
              "    }\n",
              "\n",
              "    .dataframe thead th {\n",
              "        text-align: right;\n",
              "    }\n",
              "</style>\n",
              "<table border=\"1\" class=\"dataframe\">\n",
              "  <thead>\n",
              "    <tr style=\"text-align: right;\">\n",
              "      <th></th>\n",
              "      <th>data</th>\n",
              "      <th>usuario</th>\n",
              "      <th>apelido</th>\n",
              "      <th>texto</th>\n",
              "      <th>retweet</th>\n",
              "      <th>seguidores</th>\n",
              "      <th>idioma</th>\n",
              "      <th>lugar</th>\n",
              "      <th>pais</th>\n",
              "      <th>sigla</th>\n",
              "      <th>latitude</th>\n",
              "      <th>longitude</th>\n",
              "      <th>hashtags</th>\n",
              "    </tr>\n",
              "  </thead>\n",
              "  <tbody>\n",
              "    <tr>\n",
              "      <th>252</th>\n",
              "      <td>2020-05-19 23:13:21</td>\n",
              "      <td>Margareth Boury</td>\n",
              "      <td>MBoury</td>\n",
              "      <td>alguem sabe onde esse homem fez faculdade de m...</td>\n",
              "      <td>0</td>\n",
              "      <td>101534</td>\n",
              "      <td>pt</td>\n",
              "      <td>Sao Paulo</td>\n",
              "      <td>Brazil</td>\n",
              "      <td>BR</td>\n",
              "      <td>-46.711885</td>\n",
              "      <td>-23.475639</td>\n",
              "      <td>['indignada', 'forabolsonaro']</td>\n",
              "    </tr>\n",
              "    <tr>\n",
              "      <th>253</th>\n",
              "      <td>2020-05-22 02:09:03</td>\n",
              "      <td>Ronaldo Oliveira Silva</td>\n",
              "      <td>ronaldo2910</td>\n",
              "      <td>\"... comico ou tragico?... a direita toma clor...</td>\n",
              "      <td>0</td>\n",
              "      <td>50</td>\n",
              "      <td>pt</td>\n",
              "      <td>Brasília</td>\n",
              "      <td>Brazil</td>\n",
              "      <td>BR</td>\n",
              "      <td>-48.019070</td>\n",
              "      <td>-16.022673</td>\n",
              "      <td>[]</td>\n",
              "    </tr>\n",
              "    <tr>\n",
              "      <th>254</th>\n",
              "      <td>2020-05-22 13:35:23</td>\n",
              "      <td>TiaguinhoPortela</td>\n",
              "      <td>TiagooPortela</td>\n",
              "      <td>abi pergunta: a quem interessa uso da cloroqui...</td>\n",
              "      <td>0</td>\n",
              "      <td>613</td>\n",
              "      <td>pt</td>\n",
              "      <td>Barreiras</td>\n",
              "      <td>Brazil</td>\n",
              "      <td>BR</td>\n",
              "      <td>-44.995361</td>\n",
              "      <td>-12.148204</td>\n",
              "      <td>[]</td>\n",
              "    </tr>\n",
              "    <tr>\n",
              "      <th>255</th>\n",
              "      <td>2020-05-24 00:29:22</td>\n",
              "      <td>Brunno Castro</td>\n",
              "      <td>Brunnocastro80</td>\n",
              "      <td>cloroquina funciona ou nao funciona? tire voce...</td>\n",
              "      <td>0</td>\n",
              "      <td>60</td>\n",
              "      <td>pt</td>\n",
              "      <td>Niterói</td>\n",
              "      <td>Brazil</td>\n",
              "      <td>BR</td>\n",
              "      <td>-43.107050</td>\n",
              "      <td>-22.907361</td>\n",
              "      <td>[]</td>\n",
              "    </tr>\n",
              "    <tr>\n",
              "      <th>256</th>\n",
              "      <td>2020-06-05 03:30:13</td>\n",
              "      <td>Markinho Bolsonaro Fluriqui 17</td>\n",
              "      <td>fluriqui</td>\n",
              "      <td>quantas pessoas poderiam ter sido salvas usand...</td>\n",
              "      <td>0</td>\n",
              "      <td>577</td>\n",
              "      <td>pt</td>\n",
              "      <td>Mangaratiba</td>\n",
              "      <td>Brazil</td>\n",
              "      <td>BR</td>\n",
              "      <td>-43.946127</td>\n",
              "      <td>-22.916373</td>\n",
              "      <td>[]</td>\n",
              "    </tr>\n",
              "  </tbody>\n",
              "</table>\n",
              "</div>"
            ],
            "text/plain": [
              "                   data  ...                        hashtags\n",
              "252 2020-05-19 23:13:21  ...  ['indignada', 'forabolsonaro']\n",
              "253 2020-05-22 02:09:03  ...                              []\n",
              "254 2020-05-22 13:35:23  ...                              []\n",
              "255 2020-05-24 00:29:22  ...                              []\n",
              "256 2020-06-05 03:30:13  ...                              []\n",
              "\n",
              "[5 rows x 13 columns]"
            ]
          },
          "metadata": {
            "tags": []
          },
          "execution_count": 155
        }
      ]
    },
    {
      "cell_type": "code",
      "metadata": {
        "id": "b4pn8IijFuad"
      },
      "source": [
        ""
      ],
      "execution_count": null,
      "outputs": []
    },
    {
      "cell_type": "code",
      "metadata": {
        "id": "beE-mkLCBKxe",
        "outputId": "317d8b60-6889-401c-b06f-2336fed6650a",
        "colab": {
          "base_uri": "https://localhost:8080/",
          "height": 265
        }
      },
      "source": [
        "import pandas as pd\n",
        "import geopandas\n",
        "import matplotlib.pyplot as pl\n",
        "\n",
        "df = pd.DataFrame(\n",
        "    {'City': ['Buenos Aires', 'Brasilia', 'Santiago', 'Bogota', 'Caracas'],\n",
        "     'Country': ['Argentina', 'Brazil', 'Chile', 'Colombia', 'Venezuela'],\n",
        "     'Longitude': [-34.92, -43.46, -46.61,-38.78, -51.16],\n",
        "     'Latitude': [-8.06,-23.01, -23.68,-12.24, -23.30]})\n",
        " \n",
        "gdf = geopandas.GeoDataFrame(\n",
        "    covidDB, geometry=geopandas.points_from_xy(covidDB.latitude, covidDB.longitude))\n",
        "\n",
        "world = geopandas.read_file(geopandas.datasets.get_path('naturalearth_lowres'))\n",
        "\n",
        "# We restrict to South America.\n",
        "ax = world[world.name == 'Brazil'].plot(\n",
        "    color='white', edgecolor='black')\n",
        "\n",
        "# We can now plot our ``GeoDataFrame``.\n",
        "gdf.plot(ax=ax, color='red')\n",
        "\n",
        "plt.show()"
      ],
      "execution_count": 157,
      "outputs": [
        {
          "output_type": "display_data",
          "data": {
            "image/png": "[encoded data removed]",
            "text/plain": [
              "<Figure size 432x288 with 1 Axes>"
            ]
          },
          "metadata": {
            "tags": [],
            "needs_background": "light"
          }
        }
      ]
    }
  ]
}