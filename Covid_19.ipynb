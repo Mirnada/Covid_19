{
  "nbformat": 4,
  "nbformat_minor": 0,
  "metadata": {
    "colab": {
      "name": "Covid_19.ipynb",
      "provenance": [],
      "include_colab_link": true
    },
    "kernelspec": {
      "name": "python3",
      "display_name": "Python 3"
    }
  },
  "cells": [
    {
      "cell_type": "markdown",
      "metadata": {
        "id": "view-in-github",
        "colab_type": "text"
      },
      "source": [
        "<a href=\"https://colab.research.google.com/github/Mirnada/Covid_19/blob/master/Covid_19.ipynb\" target=\"_parent\"><img src=\"https://colab.research.google.com/assets/colab-badge.svg\" alt=\"Open In Colab\"/></a>"
      ]
    },
    {
      "cell_type": "markdown",
      "metadata": {
        "id": "7cL7fmW2aCE_"
      },
      "source": [
        "# Análise dos dados do Covid_19\n"
      ]
    },
    {
      "cell_type": "markdown",
      "metadata": {
        "id": "Az3vruND0jVI"
      },
      "source": [
        "## Montando o Drive"
      ]
    },
    {
      "cell_type": "code",
      "metadata": {
        "id": "CtXBSRhf0mt-",
        "outputId": "c2570162-9919-447e-e4bd-f05103ae28f0",
        "colab": {
          "base_uri": "https://localhost:8080/"
        }
      },
      "source": [
        "from google.colab import drive\n",
        "\n",
        "drive.mount('/content/drive')"
      ],
      "execution_count": 10,
      "outputs": [
        {
          "output_type": "stream",
          "text": [
            "Drive already mounted at /content/drive; to attempt to forcibly remount, call drive.mount(\"/content/drive\", force_remount=True).\n"
          ],
          "name": "stdout"
        }
      ]
    },
    {
      "cell_type": "markdown",
      "metadata": {
        "id": "E4leXC2ps27j"
      },
      "source": [
        "## Importando bibliotecas"
      ]
    },
    {
      "cell_type": "code",
      "metadata": {
        "id": "mlTix7VotEkL"
      },
      "source": [
        "import pandas as pd\n",
        "\n",
        "df = pd.read_csv('/content/drive/My Drive/Datasets/dados-curso-completo.csv')"
      ],
      "execution_count": 2,
      "outputs": []
    },
    {
      "cell_type": "markdown",
      "metadata": {
        "id": "9KYsUh3YhIz3"
      },
      "source": [
        "## Dataset original - Estatísticas"
      ]
    },
    {
      "cell_type": "markdown",
      "metadata": {
        "id": "crTmK5fuN_Yz"
      },
      "source": [
        "### Informações gerias do dataset"
      ]
    },
    {
      "cell_type": "code",
      "metadata": {
        "id": "Ne1FJRpzOIXD",
        "outputId": "d695f137-27d7-416b-8015-51ae7617c70d",
        "colab": {
          "base_uri": "https://localhost:8080/",
          "height": 529
        }
      },
      "source": [
        "df.head(10)"
      ],
      "execution_count": null,
      "outputs": [
        {
          "output_type": "execute_result",
          "data": {
            "text/html": [
              "<div>\n",
              "<style scoped>\n",
              "    .dataframe tbody tr th:only-of-type {\n",
              "        vertical-align: middle;\n",
              "    }\n",
              "\n",
              "    .dataframe tbody tr th {\n",
              "        vertical-align: top;\n",
              "    }\n",
              "\n",
              "    .dataframe thead th {\n",
              "        text-align: right;\n",
              "    }\n",
              "</style>\n",
              "<table border=\"1\" class=\"dataframe\">\n",
              "  <thead>\n",
              "    <tr style=\"text-align: right;\">\n",
              "      <th></th>\n",
              "      <th>data</th>\n",
              "      <th>usuario</th>\n",
              "      <th>apelido</th>\n",
              "      <th>texto</th>\n",
              "      <th>retweet</th>\n",
              "      <th>seguidores</th>\n",
              "      <th>idioma</th>\n",
              "      <th>lugar</th>\n",
              "      <th>pais</th>\n",
              "      <th>sigla</th>\n",
              "      <th>latitude</th>\n",
              "      <th>longitude</th>\n",
              "      <th>hashtags</th>\n",
              "    </tr>\n",
              "  </thead>\n",
              "  <tbody>\n",
              "    <tr>\n",
              "      <th>0</th>\n",
              "      <td>2020-03-23 18:51:14</td>\n",
              "      <td>Gaboardi</td>\n",
              "      <td>fraslee</td>\n",
              "      <td>@BolsonaroSP Cade o fundão deputado??? Congres...</td>\n",
              "      <td>0</td>\n",
              "      <td>138</td>\n",
              "      <td>pt</td>\n",
              "      <td>NaN</td>\n",
              "      <td>NaN</td>\n",
              "      <td>NaN</td>\n",
              "      <td>NaN</td>\n",
              "      <td>NaN</td>\n",
              "      <td>[]</td>\n",
              "    </tr>\n",
              "    <tr>\n",
              "      <th>1</th>\n",
              "      <td>2020-03-18 03:18:14</td>\n",
              "      <td>Seu Zé da Farmácia</td>\n",
              "      <td>seuzedafarmacia</td>\n",
              "      <td>Em ação preventiva, o Governo do Estado suspen...</td>\n",
              "      <td>0</td>\n",
              "      <td>56</td>\n",
              "      <td>pt</td>\n",
              "      <td>NaN</td>\n",
              "      <td>NaN</td>\n",
              "      <td>NaN</td>\n",
              "      <td>NaN</td>\n",
              "      <td>NaN</td>\n",
              "      <td>[]</td>\n",
              "    </tr>\n",
              "    <tr>\n",
              "      <th>2</th>\n",
              "      <td>2020-03-29 12:09:27</td>\n",
              "      <td>Marília Oliveira 🇧🇷</td>\n",
              "      <td>Marioliveira_gb</td>\n",
              "      <td>Incrível como os defensores do fim do distanci...</td>\n",
              "      <td>0</td>\n",
              "      <td>5</td>\n",
              "      <td>pt</td>\n",
              "      <td>NaN</td>\n",
              "      <td>NaN</td>\n",
              "      <td>NaN</td>\n",
              "      <td>NaN</td>\n",
              "      <td>NaN</td>\n",
              "      <td>[]</td>\n",
              "    </tr>\n",
              "    <tr>\n",
              "      <th>3</th>\n",
              "      <td>2020-04-01 21:11:07</td>\n",
              "      <td>🚩</td>\n",
              "      <td>santosodeto</td>\n",
              "      <td>Fumaça de cigarro pode propagar coronavírus? h...</td>\n",
              "      <td>0</td>\n",
              "      <td>1885</td>\n",
              "      <td>pt</td>\n",
              "      <td>NaN</td>\n",
              "      <td>NaN</td>\n",
              "      <td>NaN</td>\n",
              "      <td>NaN</td>\n",
              "      <td>NaN</td>\n",
              "      <td>[]</td>\n",
              "    </tr>\n",
              "    <tr>\n",
              "      <th>4</th>\n",
              "      <td>2020-03-19 17:49:40</td>\n",
              "      <td>Nova Impressão</td>\n",
              "      <td>novaimpressao_</td>\n",
              "      <td>🚨Todos juntos contra COVID-19💪\\n\\nSolicite seu...</td>\n",
              "      <td>0</td>\n",
              "      <td>124</td>\n",
              "      <td>pt</td>\n",
              "      <td>Brasília</td>\n",
              "      <td>Brazil</td>\n",
              "      <td>BR</td>\n",
              "      <td>-47.8778</td>\n",
              "      <td>-15.77691</td>\n",
              "      <td>[]</td>\n",
              "    </tr>\n",
              "    <tr>\n",
              "      <th>5</th>\n",
              "      <td>2020-05-08 11:21:36</td>\n",
              "      <td>Marcel Silvano</td>\n",
              "      <td>marcelsilvano</td>\n",
              "      <td>Importantes avanços! A pesquisa brasileira, a ...</td>\n",
              "      <td>4</td>\n",
              "      <td>2769</td>\n",
              "      <td>pt</td>\n",
              "      <td>Macaé</td>\n",
              "      <td>Brazil</td>\n",
              "      <td>BR</td>\n",
              "      <td>NaN</td>\n",
              "      <td>NaN</td>\n",
              "      <td>[]</td>\n",
              "    </tr>\n",
              "    <tr>\n",
              "      <th>6</th>\n",
              "      <td>2020-03-10 21:27:40</td>\n",
              "      <td>Teixeira Correia</td>\n",
              "      <td>LidadorNoticias</td>\n",
              "      <td>(Última hora) Volta ao Alentejo: Anulada por c...</td>\n",
              "      <td>0</td>\n",
              "      <td>39</td>\n",
              "      <td>pt</td>\n",
              "      <td>NaN</td>\n",
              "      <td>NaN</td>\n",
              "      <td>NaN</td>\n",
              "      <td>NaN</td>\n",
              "      <td>NaN</td>\n",
              "      <td>[]</td>\n",
              "    </tr>\n",
              "    <tr>\n",
              "      <th>7</th>\n",
              "      <td>2020-06-04 13:22:21</td>\n",
              "      <td>Thiago Moraes</td>\n",
              "      <td>ThiagoMoraesPB</td>\n",
              "      <td>João Pessoa tem queda no isolamento social por...</td>\n",
              "      <td>1</td>\n",
              "      <td>3578</td>\n",
              "      <td>pt</td>\n",
              "      <td>NaN</td>\n",
              "      <td>NaN</td>\n",
              "      <td>NaN</td>\n",
              "      <td>NaN</td>\n",
              "      <td>NaN</td>\n",
              "      <td>[]</td>\n",
              "    </tr>\n",
              "    <tr>\n",
              "      <th>8</th>\n",
              "      <td>2020-05-07 21:32:12</td>\n",
              "      <td>PT Brasil</td>\n",
              "      <td>ptbrasil</td>\n",
              "      <td>A #tvPT de hoje vai falar sobre a pandemia na ...</td>\n",
              "      <td>10</td>\n",
              "      <td>942696</td>\n",
              "      <td>pt</td>\n",
              "      <td>NaN</td>\n",
              "      <td>NaN</td>\n",
              "      <td>NaN</td>\n",
              "      <td>NaN</td>\n",
              "      <td>NaN</td>\n",
              "      <td>['tvPT']</td>\n",
              "    </tr>\n",
              "    <tr>\n",
              "      <th>9</th>\n",
              "      <td>2020-03-11 20:27:49</td>\n",
              "      <td>Niquito ;)</td>\n",
              "      <td>NLazaroto</td>\n",
              "      <td>O Coronavirús causou uma pandemia e eu ainda n...</td>\n",
              "      <td>0</td>\n",
              "      <td>215</td>\n",
              "      <td>pt</td>\n",
              "      <td>NaN</td>\n",
              "      <td>NaN</td>\n",
              "      <td>NaN</td>\n",
              "      <td>NaN</td>\n",
              "      <td>NaN</td>\n",
              "      <td>[]</td>\n",
              "    </tr>\n",
              "  </tbody>\n",
              "</table>\n",
              "</div>"
            ],
            "text/plain": [
              "                  data              usuario  ... longitude  hashtags\n",
              "0  2020-03-23 18:51:14             Gaboardi  ...       NaN        []\n",
              "1  2020-03-18 03:18:14   Seu Zé da Farmácia  ...       NaN        []\n",
              "2  2020-03-29 12:09:27  Marília Oliveira 🇧🇷  ...       NaN        []\n",
              "3  2020-04-01 21:11:07                    🚩  ...       NaN        []\n",
              "4  2020-03-19 17:49:40       Nova Impressão  ... -15.77691        []\n",
              "5  2020-05-08 11:21:36       Marcel Silvano  ...       NaN        []\n",
              "6  2020-03-10 21:27:40     Teixeira Correia  ...       NaN        []\n",
              "7  2020-06-04 13:22:21        Thiago Moraes  ...       NaN        []\n",
              "8  2020-05-07 21:32:12            PT Brasil  ...       NaN  ['tvPT']\n",
              "9  2020-03-11 20:27:49           Niquito ;)  ...       NaN        []\n",
              "\n",
              "[10 rows x 13 columns]"
            ]
          },
          "metadata": {
            "tags": []
          },
          "execution_count": 50
        }
      ]
    },
    {
      "cell_type": "code",
      "metadata": {
        "id": "YjDiNz1GAxmY",
        "outputId": "bfc74ae5-d795-4ff5-c414-08748897e8df",
        "colab": {
          "base_uri": "https://localhost:8080/",
          "height": 35
        }
      },
      "source": [
        "# tamanho do dataset\n",
        "# mais de 1,5 milhão de instancias e 13 atributos\n",
        "df.shape"
      ],
      "execution_count": null,
      "outputs": [
        {
          "output_type": "execute_result",
          "data": {
            "text/plain": [
              "(1658825, 13)"
            ]
          },
          "metadata": {
            "tags": []
          },
          "execution_count": 38
        }
      ]
    },
    {
      "cell_type": "code",
      "metadata": {
        "id": "D8x3VqOICfIQ",
        "outputId": "c02bf8c9-f8a1-4d31-f665-f87407eea3f7",
        "colab": {
          "base_uri": "https://localhost:8080/",
          "height": 269
        }
      },
      "source": [
        "# quantidade de valores nulos\n",
        "df.isnull().sum()"
      ],
      "execution_count": null,
      "outputs": [
        {
          "output_type": "execute_result",
          "data": {
            "text/plain": [
              "data                0\n",
              "usuario            57\n",
              "apelido             0\n",
              "texto               0\n",
              "retweet             0\n",
              "seguidores          0\n",
              "idioma              0\n",
              "lugar         1584220\n",
              "pais          1584225\n",
              "sigla         1584230\n",
              "latitude      1650105\n",
              "longitude     1650105\n",
              "hashtags            0\n",
              "dtype: int64"
            ]
          },
          "metadata": {
            "tags": []
          },
          "execution_count": 45
        }
      ]
    },
    {
      "cell_type": "markdown",
      "metadata": {
        "id": "mb5zcaK2hWgt"
      },
      "source": [
        "### Descrição das colunas do Dataset"
      ]
    },
    {
      "cell_type": "code",
      "metadata": {
        "id": "TvWd8-h8hYpo",
        "outputId": "9652a619-ff8b-466b-b9c8-aff18c14b8fb",
        "colab": {
          "base_uri": "https://localhost:8080/",
          "height": 89
        }
      },
      "source": [
        "# nomes das colunas\n",
        "df.columns"
      ],
      "execution_count": null,
      "outputs": [
        {
          "output_type": "execute_result",
          "data": {
            "text/plain": [
              "Index(['data', 'usuario', 'apelido', 'texto', 'retweet', 'seguidores',\n",
              "       'idioma', 'lugar', 'pais', 'sigla', 'latitude', 'longitude',\n",
              "       'hashtags'],\n",
              "      dtype='object')"
            ]
          },
          "metadata": {
            "tags": []
          },
          "execution_count": 5
        }
      ]
    },
    {
      "cell_type": "markdown",
      "metadata": {
        "id": "Azjnzzfuhazr"
      },
      "source": [
        "* data: data do tweet do usuário\n",
        "* usuario: nome do usuario\n",
        "* apelido: apelido do usuário\n",
        "* texto: texto publicado pelo usuário\n",
        "* retweet: quantidade de vezes que o tweet foi replicado\n",
        "* seguidores: quantidade de seguidores do usuário\n",
        "* idioma: idioma do usuário\n",
        "* lugar: lugar do usuário na publicação\n",
        "* pais: país do usuário na publicação\n",
        "* sigla: sigla do Estado do usuário\n",
        "* latitude: posição geogŕafica do usuário \n",
        "* longitude: posição geográfica do usuário"
      ]
    },
    {
      "cell_type": "code",
      "metadata": {
        "id": "O2sD7nz1lKDY",
        "outputId": "5a1ac970-feb6-43b8-f81c-0859c6693a30",
        "colab": {
          "base_uri": "https://localhost:8080/",
          "height": 269
        }
      },
      "source": [
        "# verificando os tipos de dados do Dataset\n",
        "df.dtypes"
      ],
      "execution_count": null,
      "outputs": [
        {
          "output_type": "execute_result",
          "data": {
            "text/plain": [
              "data           object\n",
              "usuario        object\n",
              "apelido        object\n",
              "texto          object\n",
              "retweet         int64\n",
              "seguidores      int64\n",
              "idioma         object\n",
              "lugar          object\n",
              "pais           object\n",
              "sigla          object\n",
              "latitude      float64\n",
              "longitude     float64\n",
              "hashtags       object\n",
              "dtype: object"
            ]
          },
          "metadata": {
            "tags": []
          },
          "execution_count": 7
        }
      ]
    },
    {
      "cell_type": "markdown",
      "metadata": {
        "id": "0ZS8756gPPef"
      },
      "source": [
        "### Analisando os dados numericos"
      ]
    },
    {
      "cell_type": "code",
      "metadata": {
        "id": "ks5b5w8hPYL_",
        "outputId": "f709153e-babd-4c02-8ae3-e8cc8ac99ff8",
        "colab": {
          "base_uri": "https://localhost:8080/",
          "height": 173
        }
      },
      "source": [
        "df.describe().transpose()"
      ],
      "execution_count": null,
      "outputs": [
        {
          "output_type": "execute_result",
          "data": {
            "text/html": [
              "<div>\n",
              "<style scoped>\n",
              "    .dataframe tbody tr th:only-of-type {\n",
              "        vertical-align: middle;\n",
              "    }\n",
              "\n",
              "    .dataframe tbody tr th {\n",
              "        vertical-align: top;\n",
              "    }\n",
              "\n",
              "    .dataframe thead th {\n",
              "        text-align: right;\n",
              "    }\n",
              "</style>\n",
              "<table border=\"1\" class=\"dataframe\">\n",
              "  <thead>\n",
              "    <tr style=\"text-align: right;\">\n",
              "      <th></th>\n",
              "      <th>count</th>\n",
              "      <th>mean</th>\n",
              "      <th>std</th>\n",
              "      <th>min</th>\n",
              "      <th>25%</th>\n",
              "      <th>50%</th>\n",
              "      <th>75%</th>\n",
              "      <th>max</th>\n",
              "    </tr>\n",
              "  </thead>\n",
              "  <tbody>\n",
              "    <tr>\n",
              "      <th>retweet</th>\n",
              "      <td>1658825.0</td>\n",
              "      <td>197.853299</td>\n",
              "      <td>6337.641384</td>\n",
              "      <td>0.000000</td>\n",
              "      <td>0.000000</td>\n",
              "      <td>0.000000</td>\n",
              "      <td>0.000000</td>\n",
              "      <td>1.139763e+06</td>\n",
              "    </tr>\n",
              "    <tr>\n",
              "      <th>seguidores</th>\n",
              "      <td>1658825.0</td>\n",
              "      <td>32572.055193</td>\n",
              "      <td>368029.985029</td>\n",
              "      <td>0.000000</td>\n",
              "      <td>101.000000</td>\n",
              "      <td>380.000000</td>\n",
              "      <td>1470.000000</td>\n",
              "      <td>8.424125e+07</td>\n",
              "    </tr>\n",
              "    <tr>\n",
              "      <th>latitude</th>\n",
              "      <td>8720.0</td>\n",
              "      <td>-40.237583</td>\n",
              "      <td>20.808494</td>\n",
              "      <td>-123.120400</td>\n",
              "      <td>-47.864334</td>\n",
              "      <td>-43.955615</td>\n",
              "      <td>-38.453198</td>\n",
              "      <td>1.747893e+02</td>\n",
              "    </tr>\n",
              "    <tr>\n",
              "      <th>longitude</th>\n",
              "      <td>8720.0</td>\n",
              "      <td>-11.117100</td>\n",
              "      <td>19.169105</td>\n",
              "      <td>-37.818769</td>\n",
              "      <td>-23.305300</td>\n",
              "      <td>-19.624400</td>\n",
              "      <td>-7.120700</td>\n",
              "      <td>5.825778e+01</td>\n",
              "    </tr>\n",
              "  </tbody>\n",
              "</table>\n",
              "</div>"
            ],
            "text/plain": [
              "                count          mean  ...          75%           max\n",
              "retweet     1658825.0    197.853299  ...     0.000000  1.139763e+06\n",
              "seguidores  1658825.0  32572.055193  ...  1470.000000  8.424125e+07\n",
              "latitude       8720.0    -40.237583  ...   -38.453198  1.747893e+02\n",
              "longitude      8720.0    -11.117100  ...    -7.120700  5.825778e+01\n",
              "\n",
              "[4 rows x 8 columns]"
            ]
          },
          "metadata": {
            "tags": []
          },
          "execution_count": 8
        }
      ]
    },
    {
      "cell_type": "markdown",
      "metadata": {
        "id": "5S2c_rnwsVRS"
      },
      "source": [
        "Ao gerar alguns dados estatísticos, podemos notas:\n",
        "\n",
        "* a variável *retweet* tem como valor máximo 1139763, isso que dizer que uma publicação específica foi replicada mais de 1 milhão de vezes, assim como a variável *seguidores* nos mostra que um determinado usuário possui aproximadamente 8,5 milhões de seguidores \n",
        "\n",
        "* as colunas *retweet* e *seguidores* possui uma grande discrepância em sua distribuição de frequencia. Em *retweet*, todos os valores estão acima do 3º quartil, indicando que 75% dos valores são iguais a zero.\n"
      ]
    },
    {
      "cell_type": "markdown",
      "metadata": {
        "id": "oWGrmMDTPZW3"
      },
      "source": [
        "### Analisando os dados categóricos"
      ]
    },
    {
      "cell_type": "code",
      "metadata": {
        "id": "FF5AYG0hPrNn",
        "outputId": "c13bf6c4-6089-4da9-f182-5859a4d2e900",
        "colab": {
          "base_uri": "https://localhost:8080/",
          "height": 233
        }
      },
      "source": [
        "df['sigla'].value_counts()"
      ],
      "execution_count": null,
      "outputs": [
        {
          "output_type": "execute_result",
          "data": {
            "text/plain": [
              "Brazil           67247\n",
              "Portugal          2675\n",
              "United States     1068\n",
              "Italy              484\n",
              "Spain              379\n",
              "                 ...  \n",
              "Botswana             1\n",
              "French Guiana        1\n",
              "Macau                1\n",
              "Chad                 1\n",
              "Armenia              1\n",
              "Name: pais, Length: 121, dtype: int64"
            ]
          },
          "metadata": {
            "tags": []
          },
          "execution_count": 46
        }
      ]
    },
    {
      "cell_type": "markdown",
      "metadata": {
        "id": "Ty1kolG68o2s"
      },
      "source": [
        "Aproximadamente 90% dos dados são do Brasil\n",
        "\n",
        "*Obs: apenas os dados que contem a sigla do país"
      ]
    },
    {
      "cell_type": "code",
      "metadata": {
        "id": "l1nTwaFr3EYv",
        "outputId": "01405a28-2781-4cdf-ffae-d38a3f0e2e89",
        "colab": {
          "base_uri": "https://localhost:8080/",
          "height": 35
        }
      },
      "source": [
        "(df['sigla'].value_counts()['BR']/df['sigla'].value_counts().sum())*100"
      ],
      "execution_count": null,
      "outputs": [
        {
          "output_type": "execute_result",
          "data": {
            "text/plain": [
              "90.14947382532341"
            ]
          },
          "metadata": {
            "tags": []
          },
          "execution_count": 22
        }
      ]
    },
    {
      "cell_type": "markdown",
      "metadata": {
        "id": "l74X1sd59Mjd"
      },
      "source": [
        "## Dataset DuvidasDB"
      ]
    },
    {
      "cell_type": "code",
      "metadata": {
        "id": "-xDmk9L79qBv",
        "outputId": "2052b7cf-ce49-4702-b090-673d989eb273",
        "colab": {
          "base_uri": "https://localhost:8080/",
          "height": 753
        }
      },
      "source": [
        "duvidasDB = df[df['texto'].str.contains('?', regex=False)].copy()\n",
        "duvidasDB.head(10)"
      ],
      "execution_count": 13,
      "outputs": [
        {
          "output_type": "execute_result",
          "data": {
            "text/html": [
              "<div>\n",
              "<style scoped>\n",
              "    .dataframe tbody tr th:only-of-type {\n",
              "        vertical-align: middle;\n",
              "    }\n",
              "\n",
              "    .dataframe tbody tr th {\n",
              "        vertical-align: top;\n",
              "    }\n",
              "\n",
              "    .dataframe thead th {\n",
              "        text-align: right;\n",
              "    }\n",
              "</style>\n",
              "<table border=\"1\" class=\"dataframe\">\n",
              "  <thead>\n",
              "    <tr style=\"text-align: right;\">\n",
              "      <th></th>\n",
              "      <th>data</th>\n",
              "      <th>usuario</th>\n",
              "      <th>apelido</th>\n",
              "      <th>texto</th>\n",
              "      <th>retweet</th>\n",
              "      <th>seguidores</th>\n",
              "      <th>idioma</th>\n",
              "      <th>lugar</th>\n",
              "      <th>pais</th>\n",
              "      <th>sigla</th>\n",
              "      <th>latitude</th>\n",
              "      <th>longitude</th>\n",
              "      <th>hashtags</th>\n",
              "    </tr>\n",
              "  </thead>\n",
              "  <tbody>\n",
              "    <tr>\n",
              "      <th>0</th>\n",
              "      <td>2020-03-23 18:51:14</td>\n",
              "      <td>Gaboardi</td>\n",
              "      <td>fraslee</td>\n",
              "      <td>@BolsonaroSP Cade o fundão deputado??? Congres...</td>\n",
              "      <td>0</td>\n",
              "      <td>138</td>\n",
              "      <td>pt</td>\n",
              "      <td>NaN</td>\n",
              "      <td>NaN</td>\n",
              "      <td>NaN</td>\n",
              "      <td>NaN</td>\n",
              "      <td>NaN</td>\n",
              "      <td>[]</td>\n",
              "    </tr>\n",
              "    <tr>\n",
              "      <th>3</th>\n",
              "      <td>2020-04-01 21:11:07</td>\n",
              "      <td>🚩</td>\n",
              "      <td>santosodeto</td>\n",
              "      <td>Fumaça de cigarro pode propagar coronavírus? h...</td>\n",
              "      <td>0</td>\n",
              "      <td>1885</td>\n",
              "      <td>pt</td>\n",
              "      <td>NaN</td>\n",
              "      <td>NaN</td>\n",
              "      <td>NaN</td>\n",
              "      <td>NaN</td>\n",
              "      <td>NaN</td>\n",
              "      <td>[]</td>\n",
              "    </tr>\n",
              "    <tr>\n",
              "      <th>38</th>\n",
              "      <td>2020-06-25 11:09:19</td>\n",
              "      <td>Andreia Peraro</td>\n",
              "      <td>AndreiaPeraro</td>\n",
              "      <td>@ipratesMD @dr_pampers Será que corremos o ris...</td>\n",
              "      <td>0</td>\n",
              "      <td>86</td>\n",
              "      <td>pt</td>\n",
              "      <td>NaN</td>\n",
              "      <td>NaN</td>\n",
              "      <td>NaN</td>\n",
              "      <td>NaN</td>\n",
              "      <td>NaN</td>\n",
              "      <td>[]</td>\n",
              "    </tr>\n",
              "    <tr>\n",
              "      <th>45</th>\n",
              "      <td>2020-04-06 15:44:36</td>\n",
              "      <td>Diorgenes Pandini</td>\n",
              "      <td>diorpandini</td>\n",
              "      <td>Prioridade ?!\\n\\n #COVID19 #floripa #isolament...</td>\n",
              "      <td>0</td>\n",
              "      <td>219</td>\n",
              "      <td>pt</td>\n",
              "      <td>NaN</td>\n",
              "      <td>NaN</td>\n",
              "      <td>NaN</td>\n",
              "      <td>NaN</td>\n",
              "      <td>NaN</td>\n",
              "      <td>['COVID19', 'floripa', 'isolamento']</td>\n",
              "    </tr>\n",
              "    <tr>\n",
              "      <th>57</th>\n",
              "      <td>2020-03-30 00:43:36</td>\n",
              "      <td>Valnei do Val</td>\n",
              "      <td>vdoval</td>\n",
              "      <td>Que tal uma notícia boa, indo na contramão do ...</td>\n",
              "      <td>0</td>\n",
              "      <td>201</td>\n",
              "      <td>pt</td>\n",
              "      <td>NaN</td>\n",
              "      <td>NaN</td>\n",
              "      <td>NaN</td>\n",
              "      <td>NaN</td>\n",
              "      <td>NaN</td>\n",
              "      <td>[]</td>\n",
              "    </tr>\n",
              "    <tr>\n",
              "      <th>73</th>\n",
              "      <td>2020-04-07 23:19:44</td>\n",
              "      <td>Mauricio Ligabo</td>\n",
              "      <td>LigaboMauricio</td>\n",
              "      <td>@JoseMedeirosMT Seria isso algum tipo aleatóri...</td>\n",
              "      <td>0</td>\n",
              "      <td>23</td>\n",
              "      <td>pt</td>\n",
              "      <td>NaN</td>\n",
              "      <td>NaN</td>\n",
              "      <td>NaN</td>\n",
              "      <td>NaN</td>\n",
              "      <td>NaN</td>\n",
              "      <td>[]</td>\n",
              "    </tr>\n",
              "    <tr>\n",
              "      <th>77</th>\n",
              "      <td>2020-04-13 19:16:51</td>\n",
              "      <td>Gus</td>\n",
              "      <td>arrombagus</td>\n",
              "      <td>\"Nova York é o novo epicentro da pandemia de c...</td>\n",
              "      <td>3</td>\n",
              "      <td>253</td>\n",
              "      <td>pt</td>\n",
              "      <td>Santos</td>\n",
              "      <td>Brazil</td>\n",
              "      <td>BR</td>\n",
              "      <td>NaN</td>\n",
              "      <td>NaN</td>\n",
              "      <td>[]</td>\n",
              "    </tr>\n",
              "    <tr>\n",
              "      <th>116</th>\n",
              "      <td>2020-05-15 18:15:33</td>\n",
              "      <td>Silveacyr Maria Coelho Santos</td>\n",
              "      <td>silveacyr</td>\n",
              "      <td>@mitags Será por que o Bolsonaro não fez propa...</td>\n",
              "      <td>0</td>\n",
              "      <td>67</td>\n",
              "      <td>pt</td>\n",
              "      <td>NaN</td>\n",
              "      <td>NaN</td>\n",
              "      <td>NaN</td>\n",
              "      <td>NaN</td>\n",
              "      <td>NaN</td>\n",
              "      <td>[]</td>\n",
              "    </tr>\n",
              "    <tr>\n",
              "      <th>118</th>\n",
              "      <td>2020-04-08 22:04:51</td>\n",
              "      <td>lulleitao</td>\n",
              "      <td>lulleitao</td>\n",
              "      <td>@JeanSCorrea7 Mas ele não deu a entender que o...</td>\n",
              "      <td>0</td>\n",
              "      <td>2315</td>\n",
              "      <td>pt</td>\n",
              "      <td>NaN</td>\n",
              "      <td>NaN</td>\n",
              "      <td>NaN</td>\n",
              "      <td>NaN</td>\n",
              "      <td>NaN</td>\n",
              "      <td>[]</td>\n",
              "    </tr>\n",
              "    <tr>\n",
              "      <th>119</th>\n",
              "      <td>2020-04-02 13:04:55</td>\n",
              "      <td>Luizcarlosdospatetas@hotmail.com</td>\n",
              "      <td>Luizcarlosdosp5</td>\n",
              "      <td>#perguntacorona \\nQuero saber se a covid tem c...</td>\n",
              "      <td>0</td>\n",
              "      <td>0</td>\n",
              "      <td>pt</td>\n",
              "      <td>NaN</td>\n",
              "      <td>NaN</td>\n",
              "      <td>NaN</td>\n",
              "      <td>NaN</td>\n",
              "      <td>NaN</td>\n",
              "      <td>['perguntacorona']</td>\n",
              "    </tr>\n",
              "  </tbody>\n",
              "</table>\n",
              "</div>"
            ],
            "text/plain": [
              "                    data  ...                              hashtags\n",
              "0    2020-03-23 18:51:14  ...                                    []\n",
              "3    2020-04-01 21:11:07  ...                                    []\n",
              "38   2020-06-25 11:09:19  ...                                    []\n",
              "45   2020-04-06 15:44:36  ...  ['COVID19', 'floripa', 'isolamento']\n",
              "57   2020-03-30 00:43:36  ...                                    []\n",
              "73   2020-04-07 23:19:44  ...                                    []\n",
              "77   2020-04-13 19:16:51  ...                                    []\n",
              "116  2020-05-15 18:15:33  ...                                    []\n",
              "118  2020-04-08 22:04:51  ...                                    []\n",
              "119  2020-04-02 13:04:55  ...                    ['perguntacorona']\n",
              "\n",
              "[10 rows x 13 columns]"
            ]
          },
          "metadata": {
            "tags": []
          },
          "execution_count": 13
        }
      ]
    },
    {
      "cell_type": "markdown",
      "metadata": {
        "id": "KKTVlsz5AD_x"
      },
      "source": [
        "### Informações gerais do novo dataset"
      ]
    },
    {
      "cell_type": "code",
      "metadata": {
        "id": "Ok0Es8oVAd3t",
        "outputId": "5bdc7966-d68c-4dfa-84ed-a746e0f9ba67",
        "colab": {
          "base_uri": "https://localhost:8080/",
          "height": 357
        }
      },
      "source": [
        "duvidasDB.info()"
      ],
      "execution_count": 14,
      "outputs": [
        {
          "output_type": "stream",
          "text": [
            "<class 'pandas.core.frame.DataFrame'>\n",
            "Int64Index: 172501 entries, 0 to 1658821\n",
            "Data columns (total 13 columns):\n",
            " #   Column      Non-Null Count   Dtype  \n",
            "---  ------      --------------   -----  \n",
            " 0   data        172501 non-null  object \n",
            " 1   usuario     172495 non-null  object \n",
            " 2   apelido     172501 non-null  object \n",
            " 3   texto       172501 non-null  object \n",
            " 4   retweet     172501 non-null  int64  \n",
            " 5   seguidores  172501 non-null  int64  \n",
            " 6   idioma      172501 non-null  object \n",
            " 7   lugar       7829 non-null    object \n",
            " 8   pais        7829 non-null    object \n",
            " 9   sigla       7829 non-null    object \n",
            " 10  latitude    594 non-null     float64\n",
            " 11  longitude   594 non-null     float64\n",
            " 12  hashtags    172501 non-null  object \n",
            "dtypes: float64(2), int64(2), object(9)\n",
            "memory usage: 18.4+ MB\n"
          ],
          "name": "stdout"
        }
      ]
    },
    {
      "cell_type": "markdown",
      "metadata": {
        "id": "Uh6DecW53FEH"
      },
      "source": [
        "### Informações dos temas discutidos\n",
        "\n",
        "* Doença\n",
        "* Medicamentos\n",
        "* Tratamentos\n",
        "* Pessoas"
      ]
    },
    {
      "cell_type": "code",
      "metadata": {
        "id": "7GE8UN-4Zx7I"
      },
      "source": [
        "# lista de palavras chaves para cada título\n",
        "\n",
        "doenca = ['codiv','zica','chikungunya','dengue', 'covid-19', 'covid19','Covid-19','CoronaVirus','coronavírus','Covid','Covid_19','GRIPESINHA','gripesinha','SARS','epidemia']\n",
        "medicamento = ['cloroquina','hidroxicloroquina','Vermictina','novalgina']\n",
        "organização = ['OMS','STF','PT','PF','Globo','CNN','GLOBO','CNNBrasil','Ministério','Banco','ONUBrasil','ONU','Anvisa']\n",
        "pessoa = ['jair', 'bolsonaro', 'jair bolsonaro', 'presidente','BOZO','bozo','bosonaro','Mandetta','Trump','Lula','Doria','Haddad','mandetta','GilmarMendes','Queiroz']"
      ],
      "execution_count": 35,
      "outputs": []
    },
    {
      "cell_type": "code",
      "metadata": {
        "id": "DyEeL6Fh3Pm0",
        "outputId": "e5d2f36c-4f11-4e94-c9de-080919cabb29",
        "colab": {
          "base_uri": "https://localhost:8080/",
          "height": 221
        }
      },
      "source": [
        "doencaDB = duvidasDB[duvidasDB['texto'].str.contains(('|').join(doenca))].copy()\n",
        "doencaDB.reset_index(drop=True, inplace=True)\n",
        "a = doencaDB['texto']\n",
        "a"
      ],
      "execution_count": 36,
      "outputs": [
        {
          "output_type": "execute_result",
          "data": {
            "text/plain": [
              "0        Fumaça de cigarro pode propagar coronavírus? h...\n",
              "1        @JoseMedeirosMT Seria isso algum tipo aleatóri...\n",
              "2        E essa chuvinha boa para pegar um resfriado e ...\n",
              "3        Você iria na festa de aniversário de @jairbols...\n",
              "4        Hotel desaba na China com 70 pessoas em quaren...\n",
              "                               ...                        \n",
              "29388    Come posso esservi inutile?\\n#primavera2020 #c...\n",
              "29389    Animais domésticos podem pegar ou transmitir o...\n",
              "29390    @0n3p1ece @alexmono Oh jumentinha, 1918 é isso...\n",
              "29391    @BiologiaBraba @Tati_Cordeiro Só vontade ou vo...\n",
              "29392    @OsmarTerra Sr. Osmar Terra, gostaria de ouvir...\n",
              "Name: texto, Length: 29393, dtype: object"
            ]
          },
          "metadata": {
            "tags": []
          },
          "execution_count": 36
        }
      ]
    },
    {
      "cell_type": "code",
      "metadata": {
        "id": "vxyzvbEBWph4",
        "outputId": "3645d533-a0f5-4624-82eb-644126cca402",
        "colab": {
          "base_uri": "https://localhost:8080/",
          "height": 221
        }
      },
      "source": [
        "medicaDB = duvidasDB[duvidasDB['texto'].str.contains(('|').join(medicamento))].copy()\n",
        "medicaDB.reset_index(drop=True, inplace=True)\n",
        "b = medicaDB['texto']\n",
        "b"
      ],
      "execution_count": 37,
      "outputs": [
        {
          "output_type": "execute_result",
          "data": {
            "text/plain": [
              "0        @bbcbrasil @cavmota A pergunta que não quer ca...\n",
              "1        @gilmarmendes Ué ?! Mas a cloroquina não recom...\n",
              "2        Será que a Renata vai tomar cloroquina William...\n",
              "3        @jdoriajr O que vc tem contra a cloroquina? At...\n",
              "4        @BgwElectric @Leitadas_L0en @TeichNelson Márci...\n",
              "                               ...                        \n",
              "16881    Mais essa tal de cloroquina não é aquela que m...\n",
              "16882    @jairbolsonaro Você fez? Vai assumir que está ...\n",
              "16883    QUAIS os países estão usando cloroquina para t...\n",
              "16884    @saviscos @dinhomidias @helderbarbalho Nossa q...\n",
              "16885    @OsmarTerra Sr. Osmar Terra, gostaria de ouvir...\n",
              "Name: texto, Length: 16886, dtype: object"
            ]
          },
          "metadata": {
            "tags": []
          },
          "execution_count": 37
        }
      ]
    },
    {
      "cell_type": "code",
      "metadata": {
        "id": "g1RxTth7Xd2K",
        "outputId": "0e2bbb9c-bb61-458c-d176-c465ab749054",
        "colab": {
          "base_uri": "https://localhost:8080/",
          "height": 221
        }
      },
      "source": [
        "pessoaDB = duvidasDB[duvidasDB['texto'].str.contains(('|').join(pessoa))].copy()\n",
        "pessoaDB.reset_index(drop=True, inplace=True)\n",
        "e = pessoaDB['texto']\n",
        "e"
      ],
      "execution_count": 38,
      "outputs": [
        {
          "output_type": "execute_result",
          "data": {
            "text/plain": [
              "0        Você iria na festa de aniversário de @jairbols...\n",
              "1        É sério que o presidente mandou os governadore...\n",
              "2        @jairbolsonaro \\nComo vc demite uma pessoa que...\n",
              "3        @jairbolsonaro @jairbolsonaro, você não conseg...\n",
              "4        @Inter_desde1988 @alex3555 @Modinhaseculo21 @j...\n",
              "                               ...                        \n",
              "11997    @jairbolsonaro Se tocaram que descumprir o Jur...\n",
              "11998    @jairbolsonaro Você fez? Vai assumir que está ...\n",
              "11999    Ansioso pelas palavras do presidente referente...\n",
              "12000    Mundo no meio de uma pandemia, e o excelentíss...\n",
              "12001    @lhmandetta o exame do Jair Bolsonaro é positi...\n",
              "Name: texto, Length: 12002, dtype: object"
            ]
          },
          "metadata": {
            "tags": []
          },
          "execution_count": 38
        }
      ]
    },
    {
      "cell_type": "code",
      "metadata": {
        "id": "hheVJ5mdYSc2",
        "outputId": "4d68b62e-f8ac-4510-da36-ca1981b4dfe1",
        "colab": {
          "base_uri": "https://localhost:8080/",
          "height": 221
        }
      },
      "source": [
        "orgDB = duvidasDB[duvidasDB['texto'].str.contains(('|').join(organização))].copy()\n",
        "orgDB.reset_index(drop=True, inplace=True)\n",
        "d = orgDB['texto']\n",
        "d"
      ],
      "execution_count": 39,
      "outputs": [
        {
          "output_type": "execute_result",
          "data": {
            "text/plain": [
              "0       @gilmarmendes Ué ?! Mas a cloroquina não recom...\n",
              "1       Será que a Renata vai tomar cloroquina William...\n",
              "2       @amorimvivian_ GIIIIII ??? TÁ SE CUIDANDO DIRE...\n",
              "3       @CNNBrasil Só a Cloroquina já derruba os dois ...\n",
              "4       @Estadao @lobaoeletrico OMS diz que ciência pr...\n",
              "                              ...                        \n",
              "6291    @radiotupi NÃO seria culpa da GLOBO?! OU SERIA...\n",
              "6292    #STF @jairbolsonaro PQP o STF falando em solta...\n",
              "6293    Urgente: OMS declara pandemia mundial do coron...\n",
              "6294    O tratamento com a cloroquina está sendo utili...\n",
              "6295    #GrandeDebateCNN Tiago Anastácio, falou q falt...\n",
              "Name: texto, Length: 6296, dtype: object"
            ]
          },
          "metadata": {
            "tags": []
          },
          "execution_count": 39
        }
      ]
    },
    {
      "cell_type": "markdown",
      "metadata": {
        "id": "QcRKT4NJPsxK"
      },
      "source": [
        "### Analisando o texto"
      ]
    },
    {
      "cell_type": "code",
      "metadata": {
        "id": "ZO5mtH46P6U1",
        "outputId": "e3a96c34-f87f-4684-d33a-5d502c9bb460",
        "colab": {
          "base_uri": "https://localhost:8080/",
          "height": 221
        }
      },
      "source": [
        "textos = df['texto']\n",
        "print (textos)"
      ],
      "execution_count": 5,
      "outputs": [
        {
          "output_type": "stream",
          "text": [
            "0          @BolsonaroSP Cade o fundão deputado??? Congres...\n",
            "1          Em ação preventiva, o Governo do Estado suspen...\n",
            "2          Incrível como os defensores do fim do distanci...\n",
            "3          Fumaça de cigarro pode propagar coronavírus? h...\n",
            "4          🚨Todos juntos contra COVID-19💪\\n\\nSolicite seu...\n",
            "                                 ...                        \n",
            "1658820    oms: tamo tendo pandemia evitar\\n conglomerado...\n",
            "1658821    @OsmarTerra Sr. Osmar Terra, gostaria de ouvir...\n",
            "1658822    CIENTISTA DE HARVARD PREVÊ QUE ATÉ 70% DO MUND...\n",
            "1658823    #BolsonaroTemRazaoSim porque, quando a prefeit...\n",
            "1658824    Em meio a uma pandemia, estamos na luta também...\n",
            "Name: texto, Length: 1658825, dtype: object\n"
          ],
          "name": "stdout"
        }
      ]
    },
    {
      "cell_type": "markdown",
      "metadata": {
        "id": "2A0ctJtFQBTx"
      },
      "source": [
        "###Quebrando o texto em palavras"
      ]
    },
    {
      "cell_type": "code",
      "metadata": {
        "id": "lZg9psr4jlRj",
        "outputId": "f5bd61de-ee50-423a-c59b-4ecc2a04ff67",
        "colab": {
          "base_uri": "https://localhost:8080/",
          "height": 221
        }
      },
      "source": [
        "texto_quebra = textos.str.split()\n",
        "print (texto_quebra)"
      ],
      "execution_count": 6,
      "outputs": [
        {
          "output_type": "stream",
          "text": [
            "0          [@BolsonaroSP, Cade, o, fundão, deputado???, C...\n",
            "1          [Em, ação, preventiva,, o, Governo, do, Estado...\n",
            "2          [Incrível, como, os, defensores, do, fim, do, ...\n",
            "3          [Fumaça, de, cigarro, pode, propagar, coronaví...\n",
            "4          [🚨Todos, juntos, contra, COVID-19💪, Solicite, ...\n",
            "                                 ...                        \n",
            "1658820    [oms:, tamo, tendo, pandemia, evitar, conglome...\n",
            "1658821    [@OsmarTerra, Sr., Osmar, Terra,, gostaria, de...\n",
            "1658822    [CIENTISTA, DE, HARVARD, PREVÊ, QUE, ATÉ, 70%,...\n",
            "1658823    [#BolsonaroTemRazaoSim, porque,, quando, a, pr...\n",
            "1658824    [Em, meio, a, uma, pandemia,, estamos, na, lut...\n",
            "Name: texto, Length: 1658825, dtype: object\n"
          ],
          "name": "stdout"
        }
      ]
    },
    {
      "cell_type": "markdown",
      "metadata": {
        "id": "JAunwNAdxNQF"
      },
      "source": [
        "###Analisando o primeiro indice "
      ]
    },
    {
      "cell_type": "code",
      "metadata": {
        "id": "kvpo3Ogiwve5",
        "outputId": "c2473af5-0171-4423-a4a6-e210260be634",
        "colab": {
          "base_uri": "https://localhost:8080/",
          "height": 54
        }
      },
      "source": [
        "print (texto_quebra[0])"
      ],
      "execution_count": null,
      "outputs": [
        {
          "output_type": "stream",
          "text": [
            "['@BolsonaroSP', 'Cade', 'o', 'fundão', 'deputado???', 'Congresso', 'está', 'sentado', 'em', '3BI', 'olhando', 'a', 'pandemia', 'da', 'janela.']\n"
          ],
          "name": "stdout"
        }
      ]
    },
    {
      "cell_type": "markdown",
      "metadata": {
        "id": "7bMUloZKSv1T"
      },
      "source": [
        "Contando a quantidade de palavras do primeiro indice"
      ]
    },
    {
      "cell_type": "code",
      "metadata": {
        "id": "kepcJL6C0Hzp",
        "outputId": "883f8741-87bc-4b0c-cc09-6069ecedb08d",
        "colab": {
          "base_uri": "https://localhost:8080/",
          "height": 34
        }
      },
      "source": [
        "len(texto_quebra[0])"
      ],
      "execution_count": null,
      "outputs": [
        {
          "output_type": "execute_result",
          "data": {
            "text/plain": [
              "15"
            ]
          },
          "metadata": {
            "tags": []
          },
          "execution_count": 23
        }
      ]
    },
    {
      "cell_type": "code",
      "metadata": {
        "id": "1tLosXu43npS",
        "outputId": "9738ff2e-9868-4883-d128-03ac1121fa6a",
        "colab": {
          "base_uri": "https://localhost:8080/",
          "height": 51
        }
      },
      "source": [
        "data = df.texto\n",
        "print (data[0])\n",
        "inicio = data[0].find('?')\n",
        "print (inicio)\n",
        "#fim = data[0].find('', inicio)\n",
        "#print (fim)\n",
        "#host = data[inicio +1 : fim]\n",
        "#print (host)"
      ],
      "execution_count": null,
      "outputs": [
        {
          "output_type": "stream",
          "text": [
            "@BolsonaroSP Cade o fundão deputado??? Congresso está sentado em 3BI olhando a pandemia da janela.\n",
            "35\n"
          ],
          "name": "stdout"
        }
      ]
    },
    {
      "cell_type": "markdown",
      "metadata": {
        "id": "3wvD3J_neaPZ"
      },
      "source": [
        "###Percorrendo os elementos da Lista "
      ]
    },
    {
      "cell_type": "code",
      "metadata": {
        "id": "vAtwSSnDXCJU"
      },
      "source": [
        "palavras = df.texto\n",
        "i = 0\n",
        "while i < len(palavras):\n",
        "  print (palavras[i])\n",
        "  i = i + 1\n"
      ],
      "execution_count": null,
      "outputs": []
    },
    {
      "cell_type": "markdown",
      "metadata": {
        "id": "fnehLi2f0iIT"
      },
      "source": [
        "###Usando a função enumerate para visualizar o conjunto de palavras"
      ]
    },
    {
      "cell_type": "code",
      "metadata": {
        "id": "Oe5FczXffOoB"
      },
      "source": [
        "for cont in enumerate(texto_quebra): \n",
        "  print (cont)"
      ],
      "execution_count": null,
      "outputs": []
    }
  ]
}