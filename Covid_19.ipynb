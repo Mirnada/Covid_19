{
  "nbformat": 4,
  "nbformat_minor": 0,
  "metadata": {
    "colab": {
      "name": "Covid_19.ipynb",
      "provenance": [],
      "include_colab_link": true
    },
    "kernelspec": {
      "name": "python3",
      "display_name": "Python 3"
    }
  },
  "cells": [
    {
      "cell_type": "markdown",
      "metadata": {
        "id": "view-in-github",
        "colab_type": "text"
      },
      "source": [
        "<a href=\"https://colab.research.google.com/github/Mirnada/Covid_19/blob/master/Covid_19.ipynb\" target=\"_parent\"><img src=\"https://colab.research.google.com/assets/colab-badge.svg\" alt=\"Open In Colab\"/></a>"
      ]
    },
    {
      "cell_type": "markdown",
      "metadata": {
        "id": "7cL7fmW2aCE_"
      },
      "source": [
        "# Análise dos dados do Covid_19\n"
      ]
    },
    {
      "cell_type": "markdown",
      "metadata": {
        "id": "Az3vruND0jVI"
      },
      "source": [
        "## Montando o Drive"
      ]
    },
    {
      "cell_type": "code",
      "metadata": {
        "id": "CtXBSRhf0mt-",
        "outputId": "5d78cedc-1176-48a2-cc01-2749df3e2590",
        "colab": {
          "base_uri": "https://localhost:8080/",
          "height": 35
        }
      },
      "source": [
        "from google.colab import drive\n",
        "\n",
        "drive.mount('/content/drive')"
      ],
      "execution_count": 133,
      "outputs": [
        {
          "output_type": "stream",
          "text": [
            "Drive already mounted at /content/drive; to attempt to forcibly remount, call drive.mount(\"/content/drive\", force_remount=True).\n"
          ],
          "name": "stdout"
        }
      ]
    },
    {
      "cell_type": "markdown",
      "metadata": {
        "id": "E4leXC2ps27j"
      },
      "source": [
        "## Importando bibliotecas"
      ]
    },
    {
      "cell_type": "code",
      "metadata": {
        "id": "MQG-YSau8uoO",
        "outputId": "608959c0-7f0b-4fb2-d521-b6f2d2322bf0",
        "colab": {
          "base_uri": "https://localhost:8080/",
          "height": 269
        }
      },
      "source": [
        "!pip install geopandas"
      ],
      "execution_count": 134,
      "outputs": [
        {
          "output_type": "stream",
          "text": [
            "Requirement already satisfied: geopandas in /usr/local/lib/python3.6/dist-packages (0.8.1)\n",
            "Requirement already satisfied: pandas>=0.23.0 in /usr/local/lib/python3.6/dist-packages (from geopandas) (1.1.2)\n",
            "Requirement already satisfied: shapely in /usr/local/lib/python3.6/dist-packages (from geopandas) (1.7.1)\n",
            "Requirement already satisfied: pyproj>=2.2.0 in /usr/local/lib/python3.6/dist-packages (from geopandas) (2.6.1.post1)\n",
            "Requirement already satisfied: fiona in /usr/local/lib/python3.6/dist-packages (from geopandas) (1.8.17)\n",
            "Requirement already satisfied: numpy>=1.15.4 in /usr/local/lib/python3.6/dist-packages (from pandas>=0.23.0->geopandas) (1.18.5)\n",
            "Requirement already satisfied: python-dateutil>=2.7.3 in /usr/local/lib/python3.6/dist-packages (from pandas>=0.23.0->geopandas) (2.8.1)\n",
            "Requirement already satisfied: pytz>=2017.2 in /usr/local/lib/python3.6/dist-packages (from pandas>=0.23.0->geopandas) (2018.9)\n",
            "Requirement already satisfied: click-plugins>=1.0 in /usr/local/lib/python3.6/dist-packages (from fiona->geopandas) (1.1.1)\n",
            "Requirement already satisfied: six>=1.7 in /usr/local/lib/python3.6/dist-packages (from fiona->geopandas) (1.15.0)\n",
            "Requirement already satisfied: cligj>=0.5 in /usr/local/lib/python3.6/dist-packages (from fiona->geopandas) (0.5.0)\n",
            "Requirement already satisfied: click<8,>=4.0 in /usr/local/lib/python3.6/dist-packages (from fiona->geopandas) (7.1.2)\n",
            "Requirement already satisfied: munch in /usr/local/lib/python3.6/dist-packages (from fiona->geopandas) (2.5.0)\n",
            "Requirement already satisfied: attrs>=17 in /usr/local/lib/python3.6/dist-packages (from fiona->geopandas) (20.2.0)\n"
          ],
          "name": "stdout"
        }
      ]
    },
    {
      "cell_type": "code",
      "metadata": {
        "id": "mlTix7VotEkL"
      },
      "source": [
        "import pandas as pd\n",
        "from unicodedata import normalize\n",
        "import matplotlib.pyplot as plt\n",
        "import geopandas\n",
        "%matplotlib inline\n",
        "\n",
        "df = pd.read_csv('/content/drive/My Drive/Datasets/dados-curso-completo.csv')"
      ],
      "execution_count": 135,
      "outputs": []
    },
    {
      "cell_type": "markdown",
      "metadata": {
        "id": "9KYsUh3YhIz3"
      },
      "source": [
        "## Dataset original - Estatísticas"
      ]
    },
    {
      "cell_type": "markdown",
      "metadata": {
        "id": "crTmK5fuN_Yz"
      },
      "source": [
        "### Informações gerias do dataset"
      ]
    },
    {
      "cell_type": "code",
      "metadata": {
        "id": "Ne1FJRpzOIXD",
        "outputId": "02035655-b070-41c0-c17e-60eba647f22c",
        "colab": {
          "base_uri": "https://localhost:8080/",
          "height": 529
        }
      },
      "source": [
        "df.head(10)"
      ],
      "execution_count": 136,
      "outputs": [
        {
          "output_type": "execute_result",
          "data": {
            "text/html": [
              "<div>\n",
              "<style scoped>\n",
              "    .dataframe tbody tr th:only-of-type {\n",
              "        vertical-align: middle;\n",
              "    }\n",
              "\n",
              "    .dataframe tbody tr th {\n",
              "        vertical-align: top;\n",
              "    }\n",
              "\n",
              "    .dataframe thead th {\n",
              "        text-align: right;\n",
              "    }\n",
              "</style>\n",
              "<table border=\"1\" class=\"dataframe\">\n",
              "  <thead>\n",
              "    <tr style=\"text-align: right;\">\n",
              "      <th></th>\n",
              "      <th>data</th>\n",
              "      <th>usuario</th>\n",
              "      <th>apelido</th>\n",
              "      <th>texto</th>\n",
              "      <th>retweet</th>\n",
              "      <th>seguidores</th>\n",
              "      <th>idioma</th>\n",
              "      <th>lugar</th>\n",
              "      <th>pais</th>\n",
              "      <th>sigla</th>\n",
              "      <th>latitude</th>\n",
              "      <th>longitude</th>\n",
              "      <th>hashtags</th>\n",
              "    </tr>\n",
              "  </thead>\n",
              "  <tbody>\n",
              "    <tr>\n",
              "      <th>0</th>\n",
              "      <td>2020-03-23 18:51:14</td>\n",
              "      <td>Gaboardi</td>\n",
              "      <td>fraslee</td>\n",
              "      <td>@BolsonaroSP Cade o fundão deputado??? Congres...</td>\n",
              "      <td>0</td>\n",
              "      <td>138</td>\n",
              "      <td>pt</td>\n",
              "      <td>NaN</td>\n",
              "      <td>NaN</td>\n",
              "      <td>NaN</td>\n",
              "      <td>NaN</td>\n",
              "      <td>NaN</td>\n",
              "      <td>[]</td>\n",
              "    </tr>\n",
              "    <tr>\n",
              "      <th>1</th>\n",
              "      <td>2020-03-18 03:18:14</td>\n",
              "      <td>Seu Zé da Farmácia</td>\n",
              "      <td>seuzedafarmacia</td>\n",
              "      <td>Em ação preventiva, o Governo do Estado suspen...</td>\n",
              "      <td>0</td>\n",
              "      <td>56</td>\n",
              "      <td>pt</td>\n",
              "      <td>NaN</td>\n",
              "      <td>NaN</td>\n",
              "      <td>NaN</td>\n",
              "      <td>NaN</td>\n",
              "      <td>NaN</td>\n",
              "      <td>[]</td>\n",
              "    </tr>\n",
              "    <tr>\n",
              "      <th>2</th>\n",
              "      <td>2020-03-29 12:09:27</td>\n",
              "      <td>Marília Oliveira 🇧🇷</td>\n",
              "      <td>Marioliveira_gb</td>\n",
              "      <td>Incrível como os defensores do fim do distanci...</td>\n",
              "      <td>0</td>\n",
              "      <td>5</td>\n",
              "      <td>pt</td>\n",
              "      <td>NaN</td>\n",
              "      <td>NaN</td>\n",
              "      <td>NaN</td>\n",
              "      <td>NaN</td>\n",
              "      <td>NaN</td>\n",
              "      <td>[]</td>\n",
              "    </tr>\n",
              "    <tr>\n",
              "      <th>3</th>\n",
              "      <td>2020-04-01 21:11:07</td>\n",
              "      <td>🚩</td>\n",
              "      <td>santosodeto</td>\n",
              "      <td>Fumaça de cigarro pode propagar coronavírus? h...</td>\n",
              "      <td>0</td>\n",
              "      <td>1885</td>\n",
              "      <td>pt</td>\n",
              "      <td>NaN</td>\n",
              "      <td>NaN</td>\n",
              "      <td>NaN</td>\n",
              "      <td>NaN</td>\n",
              "      <td>NaN</td>\n",
              "      <td>[]</td>\n",
              "    </tr>\n",
              "    <tr>\n",
              "      <th>4</th>\n",
              "      <td>2020-03-19 17:49:40</td>\n",
              "      <td>Nova Impressão</td>\n",
              "      <td>novaimpressao_</td>\n",
              "      <td>🚨Todos juntos contra COVID-19💪\\n\\nSolicite seu...</td>\n",
              "      <td>0</td>\n",
              "      <td>124</td>\n",
              "      <td>pt</td>\n",
              "      <td>Brasília</td>\n",
              "      <td>Brazil</td>\n",
              "      <td>BR</td>\n",
              "      <td>-47.8778</td>\n",
              "      <td>-15.77691</td>\n",
              "      <td>[]</td>\n",
              "    </tr>\n",
              "    <tr>\n",
              "      <th>5</th>\n",
              "      <td>2020-05-08 11:21:36</td>\n",
              "      <td>Marcel Silvano</td>\n",
              "      <td>marcelsilvano</td>\n",
              "      <td>Importantes avanços! A pesquisa brasileira, a ...</td>\n",
              "      <td>4</td>\n",
              "      <td>2769</td>\n",
              "      <td>pt</td>\n",
              "      <td>Macaé</td>\n",
              "      <td>Brazil</td>\n",
              "      <td>BR</td>\n",
              "      <td>NaN</td>\n",
              "      <td>NaN</td>\n",
              "      <td>[]</td>\n",
              "    </tr>\n",
              "    <tr>\n",
              "      <th>6</th>\n",
              "      <td>2020-03-10 21:27:40</td>\n",
              "      <td>Teixeira Correia</td>\n",
              "      <td>LidadorNoticias</td>\n",
              "      <td>(Última hora) Volta ao Alentejo: Anulada por c...</td>\n",
              "      <td>0</td>\n",
              "      <td>39</td>\n",
              "      <td>pt</td>\n",
              "      <td>NaN</td>\n",
              "      <td>NaN</td>\n",
              "      <td>NaN</td>\n",
              "      <td>NaN</td>\n",
              "      <td>NaN</td>\n",
              "      <td>[]</td>\n",
              "    </tr>\n",
              "    <tr>\n",
              "      <th>7</th>\n",
              "      <td>2020-06-04 13:22:21</td>\n",
              "      <td>Thiago Moraes</td>\n",
              "      <td>ThiagoMoraesPB</td>\n",
              "      <td>João Pessoa tem queda no isolamento social por...</td>\n",
              "      <td>1</td>\n",
              "      <td>3578</td>\n",
              "      <td>pt</td>\n",
              "      <td>NaN</td>\n",
              "      <td>NaN</td>\n",
              "      <td>NaN</td>\n",
              "      <td>NaN</td>\n",
              "      <td>NaN</td>\n",
              "      <td>[]</td>\n",
              "    </tr>\n",
              "    <tr>\n",
              "      <th>8</th>\n",
              "      <td>2020-05-07 21:32:12</td>\n",
              "      <td>PT Brasil</td>\n",
              "      <td>ptbrasil</td>\n",
              "      <td>A #tvPT de hoje vai falar sobre a pandemia na ...</td>\n",
              "      <td>10</td>\n",
              "      <td>942696</td>\n",
              "      <td>pt</td>\n",
              "      <td>NaN</td>\n",
              "      <td>NaN</td>\n",
              "      <td>NaN</td>\n",
              "      <td>NaN</td>\n",
              "      <td>NaN</td>\n",
              "      <td>['tvPT']</td>\n",
              "    </tr>\n",
              "    <tr>\n",
              "      <th>9</th>\n",
              "      <td>2020-03-11 20:27:49</td>\n",
              "      <td>Niquito ;)</td>\n",
              "      <td>NLazaroto</td>\n",
              "      <td>O Coronavirús causou uma pandemia e eu ainda n...</td>\n",
              "      <td>0</td>\n",
              "      <td>215</td>\n",
              "      <td>pt</td>\n",
              "      <td>NaN</td>\n",
              "      <td>NaN</td>\n",
              "      <td>NaN</td>\n",
              "      <td>NaN</td>\n",
              "      <td>NaN</td>\n",
              "      <td>[]</td>\n",
              "    </tr>\n",
              "  </tbody>\n",
              "</table>\n",
              "</div>"
            ],
            "text/plain": [
              "                  data              usuario  ... longitude  hashtags\n",
              "0  2020-03-23 18:51:14             Gaboardi  ...       NaN        []\n",
              "1  2020-03-18 03:18:14   Seu Zé da Farmácia  ...       NaN        []\n",
              "2  2020-03-29 12:09:27  Marília Oliveira 🇧🇷  ...       NaN        []\n",
              "3  2020-04-01 21:11:07                    🚩  ...       NaN        []\n",
              "4  2020-03-19 17:49:40       Nova Impressão  ... -15.77691        []\n",
              "5  2020-05-08 11:21:36       Marcel Silvano  ...       NaN        []\n",
              "6  2020-03-10 21:27:40     Teixeira Correia  ...       NaN        []\n",
              "7  2020-06-04 13:22:21        Thiago Moraes  ...       NaN        []\n",
              "8  2020-05-07 21:32:12            PT Brasil  ...       NaN  ['tvPT']\n",
              "9  2020-03-11 20:27:49           Niquito ;)  ...       NaN        []\n",
              "\n",
              "[10 rows x 13 columns]"
            ]
          },
          "metadata": {
            "tags": []
          },
          "execution_count": 136
        }
      ]
    },
    {
      "cell_type": "code",
      "metadata": {
        "id": "JzrVqnjaNxib",
        "outputId": "39ea0dc4-c905-47ef-a4a8-27c2dbd64fee",
        "colab": {
          "base_uri": "https://localhost:8080/",
          "height": 357
        }
      },
      "source": [
        "# informações gereias\n",
        "df.info()"
      ],
      "execution_count": null,
      "outputs": [
        {
          "output_type": "stream",
          "text": [
            "<class 'pandas.core.frame.DataFrame'>\n",
            "RangeIndex: 1658825 entries, 0 to 1658824\n",
            "Data columns (total 13 columns):\n",
            " #   Column      Non-Null Count    Dtype  \n",
            "---  ------      --------------    -----  \n",
            " 0   data        1658825 non-null  object \n",
            " 1   usuario     1658768 non-null  object \n",
            " 2   apelido     1658825 non-null  object \n",
            " 3   texto       1658825 non-null  object \n",
            " 4   retweet     1658825 non-null  int64  \n",
            " 5   seguidores  1658825 non-null  int64  \n",
            " 6   idioma      1658825 non-null  object \n",
            " 7   lugar       74605 non-null    object \n",
            " 8   pais        74600 non-null    object \n",
            " 9   sigla       74595 non-null    object \n",
            " 10  latitude    8720 non-null     float64\n",
            " 11  longitude   8720 non-null     float64\n",
            " 12  hashtags    1658825 non-null  object \n",
            "dtypes: float64(2), int64(2), object(9)\n",
            "memory usage: 164.5+ MB\n"
          ],
          "name": "stdout"
        }
      ]
    },
    {
      "cell_type": "markdown",
      "metadata": {
        "id": "Azjnzzfuhazr"
      },
      "source": [
        "* data: data do tweet do usuário\n",
        "* usuario: nome do usuario\n",
        "* apelido: apelido do usuário\n",
        "* texto: texto publicado pelo usuário\n",
        "* retweet: quantidade de vezes que o tweet foi replicado\n",
        "* seguidores: quantidade de seguidores do usuário\n",
        "* idioma: idioma do usuário\n",
        "* lugar: lugar do usuário na publicação\n",
        "* pais: país do usuário na publicação\n",
        "* sigla: sigla do Estado do usuário\n",
        "* latitude: posição geogŕafica do usuário \n",
        "* longitude: posição geográfica do usuário"
      ]
    },
    {
      "cell_type": "code",
      "metadata": {
        "id": "D8x3VqOICfIQ",
        "outputId": "7c67cb21-7374-4cd1-acaf-fb96fcc6b749",
        "colab": {
          "base_uri": "https://localhost:8080/",
          "height": 255
        }
      },
      "source": [
        "# quantidade de valores nulos\n",
        "df.isnull().sum()"
      ],
      "execution_count": null,
      "outputs": [
        {
          "output_type": "execute_result",
          "data": {
            "text/plain": [
              "data                0\n",
              "usuario            57\n",
              "apelido             0\n",
              "texto               0\n",
              "retweet             0\n",
              "seguidores          0\n",
              "idioma              0\n",
              "lugar         1584220\n",
              "pais          1584225\n",
              "sigla         1584230\n",
              "latitude      1650105\n",
              "longitude     1650105\n",
              "hashtags            0\n",
              "dtype: int64"
            ]
          },
          "metadata": {
            "tags": []
          },
          "execution_count": 63
        }
      ]
    },
    {
      "cell_type": "markdown",
      "metadata": {
        "id": "0ZS8756gPPef"
      },
      "source": [
        "### Analisando os dados numericos"
      ]
    },
    {
      "cell_type": "code",
      "metadata": {
        "id": "ks5b5w8hPYL_",
        "outputId": "2d100dc7-7061-40f7-a56c-5b9014dbb8bf",
        "colab": {
          "base_uri": "https://localhost:8080/",
          "height": 173
        }
      },
      "source": [
        "df.describe().transpose()"
      ],
      "execution_count": null,
      "outputs": [
        {
          "output_type": "execute_result",
          "data": {
            "text/html": [
              "<div>\n",
              "<style scoped>\n",
              "    .dataframe tbody tr th:only-of-type {\n",
              "        vertical-align: middle;\n",
              "    }\n",
              "\n",
              "    .dataframe tbody tr th {\n",
              "        vertical-align: top;\n",
              "    }\n",
              "\n",
              "    .dataframe thead th {\n",
              "        text-align: right;\n",
              "    }\n",
              "</style>\n",
              "<table border=\"1\" class=\"dataframe\">\n",
              "  <thead>\n",
              "    <tr style=\"text-align: right;\">\n",
              "      <th></th>\n",
              "      <th>count</th>\n",
              "      <th>mean</th>\n",
              "      <th>std</th>\n",
              "      <th>min</th>\n",
              "      <th>25%</th>\n",
              "      <th>50%</th>\n",
              "      <th>75%</th>\n",
              "      <th>max</th>\n",
              "    </tr>\n",
              "  </thead>\n",
              "  <tbody>\n",
              "    <tr>\n",
              "      <th>retweet</th>\n",
              "      <td>1658825.0</td>\n",
              "      <td>197.853299</td>\n",
              "      <td>6337.641384</td>\n",
              "      <td>0.000000</td>\n",
              "      <td>0.000000</td>\n",
              "      <td>0.000000</td>\n",
              "      <td>0.000000</td>\n",
              "      <td>1.139763e+06</td>\n",
              "    </tr>\n",
              "    <tr>\n",
              "      <th>seguidores</th>\n",
              "      <td>1658825.0</td>\n",
              "      <td>32572.055193</td>\n",
              "      <td>368029.985029</td>\n",
              "      <td>0.000000</td>\n",
              "      <td>101.000000</td>\n",
              "      <td>380.000000</td>\n",
              "      <td>1470.000000</td>\n",
              "      <td>8.424125e+07</td>\n",
              "    </tr>\n",
              "    <tr>\n",
              "      <th>latitude</th>\n",
              "      <td>8720.0</td>\n",
              "      <td>-40.237583</td>\n",
              "      <td>20.808494</td>\n",
              "      <td>-123.120400</td>\n",
              "      <td>-47.864334</td>\n",
              "      <td>-43.955615</td>\n",
              "      <td>-38.453198</td>\n",
              "      <td>1.747893e+02</td>\n",
              "    </tr>\n",
              "    <tr>\n",
              "      <th>longitude</th>\n",
              "      <td>8720.0</td>\n",
              "      <td>-11.117100</td>\n",
              "      <td>19.169105</td>\n",
              "      <td>-37.818769</td>\n",
              "      <td>-23.305300</td>\n",
              "      <td>-19.624400</td>\n",
              "      <td>-7.120700</td>\n",
              "      <td>5.825778e+01</td>\n",
              "    </tr>\n",
              "  </tbody>\n",
              "</table>\n",
              "</div>"
            ],
            "text/plain": [
              "                count          mean  ...          75%           max\n",
              "retweet     1658825.0    197.853299  ...     0.000000  1.139763e+06\n",
              "seguidores  1658825.0  32572.055193  ...  1470.000000  8.424125e+07\n",
              "latitude       8720.0    -40.237583  ...   -38.453198  1.747893e+02\n",
              "longitude      8720.0    -11.117100  ...    -7.120700  5.825778e+01\n",
              "\n",
              "[4 rows x 8 columns]"
            ]
          },
          "metadata": {
            "tags": []
          },
          "execution_count": 7
        }
      ]
    },
    {
      "cell_type": "markdown",
      "metadata": {
        "id": "5S2c_rnwsVRS"
      },
      "source": [
        "Ao gerar alguns dados estatísticos, podemos notar:\n",
        "\n",
        "* a variável *retweet* tem como valor máximo 1139763, isso quer dizer que uma publicação específica foi replicada mais de 1 milhão de vezes, assim como a variável *seguidores* nos mostra que um determinado usuário possui aproximadamente 8,5 milhões de seguidores \n",
        "\n",
        "* as colunas *retweet* e *seguidores* possui uma grande discrepância em sua distribuição de frequencia. Em *retweet*, todos os valores estão acima do 3º quartil, indicando que 75% dos valores são iguais a zero.\n"
      ]
    },
    {
      "cell_type": "markdown",
      "metadata": {
        "id": "oWGrmMDTPZW3"
      },
      "source": [
        "### Analisando os dados categóricos"
      ]
    },
    {
      "cell_type": "code",
      "metadata": {
        "id": "FF5AYG0hPrNn",
        "outputId": "05681a64-631a-49c1-ead4-543b9ccf0821",
        "colab": {
          "base_uri": "https://localhost:8080/",
          "height": 221
        }
      },
      "source": [
        "# Quantidade de tweets por páis\n",
        "df['sigla'].value_counts()"
      ],
      "execution_count": null,
      "outputs": [
        {
          "output_type": "execute_result",
          "data": {
            "text/plain": [
              "BR    67247\n",
              "PT     2675\n",
              "US     1068\n",
              "IT      484\n",
              "ES      379\n",
              "      ...  \n",
              "CW        1\n",
              "CF        1\n",
              "MO        1\n",
              "BS        1\n",
              "MG        1\n",
              "Name: sigla, Length: 120, dtype: int64"
            ]
          },
          "metadata": {
            "tags": []
          },
          "execution_count": 65
        }
      ]
    },
    {
      "cell_type": "markdown",
      "metadata": {
        "id": "Ty1kolG68o2s"
      },
      "source": [
        "Aproximadamente 90% dos dados são do Brasil\n",
        "\n",
        "*Obs: apenas os dados que contem a sigla do país"
      ]
    },
    {
      "cell_type": "code",
      "metadata": {
        "id": "l1nTwaFr3EYv",
        "outputId": "e557ba46-986d-4962-b72b-6d9c4f78b445",
        "colab": {
          "base_uri": "https://localhost:8080/",
          "height": 35
        }
      },
      "source": [
        "# proporção dos tweets do Brasil\n",
        "(df['sigla'].value_counts()['BR']/df['sigla'].value_counts().sum())*100"
      ],
      "execution_count": null,
      "outputs": [
        {
          "output_type": "execute_result",
          "data": {
            "text/plain": [
              "90.14947382532341"
            ]
          },
          "metadata": {
            "tags": []
          },
          "execution_count": 29
        }
      ]
    },
    {
      "cell_type": "markdown",
      "metadata": {
        "id": "l74X1sd59Mjd"
      },
      "source": [
        "## Dataset DuvidasDB"
      ]
    },
    {
      "cell_type": "code",
      "metadata": {
        "id": "-xDmk9L79qBv",
        "outputId": "9b3d5c05-f81d-4bdd-b0b5-18f7c5fe7c9a",
        "colab": {
          "base_uri": "https://localhost:8080/",
          "height": 394
        }
      },
      "source": [
        "duvidasDB = df[df['texto'].str.contains('?', regex=False)].copy()\n",
        "\n",
        "# todas as letras convertidas para minúsculas\n",
        "duvidasDB['texto'] = duvidasDB.texto.str.lower()\n",
        "duvidasDB['lugar'] = duvidasDB.lugar.str.lower()\n",
        "\n",
        "# retirada dos carecteres acentuadas por seus respectivos carecteres sem acento\n",
        "duvidasDB['texto'] = duvidasDB.texto.apply(lambda txt: normalize('NFKD', txt).encode('ASCII','ignore').decode('ASCII'))\n",
        "duvidasDB['lugar'] = duvidasDB.lugar.apply(lambda txt: normalize('NFKD', txt if isinstance(txt, str) else '').encode('ASCII','ignore').decode('ASCII'))\n",
        "\n",
        "# Convertendo o tipo do campo data em datetime\n",
        "duvidasDB['data'] = pd.to_datetime(duvidasDB['data'])\n",
        "\n",
        "# Ordenando os tweets por data\n",
        "duvidasDB.sort_values('data', inplace=True)\n",
        "\n",
        "# resetando os indixes\n",
        "duvidasDB.reset_index(drop=True, inplace=True)\n",
        "\n",
        "# inserção da região\n",
        "dfMun = pd.read_csv('/content/drive/My Drive/Datasets/municipios.csv', sep=';', usecols=['UF', 'Município', 'Região'])\n",
        "dfMun['Município'] = dfMun['Município'].str.lower()\n",
        "dfMun['Município'] = dfMun['Município'].apply(lambda txt: normalize('NFKD', txt).encode('ASCII','ignore').decode('ASCII'))\n",
        "dfMun['lugar'] = dfMun['Município']\n",
        "\n",
        "\n",
        "duvidasDB = duvidasDB.merge(dfMun, on='lugar', how='left')\n",
        "\n",
        "duvidasDB.head()"
      ],
      "execution_count": 137,
      "outputs": [
        {
          "output_type": "execute_result",
          "data": {
            "text/html": [
              "<div>\n",
              "<style scoped>\n",
              "    .dataframe tbody tr th:only-of-type {\n",
              "        vertical-align: middle;\n",
              "    }\n",
              "\n",
              "    .dataframe tbody tr th {\n",
              "        vertical-align: top;\n",
              "    }\n",
              "\n",
              "    .dataframe thead th {\n",
              "        text-align: right;\n",
              "    }\n",
              "</style>\n",
              "<table border=\"1\" class=\"dataframe\">\n",
              "  <thead>\n",
              "    <tr style=\"text-align: right;\">\n",
              "      <th></th>\n",
              "      <th>data</th>\n",
              "      <th>usuario</th>\n",
              "      <th>apelido</th>\n",
              "      <th>texto</th>\n",
              "      <th>retweet</th>\n",
              "      <th>seguidores</th>\n",
              "      <th>idioma</th>\n",
              "      <th>lugar</th>\n",
              "      <th>pais</th>\n",
              "      <th>sigla</th>\n",
              "      <th>latitude</th>\n",
              "      <th>longitude</th>\n",
              "      <th>hashtags</th>\n",
              "      <th>UF</th>\n",
              "      <th>Município</th>\n",
              "      <th>Região</th>\n",
              "    </tr>\n",
              "  </thead>\n",
              "  <tbody>\n",
              "    <tr>\n",
              "      <th>0</th>\n",
              "      <td>2020-01-01 23:44:49</td>\n",
              "      <td>Furacão da CCCP ☭</td>\n",
              "      <td>Dalestee13PT</td>\n",
              "      <td>@isabela_camren @__bitchcoin__ cortaram da cam...</td>\n",
              "      <td>0</td>\n",
              "      <td>1228</td>\n",
              "      <td>pt</td>\n",
              "      <td></td>\n",
              "      <td>NaN</td>\n",
              "      <td>NaN</td>\n",
              "      <td>NaN</td>\n",
              "      <td>NaN</td>\n",
              "      <td>[]</td>\n",
              "      <td>NaN</td>\n",
              "      <td>NaN</td>\n",
              "      <td>NaN</td>\n",
              "    </tr>\n",
              "    <tr>\n",
              "      <th>1</th>\n",
              "      <td>2020-01-02 00:13:49</td>\n",
              "      <td>Teresa SM</td>\n",
              "      <td>bazert</td>\n",
              "      <td>o tamiflu nao e aquela coisa para a gripe a? u...</td>\n",
              "      <td>0</td>\n",
              "      <td>7456</td>\n",
              "      <td>pt</td>\n",
              "      <td></td>\n",
              "      <td>NaN</td>\n",
              "      <td>NaN</td>\n",
              "      <td>NaN</td>\n",
              "      <td>NaN</td>\n",
              "      <td>[]</td>\n",
              "      <td>NaN</td>\n",
              "      <td>NaN</td>\n",
              "      <td>NaN</td>\n",
              "    </tr>\n",
              "    <tr>\n",
              "      <th>2</th>\n",
              "      <td>2020-01-02 01:33:38</td>\n",
              "      <td>Manu, mas não a Gavassi</td>\n",
              "      <td>pringless_</td>\n",
              "      <td>@willpelicari mas como foi o processo? ele tev...</td>\n",
              "      <td>0</td>\n",
              "      <td>264</td>\n",
              "      <td>pt</td>\n",
              "      <td></td>\n",
              "      <td>NaN</td>\n",
              "      <td>NaN</td>\n",
              "      <td>NaN</td>\n",
              "      <td>NaN</td>\n",
              "      <td>[]</td>\n",
              "      <td>NaN</td>\n",
              "      <td>NaN</td>\n",
              "      <td>NaN</td>\n",
              "    </tr>\n",
              "    <tr>\n",
              "      <th>3</th>\n",
              "      <td>2020-01-02 14:14:02</td>\n",
              "      <td>CorollaVírus.exe</td>\n",
              "      <td>CoronaVirus_exe</td>\n",
              "      <td>@senadofederal nao gostaria de fazer parte? fo...</td>\n",
              "      <td>0</td>\n",
              "      <td>68</td>\n",
              "      <td>pt</td>\n",
              "      <td></td>\n",
              "      <td>NaN</td>\n",
              "      <td>NaN</td>\n",
              "      <td>NaN</td>\n",
              "      <td>NaN</td>\n",
              "      <td>[]</td>\n",
              "      <td>NaN</td>\n",
              "      <td>NaN</td>\n",
              "      <td>NaN</td>\n",
              "    </tr>\n",
              "    <tr>\n",
              "      <th>4</th>\n",
              "      <td>2020-01-02 16:32:53</td>\n",
              "      <td>Matheus Serdeira 🇦🇹</td>\n",
              "      <td>MathSerdeira11</td>\n",
              "      <td>brasileirao\\n\\nsera que vai acabar a quarenten...</td>\n",
              "      <td>0</td>\n",
              "      <td>4562</td>\n",
              "      <td>pt</td>\n",
              "      <td></td>\n",
              "      <td>NaN</td>\n",
              "      <td>NaN</td>\n",
              "      <td>NaN</td>\n",
              "      <td>NaN</td>\n",
              "      <td>[]</td>\n",
              "      <td>NaN</td>\n",
              "      <td>NaN</td>\n",
              "      <td>NaN</td>\n",
              "    </tr>\n",
              "  </tbody>\n",
              "</table>\n",
              "</div>"
            ],
            "text/plain": [
              "                 data                  usuario  ... Município Região\n",
              "0 2020-01-01 23:44:49        Furacão da CCCP ☭  ...       NaN    NaN\n",
              "1 2020-01-02 00:13:49                Teresa SM  ...       NaN    NaN\n",
              "2 2020-01-02 01:33:38  Manu, mas não a Gavassi  ...       NaN    NaN\n",
              "3 2020-01-02 14:14:02         CorollaVírus.exe  ...       NaN    NaN\n",
              "4 2020-01-02 16:32:53      Matheus Serdeira 🇦🇹  ...       NaN    NaN\n",
              "\n",
              "[5 rows x 16 columns]"
            ]
          },
          "metadata": {
            "tags": []
          },
          "execution_count": 137
        }
      ]
    },
    {
      "cell_type": "markdown",
      "metadata": {
        "id": "6wPqUBJS6JEJ"
      },
      "source": [
        "### Visão Geral dos Dados"
      ]
    },
    {
      "cell_type": "code",
      "metadata": {
        "id": "DP0FRlioy7dg",
        "outputId": "7b1c9b52-00bc-46ee-8cac-1588ca5296ce",
        "colab": {
          "base_uri": "https://localhost:8080/",
          "height": 173
        }
      },
      "source": [
        "duvidasDB.describe().transpose()"
      ],
      "execution_count": null,
      "outputs": [
        {
          "output_type": "execute_result",
          "data": {
            "text/html": [
              "<div>\n",
              "<style scoped>\n",
              "    .dataframe tbody tr th:only-of-type {\n",
              "        vertical-align: middle;\n",
              "    }\n",
              "\n",
              "    .dataframe tbody tr th {\n",
              "        vertical-align: top;\n",
              "    }\n",
              "\n",
              "    .dataframe thead th {\n",
              "        text-align: right;\n",
              "    }\n",
              "</style>\n",
              "<table border=\"1\" class=\"dataframe\">\n",
              "  <thead>\n",
              "    <tr style=\"text-align: right;\">\n",
              "      <th></th>\n",
              "      <th>count</th>\n",
              "      <th>mean</th>\n",
              "      <th>std</th>\n",
              "      <th>min</th>\n",
              "      <th>25%</th>\n",
              "      <th>50%</th>\n",
              "      <th>75%</th>\n",
              "      <th>max</th>\n",
              "    </tr>\n",
              "  </thead>\n",
              "  <tbody>\n",
              "    <tr>\n",
              "      <th>retweet</th>\n",
              "      <td>172501.0</td>\n",
              "      <td>123.877137</td>\n",
              "      <td>4714.103506</td>\n",
              "      <td>0.000000</td>\n",
              "      <td>0.000000</td>\n",
              "      <td>0.000000</td>\n",
              "      <td>0.000000</td>\n",
              "      <td>6.165690e+05</td>\n",
              "    </tr>\n",
              "    <tr>\n",
              "      <th>seguidores</th>\n",
              "      <td>172501.0</td>\n",
              "      <td>12244.941235</td>\n",
              "      <td>227150.310261</td>\n",
              "      <td>0.000000</td>\n",
              "      <td>78.000000</td>\n",
              "      <td>296.000000</td>\n",
              "      <td>1020.000000</td>\n",
              "      <td>1.310412e+07</td>\n",
              "    </tr>\n",
              "    <tr>\n",
              "      <th>latitude</th>\n",
              "      <td>594.0</td>\n",
              "      <td>-42.739200</td>\n",
              "      <td>16.340911</td>\n",
              "      <td>-118.291855</td>\n",
              "      <td>-48.190162</td>\n",
              "      <td>-45.280150</td>\n",
              "      <td>-38.634174</td>\n",
              "      <td>1.516286e+02</td>\n",
              "    </tr>\n",
              "    <tr>\n",
              "      <th>longitude</th>\n",
              "      <td>594.0</td>\n",
              "      <td>-14.001684</td>\n",
              "      <td>16.266415</td>\n",
              "      <td>-34.823600</td>\n",
              "      <td>-23.498240</td>\n",
              "      <td>-20.451828</td>\n",
              "      <td>-8.060902</td>\n",
              "      <td>5.288644e+01</td>\n",
              "    </tr>\n",
              "  </tbody>\n",
              "</table>\n",
              "</div>"
            ],
            "text/plain": [
              "               count          mean  ...          75%           max\n",
              "retweet     172501.0    123.877137  ...     0.000000  6.165690e+05\n",
              "seguidores  172501.0  12244.941235  ...  1020.000000  1.310412e+07\n",
              "latitude       594.0    -42.739200  ...   -38.634174  1.516286e+02\n",
              "longitude      594.0    -14.001684  ...    -8.060902  5.288644e+01\n",
              "\n",
              "[4 rows x 8 columns]"
            ]
          },
          "metadata": {
            "tags": []
          },
          "execution_count": 68
        }
      ]
    },
    {
      "cell_type": "markdown",
      "metadata": {
        "id": "CoIxCBbGEzz0"
      },
      "source": [
        "Ao gerar alguns dados estatísticos, podemos notar as mesmas características do dataset original:\n",
        "\n",
        "* a variável *retweet* tem como valor máximo 616569, isso quer dizer que uma publicação específica foi replicada mais de 0,5 milhão de vezes, assim como a variável *seguidores* nos mostra que um determinado usuário possui aproximadamente 1,3 milhão de seguidores \n",
        "\n",
        "* as colunas *retweet* e *seguidores* possui uma grande discrepância em sua distribuição de frequencia. Em *retweet*, todos os valores estão acima do 3º quartil, indicando que 75% dos valores são iguais a zero.\n"
      ]
    },
    {
      "cell_type": "code",
      "metadata": {
        "id": "RfpgxVySVf1C",
        "outputId": "f00a8fa2-cf9d-45a5-adac-f226c8707b25",
        "colab": {
          "base_uri": "https://localhost:8080/",
          "height": 357
        }
      },
      "source": [
        "duvidasDB.info()"
      ],
      "execution_count": null,
      "outputs": [
        {
          "output_type": "stream",
          "text": [
            "<class 'pandas.core.frame.DataFrame'>\n",
            "RangeIndex: 172501 entries, 0 to 172500\n",
            "Data columns (total 13 columns):\n",
            " #   Column      Non-Null Count   Dtype         \n",
            "---  ------      --------------   -----         \n",
            " 0   data        172501 non-null  datetime64[ns]\n",
            " 1   usuario     172495 non-null  object        \n",
            " 2   apelido     172501 non-null  object        \n",
            " 3   texto       172501 non-null  object        \n",
            " 4   retweet     172501 non-null  int64         \n",
            " 5   seguidores  172501 non-null  int64         \n",
            " 6   idioma      172501 non-null  object        \n",
            " 7   lugar       172501 non-null  object        \n",
            " 8   pais        7829 non-null    object        \n",
            " 9   sigla       7829 non-null    object        \n",
            " 10  latitude    594 non-null     float64       \n",
            " 11  longitude   594 non-null     float64       \n",
            " 12  hashtags    172501 non-null  object        \n",
            "dtypes: datetime64[ns](1), float64(2), int64(2), object(8)\n",
            "memory usage: 17.1+ MB\n"
          ],
          "name": "stdout"
        }
      ]
    },
    {
      "cell_type": "code",
      "metadata": {
        "id": "kUdohheP71pU",
        "outputId": "036dcc97-18ef-4613-941d-cb8da1d37e29",
        "colab": {
          "base_uri": "https://localhost:8080/",
          "height": 255
        }
      },
      "source": [
        "#Contagem de dados ausentes\n",
        "duvidasDB.isnull().sum()"
      ],
      "execution_count": null,
      "outputs": [
        {
          "output_type": "execute_result",
          "data": {
            "text/plain": [
              "data               0\n",
              "usuario            6\n",
              "apelido            0\n",
              "texto              0\n",
              "retweet            0\n",
              "seguidores         0\n",
              "idioma             0\n",
              "lugar              0\n",
              "pais          164672\n",
              "sigla         164672\n",
              "latitude      171907\n",
              "longitude     171907\n",
              "hashtags           0\n",
              "dtype: int64"
            ]
          },
          "metadata": {
            "tags": []
          },
          "execution_count": 70
        }
      ]
    },
    {
      "cell_type": "code",
      "metadata": {
        "id": "mLfXDkcX3S-o",
        "outputId": "58784c7a-a07d-43be-a5e5-265f05d9fd9c",
        "colab": {
          "base_uri": "https://localhost:8080/",
          "height": 1000
        }
      },
      "source": [
        "# Total por pais\n",
        "duvidasDB.pais.value_counts()"
      ],
      "execution_count": null,
      "outputs": [
        {
          "output_type": "execute_result",
          "data": {
            "text/plain": [
              "Brazil                        7148\n",
              "Portugal                       243\n",
              "United States                  101\n",
              "Italy                           45\n",
              "United Kingdom                  42\n",
              "Spain                           34\n",
              "France                          23\n",
              "Canada                          22\n",
              "Republic of Mozambique          21\n",
              "Argentina                       17\n",
              "Ireland                         12\n",
              "Angola                           8\n",
              "Japan                            8\n",
              "Colombia                         6\n",
              "Chile                            6\n",
              "Belgium                          5\n",
              "Switzerland                      5\n",
              "Germany                          5\n",
              "Bahrain                          4\n",
              "Nigeria                          4\n",
              "India                            4\n",
              "New Zealand                      4\n",
              "Peru                             4\n",
              "Australia                        4\n",
              "South Africa                     3\n",
              "People's Republic of China       3\n",
              "Uruguay                          3\n",
              "Austria                          3\n",
              "The Netherlands                  3\n",
              "Venezuela                        2\n",
              "Paraguay                         2\n",
              "Romania                          2\n",
              "Sweden                           2\n",
              "Turkey                           2\n",
              "Kingdom of Saudi Arabia          2\n",
              "Mexico                           2\n",
              "Egypt                            2\n",
              "Cape Verde                       2\n",
              "Kazakhstan                       1\n",
              "Luxembourg                       1\n",
              "Monaco                           1\n",
              "Morocco                          1\n",
              "Norway                           1\n",
              "Bolivia                          1\n",
              "Dominican Republic               1\n",
              "Cuba                             1\n",
              "Malaysia                         1\n",
              "Indonesia                        1\n",
              "Denmark                          1\n",
              "Trinidad and Tobago              1\n",
              "Armenia                          1\n",
              "Poland                           1\n",
              "Guadeloupe                       1\n",
              "United Arab Emirates             1\n",
              "Taiwan                           1\n",
              "Israel                           1\n",
              "Pakistan                         1\n",
              "Ghana                            1\n",
              "Sri Lanka                        1\n",
              "Name: pais, dtype: int64"
            ]
          },
          "metadata": {
            "tags": []
          },
          "execution_count": 71
        }
      ]
    },
    {
      "cell_type": "markdown",
      "metadata": {
        "id": "Xw0FQ5w8E9JR"
      },
      "source": [
        "Assim como no dataset original, o Brasil continua sendo o país do qual se tem mais registros"
      ]
    },
    {
      "cell_type": "code",
      "metadata": {
        "id": "OC3mgAk9E6Vx",
        "outputId": "4e8868b3-39ad-467f-8c1d-65534f8a3ef3",
        "colab": {
          "base_uri": "https://localhost:8080/",
          "height": 34
        }
      },
      "source": [
        "(duvidasDB['pais'].value_counts()['Brazil']/duvidasDB['pais'].value_counts().sum())*100"
      ],
      "execution_count": null,
      "outputs": [
        {
          "output_type": "execute_result",
          "data": {
            "text/plain": [
              "91.30157108187508"
            ]
          },
          "metadata": {
            "tags": []
          },
          "execution_count": 72
        }
      ]
    },
    {
      "cell_type": "code",
      "metadata": {
        "id": "oMxbqVXIJBmi",
        "outputId": "a48f52e0-1277-46ad-d1ad-9e1ef63b0b1c",
        "colab": {
          "base_uri": "https://localhost:8080/",
          "height": 404
        }
      },
      "source": [
        "# período de mais tweets\n",
        "tweetMonth = duvidasDB.groupby(duvidasDB['data'].dt.month)['texto'].count()\n",
        "\n",
        "# dicionario com os meses do primeiro semestre\n",
        "month = {1:'Janeiro', 2:'Fevereiro', 3:'Março', 4:'Abril', 5:'Maio', 6:'Junho'}\n",
        "\n",
        "plt.figure(figsize=(10,6))\n",
        "plt.title('Número de tweets por mês')\n",
        "plt.xlabel('Mês')\n",
        "plt.ylabel('Quantidade de tweets')\n",
        "plt.plot([month[index] for index in tweetMonth.index],tweetMonth.values)\n",
        "plt.grid()\n",
        "plt.show()"
      ],
      "execution_count": 138,
      "outputs": [
        {
          "output_type": "display_data",
          "data": {
            "image/png": "[encoded data removed]",
            "text/plain": [
              "<Figure size 720x432 with 1 Axes>"
            ]
          },
          "metadata": {
            "tags": [],
            "needs_background": "light"
          }
        }
      ]
    },
    {
      "cell_type": "code",
      "metadata": {
        "id": "qOb1m6nEWjmc",
        "outputId": "a28e1d27-4dc2-4b30-ab79-16f6ccb2279a",
        "colab": {
          "base_uri": "https://localhost:8080/",
          "height": 251
        }
      },
      "source": [
        "fig, ax = plt.subplots()\n",
        "ax.pie(tweetMonth.values, labels=[month[index] for index in tweetMonth.index], autopct='%1.1f%%')\n",
        "ax.axis('equal')\n",
        "plt.show()"
      ],
      "execution_count": 139,
      "outputs": [
        {
          "output_type": "display_data",
          "data": {
            "image/png": "[encoded data removed]",
            "text/plain": [
              "<Figure size 432x288 with 1 Axes>"
            ]
          },
          "metadata": {
            "tags": []
          }
        }
      ]
    },
    {
      "cell_type": "code",
      "metadata": {
        "id": "8H6tBW4qHqQF",
        "outputId": "3d3f8089-5409-4c40-eac7-81850994cc09",
        "colab": {
          "base_uri": "https://localhost:8080/",
          "height": 404
        }
      },
      "source": [
        "# período de mais retweets\n",
        "retweetMonth = duvidasDB.groupby(duvidasDB['data'].dt.month)['retweet'].sum()\n",
        "\n",
        "plt.figure(figsize=(10,6))\n",
        "plt.title('Número de retweets por mês')\n",
        "plt.xlabel('Mês')\n",
        "plt.ylabel('Quantidade de retweet')\n",
        "plt.plot([month[index] for index in retweetMonth.index],retweetMonth.values)\n",
        "plt.grid()\n",
        "plt.show()"
      ],
      "execution_count": 140,
      "outputs": [
        {
          "output_type": "display_data",
          "data": {
            "image/png": "[encoded data removed]",
            "text/plain": [
              "<Figure size 720x432 with 1 Axes>"
            ]
          },
          "metadata": {
            "tags": [],
            "needs_background": "light"
          }
        }
      ]
    },
    {
      "cell_type": "code",
      "metadata": {
        "id": "lcnaV5bzymeQ",
        "outputId": "bbeb07d4-9702-457b-c62e-217ba48f5653",
        "colab": {
          "base_uri": "https://localhost:8080/",
          "height": 917
        }
      },
      "source": [
        "# Media de retweet e seguidores por estado \n",
        "duvidasDB.groupby(['UF']).agg({'retweet' : 'sum', 'seguidores' : 'sum'}).sort_values(by=['retweet','seguidores'], ascending=False)"
      ],
      "execution_count": 141,
      "outputs": [
        {
          "output_type": "execute_result",
          "data": {
            "text/html": [
              "<div>\n",
              "<style scoped>\n",
              "    .dataframe tbody tr th:only-of-type {\n",
              "        vertical-align: middle;\n",
              "    }\n",
              "\n",
              "    .dataframe tbody tr th {\n",
              "        vertical-align: top;\n",
              "    }\n",
              "\n",
              "    .dataframe thead th {\n",
              "        text-align: right;\n",
              "    }\n",
              "</style>\n",
              "<table border=\"1\" class=\"dataframe\">\n",
              "  <thead>\n",
              "    <tr style=\"text-align: right;\">\n",
              "      <th></th>\n",
              "      <th>retweet</th>\n",
              "      <th>seguidores</th>\n",
              "    </tr>\n",
              "    <tr>\n",
              "      <th>UF</th>\n",
              "      <th></th>\n",
              "      <th></th>\n",
              "    </tr>\n",
              "  </thead>\n",
              "  <tbody>\n",
              "    <tr>\n",
              "      <th>SP</th>\n",
              "      <td>5055</td>\n",
              "      <td>12275500</td>\n",
              "    </tr>\n",
              "    <tr>\n",
              "      <th>RJ</th>\n",
              "      <td>3369</td>\n",
              "      <td>4426741</td>\n",
              "    </tr>\n",
              "    <tr>\n",
              "      <th>RS</th>\n",
              "      <td>429</td>\n",
              "      <td>978723</td>\n",
              "    </tr>\n",
              "    <tr>\n",
              "      <th>PB</th>\n",
              "      <td>413</td>\n",
              "      <td>632103</td>\n",
              "    </tr>\n",
              "    <tr>\n",
              "      <th>PA</th>\n",
              "      <td>401</td>\n",
              "      <td>578355</td>\n",
              "    </tr>\n",
              "    <tr>\n",
              "      <th>AL</th>\n",
              "      <td>320</td>\n",
              "      <td>471463</td>\n",
              "    </tr>\n",
              "    <tr>\n",
              "      <th>MG</th>\n",
              "      <td>308</td>\n",
              "      <td>1656492</td>\n",
              "    </tr>\n",
              "    <tr>\n",
              "      <th>DF</th>\n",
              "      <td>291</td>\n",
              "      <td>625519</td>\n",
              "    </tr>\n",
              "    <tr>\n",
              "      <th>BA</th>\n",
              "      <td>267</td>\n",
              "      <td>331416</td>\n",
              "    </tr>\n",
              "    <tr>\n",
              "      <th>PE</th>\n",
              "      <td>259</td>\n",
              "      <td>756282</td>\n",
              "    </tr>\n",
              "    <tr>\n",
              "      <th>PR</th>\n",
              "      <td>143</td>\n",
              "      <td>853454</td>\n",
              "    </tr>\n",
              "    <tr>\n",
              "      <th>GO</th>\n",
              "      <td>125</td>\n",
              "      <td>920315</td>\n",
              "    </tr>\n",
              "    <tr>\n",
              "      <th>ES</th>\n",
              "      <td>100</td>\n",
              "      <td>247991</td>\n",
              "    </tr>\n",
              "    <tr>\n",
              "      <th>SC</th>\n",
              "      <td>99</td>\n",
              "      <td>296756</td>\n",
              "    </tr>\n",
              "    <tr>\n",
              "      <th>CE</th>\n",
              "      <td>98</td>\n",
              "      <td>454351</td>\n",
              "    </tr>\n",
              "    <tr>\n",
              "      <th>RN</th>\n",
              "      <td>97</td>\n",
              "      <td>830002</td>\n",
              "    </tr>\n",
              "    <tr>\n",
              "      <th>MT</th>\n",
              "      <td>60</td>\n",
              "      <td>91471</td>\n",
              "    </tr>\n",
              "    <tr>\n",
              "      <th>MA</th>\n",
              "      <td>57</td>\n",
              "      <td>451838</td>\n",
              "    </tr>\n",
              "    <tr>\n",
              "      <th>AC</th>\n",
              "      <td>48</td>\n",
              "      <td>36419</td>\n",
              "    </tr>\n",
              "    <tr>\n",
              "      <th>AM</th>\n",
              "      <td>42</td>\n",
              "      <td>466641</td>\n",
              "    </tr>\n",
              "    <tr>\n",
              "      <th>TO</th>\n",
              "      <td>14</td>\n",
              "      <td>67116</td>\n",
              "    </tr>\n",
              "    <tr>\n",
              "      <th>MS</th>\n",
              "      <td>14</td>\n",
              "      <td>55688</td>\n",
              "    </tr>\n",
              "    <tr>\n",
              "      <th>AP</th>\n",
              "      <td>11</td>\n",
              "      <td>61252</td>\n",
              "    </tr>\n",
              "    <tr>\n",
              "      <th>RO</th>\n",
              "      <td>11</td>\n",
              "      <td>50613</td>\n",
              "    </tr>\n",
              "    <tr>\n",
              "      <th>PI</th>\n",
              "      <td>10</td>\n",
              "      <td>49104</td>\n",
              "    </tr>\n",
              "    <tr>\n",
              "      <th>RR</th>\n",
              "      <td>3</td>\n",
              "      <td>12015</td>\n",
              "    </tr>\n",
              "    <tr>\n",
              "      <th>SE</th>\n",
              "      <td>1</td>\n",
              "      <td>40979</td>\n",
              "    </tr>\n",
              "  </tbody>\n",
              "</table>\n",
              "</div>"
            ],
            "text/plain": [
              "    retweet  seguidores\n",
              "UF                     \n",
              "SP     5055    12275500\n",
              "RJ     3369     4426741\n",
              "RS      429      978723\n",
              "PB      413      632103\n",
              "PA      401      578355\n",
              "AL      320      471463\n",
              "MG      308     1656492\n",
              "DF      291      625519\n",
              "BA      267      331416\n",
              "PE      259      756282\n",
              "PR      143      853454\n",
              "GO      125      920315\n",
              "ES      100      247991\n",
              "SC       99      296756\n",
              "CE       98      454351\n",
              "RN       97      830002\n",
              "MT       60       91471\n",
              "MA       57      451838\n",
              "AC       48       36419\n",
              "AM       42      466641\n",
              "TO       14       67116\n",
              "MS       14       55688\n",
              "AP       11       61252\n",
              "RO       11       50613\n",
              "PI       10       49104\n",
              "RR        3       12015\n",
              "SE        1       40979"
            ]
          },
          "metadata": {
            "tags": []
          },
          "execution_count": 141
        }
      ]
    },
    {
      "cell_type": "markdown",
      "metadata": {
        "id": "Uh6DecW53FEH"
      },
      "source": [
        "### Informações dos temas discutidos\n",
        "* Doença\n",
        "* Medicamentos\n",
        "* Tratamentos\n",
        "* Pessoas"
      ]
    },
    {
      "cell_type": "markdown",
      "metadata": {
        "id": "wfOgt3pzKW1j"
      },
      "source": [
        "![Apresentação sem título.jpg](data:image/jpeg;base64,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)"
      ]
    },
    {
      "cell_type": "code",
      "metadata": {
        "id": "7GE8UN-4Zx7I"
      },
      "source": [
        "# lista de palavras chaves para cada título\n",
        "\n",
        "doenca = ['covid', 'covid-19', 'covid19','coronavirus','covid_19','gripezinha','sars','epidemia', 'transmissao', 'espiro', 'febre', 'pandemia', 'cvd', 'virus']\n",
        "medicamento = ['azitromicina', 'tratamento', 'remedio','cloroquina','hidroxicloroquina','vermictina','novalgina', 'dipirona', 'dexametasona', 'azitromicina', 'corticoides']\n",
        "organizacaoo = ['oms','stf','pt','pf','cnn','globo','cnnbrasil','ministerio','banco','onubrasil','onu','anvisa', 'cns', 'ministerio da saude']\n",
        "pessoa = ['jair', 'bolsonaro', 'jair bolsonaro', 'jairbolsonaro','presidente','bozo','bosonaro', 'bozonaro','mandetta','trump','lula','doria','haddad','osmar terra', 'osmarterra']"
      ],
      "execution_count": 142,
      "outputs": []
    },
    {
      "cell_type": "code",
      "metadata": {
        "id": "DyEeL6Fh3Pm0",
        "outputId": "d622dc2e-024a-4d2c-e5cc-9d309c85af4b",
        "colab": {
          "base_uri": "https://localhost:8080/",
          "height": 233
        }
      },
      "source": [
        "# dataset Doença\n",
        "doencaDB = duvidasDB[duvidasDB['texto'].str.contains(('|').join(doenca))].copy()\n",
        "doencaDB['texto']"
      ],
      "execution_count": null,
      "outputs": [
        {
          "output_type": "execute_result",
          "data": {
            "text/plain": [
              "1         o tamiflu nao e aquela coisa para a gripe a? u...\n",
              "27          @sehvnstuff h1n1? e gerar uma fucking pandemia?\n",
              "30             por que sera que pandemia parou de grafitar?\n",
              "39        isto ja se tornou epidemia ou pandemia? https:...\n",
              "43             @chumeltorres la que?? nacademia o pandemia?\n",
              "                                ...                        \n",
              "173062    gente que censura descarada e essa do @youtube...\n",
              "173087    meninas, a tpm e menstruacao de vcs ta afetand...\n",
              "173102    a chance de eu pegar covid19 e maior a noite d...\n",
              "173128    a hidroxicloroquina e a ivermectina sao excele...\n",
              "173180    @marcelo69220190 @pedroernestors que coisa fei...\n",
              "Name: texto, Length: 88105, dtype: object"
            ]
          },
          "metadata": {
            "tags": []
          },
          "execution_count": 34
        }
      ]
    },
    {
      "cell_type": "code",
      "metadata": {
        "id": "vxyzvbEBWph4",
        "outputId": "e3c85e7c-0601-40db-db56-19a264270f11",
        "colab": {
          "base_uri": "https://localhost:8080/",
          "height": 233
        }
      },
      "source": [
        "# dataset Medicamento\n",
        "medicDB = duvidasDB[duvidasDB['texto'].str.contains(('|').join(medicamento))].copy()\n",
        "medicDB['texto']"
      ],
      "execution_count": null,
      "outputs": [
        {
          "output_type": "execute_result",
          "data": {
            "text/plain": [
              "38        @tecnotrapta @ricksterzzzuk @alliancelgb @phay...\n",
              "50        @legalizaura e o azitromicina? se for ele ta e...\n",
              "52        porra todos oa efeitos colaterais da azitromic...\n",
              "54        e ai sao pedro que patifaria e essa meu parcer...\n",
              "55        @_hellenlessa1 7 dias ne? azitromicina faz efe...\n",
              "                                ...                        \n",
              "173109              e a cloroquina? https://t.co/uy8xpvue2p\n",
              "173110                   e o moro? morreu?\\ne a cloroquina?\n",
              "173123           @falarafha cloroquina com cuscuz. que tal?\n",
              "173125    @plrobertojr ??????????????????????????? kkkkk...\n",
              "173128    a hidroxicloroquina e a ivermectina sao excele...\n",
              "Name: texto, Length: 24450, dtype: object"
            ]
          },
          "metadata": {
            "tags": []
          },
          "execution_count": 35
        }
      ]
    },
    {
      "cell_type": "code",
      "metadata": {
        "id": "g1RxTth7Xd2K",
        "outputId": "350ec5be-2fec-40cf-b1ea-720fb51dd05b",
        "colab": {
          "base_uri": "https://localhost:8080/",
          "height": 233
        }
      },
      "source": [
        "# dataset Organização a partir dos datasets Doença e Medicamentos\n",
        "orgDB_a = doencaDB[doencaDB['texto'].str.contains(('|').join(organizacaoo))].copy()\n",
        "\n",
        "orgDB_b = medicDB[medicDB['texto'].str.contains(('|').join(organizacaoo))].copy()\n",
        "\n",
        "# concatenação dos dois sub-datasets retirando os registros duplicados\n",
        "orgDB = pd.concat([orgDB_a, orgDB_b]).drop_duplicates()\n",
        "orgDB['texto']"
      ],
      "execution_count": null,
      "outputs": [
        {
          "output_type": "execute_result",
          "data": {
            "text/plain": [
              "129       coronavirus. que virus e este que esta a deixa...\n",
              "130       coronavirus. que virus e este que esta a deixa...\n",
              "134       epidemia por virus nao conhecido esta se espal...\n",
              "236       virus misterioso faz oms convocar reuniao de e...\n",
              "270       a nova pandemia (?), meu pai\\n\\n\"coronavirus t...\n",
              "                                ...                        \n",
              "172070    @jornaloglobo com certeza foi a cloroquina que...\n",
              "172108    agora vai ficar de quarentena passando remedio...\n",
              "172607    entenderam porque a oms e mandemtta falam que ...\n",
              "172746    @elianadigiacomo @jornalnacional a globo emiss...\n",
              "172956    @bolsonarosp @cnnbrasil por que a gente e que ...\n",
              "Name: texto, Length: 5982, dtype: object"
            ]
          },
          "metadata": {
            "tags": []
          },
          "execution_count": 36
        }
      ]
    },
    {
      "cell_type": "code",
      "metadata": {
        "id": "hheVJ5mdYSc2",
        "outputId": "546aea10-fcc6-4820-d38e-ed2d6fd355ee",
        "colab": {
          "base_uri": "https://localhost:8080/",
          "height": 233
        }
      },
      "source": [
        "# dataset Pessoas a partir dos datasets Doença e Medicamentos\n",
        "pessoaDB_a = doencaDB[doencaDB['texto'].str.contains(('|').join(pessoa))].copy()\n",
        "\n",
        "pessoaDB_b = medicDB[medicDB['texto'].str.contains(('|').join(pessoa))].copy()\n",
        "\n",
        "# concatenação dos dois sub-datasets retirando os registros duplicados\n",
        "pessoaDB = pd.concat([pessoaDB_a, pessoaDB_b]).drop_duplicates()\n",
        "pessoaDB['texto']"
      ],
      "execution_count": null,
      "outputs": [
        {
          "output_type": "execute_result",
          "data": {
            "text/plain": [
              "383       o que o governo @jairbolsonaro ta fazendo pra ...\n",
              "388       @carlosbolsonaro @policiafederal @sf_moro carl...\n",
              "437       @lhmandetta ta esperando o corona virus  se di...\n",
              "481       https://t.co/j2n6wzuhir\\n@jairbolsonaro @minsa...\n",
              "515       sera? \\neua tem coronavirus sob controle, diz ...\n",
              "                                ...                        \n",
              "172785    \"o que presidente vai inaugurar? ele pode inau...\n",
              "172811    cade  cloroquina presidente?\\nsocorro...\\n@car...\n",
              "172956    @bolsonarosp @cnnbrasil por que a gente e que ...\n",
              "172995    @carlosbolsonaro ja tomou sua cloroquina hoje?...\n",
              "173069    alguem sabe que resultados foram obtidos pela ...\n",
              "Name: texto, Length: 14327, dtype: object"
            ]
          },
          "metadata": {
            "tags": []
          },
          "execution_count": 37
        }
      ]
    },
    {
      "cell_type": "code",
      "metadata": {
        "id": "RTBpAt-7f3Fz",
        "outputId": "7d3a60ec-07c8-48e3-a3b8-034279d38eb5",
        "colab": {
          "base_uri": "https://localhost:8080/",
          "height": 233
        }
      },
      "source": [
        "# concatenação dos dois sub-datasets retirando os registros duplicados\n",
        "covidDB = pd.concat([doencaDB, medicDB]).drop_duplicates()\n",
        "covidDB['texto']"
      ],
      "execution_count": null,
      "outputs": [
        {
          "output_type": "execute_result",
          "data": {
            "text/plain": [
              "1         o tamiflu nao e aquela coisa para a gripe a? u...\n",
              "27          @sehvnstuff h1n1? e gerar uma fucking pandemia?\n",
              "30             por que sera que pandemia parou de grafitar?\n",
              "39        isto ja se tornou epidemia ou pandemia? https:...\n",
              "43             @chumeltorres la que?? nacademia o pandemia?\n",
              "                                ...                        \n",
              "173107    @wilsonwitzel mau carater!!! quantas vidas ser...\n",
              "173109              e a cloroquina? https://t.co/uy8xpvue2p\n",
              "173110                   e o moro? morreu?\\ne a cloroquina?\n",
              "173123           @falarafha cloroquina com cuscuz. que tal?\n",
              "173125    @plrobertojr ??????????????????????????? kkkkk...\n",
              "Name: texto, Length: 109239, dtype: object"
            ]
          },
          "metadata": {
            "tags": []
          },
          "execution_count": 38
        }
      ]
    },
    {
      "cell_type": "code",
      "metadata": {
        "id": "dtr8Kss3vO9k",
        "outputId": "9d25173d-9109-4281-f0ff-c2a8f1658d76",
        "colab": {
          "base_uri": "https://localhost:8080/",
          "height": 97
        }
      },
      "source": [
        "# Usuario mais influente\n",
        "covidDB[covidDB.seguidores == covidDB['seguidores'].max()]"
      ],
      "execution_count": null,
      "outputs": [
        {
          "output_type": "execute_result",
          "data": {
            "text/html": [
              "<div>\n",
              "<style scoped>\n",
              "    .dataframe tbody tr th:only-of-type {\n",
              "        vertical-align: middle;\n",
              "    }\n",
              "\n",
              "    .dataframe tbody tr th {\n",
              "        vertical-align: top;\n",
              "    }\n",
              "\n",
              "    .dataframe thead th {\n",
              "        text-align: right;\n",
              "    }\n",
              "</style>\n",
              "<table border=\"1\" class=\"dataframe\">\n",
              "  <thead>\n",
              "    <tr style=\"text-align: right;\">\n",
              "      <th></th>\n",
              "      <th>data</th>\n",
              "      <th>usuario</th>\n",
              "      <th>apelido</th>\n",
              "      <th>texto</th>\n",
              "      <th>retweet</th>\n",
              "      <th>seguidores</th>\n",
              "      <th>idioma</th>\n",
              "      <th>lugar</th>\n",
              "      <th>pais</th>\n",
              "      <th>sigla</th>\n",
              "      <th>latitude</th>\n",
              "      <th>longitude</th>\n",
              "      <th>hashtags</th>\n",
              "    </tr>\n",
              "  </thead>\n",
              "  <tbody>\n",
              "    <tr>\n",
              "      <th>157484</th>\n",
              "      <td>2020-06-05 12:00:00</td>\n",
              "      <td>G1</td>\n",
              "      <td>g1</td>\n",
              "      <td>#oassunto - o que a ciencia ja sabe sobre o us...</td>\n",
              "      <td>4</td>\n",
              "      <td>11545512</td>\n",
              "      <td>pt</td>\n",
              "      <td></td>\n",
              "      <td>NaN</td>\n",
              "      <td>NaN</td>\n",
              "      <td>NaN</td>\n",
              "      <td>NaN</td>\n",
              "      <td>['OAssunto']</td>\n",
              "    </tr>\n",
              "  </tbody>\n",
              "</table>\n",
              "</div>"
            ],
            "text/plain": [
              "                      data usuario apelido  ... latitude  longitude      hashtags\n",
              "157484 2020-06-05 12:00:00      G1      g1  ...      NaN        NaN  ['OAssunto']\n",
              "\n",
              "[1 rows x 13 columns]"
            ]
          },
          "metadata": {
            "tags": []
          },
          "execution_count": 14
        }
      ]
    },
    {
      "cell_type": "code",
      "metadata": {
        "id": "fFsN0mTQvZ1p",
        "outputId": "1a470442-9b4f-47a2-ea20-de344ef12028",
        "colab": {
          "base_uri": "https://localhost:8080/",
          "height": 97
        }
      },
      "source": [
        "# O Usuario com o texto mais retweet\n",
        "# esse vírus está na trilha de campanha de uma vida. reduzindo os preços das companhias aéreas e do gás? \n",
        "#   dando às pessoas licença remunerada do trabalho? fazendo ...\n",
        "covidDB[covidDB.retweet == covidDB['retweet'].max()]"
      ],
      "execution_count": null,
      "outputs": [
        {
          "output_type": "execute_result",
          "data": {
            "text/html": [
              "<div>\n",
              "<style scoped>\n",
              "    .dataframe tbody tr th:only-of-type {\n",
              "        vertical-align: middle;\n",
              "    }\n",
              "\n",
              "    .dataframe tbody tr th {\n",
              "        vertical-align: top;\n",
              "    }\n",
              "\n",
              "    .dataframe thead th {\n",
              "        text-align: right;\n",
              "    }\n",
              "</style>\n",
              "<table border=\"1\" class=\"dataframe\">\n",
              "  <thead>\n",
              "    <tr style=\"text-align: right;\">\n",
              "      <th></th>\n",
              "      <th>data</th>\n",
              "      <th>usuario</th>\n",
              "      <th>apelido</th>\n",
              "      <th>texto</th>\n",
              "      <th>retweet</th>\n",
              "      <th>seguidores</th>\n",
              "      <th>idioma</th>\n",
              "      <th>lugar</th>\n",
              "      <th>pais</th>\n",
              "      <th>sigla</th>\n",
              "      <th>latitude</th>\n",
              "      <th>longitude</th>\n",
              "      <th>hashtags</th>\n",
              "    </tr>\n",
              "  </thead>\n",
              "  <tbody>\n",
              "    <tr>\n",
              "      <th>25453</th>\n",
              "      <td>2020-03-12 18:48:10</td>\n",
              "      <td>HARRY’</td>\n",
              "      <td>LastBornAdekoya</td>\n",
              "      <td>rt @ojenabosi: this virus is on the campaign t...</td>\n",
              "      <td>58744</td>\n",
              "      <td>2103</td>\n",
              "      <td>en</td>\n",
              "      <td></td>\n",
              "      <td>NaN</td>\n",
              "      <td>NaN</td>\n",
              "      <td>NaN</td>\n",
              "      <td>NaN</td>\n",
              "      <td>[]</td>\n",
              "    </tr>\n",
              "  </tbody>\n",
              "</table>\n",
              "</div>"
            ],
            "text/plain": [
              "                     data usuario  ... longitude hashtags\n",
              "25453 2020-03-12 18:48:10  HARRY’  ...       NaN       []\n",
              "\n",
              "[1 rows x 13 columns]"
            ]
          },
          "metadata": {
            "tags": []
          },
          "execution_count": 16
        }
      ]
    },
    {
      "cell_type": "code",
      "metadata": {
        "id": "DktiyqeAjx9j",
        "outputId": "206c7eec-c086-4996-d207-ffdb56bcac38",
        "colab": {
          "base_uri": "https://localhost:8080/",
          "height": 513
        }
      },
      "source": [
        "# Comparativo entre a quantidade de tweets ao longo do semestre entre os tópicos abordado anteriormente\n",
        "plt.figure(figsize=(15,8))\n",
        "plt.title('Número de tweets por mês')\n",
        "plt.xlabel('Mês')\n",
        "plt.ylabel('Quantidade de tweets')\n",
        "\n",
        "month = {1:'Janeiro',2:'Fevereiro',3:'Março',4:'Abril',5:'Maio',6:'Junho'}\n",
        "\n",
        "tweetMonthDoencaDB = doencaDB.groupby(doencaDB['data'].dt.month)['texto'].count()\n",
        "plt.plot(tweetMonthDoencaDB, color='r', label='Doença')\n",
        "\n",
        "tweetMonthMedicDB = medicDB.groupby(medicDB['data'].dt.month)['texto'].count()\n",
        "plt.plot(tweetMonthMedicDB, color='g', label='Medicamentos')\n",
        "\n",
        "tweetMonthPessoaDB = pessoaDB.groupby(pessoaDB['data'].dt.month)['texto'].count()\n",
        "plt.plot(tweetMonthPessoaDB, color='k', label='Pessoas')\n",
        "\n",
        "tweetMonthOrgDB =orgDB.groupby(orgDB['data'].dt.month)['texto'].count()\n",
        "plt.plot(tweetMonthOrgDB,color='y')\n",
        "\n",
        "plt.legend(['Doença','Medicamentos','Pessoas','Organizações'])\n",
        "plt.xticks(list(month.keys()), list(month.values()))\n",
        "plt.grid()\n",
        "plt.show()"
      ],
      "execution_count": 143,
      "outputs": [
        {
          "output_type": "display_data",
          "data": {
            "image/png": "[encoded data removed]",
            "text/plain": [
              "<Figure size 1080x576 with 1 Axes>"
            ]
          },
          "metadata": {
            "tags": [],
            "needs_background": "light"
          }
        }
      ]
    },
    {
      "cell_type": "markdown",
      "metadata": {
        "id": "mbakwEvVKimO"
      },
      "source": [
        "### Vizualização espacial do Covid"
      ]
    },
    {
      "cell_type": "code",
      "metadata": {
        "id": "tro4PBEE7vwA",
        "outputId": "aeee35cb-c4ed-4d0f-8401-4cf7a61e31f0",
        "colab": {
          "base_uri": "https://localhost:8080/",
          "height": 649
        }
      },
      "source": [
        "# Dataset CovidDB para a construção do mapa\n",
        "\n",
        "# retirada das instancias com valores nulos em latitude e longitude\n",
        "mapCovidDB = covidDB.dropna(subset = ['latitude', 'longitude'])\n",
        "\n",
        "# apenas tweets do Brasil\n",
        "mapCovidDB = mapCovidDB[mapCovidDB.sigla == 'BR']\n",
        "\n",
        "mapCovidDB.reset_index(drop=True, inplace=True)\n",
        "mapCovidDB.tail()"
      ],
      "execution_count": 144,
      "outputs": [
        {
          "output_type": "execute_result",
          "data": {
            "text/html": [
              "<div>\n",
              "<style scoped>\n",
              "    .dataframe tbody tr th:only-of-type {\n",
              "        vertical-align: middle;\n",
              "    }\n",
              "\n",
              "    .dataframe tbody tr th {\n",
              "        vertical-align: top;\n",
              "    }\n",
              "\n",
              "    .dataframe thead th {\n",
              "        text-align: right;\n",
              "    }\n",
              "</style>\n",
              "<table border=\"1\" class=\"dataframe\">\n",
              "  <thead>\n",
              "    <tr style=\"text-align: right;\">\n",
              "      <th></th>\n",
              "      <th>data</th>\n",
              "      <th>usuario</th>\n",
              "      <th>apelido</th>\n",
              "      <th>texto</th>\n",
              "      <th>retweet</th>\n",
              "      <th>seguidores</th>\n",
              "      <th>idioma</th>\n",
              "      <th>lugar</th>\n",
              "      <th>pais</th>\n",
              "      <th>sigla</th>\n",
              "      <th>latitude</th>\n",
              "      <th>longitude</th>\n",
              "      <th>hashtags</th>\n",
              "      <th>UF</th>\n",
              "      <th>Município</th>\n",
              "      <th>Região</th>\n",
              "    </tr>\n",
              "  </thead>\n",
              "  <tbody>\n",
              "    <tr>\n",
              "      <th>270</th>\n",
              "      <td>2020-05-19 23:13:21</td>\n",
              "      <td>Margareth Boury</td>\n",
              "      <td>MBoury</td>\n",
              "      <td>alguem sabe onde esse homem fez faculdade de m...</td>\n",
              "      <td>0</td>\n",
              "      <td>101534</td>\n",
              "      <td>pt</td>\n",
              "      <td>sao paulo</td>\n",
              "      <td>Brazil</td>\n",
              "      <td>BR</td>\n",
              "      <td>-46.711885</td>\n",
              "      <td>-23.475639</td>\n",
              "      <td>['indignada', 'forabolsonaro']</td>\n",
              "      <td>SP</td>\n",
              "      <td>sao paulo</td>\n",
              "      <td>Região Sudeste</td>\n",
              "    </tr>\n",
              "    <tr>\n",
              "      <th>271</th>\n",
              "      <td>2020-05-22 02:09:03</td>\n",
              "      <td>Ronaldo Oliveira Silva</td>\n",
              "      <td>ronaldo2910</td>\n",
              "      <td>\"... comico ou tragico?... a direita toma clor...</td>\n",
              "      <td>0</td>\n",
              "      <td>50</td>\n",
              "      <td>pt</td>\n",
              "      <td>brasilia</td>\n",
              "      <td>Brazil</td>\n",
              "      <td>BR</td>\n",
              "      <td>-48.019070</td>\n",
              "      <td>-16.022673</td>\n",
              "      <td>[]</td>\n",
              "      <td>DF</td>\n",
              "      <td>brasilia</td>\n",
              "      <td>Região Centro-Oeste</td>\n",
              "    </tr>\n",
              "    <tr>\n",
              "      <th>272</th>\n",
              "      <td>2020-05-22 13:35:23</td>\n",
              "      <td>TiaguinhoPortela</td>\n",
              "      <td>TiagooPortela</td>\n",
              "      <td>abi pergunta: a quem interessa uso da cloroqui...</td>\n",
              "      <td>0</td>\n",
              "      <td>613</td>\n",
              "      <td>pt</td>\n",
              "      <td>barreiras</td>\n",
              "      <td>Brazil</td>\n",
              "      <td>BR</td>\n",
              "      <td>-44.995361</td>\n",
              "      <td>-12.148204</td>\n",
              "      <td>[]</td>\n",
              "      <td>BA</td>\n",
              "      <td>barreiras</td>\n",
              "      <td>Região Nordeste</td>\n",
              "    </tr>\n",
              "    <tr>\n",
              "      <th>273</th>\n",
              "      <td>2020-05-24 00:29:22</td>\n",
              "      <td>Brunno Castro</td>\n",
              "      <td>Brunnocastro80</td>\n",
              "      <td>cloroquina funciona ou nao funciona? tire voce...</td>\n",
              "      <td>0</td>\n",
              "      <td>60</td>\n",
              "      <td>pt</td>\n",
              "      <td>niteroi</td>\n",
              "      <td>Brazil</td>\n",
              "      <td>BR</td>\n",
              "      <td>-43.107050</td>\n",
              "      <td>-22.907361</td>\n",
              "      <td>[]</td>\n",
              "      <td>RJ</td>\n",
              "      <td>niteroi</td>\n",
              "      <td>Região Sudeste</td>\n",
              "    </tr>\n",
              "    <tr>\n",
              "      <th>274</th>\n",
              "      <td>2020-06-05 03:30:13</td>\n",
              "      <td>Markinho Bolsonaro Fluriqui 17</td>\n",
              "      <td>fluriqui</td>\n",
              "      <td>quantas pessoas poderiam ter sido salvas usand...</td>\n",
              "      <td>0</td>\n",
              "      <td>577</td>\n",
              "      <td>pt</td>\n",
              "      <td>mangaratiba</td>\n",
              "      <td>Brazil</td>\n",
              "      <td>BR</td>\n",
              "      <td>-43.946127</td>\n",
              "      <td>-22.916373</td>\n",
              "      <td>[]</td>\n",
              "      <td>RJ</td>\n",
              "      <td>mangaratiba</td>\n",
              "      <td>Região Sudeste</td>\n",
              "    </tr>\n",
              "  </tbody>\n",
              "</table>\n",
              "</div>"
            ],
            "text/plain": [
              "                   data  ...               Região\n",
              "270 2020-05-19 23:13:21  ...       Região Sudeste\n",
              "271 2020-05-22 02:09:03  ...  Região Centro-Oeste\n",
              "272 2020-05-22 13:35:23  ...      Região Nordeste\n",
              "273 2020-05-24 00:29:22  ...       Região Sudeste\n",
              "274 2020-06-05 03:30:13  ...       Região Sudeste\n",
              "\n",
              "[5 rows x 16 columns]"
            ]
          },
          "metadata": {
            "tags": []
          },
          "execution_count": 144
        }
      ]
    },
    {
      "cell_type": "code",
      "metadata": {
        "id": "g-xCIbBGjDek",
        "outputId": "34fba7c0-b99f-499b-e187-56bd543ebfd2",
        "colab": {
          "base_uri": "https://localhost:8080/",
          "height": 592
        }
      },
      "source": [
        "# Distribuição das perguntas sobre o covid-19\n",
        "geoCovid = geopandas.GeoDataFrame(\n",
        "    mapCovidDB, geometry=geopandas.points_from_xy(mapCovidDB.latitude, mapCovidDB.longitude))\n",
        "\n",
        "brasil = geopandas.read_file('/content/drive/My Drive/Datasets/bcim_2016_21_11_2018.gpkg', layer='lim_unidade_federacao_a')\n",
        "\n",
        "ax = brasil.plot(\n",
        "    color='white', edgecolor='black', figsize=(15,10))\n",
        "\n",
        "geoCovid.plot(ax=ax, color='red')\n",
        "\n",
        "plt.show()"
      ],
      "execution_count": 145,
      "outputs": [
        {
          "output_type": "display_data",
          "data": {
            "image/png": "[encoded data removed]",
            "text/plain": [
              "<Figure size 1080x720 with 1 Axes>"
            ]
          },
          "metadata": {
            "tags": [],
            "needs_background": "light"
          }
        }
      ]
    },
    {
      "cell_type": "code",
      "metadata": {
        "id": "beE-mkLCBKxe",
        "outputId": "99ab0cff-a1d6-4ca4-9b78-856d240b97db",
        "colab": {
          "base_uri": "https://localhost:8080/",
          "height": 610
        }
      },
      "source": [
        "# Mapa de calor mostrando a maior insidencia de tweets sobre o covid-19\n",
        "brasil = geopandas.read_file('/content/drive/My Drive/Datasets/bcim_2016_21_11_2018.gpkg', layer='lim_unidade_federacao_a')\n",
        "\n",
        "agg = mapCovidDB.groupby(mapCovidDB.UF).count()[['Região']].reset_index() \n",
        "agg['sigla'] = agg['UF']\n",
        "\n",
        "brasil = brasil.merge(agg, on='sigla', how='left')\n",
        "\n",
        "plt.show()\n",
        "brasil.plot(\n",
        "    column='Região',\n",
        "    cmap='Reds',\n",
        "    figsize=(15,10),\n",
        "    legend=True,\n",
        "    edgecolor='black')"
      ],
      "execution_count": 146,
      "outputs": [
        {
          "output_type": "execute_result",
          "data": {
            "text/plain": [
              "<matplotlib.axes._subplots.AxesSubplot at 0x7fe851d9a7b8>"
            ]
          },
          "metadata": {
            "tags": []
          },
          "execution_count": 146
        },
        {
          "output_type": "display_data",
          "data": {
            "image/png": "[encoded data removed]",
            "text/plain": [
              "<Figure size 1080x720 with 2 Axes>"
            ]
          },
          "metadata": {
            "tags": [],
            "needs_background": "light"
          }
        }
      ]
    }
  ]
}